{
 "cells": [
  {
   "cell_type": "markdown",
   "metadata": {},
   "source": [
    "# `Predicting Stroke Occurance Using KNN Classification` #\n",
    "Gael Hernandez Palmer, Asha Octoman, Christina Yang, Julius Brooker"
   ]
  },
  {
   "cell_type": "markdown",
   "metadata": {},
   "source": [
    "## Introduction ##\n",
    "\n",
    "#### *Background Information:* #### \n",
    "...\n",
    "\n",
    "#### *Exploratory Question:* ####\n",
    "...\n",
    "\n",
    "#### *Dataset:* ####\n",
    "...\n"
   ]
  },
  {
   "cell_type": "markdown",
   "metadata": {},
   "source": [
    "## Preliminary Data Analysis ##"
   ]
  },
  {
   "cell_type": "code",
   "execution_count": 1,
   "metadata": {},
   "outputs": [
    {
     "name": "stderr",
     "output_type": "stream",
     "text": [
      "── \u001b[1mAttaching packages\u001b[22m ─────────────────────────────────────── tidyverse 1.3.0 ──\n",
      "\n",
      "\u001b[32m✔\u001b[39m \u001b[34mggplot2\u001b[39m 3.3.2     \u001b[32m✔\u001b[39m \u001b[34mpurrr  \u001b[39m 0.3.4\n",
      "\u001b[32m✔\u001b[39m \u001b[34mtibble \u001b[39m 3.0.3     \u001b[32m✔\u001b[39m \u001b[34mdplyr  \u001b[39m 1.0.2\n",
      "\u001b[32m✔\u001b[39m \u001b[34mtidyr  \u001b[39m 1.1.2     \u001b[32m✔\u001b[39m \u001b[34mstringr\u001b[39m 1.4.0\n",
      "\u001b[32m✔\u001b[39m \u001b[34mreadr  \u001b[39m 1.3.1     \u001b[32m✔\u001b[39m \u001b[34mforcats\u001b[39m 0.5.0\n",
      "\n",
      "Warning message:\n",
      "“package ‘ggplot2’ was built under R version 4.0.1”\n",
      "Warning message:\n",
      "“package ‘tibble’ was built under R version 4.0.2”\n",
      "Warning message:\n",
      "“package ‘tidyr’ was built under R version 4.0.2”\n",
      "Warning message:\n",
      "“package ‘dplyr’ was built under R version 4.0.2”\n",
      "── \u001b[1mConflicts\u001b[22m ────────────────────────────────────────── tidyverse_conflicts() ──\n",
      "\u001b[31m✖\u001b[39m \u001b[34mdplyr\u001b[39m::\u001b[32mfilter()\u001b[39m masks \u001b[34mstats\u001b[39m::filter()\n",
      "\u001b[31m✖\u001b[39m \u001b[34mdplyr\u001b[39m::\u001b[32mlag()\u001b[39m    masks \u001b[34mstats\u001b[39m::lag()\n",
      "\n",
      "Warning message:\n",
      "“package ‘tidymodels’ was built under R version 4.0.2”\n",
      "── \u001b[1mAttaching packages\u001b[22m ────────────────────────────────────── tidymodels 0.1.1 ──\n",
      "\n",
      "\u001b[32m✔\u001b[39m \u001b[34mbroom    \u001b[39m 0.7.0      \u001b[32m✔\u001b[39m \u001b[34mrecipes  \u001b[39m 0.1.13\n",
      "\u001b[32m✔\u001b[39m \u001b[34mdials    \u001b[39m 0.0.9      \u001b[32m✔\u001b[39m \u001b[34mrsample  \u001b[39m 0.0.7 \n",
      "\u001b[32m✔\u001b[39m \u001b[34minfer    \u001b[39m 0.5.4      \u001b[32m✔\u001b[39m \u001b[34mtune     \u001b[39m 0.1.1 \n",
      "\u001b[32m✔\u001b[39m \u001b[34mmodeldata\u001b[39m 0.0.2      \u001b[32m✔\u001b[39m \u001b[34mworkflows\u001b[39m 0.2.0 \n",
      "\u001b[32m✔\u001b[39m \u001b[34mparsnip  \u001b[39m 0.1.3      \u001b[32m✔\u001b[39m \u001b[34myardstick\u001b[39m 0.0.7 \n",
      "\n",
      "Warning message:\n",
      "“package ‘broom’ was built under R version 4.0.2”\n",
      "Warning message:\n",
      "“package ‘dials’ was built under R version 4.0.2”\n",
      "Warning message:\n",
      "“package ‘infer’ was built under R version 4.0.3”\n",
      "Warning message:\n",
      "“package ‘modeldata’ was built under R version 4.0.1”\n",
      "Warning message:\n",
      "“package ‘parsnip’ was built under R version 4.0.2”\n",
      "Warning message:\n",
      "“package ‘recipes’ was built under R version 4.0.1”\n",
      "Warning message:\n",
      "“package ‘tune’ was built under R version 4.0.2”\n",
      "Warning message:\n",
      "“package ‘workflows’ was built under R version 4.0.2”\n",
      "Warning message:\n",
      "“package ‘yardstick’ was built under R version 4.0.2”\n",
      "── \u001b[1mConflicts\u001b[22m ───────────────────────────────────────── tidymodels_conflicts() ──\n",
      "\u001b[31m✖\u001b[39m \u001b[34mscales\u001b[39m::\u001b[32mdiscard()\u001b[39m masks \u001b[34mpurrr\u001b[39m::discard()\n",
      "\u001b[31m✖\u001b[39m \u001b[34mdplyr\u001b[39m::\u001b[32mfilter()\u001b[39m   masks \u001b[34mstats\u001b[39m::filter()\n",
      "\u001b[31m✖\u001b[39m \u001b[34mrecipes\u001b[39m::\u001b[32mfixed()\u001b[39m  masks \u001b[34mstringr\u001b[39m::fixed()\n",
      "\u001b[31m✖\u001b[39m \u001b[34mdplyr\u001b[39m::\u001b[32mlag()\u001b[39m      masks \u001b[34mstats\u001b[39m::lag()\n",
      "\u001b[31m✖\u001b[39m \u001b[34myardstick\u001b[39m::\u001b[32mspec()\u001b[39m masks \u001b[34mreadr\u001b[39m::spec()\n",
      "\u001b[31m✖\u001b[39m \u001b[34mrecipes\u001b[39m::\u001b[32mstep()\u001b[39m   masks \u001b[34mstats\u001b[39m::step()\n",
      "\n"
     ]
    }
   ],
   "source": [
    "# loading packages\n",
    "library(repr)\n",
    "library(tidyverse)\n",
    "library(tidymodels)"
   ]
  },
  {
   "cell_type": "code",
   "execution_count": 2,
   "metadata": {},
   "outputs": [
    {
     "name": "stderr",
     "output_type": "stream",
     "text": [
      "Parsed with column specification:\n",
      "cols(\n",
      "  id = \u001b[32mcol_double()\u001b[39m,\n",
      "  gender = \u001b[31mcol_character()\u001b[39m,\n",
      "  age = \u001b[32mcol_double()\u001b[39m,\n",
      "  hypertension = \u001b[32mcol_double()\u001b[39m,\n",
      "  heart_disease = \u001b[32mcol_double()\u001b[39m,\n",
      "  ever_married = \u001b[31mcol_character()\u001b[39m,\n",
      "  work_type = \u001b[31mcol_character()\u001b[39m,\n",
      "  Residence_type = \u001b[31mcol_character()\u001b[39m,\n",
      "  avg_glucose_level = \u001b[32mcol_double()\u001b[39m,\n",
      "  bmi = \u001b[31mcol_character()\u001b[39m,\n",
      "  smoking_status = \u001b[31mcol_character()\u001b[39m,\n",
      "  stroke = \u001b[32mcol_double()\u001b[39m\n",
      ")\n",
      "\n"
     ]
    },
    {
     "data": {
      "text/html": [
       "<style>\n",
       ".list-inline {list-style: none; margin:0; padding: 0}\n",
       ".list-inline>li {display: inline-block}\n",
       ".list-inline>li:not(:last-child)::after {content: \"\\00b7\"; padding: 0 .5ex}\n",
       "</style>\n",
       "<ol class=list-inline><li>'id'</li><li>'gender'</li><li>'age'</li><li>'hypertension'</li><li>'heart_disease'</li><li>'ever_married'</li><li>'work_type'</li><li>'Residence_type'</li><li>'avg_glucose_level'</li><li>'bmi'</li><li>'smoking_status'</li><li>'stroke'</li></ol>\n"
      ],
      "text/latex": [
       "\\begin{enumerate*}\n",
       "\\item 'id'\n",
       "\\item 'gender'\n",
       "\\item 'age'\n",
       "\\item 'hypertension'\n",
       "\\item 'heart\\_disease'\n",
       "\\item 'ever\\_married'\n",
       "\\item 'work\\_type'\n",
       "\\item 'Residence\\_type'\n",
       "\\item 'avg\\_glucose\\_level'\n",
       "\\item 'bmi'\n",
       "\\item 'smoking\\_status'\n",
       "\\item 'stroke'\n",
       "\\end{enumerate*}\n"
      ],
      "text/markdown": [
       "1. 'id'\n",
       "2. 'gender'\n",
       "3. 'age'\n",
       "4. 'hypertension'\n",
       "5. 'heart_disease'\n",
       "6. 'ever_married'\n",
       "7. 'work_type'\n",
       "8. 'Residence_type'\n",
       "9. 'avg_glucose_level'\n",
       "10. 'bmi'\n",
       "11. 'smoking_status'\n",
       "12. 'stroke'\n",
       "\n",
       "\n"
      ],
      "text/plain": [
       " [1] \"id\"                \"gender\"            \"age\"              \n",
       " [4] \"hypertension\"      \"heart_disease\"     \"ever_married\"     \n",
       " [7] \"work_type\"         \"Residence_type\"    \"avg_glucose_level\"\n",
       "[10] \"bmi\"               \"smoking_status\"    \"stroke\"           "
      ]
     },
     "metadata": {},
     "output_type": "display_data"
    }
   ],
   "source": [
    "# loading data\n",
    "stroke <- read_csv(\"data/stroke-data.csv\")\n",
    "colnames(stroke)"
   ]
  },
  {
   "cell_type": "code",
   "execution_count": 51,
   "metadata": {},
   "outputs": [
    {
     "name": "stderr",
     "output_type": "stream",
     "text": [
      "Warning message:\n",
      "“Problem with `mutate()` input `bmi`.\n",
      "\u001b[34mℹ\u001b[39m NAs introduced by coercion\n",
      "\u001b[34mℹ\u001b[39m Input `bmi` is `as.numeric(bmi)`.”\n",
      "Warning message in mask$eval_all_mutate(dots[[i]]):\n",
      "“NAs introduced by coercion”\n"
     ]
    }
   ],
   "source": [
    "# cleaning and wrangling\n",
    "stroke_clean <- stroke %>%\n",
    "    select(gender, age, hypertension, heart_disease, avg_glucose_level, bmi, smoking_status, stroke) %>%\n",
    "    mutate(gender = as_factor(gender), \n",
    "           bmi = as.numeric(bmi),\n",
    "           smoking_status = as_factor(smoking_status),\n",
    "           stroke = as_factor(stroke))"
   ]
  },
  {
   "cell_type": "code",
   "execution_count": 52,
   "metadata": {},
   "outputs": [
    {
     "data": {
      "text/html": [
       "<table>\n",
       "<caption>A tibble: 6 × 8</caption>\n",
       "<thead>\n",
       "\t<tr><th scope=col>gender</th><th scope=col>age</th><th scope=col>hypertension</th><th scope=col>heart_disease</th><th scope=col>avg_glucose_level</th><th scope=col>bmi</th><th scope=col>smoking_status</th><th scope=col>stroke</th></tr>\n",
       "\t<tr><th scope=col>&lt;fct&gt;</th><th scope=col>&lt;dbl&gt;</th><th scope=col>&lt;dbl&gt;</th><th scope=col>&lt;dbl&gt;</th><th scope=col>&lt;dbl&gt;</th><th scope=col>&lt;dbl&gt;</th><th scope=col>&lt;fct&gt;</th><th scope=col>&lt;fct&gt;</th></tr>\n",
       "</thead>\n",
       "<tbody>\n",
       "\t<tr><td>Male  </td><td>67</td><td>0</td><td>1</td><td>228.69</td><td>36.6</td><td>formerly smoked</td><td>1</td></tr>\n",
       "\t<tr><td>Female</td><td>61</td><td>0</td><td>0</td><td>202.21</td><td>  NA</td><td>never smoked   </td><td>1</td></tr>\n",
       "\t<tr><td>Male  </td><td>80</td><td>0</td><td>1</td><td>105.92</td><td>32.5</td><td>never smoked   </td><td>1</td></tr>\n",
       "\t<tr><td>Female</td><td>49</td><td>0</td><td>0</td><td>171.23</td><td>34.4</td><td>smokes         </td><td>1</td></tr>\n",
       "\t<tr><td>Female</td><td>79</td><td>1</td><td>0</td><td>174.12</td><td>24.0</td><td>never smoked   </td><td>1</td></tr>\n",
       "\t<tr><td>Male  </td><td>81</td><td>0</td><td>0</td><td>186.21</td><td>29.0</td><td>formerly smoked</td><td>1</td></tr>\n",
       "</tbody>\n",
       "</table>\n"
      ],
      "text/latex": [
       "A tibble: 6 × 8\n",
       "\\begin{tabular}{llllllll}\n",
       " gender & age & hypertension & heart\\_disease & avg\\_glucose\\_level & bmi & smoking\\_status & stroke\\\\\n",
       " <fct> & <dbl> & <dbl> & <dbl> & <dbl> & <dbl> & <fct> & <fct>\\\\\n",
       "\\hline\n",
       "\t Male   & 67 & 0 & 1 & 228.69 & 36.6 & formerly smoked & 1\\\\\n",
       "\t Female & 61 & 0 & 0 & 202.21 &   NA & never smoked    & 1\\\\\n",
       "\t Male   & 80 & 0 & 1 & 105.92 & 32.5 & never smoked    & 1\\\\\n",
       "\t Female & 49 & 0 & 0 & 171.23 & 34.4 & smokes          & 1\\\\\n",
       "\t Female & 79 & 1 & 0 & 174.12 & 24.0 & never smoked    & 1\\\\\n",
       "\t Male   & 81 & 0 & 0 & 186.21 & 29.0 & formerly smoked & 1\\\\\n",
       "\\end{tabular}\n"
      ],
      "text/markdown": [
       "\n",
       "A tibble: 6 × 8\n",
       "\n",
       "| gender &lt;fct&gt; | age &lt;dbl&gt; | hypertension &lt;dbl&gt; | heart_disease &lt;dbl&gt; | avg_glucose_level &lt;dbl&gt; | bmi &lt;dbl&gt; | smoking_status &lt;fct&gt; | stroke &lt;fct&gt; |\n",
       "|---|---|---|---|---|---|---|---|\n",
       "| Male   | 67 | 0 | 1 | 228.69 | 36.6 | formerly smoked | 1 |\n",
       "| Female | 61 | 0 | 0 | 202.21 |   NA | never smoked    | 1 |\n",
       "| Male   | 80 | 0 | 1 | 105.92 | 32.5 | never smoked    | 1 |\n",
       "| Female | 49 | 0 | 0 | 171.23 | 34.4 | smokes          | 1 |\n",
       "| Female | 79 | 1 | 0 | 174.12 | 24.0 | never smoked    | 1 |\n",
       "| Male   | 81 | 0 | 0 | 186.21 | 29.0 | formerly smoked | 1 |\n",
       "\n"
      ],
      "text/plain": [
       "  gender age hypertension heart_disease avg_glucose_level bmi  smoking_status \n",
       "1 Male   67  0            1             228.69            36.6 formerly smoked\n",
       "2 Female 61  0            0             202.21              NA never smoked   \n",
       "3 Male   80  0            1             105.92            32.5 never smoked   \n",
       "4 Female 49  0            0             171.23            34.4 smokes         \n",
       "5 Female 79  1            0             174.12            24.0 never smoked   \n",
       "6 Male   81  0            0             186.21            29.0 formerly smoked\n",
       "  stroke\n",
       "1 1     \n",
       "2 1     \n",
       "3 1     \n",
       "4 1     \n",
       "5 1     \n",
       "6 1     "
      ]
     },
     "metadata": {},
     "output_type": "display_data"
    }
   ],
   "source": [
    "head(stroke_clean)"
   ]
  },
  {
   "cell_type": "code",
   "execution_count": 53,
   "metadata": {},
   "outputs": [
    {
     "name": "stderr",
     "output_type": "stream",
     "text": [
      "`summarise()` ungrouping output (override with `.groups` argument)\n",
      "\n"
     ]
    },
    {
     "data": {
      "text/html": [
       "<table>\n",
       "<caption>A tibble: 2 × 3</caption>\n",
       "<thead>\n",
       "\t<tr><th scope=col>stroke</th><th scope=col>count</th><th scope=col>percentage</th></tr>\n",
       "\t<tr><th scope=col>&lt;fct&gt;</th><th scope=col>&lt;int&gt;</th><th scope=col>&lt;dbl&gt;</th></tr>\n",
       "</thead>\n",
       "<tbody>\n",
       "\t<tr><td>0</td><td>4861</td><td>95.127202</td></tr>\n",
       "\t<tr><td>1</td><td> 249</td><td> 4.872798</td></tr>\n",
       "</tbody>\n",
       "</table>\n"
      ],
      "text/latex": [
       "A tibble: 2 × 3\n",
       "\\begin{tabular}{lll}\n",
       " stroke & count & percentage\\\\\n",
       " <fct> & <int> & <dbl>\\\\\n",
       "\\hline\n",
       "\t 0 & 4861 & 95.127202\\\\\n",
       "\t 1 &  249 &  4.872798\\\\\n",
       "\\end{tabular}\n"
      ],
      "text/markdown": [
       "\n",
       "A tibble: 2 × 3\n",
       "\n",
       "| stroke &lt;fct&gt; | count &lt;int&gt; | percentage &lt;dbl&gt; |\n",
       "|---|---|---|\n",
       "| 0 | 4861 | 95.127202 |\n",
       "| 1 |  249 |  4.872798 |\n",
       "\n"
      ],
      "text/plain": [
       "  stroke count percentage\n",
       "1 0      4861  95.127202 \n",
       "2 1       249   4.872798 "
      ]
     },
     "metadata": {},
     "output_type": "display_data"
    }
   ],
   "source": [
    "num_obs <- nrow(stroke_clean)\n",
    "stroke_count <- stroke_clean %>%\n",
    "  group_by(stroke) %>%\n",
    "  summarize(\n",
    "    count = n(),\n",
    "    percentage = n() / num_obs * 100\n",
    "  )\n",
    "stroke_count"
   ]
  },
  {
   "cell_type": "code",
   "execution_count": 54,
   "metadata": {},
   "outputs": [],
   "source": [
    "# data splitting\n",
    "set.seed(1)\n",
    "\n",
    "stroke_split <- initial_split(stroke_clean, prop = 0.75, strata = stroke)\n",
    "stroke_train <- training(stroke_split)\n",
    "stroke_test <- testing(stroke_split)"
   ]
  },
  {
   "cell_type": "code",
   "execution_count": 55,
   "metadata": {},
   "outputs": [
    {
     "name": "stderr",
     "output_type": "stream",
     "text": [
      "`summarise()` ungrouping output (override with `.groups` argument)\n",
      "\n",
      "`summarise()` ungrouping output (override with `.groups` argument)\n",
      "\n"
     ]
    },
    {
     "data": {
      "text/html": [
       "<table>\n",
       "<caption>A tibble: 2 × 3</caption>\n",
       "<thead>\n",
       "\t<tr><th scope=col>stroke</th><th scope=col>n</th><th scope=col>percent</th></tr>\n",
       "\t<tr><th scope=col>&lt;fct&gt;</th><th scope=col>&lt;int&gt;</th><th scope=col>&lt;dbl&gt;</th></tr>\n",
       "</thead>\n",
       "<tbody>\n",
       "\t<tr><td>0</td><td>3656</td><td>95.382207</td></tr>\n",
       "\t<tr><td>1</td><td> 177</td><td> 4.617793</td></tr>\n",
       "</tbody>\n",
       "</table>\n"
      ],
      "text/latex": [
       "A tibble: 2 × 3\n",
       "\\begin{tabular}{lll}\n",
       " stroke & n & percent\\\\\n",
       " <fct> & <int> & <dbl>\\\\\n",
       "\\hline\n",
       "\t 0 & 3656 & 95.382207\\\\\n",
       "\t 1 &  177 &  4.617793\\\\\n",
       "\\end{tabular}\n"
      ],
      "text/markdown": [
       "\n",
       "A tibble: 2 × 3\n",
       "\n",
       "| stroke &lt;fct&gt; | n &lt;int&gt; | percent &lt;dbl&gt; |\n",
       "|---|---|---|\n",
       "| 0 | 3656 | 95.382207 |\n",
       "| 1 |  177 |  4.617793 |\n",
       "\n"
      ],
      "text/plain": [
       "  stroke n    percent  \n",
       "1 0      3656 95.382207\n",
       "2 1       177  4.617793"
      ]
     },
     "metadata": {},
     "output_type": "display_data"
    },
    {
     "data": {
      "text/html": [
       "<table>\n",
       "<caption>A tibble: 2 × 3</caption>\n",
       "<thead>\n",
       "\t<tr><th scope=col>stroke</th><th scope=col>n</th><th scope=col>percent</th></tr>\n",
       "\t<tr><th scope=col>&lt;fct&gt;</th><th scope=col>&lt;int&gt;</th><th scope=col>&lt;dbl&gt;</th></tr>\n",
       "</thead>\n",
       "<tbody>\n",
       "\t<tr><td>0</td><td>1205</td><td>94.361785</td></tr>\n",
       "\t<tr><td>1</td><td>  72</td><td> 5.638215</td></tr>\n",
       "</tbody>\n",
       "</table>\n"
      ],
      "text/latex": [
       "A tibble: 2 × 3\n",
       "\\begin{tabular}{lll}\n",
       " stroke & n & percent\\\\\n",
       " <fct> & <int> & <dbl>\\\\\n",
       "\\hline\n",
       "\t 0 & 1205 & 94.361785\\\\\n",
       "\t 1 &   72 &  5.638215\\\\\n",
       "\\end{tabular}\n"
      ],
      "text/markdown": [
       "\n",
       "A tibble: 2 × 3\n",
       "\n",
       "| stroke &lt;fct&gt; | n &lt;int&gt; | percent &lt;dbl&gt; |\n",
       "|---|---|---|\n",
       "| 0 | 1205 | 94.361785 |\n",
       "| 1 |   72 |  5.638215 |\n",
       "\n"
      ],
      "text/plain": [
       "  stroke n    percent  \n",
       "1 0      1205 94.361785\n",
       "2 1        72  5.638215"
      ]
     },
     "metadata": {},
     "output_type": "display_data"
    }
   ],
   "source": [
    "stroke_train_proportions <- stroke_train %>%\n",
    "                      group_by(stroke) %>%\n",
    "                      summarize(n = n()) %>%\n",
    "                      mutate(percent = 100*n/nrow(stroke_train))\n",
    "stroke_test_proportions <- stroke_test %>%\n",
    "                      group_by(stroke) %>%\n",
    "                      summarize(n = n()) %>%\n",
    "                      mutate(percent = 100*n/nrow(stroke_test))\n",
    "stroke_train_proportions\n",
    "stroke_test_proportions"
   ]
  },
  {
   "cell_type": "code",
   "execution_count": 56,
   "metadata": {},
   "outputs": [],
   "source": [
    "# data analysis and visualization"
   ]
  },
  {
   "cell_type": "code",
   "execution_count": 57,
   "metadata": {},
   "outputs": [],
   "source": [
    "stroke_recipe <- recipe(stroke ~ ., data = stroke_train) %>%\n",
    "    step_rm(gender, smoking_status) %>%\n",
    "    step_scale(all_predictors()) %>%\n",
    "    step_center(all_predictors())"
   ]
  },
  {
   "cell_type": "code",
   "execution_count": 58,
   "metadata": {},
   "outputs": [],
   "source": [
    "knn_spec <- nearest_neighbor(weight_func = \"rectangular\", neighbors = 3) %>%\n",
    "  set_engine(\"kknn\") %>%\n",
    "  set_mode(\"classification\")"
   ]
  },
  {
   "cell_type": "code",
   "execution_count": 59,
   "metadata": {},
   "outputs": [],
   "source": [
    "# fit the knn model\n",
    "knn_fit <- workflow() %>%\n",
    "  add_recipe(stroke_recipe) %>%\n",
    "  add_model(knn_spec) %>%\n",
    "  fit(data = stroke_train)"
   ]
  },
  {
   "cell_type": "code",
   "execution_count": 60,
   "metadata": {},
   "outputs": [
    {
     "ename": "ERROR",
     "evalue": "Error: Can't recycle `..1` (size 1233) to match `..2` (size 1277).\n",
     "output_type": "error",
     "traceback": [
      "Error: Can't recycle `..1` (size 1233) to match `..2` (size 1277).\nTraceback:\n",
      "1. predict(knn_fit, stroke_test) %>% bind_cols(stroke_test)",
      "2. withVisible(eval(quote(`_fseq`(`_lhs`)), env, env))",
      "3. eval(quote(`_fseq`(`_lhs`)), env, env)",
      "4. eval(quote(`_fseq`(`_lhs`)), env, env)",
      "5. `_fseq`(`_lhs`)",
      "6. freduce(value, `_function_list`)",
      "7. withVisible(function_list[[k]](value))",
      "8. function_list[[k]](value)",
      "9. bind_cols(., stroke_test)",
      "10. vec_cbind(!!!dots, .name_repair = .name_repair)",
      "11. stop_incompatible_size(x = .Primitive(\"quote\")(structure(list(\n  .     .pred_class = structure(c(1L, 1L, 1L, 1L, 1L, 1L, 1L, 1L, \n  .     1L, 1L, 1L, 1L, 1L, 1L, 1L, 1L, 1L, 1L, 1L, 1L, 1L, 1L, 1L, \n  .     1L, 1L, 1L, 1L, 1L, 1L, 1L, 1L, 1L, 1L, 1L, 1L, 2L, 1L, 1L, \n  .     1L, 1L, 1L, 1L, 1L, 1L, 1L, 1L, 1L, 2L, 1L, 1L, 1L, 1L, 1L, \n  .     1L, 1L, 1L, 1L, 1L, 1L, 1L, 1L, 1L, 1L, 1L, 1L, 1L, 1L, 1L, \n  .     1L, 1L, 1L, 1L, 1L, 1L, 1L, 1L, 1L, 1L, 1L, 1L, 1L, 1L, 1L, \n  .     1L, 1L, 1L, 1L, 1L, 1L, 1L, 1L, 1L, 1L, 1L, 1L, 1L, 1L, 1L, \n  .     1L, 1L, 1L, 1L, 1L, 1L, 1L, 1L, 1L, 1L, 1L, 1L, 1L, 1L, 1L, \n  .     1L, 1L, 1L, 1L, 1L, 1L, 1L, 1L, 1L, 1L, 1L, 1L, 1L, 1L, 1L, \n  .     1L, 1L, 1L, 1L, 1L, 1L, 1L, 1L, 1L, 1L, 1L, 1L, 1L, 1L, 1L, \n  .     1L, 1L, 1L, 1L, 1L, 1L, 1L, 1L, 1L, 1L, 1L, 1L, 1L, 1L, 1L, \n  .     1L, 1L, 1L, 1L, 1L, 1L, 1L, 2L, 1L, 1L, 1L, 1L, 1L, 1L, 1L, \n  .     1L, 1L, 1L, 1L, 1L, 1L, 1L, 1L, 1L, 1L, 1L, 1L, 1L, 1L, 1L, \n  .     1L, 1L, 1L, 1L, 1L, 1L, 1L, 1L, 1L, 1L, 1L, 1L, 1L, 1L, 1L, \n  .     1L, 1L, 1L, 1L, 1L, 1L, 1L, 1L, 1L, 1L, 1L, 1L, 1L, 1L, 1L, \n  .     1L, 1L, 1L, 1L, 1L, 1L, 1L, 1L, 1L, 1L, 1L, 1L, 1L, 1L, 1L, \n  .     1L, 1L, 1L, 1L, 1L, 1L, 1L, 1L, 1L, 1L, 1L, 1L, 1L, 1L, 1L, \n  .     1L, 1L, 1L, 1L, 1L, 1L, 1L, 1L, 1L, 1L, 1L, 1L, 1L, 1L, 1L, \n  .     1L, 1L, 1L, 1L, 1L, 1L, 1L, 1L, 1L, 1L, 1L, 1L, 1L, 1L, 1L, \n  .     1L, 1L, 1L, 1L, 1L, 1L, 1L, 1L, 1L, 1L, 1L, 1L, 1L, 1L, 1L, \n  .     1L, 1L, 1L, 1L, 1L, 1L, 1L, 1L, 1L, 1L, 1L, 1L, 1L, 1L, 1L, \n  .     1L, 1L, 1L, 1L, 1L, 1L, 1L, 1L, 1L, 1L, 1L, 1L, 1L, 1L, 1L, \n  .     1L, 1L, 1L, 1L, 1L, 1L, 1L, 1L, 1L, 1L, 1L, 1L, 1L, 1L, 1L, \n  .     1L, 1L, 1L, 1L, 1L, 1L, 1L, 1L, 1L, 1L, 1L, 1L, 2L, 1L, 1L, \n  .     1L, 1L, 1L, 1L, 1L, 1L, 1L, 1L, 1L, 1L, 1L, 1L, 1L, 1L, 1L, \n  .     1L, 1L, 1L, 1L, 1L, 1L, 1L, 1L, 1L, 1L, 1L, 1L, 1L, 1L, 1L, \n  .     1L, 1L, 1L, 1L, 1L, 1L, 1L, 1L, 1L, 1L, 1L, 1L, 1L, 1L, 1L, \n  .     1L, 1L, 1L, 1L, 1L, 1L, 1L, 1L, 1L, 1L, 1L, 1L, 1L, 1L, 1L, \n  .     1L, 1L, 1L, 1L, 1L, 1L, 1L, 1L, 1L, 1L, 1L, 1L, 1L, 1L, 1L, \n  .     1L, 1L, 1L, 1L, 1L, 1L, 1L, 1L, 1L, 1L, 1L, 1L, 1L, 1L, 2L, \n  .     1L, 1L, 1L, 1L, 1L, 1L, 1L, 1L, 1L, 1L, 1L, 1L, 1L, 1L, 1L, \n  .     1L, 1L, 1L, 1L, 1L, 1L, 1L, 1L, 1L, 1L, 1L, 1L, 1L, 1L, 1L, \n  .     1L, 1L, 1L, 1L, 1L, 1L, 1L, 1L, 1L, 1L, 1L, 1L, 1L, 1L, 1L, \n  .     1L, 1L, 1L, 1L, 1L, 1L, 1L, 1L, 1L, 1L, 1L, 1L, 1L, 1L, 1L, \n  .     1L, 1L, 1L, 1L, 1L, 1L, 1L, 1L, 1L, 1L, 1L, 1L, 1L, 1L, 1L, \n  .     1L, 1L, 1L, 1L, 1L, 1L, 1L, 1L, 1L, 1L, 1L, 1L, 1L, 1L, 1L, \n  .     1L, 1L, 1L, 1L, 1L, 1L, 1L, 2L, 1L, 1L, 1L, 1L, 1L, 1L, 1L, \n  .     1L, 1L, 1L, 1L, 1L, 1L, 1L, 1L, 1L, 1L, 1L, 1L, 1L, 1L, 1L, \n  .     1L, 1L, 1L, 1L, 1L, 1L, 1L, 1L, 1L, 1L, 1L, 1L, 1L, 1L, 1L, \n  .     1L, 1L, 1L, 1L, 1L, 1L, 1L, 1L, 1L, 1L, 1L, 1L, 1L, 1L, 1L, \n  .     1L, 1L, 1L, 1L, 1L, 1L, 1L, 1L, 1L, 1L, 1L, 1L, 1L, 1L, 1L, \n  .     1L, 1L, 1L, 1L, 1L, 1L, 1L, 1L, 1L, 1L, 1L, 1L, 1L, 1L, 1L, \n  .     1L, 1L, 1L, 1L, 1L, 1L, 1L, 1L, 1L, 1L, 1L, 1L, 1L, 1L, 1L, \n  .     1L, 1L, 1L, 1L, 1L, 1L, 1L, 1L, 1L, 1L, 1L, 1L, 1L, 1L, 1L, \n  .     1L, 1L, 1L, 1L, 1L, 1L, 1L, 1L, 1L, 1L, 1L, 1L, 1L, 1L, 1L, \n  .     1L, 1L, 1L, 1L, 1L, 1L, 1L, 1L, 1L, 1L, 1L, 1L, 1L, 1L, 1L, \n  .     1L, 1L, 1L, 1L, 1L, 1L, 1L, 1L, 1L, 1L, 1L, 1L, 1L, 1L, 1L, \n  .     1L, 1L, 1L, 1L, 1L, 1L, 1L, 1L, 1L, 1L, 1L, 1L, 1L, 1L, 1L, \n  .     1L, 1L, 1L, 1L, 1L, 1L, 1L, 1L, 1L, 1L, 1L, 1L, 1L, 1L, 1L, \n  .     1L, 1L, 1L, 1L, 1L, 1L, 1L, 1L, 1L, 1L, 1L, 1L, 1L, 1L, 1L, \n  .     1L, 1L, 1L, 1L, 1L, 1L, 1L, 1L, 1L, 1L, 1L, 1L, 1L, 1L, 1L, \n  .     1L, 1L, 1L, 1L, 1L, 1L, 1L, 1L, 1L, 2L, 1L, 1L, 1L, 1L, 1L, \n  .     1L, 1L, 1L, 1L, 1L, 1L, 1L, 1L, 1L, 1L, 1L, 1L, 1L, 1L, 1L, \n  .     1L, 1L, 1L, 1L, 1L, 1L, 1L, 1L, 1L, 1L, 1L, 1L, 1L, 1L, 1L, \n  .     1L, 1L, 1L, 1L, 1L, 1L, 1L, 1L, 1L, 1L, 1L, 1L, 1L, 1L, 1L, \n  .     1L, 1L, 1L, 1L, 1L, 1L, 1L, 1L, 1L, 1L, 1L, 1L, 1L, 1L, 1L, \n  .     1L, 1L, 1L, 1L, 1L, 1L, 1L, 1L, 1L, 1L, 1L, 1L, 1L, 1L, 1L, \n  .     1L, 1L, 1L, 1L, 1L, 1L, 1L, 1L, 1L, 1L, 1L, 2L, 1L, 1L, 1L, \n  .     1L, 1L, 1L, 1L, 1L, 1L, 1L, 1L, 1L, 1L, 1L, 1L, 1L, 1L, 1L, \n  .     1L, 1L, 1L, 1L, 1L, 1L, 1L, 1L, 1L, 1L, 1L, 1L, 1L, 1L, 1L, \n  .     1L, 1L, 1L, 1L, 1L, 1L, 1L, 1L, 1L, 1L, 1L, 1L, 1L, 1L, 1L, \n  .     1L, 1L, 1L, 1L, 1L, 1L, 1L, 1L, 1L, 1L, 1L, 1L, 1L, 1L, 1L, \n  .     1L, 1L, 1L, 1L, 1L, 1L, 1L, 1L, 1L, 1L, 1L, 1L, 1L, 1L, 1L, \n  .     1L, 1L, 1L, 1L, 1L, 1L, 1L, 1L, 1L, 1L, 1L, 1L, 1L, 1L, 1L, \n  .     1L, 1L, 1L, 1L, 2L, 1L, 1L, 1L, 1L, 1L, 1L, 1L, 1L, 1L, 1L, \n  .     1L, 1L, 1L, 1L, 1L, 1L, 1L, 1L, 1L, 1L, 1L, 1L, 1L, 1L, 1L, \n  .     1L, 1L, 1L, 1L, 1L, 1L, 1L, 1L, 1L, 1L, 1L, 1L, 1L, 1L, 1L, \n  .     1L, 1L, 1L, 1L, 1L, 1L, 1L, 1L, 1L, 1L, 1L, 1L, 1L, 1L, 1L, \n  .     1L, 1L, 1L, 1L, 1L, 1L, 1L, 1L, 1L, 1L, 1L, 1L, 1L, 1L, 1L, \n  .     1L, 1L, 1L, 1L, 1L, 1L, 1L, 1L, 1L, 1L, 1L, 1L, 1L, 2L, 1L, \n  .     1L, 1L, 1L, 1L, 1L, 1L, 1L, 1L, 1L, 1L, 1L, 1L, 1L, 1L, 1L, \n  .     1L, 1L, 1L, 1L, 1L, 1L, 1L, 1L, 1L, 1L, 1L, 1L, 1L, 1L, 1L, \n  .     1L, 1L, 1L, 1L, 1L, 1L, 1L, 1L, 1L, 1L, 1L, 1L, 1L, 1L, 1L, \n  .     1L, 1L, 1L, 1L, 1L, 1L, 1L, 1L, 1L, 1L, 1L, 1L, 1L, 1L, 1L, \n  .     1L, 1L, 1L, 1L, 1L, 1L, 1L, 1L, 1L, 1L, 1L, 1L, 1L, 1L, 1L, \n  .     1L, 1L, 1L, 1L, 1L, 1L, 1L, 1L, 1L, 1L, 1L, 1L, 1L, 1L, 1L, \n  .     1L, 1L, 1L, 2L, 1L, 1L, 1L, 1L, 1L, 1L, 1L, 1L, 1L, 1L, 1L, \n  .     1L, 1L, 1L, 1L, 1L, 1L, 1L, 1L, 1L, 1L, 1L, 2L, 1L, 1L, 1L, \n  .     1L, 1L, 1L, 1L, 1L, 1L, 1L, 1L, 1L, 1L, 1L, 1L, 1L, 1L, 1L, \n  .     1L, 1L, 1L, 1L, 1L, 1L, 1L, 1L, 1L, 1L, 1L, 1L, 1L, 1L, 1L, \n  .     1L, 1L, 1L, 1L, 1L, 1L, 1L, 1L, 1L, 1L, 1L, 1L, 1L, 1L, 1L, \n  .     1L, 1L, 1L, 1L, 1L, 1L, 1L, 1L, 1L, 1L, 1L, 1L, 1L, 1L, 1L, \n  .     1L, 1L, 1L, 1L, 1L, 1L, 1L, 1L, 1L, 1L), .Label = c(\"0\", \n  .     \"1\"), class = \"factor\")), row.names = c(NA, -1233L), class = c(\"tbl_df\", \n  . \"tbl\", \"data.frame\"))), y = .Primitive(\"quote\")(structure(list(\n  .     gender = structure(c(1L, 2L, 1L, 2L, 1L, 2L, 2L, 1L, 1L, \n  .     2L, 1L, 2L, 2L, 2L, 2L, 1L, 1L, 2L, 2L, 1L, 1L, 2L, 1L, 1L, \n  .     1L, 1L, 1L, 1L, 2L, 2L, 2L, 2L, 2L, 1L, 2L, 2L, 1L, 2L, 1L, \n  .     2L, 1L, 1L, 2L, 2L, 2L, 2L, 1L, 2L, 2L, 1L, 1L, 1L, 1L, 1L, \n  .     2L, 2L, 1L, 1L, 2L, 1L, 2L, 1L, 2L, 2L, 2L, 1L, 1L, 1L, 2L, \n  .     1L, 2L, 2L, 1L, 2L, 2L, 2L, 1L, 2L, 2L, 1L, 1L, 1L, 2L, 1L, \n  .     2L, 1L, 2L, 2L, 2L, 1L, 2L, 2L, 2L, 2L, 1L, 2L, 2L, 1L, 2L, \n  .     1L, 2L, 1L, 1L, 1L, 2L, 1L, 2L, 2L, 1L, 2L, 2L, 1L, 2L, 2L, \n  .     1L, 2L, 2L, 1L, 2L, 2L, 2L, 1L, 1L, 1L, 1L, 2L, 1L, 2L, 2L, \n  .     1L, 2L, 2L, 1L, 1L, 1L, 1L, 2L, 2L, 2L, 2L, 2L, 1L, 2L, 1L, \n  .     1L, 2L, 2L, 1L, 1L, 2L, 1L, 2L, 1L, 2L, 1L, 2L, 2L, 2L, 1L, \n  .     1L, 2L, 1L, 2L, 1L, 2L, 2L, 2L, 1L, 2L, 2L, 1L, 2L, 1L, 2L, \n  .     2L, 1L, 2L, 2L, 2L, 1L, 1L, 1L, 2L, 2L, 2L, 2L, 1L, 2L, 1L, \n  .     2L, 1L, 1L, 2L, 1L, 1L, 2L, 2L, 2L, 2L, 1L, 2L, 1L, 2L, 2L, \n  .     1L, 1L, 1L, 1L, 1L, 1L, 1L, 2L, 2L, 1L, 2L, 1L, 1L, 1L, 1L, \n  .     2L, 2L, 2L, 2L, 2L, 1L, 2L, 2L, 2L, 2L, 1L, 1L, 2L, 1L, 2L, \n  .     1L, 2L, 2L, 1L, 2L, 2L, 2L, 2L, 2L, 2L, 2L, 1L, 2L, 2L, 1L, \n  .     2L, 1L, 2L, 2L, 2L, 2L, 1L, 2L, 2L, 1L, 1L, 2L, 2L, 1L, 2L, \n  .     2L, 2L, 1L, 1L, 1L, 2L, 1L, 1L, 2L, 1L, 2L, 1L, 2L, 1L, 2L, \n  .     2L, 1L, 1L, 2L, 2L, 2L, 2L, 2L, 1L, 1L, 2L, 1L, 2L, 2L, 1L, \n  .     1L, 1L, 2L, 1L, 1L, 1L, 2L, 2L, 1L, 2L, 2L, 2L, 2L, 1L, 2L, \n  .     2L, 1L, 2L, 2L, 1L, 2L, 2L, 2L, 2L, 2L, 2L, 1L, 1L, 2L, 1L, \n  .     2L, 1L, 2L, 1L, 1L, 2L, 2L, 1L, 2L, 1L, 2L, 2L, 1L, 2L, 1L, \n  .     2L, 2L, 1L, 1L, 2L, 2L, 2L, 2L, 1L, 1L, 2L, 1L, 1L, 1L, 1L, \n  .     2L, 2L, 2L, 2L, 1L, 2L, 2L, 1L, 1L, 2L, 2L, 2L, 2L, 2L, 2L, \n  .     1L, 1L, 1L, 2L, 1L, 2L, 2L, 1L, 2L, 1L, 1L, 2L, 1L, 1L, 2L, \n  .     1L, 1L, 2L, 2L, 1L, 2L, 1L, 1L, 1L, 2L, 2L, 1L, 2L, 2L, 1L, \n  .     1L, 1L, 2L, 2L, 2L, 2L, 2L, 1L, 2L, 2L, 2L, 1L, 2L, 2L, 2L, \n  .     2L, 2L, 1L, 2L, 2L, 2L, 1L, 1L, 2L, 2L, 1L, 1L, 2L, 1L, 2L, \n  .     2L, 1L, 2L, 2L, 2L, 2L, 2L, 2L, 1L, 2L, 1L, 2L, 1L, 1L, 1L, \n  .     1L, 1L, 2L, 1L, 1L, 1L, 2L, 2L, 2L, 2L, 2L, 1L, 1L, 1L, 2L, \n  .     1L, 1L, 1L, 2L, 2L, 2L, 1L, 1L, 2L, 1L, 1L, 2L, 2L, 1L, 2L, \n  .     2L, 2L, 1L, 1L, 2L, 1L, 2L, 2L, 2L, 2L, 2L, 1L, 1L, 1L, 2L, \n  .     2L, 1L, 2L, 2L, 1L, 2L, 1L, 2L, 2L, 2L, 1L, 2L, 2L, 1L, 2L, \n  .     2L, 1L, 2L, 1L, 1L, 1L, 2L, 2L, 2L, 2L, 1L, 1L, 1L, 2L, 1L, \n  .     2L, 2L, 1L, 1L, 2L, 2L, 1L, 2L, 2L, 1L, 1L, 1L, 2L, 2L, 1L, \n  .     2L, 1L, 2L, 2L, 1L, 2L, 2L, 1L, 1L, 1L, 2L, 2L, 1L, 2L, 1L, \n  .     1L, 1L, 2L, 2L, 2L, 1L, 1L, 2L, 1L, 1L, 2L, 2L, 1L, 1L, 1L, \n  .     1L, 1L, 2L, 2L, 1L, 1L, 1L, 2L, 1L, 2L, 2L, 2L, 1L, 1L, 1L, \n  .     2L, 2L, 1L, 2L, 2L, 2L, 1L, 1L, 2L, 2L, 2L, 2L, 2L, 2L, 1L, \n  .     1L, 2L, 1L, 1L, 1L, 2L, 2L, 2L, 1L, 2L, 1L, 2L, 2L, 2L, 1L, \n  .     1L, 1L, 2L, 1L, 1L, 2L, 2L, 1L, 2L, 2L, 2L, 2L, 2L, 2L, 1L, \n  .     1L, 1L, 1L, 1L, 2L, 1L, 1L, 2L, 1L, 2L, 1L, 2L, 2L, 1L, 1L, \n  .     2L, 1L, 1L, 2L, 2L, 1L, 2L, 1L, 2L, 1L, 2L, 1L, 2L, 1L, 1L, \n  .     1L, 2L, 1L, 2L, 1L, 1L, 1L, 1L, 1L, 1L, 1L, 2L, 2L, 2L, 1L, \n  .     1L, 2L, 2L, 2L, 2L, 2L, 2L, 2L, 2L, 2L, 2L, 2L, 1L, 1L, 2L, \n  .     2L, 2L, 2L, 2L, 1L, 2L, 1L, 1L, 2L, 2L, 2L, 2L, 1L, 2L, 2L, \n  .     2L, 1L, 2L, 2L, 2L, 1L, 2L, 2L, 2L, 2L, 1L, 2L, 1L, 2L, 2L, \n  .     2L, 2L, 1L, 2L, 1L, 2L, 1L, 1L, 2L, 1L, 2L, 2L, 2L, 1L, 1L, \n  .     1L, 1L, 2L, 1L, 2L, 1L, 2L, 1L, 2L, 1L, 1L, 2L, 1L, 2L, 2L, \n  .     2L, 1L, 1L, 1L, 1L, 2L, 1L, 1L, 2L, 1L, 2L, 2L, 1L, 2L, 1L, \n  .     2L, 2L, 2L, 2L, 1L, 2L, 1L, 1L, 1L, 1L, 1L, 2L, 2L, 2L, 2L, \n  .     1L, 2L, 2L, 2L, 1L, 1L, 1L, 2L, 1L, 2L, 2L, 2L, 1L, 2L, 1L, \n  .     1L, 2L, 2L, 2L, 1L, 2L, 2L, 2L, 2L, 1L, 2L, 2L, 1L, 2L, 2L, \n  .     2L, 2L, 1L, 2L, 2L, 1L, 1L, 2L, 2L, 2L, 2L, 2L, 1L, 2L, 2L, \n  .     2L, 1L, 2L, 2L, 1L, 2L, 1L, 1L, 2L, 1L, 2L, 2L, 1L, 1L, 1L, \n  .     2L, 2L, 1L, 1L, 1L, 2L, 1L, 2L, 2L, 2L, 2L, 1L, 2L, 2L, 2L, \n  .     1L, 1L, 1L, 2L, 2L, 1L, 2L, 2L, 1L, 2L, 1L, 1L, 1L, 2L, 1L, \n  .     2L, 2L, 2L, 1L, 2L, 2L, 2L, 2L, 2L, 1L, 2L, 1L, 2L, 2L, 1L, \n  .     2L, 2L, 1L, 2L, 2L, 2L, 2L, 2L, 1L, 1L, 1L, 2L, 1L, 2L, 2L, \n  .     1L, 2L, 2L, 2L, 2L, 1L, 2L, 1L, 1L, 1L, 1L, 2L, 1L, 2L, 2L, \n  .     2L, 1L, 1L, 1L, 1L, 2L, 1L, 2L, 2L, 2L, 2L, 1L, 2L, 2L, 1L, \n  .     2L, 2L, 1L, 1L, 2L, 2L, 1L, 2L, 2L, 1L, 2L, 2L, 2L, 2L, 1L, \n  .     1L, 2L, 2L, 1L, 2L, 1L, 1L, 2L, 1L, 2L, 2L, 2L, 2L, 2L, 1L, \n  .     1L, 1L, 2L, 1L, 1L, 2L, 2L, 2L, 2L, 2L, 2L, 2L, 1L, 2L, 1L, \n  .     1L, 1L, 2L, 2L, 2L, 2L, 2L, 1L, 2L, 2L, 1L, 2L, 1L, 1L, 1L, \n  .     2L, 2L, 1L, 2L, 1L, 2L, 1L, 2L, 2L, 2L, 2L, 1L, 2L, 1L, 1L, \n  .     1L, 2L, 1L, 1L, 2L, 2L, 2L, 1L, 2L, 2L, 1L, 1L, 2L, 1L, 2L, \n  .     2L, 2L, 2L, 1L, 1L, 1L, 1L, 1L, 1L, 1L, 1L, 2L, 1L, 1L, 2L, \n  .     2L, 2L, 2L, 2L, 2L, 2L, 2L, 1L, 1L, 1L, 2L, 2L, 1L, 1L, 2L, \n  .     1L, 1L, 2L, 2L, 2L, 2L, 2L, 2L, 2L, 1L, 1L, 2L, 2L, 2L, 2L, \n  .     1L, 2L, 2L, 2L, 2L, 2L, 2L, 2L, 1L, 2L, 1L, 2L, 1L, 1L, 2L, \n  .     2L, 1L, 1L, 2L, 1L, 2L, 2L, 1L, 1L, 2L, 2L, 2L, 2L, 2L, 1L, \n  .     2L, 2L, 2L, 1L, 1L, 2L, 1L, 2L, 2L, 1L, 2L, 2L, 2L, 2L, 2L, \n  .     2L, 2L, 1L, 2L, 1L, 2L, 2L, 1L, 1L, 2L, 2L, 2L, 1L, 2L, 1L, \n  .     2L, 2L, 2L, 2L, 1L, 1L, 1L, 1L, 2L, 2L, 2L, 2L, 1L, 1L, 2L, \n  .     1L, 2L, 2L, 1L, 1L, 2L, 1L, 1L, 1L, 2L, 2L, 2L, 1L, 2L, 1L, \n  .     1L, 1L, 2L, 2L, 1L, 1L, 2L, 2L, 1L, 1L, 1L, 1L, 2L, 1L, 2L, \n  .     2L, 1L, 1L, 2L, 2L, 2L, 2L, 2L, 2L, 1L, 2L, 2L, 2L, 2L, 2L, \n  .     2L, 2L, 2L, 1L, 2L, 2L, 2L, 2L, 2L, 2L, 1L, 1L, 1L, 2L, 1L, \n  .     1L, 2L, 1L, 2L, 2L, 1L, 2L, 2L, 2L, 2L, 2L, 2L, 1L, 2L, 2L, \n  .     2L, 1L, 2L, 2L, 2L, 2L, 2L, 1L, 2L, 1L, 2L, 2L, 2L, 1L, 1L, \n  .     1L, 1L, 1L, 1L, 1L, 2L, 2L, 2L, 2L, 1L, 2L, 2L, 2L, 2L, 1L, \n  .     2L, 1L, 2L, 2L, 2L, 1L, 2L, 2L, 2L, 1L, 1L, 2L, 2L, 2L, 2L, \n  .     2L, 1L, 1L, 1L, 2L, 2L, 2L, 2L, 2L, 2L, 2L, 1L, 1L, 1L, 2L, \n  .     2L, 1L, 2L, 1L, 1L, 1L, 1L, 2L), .Label = c(\"Male\", \"Female\", \n  .     \"Other\"), class = \"factor\"), age = c(74, 81, 78, 79, 64, \n  .     79, 65, 80, 58, 49, 78, 58, 76, 79, 77, 63, 78, 56, 45, 78, \n  .     76, 67, 59, 61, 74, 81, 57, 64, 77, 54, 79, 53, 76, 71, 58, \n  .     53, 78, 80, 82, 78, 69, 76, 69, 78, 79, 80, 71, 79, 60, 59, \n  .     61, 63, 61, 70, 77, 78, 63, 78, 76, 73, 81, 49, 39, 81, 77, \n  .     78, 57, 60, 68, 57, 75, 78, 58, 8, 20, 57, 27, 47, 58, 59, \n  .     13, 67, 45, 43, 30, 46, 27, 38, 29, 53, 57, 51, 82, 49, 68, \n  .     25, 47, 76, 44, 41, 53, 56, 53, 5, 37, 34, 39, 17, 60, 5, \n  .     78, 57, 64, 33, 75, 5, 56, 64, 64, 22, 26, 42, 72, 13, 29, \n  .     42, 75, 16, 78, 68, 43, 66, 9, 20, 35, 60, 14, 66, 56, 57, \n  .     76, 22, 44, 10, 67, 38, 25, 51, 65, 54, 9, 76, 52, 55, 12, \n  .     72, 81, 32, 57, 54, 36, 45, 54, 18, 26, 65, 24, 57, 1.08, \n  .     24, 7, 56, 82, 42, 73, 50, 74, 40, 66, 58, 28, 15, 80, 70, \n  .     58, 49, 65, 28, 78, 38, 56, 76, 48, 82, 61, 53, 26, 52, 30, \n  .     38, 45, 29, 13, 81, 50, 24, 9, 42, 23, 46, 2, 78, 64, 47, \n  .     20, 42, 20, 61, 17, 30, 63, 58, 69, 64, 17, 29, 42, 29, 23, \n  .     41, 41, 5, 40, 70, 61, 36, 65, 61, 32, 51, 39, 48, 1.4, 40, \n  .     46, 2, 40, 19, 43, 31, 41, 17, 37, 19, 59, 80, 4, 51, 48, \n  .     39, 32, 77, 8, 74, 52, 69, 30, 66, 40, 61, 61, 4, 51, 79, \n  .     63, 56, 72, 21, 82, 62, 9, 51, 81, 19, 30, 45, 28, 18, 52, \n  .     59, 47, 22, 42, 3, 52, 80, 38, 57, 10, 69, 3, 79, 74, 48, \n  .     34, 59, 29, 73, 31, 14, 80, 33, 41, 37, 58, 78, 41, 30, 32, \n  .     20, 53, 3, 73, 15, 3, 2, 30, 4, 2, 50, 25, 39, 38, 63, 11, \n  .     49, 73, 5, 5, 22, 3, 55, 57, 77, 35, 50, 40, 6, 4, 59, 72, \n  .     2, 41, 17, 32, 10, 49, 52, 69, 41, 37, 25, 2, 76, 45, 54, \n  .     3, 79, 50, 17, 68, 49, 3, 1.88, 5, 49, 68, 23, 64, 51, 30, \n  .     18, 75, 44, 62, 27, 66, 25, 61, 23, 65, 42, 66, 47, 53, 62, \n  .     65, 74, 48, 23, 25, 37, 41, 17, 13, 25, 46, 15, 68, 18, 56, \n  .     7, 20, 28, 20, 38, 76, 29, 48, 57, 70, 44, 53, 40, 58, 6, \n  .     32, 82, 71, 20, 50, 47, 35, 53, 45, 16, 39, 24, 50, 1.72, \n  .     45, 62, 5, 10, 31, 22, 63, 4, 76, 32, 39, 59, 78, 75, 13, \n  .     54, 13, 57, 26, 34, 60, 22, 23, 35, 78, 60, 43, 21, 16, 14, \n  .     60, 45, 37, 60, 47, 26, 14, 18, 51, 63, 53, 12, 29, 49, 53, \n  .     80, 62, 72, 25, 68, 44, 43, 5, 9, 28, 81, 1.4, 47, 14, 72, \n  .     61, 15, 18, 31, 29, 40, 3, 25, 64, 71, 32, 32, 25, 31, 59, \n  .     11, 48, 50, 69, 20, 22, 55, 72, 32, 54, 6, 45, 57, 8, 49, \n  .     2, 35, 62, 64, 47, 74, 57, 52, 50, 27, 19, 77, 57, 14, 29, \n  .     49, 1.24, 25, 17, 53, 52, 27, 26, 43, 25, 7, 53, 6, 50, 47, \n  .     12, 28, 40, 55, 9, 5, 57, 17, 56, 40, 80, 26, 46, 60, 37, \n  .     18, 50, 55, 2, 65, 34, 40, 46, 76, 16, 67, 67, 56, 40, 63, \n  .     32, 47, 34, 64, 52, 64, 23, 18, 47, 71, 28, 7, 49, 1.16, \n  .     68, 1.8, 13, 46, 47, 34, 0.88, 30, 7, 72, 27, 62, 47, 10, \n  .     60, 16, 19, 51, 33, 48, 45, 53, 52, 65, 13, 9, 36, 49, 8, \n  .     60, 46, 65, 36, 36, 77, 5, 0.88, 32, 50, 48, 46, 15, 49, \n  .     39, 34, 43, 28, 58, 73, 73, 75, 20, 16, 67, 10, 50, 79, 14, \n  .     46, 55, 46, 63, 59, 35, 69, 49, 73, 78, 77, 59, 22, 44, 59, \n  .     52, 76, 79, 78, 60, 21, 58, 28, 46, 60, 65, 80, 67, 52, 20, \n  .     2, 25, 23, 70, 15, 69, 38, 1.24, 39, 17, 31, 53, 9, 41, 47, \n  .     59, 48, 3, 24, 43, 24, 79, 50, 50, 46, 39, 45, 62, 0.8, 57, \n  .     8, 62, 13, 71, 50, 76, 5, 24, 34, 44, 20, 52, 29, 23, 3, \n  .     58, 75, 11, 82, 32, 60, 17, 56, 0.24, 63, 65, 8, 41, 15, \n  .     4, 50, 16, 25, 18, 48, 51, 79, 4, 31, 47, 35, 60, 35, 76, \n  .     79, 40, 52, 40, 28, 37, 60, 38, 56, 22, 60, 55, 73, 53, 81, \n  .     62, 42, 31, 20, 26, 54, 66, 13, 36, 28, 79, 56, 54, 29, 64, \n  .     16, 75, 52, 3, 72, 24, 35, 82, 63, 50, 67, 42, 49, 67, 65, \n  .     51, 54, 34, 65, 17, 61, 55, 79, 36, 34, 44, 67, 44, 25, 61, \n  .     43, 2, 1.88, 23, 74, 72, 47, 27, 41, 19, 37, 77, 49, 23, \n  .     56, 39, 51, 17, 41, 57, 72, 28, 78, 74, 0.24, 17, 60, 18, \n  .     13, 47, 80, 5, 53, 14, 71, 58, 1.88, 49, 42, 72, 38, 34, \n  .     8, 24, 58, 64, 57, 39, 16, 54, 77, 48, 52, 24, 51, 58, 61, \n  .     21, 7, 35, 43, 25, 9, 53, 1.32, 64, 55, 40, 53, 71, 65, 55, \n  .     72, 30, 69, 30, 8, 58, 78, 53, 81, 53, 75, 66, 7, 14, 58, \n  .     71, 5, 44, 16, 2, 45, 57, 1.08, 8, 1.48, 64, 54, 14, 52, \n  .     26, 62, 25, 80, 38, 11, 49, 1.8, 46, 38, 74, 60, 12, 40, \n  .     28, 50, 18, 42, 64, 23, 58, 23, 45, 8, 43, 47, 50, 26, 45, \n  .     1.88, 21, 52, 45, 65, 31, 47, 79, 66, 64, 71, 65, 57, 1.8, \n  .     35, 73, 38, 50, 39, 15, 67, 75, 16, 0.16, 61, 50, 20, 67, \n  .     52, 51, 39, 41, 33, 1.64, 44, 44, 81, 64, 56, 58, 54, 59, \n  .     15, 54, 41, 17, 38, 69, 32, 25, 2, 57, 70, 30, 3, 45, 4, \n  .     27, 57, 62, 62, 29, 39, 66, 26, 57, 63, 49, 57, 59, 56, 30, \n  .     53, 14, 82, 5, 27, 78, 20, 5, 47, 40, 38, 15, 81, 47, 64, \n  .     55, 38, 37, 34, 52, 50, 63, 49, 72, 33, 23, 7, 81, 10, 5, \n  .     32, 31, 29, 2, 62, 18, 71, 54, 64, 1.48, 67, 39, 31, 6, 15, \n  .     36, 2, 60, 4, 79, 61, 66, 16, 15, 1.72, 75, 58, 26, 21, 71, \n  .     16, 22, 79, 23, 35, 66, 19, 73, 45, 34, 13, 48, 20, 7, 54, \n  .     40, 71, 63, 7, 66, 51, 79, 74, 71, 3, 53, 40, 12, 56, 43, \n  .     47, 27, 49, 17, 36, 55, 7, 3, 26, 2, 32, 75, 25, 52, 35, \n  .     1.8, 49, 25, 65, 11, 23, 40, 48, 60, 57, 0.4, 76, 23, 4, \n  .     62, 37, 14, 40, 18, 56, 2, 58, 45, 34, 65, 77, 42, 49, 0.48, \n  .     70, 57, 59, 14, 32, 68, 65, 65, 32, 48, 50, 62, 61, 78, 82, \n  .     79, 23, 81, 29, 59, 41, 17, 71, 60, 28, 70, 3, 31, 17, 79, \n  .     58, 9, 29, 39, 48, 74, 36, 75, 61, 19, 54, 44, 49, 41, 49, \n  .     51, 31, 4, 55, 34, 30, 49, 53, 13, 12, 77, 25, 69, 39, 0.32, \n  .     20, 36, 72, 38, 11, 0.72, 9, 53, 62, 59, 51, 13, 44, 46, \n  .     50, 34, 30, 19, 64, 44, 34, 8, 20, 68, 50, 54, 29, 5, 37, \n  .     26, 72, 20, 79, 56, 53, 44, 51, 42, 47, 37, 24, 52, 34, 17, \n  .     1.72, 67, 64, 0.72, 76, 45, 13, 1.08, 9, 40, 80), hypertension = c(1, \n  .     1, 0, 0, 0, 0, 0, 0, 0, 0, 0, 0, 0, 0, 1, 0, 0, 0, 0, 1, \n  .     0, 1, 0, 0, 0, 0, 1, 0, 0, 0, 0, 0, 0, 1, 0, 1, 1, 0, 0, \n  .     1, 1, 1, 1, 0, 0, 0, 0, 1, 0, 0, 1, 0, 0, 1, 0, 0, 0, 0, \n  .     1, 0, 0, 0, 0, 0, 1, 0, 0, 0, 1, 0, 0, 0, 1, 0, 0, 1, 0, \n  .     0, 0, 0, 0, 0, 0, 0, 0, 0, 0, 0, 0, 0, 1, 0, 0, 0, 0, 0, \n  .     0, 0, 0, 0, 0, 0, 1, 0, 0, 0, 0, 0, 1, 0, 0, 0, 0, 0, 0, \n  .     0, 1, 0, 0, 0, 0, 0, 0, 0, 0, 0, 0, 0, 0, 0, 0, 0, 0, 0, \n  .     0, 0, 0, 0, 0, 0, 0, 0, 0, 0, 0, 0, 0, 0, 0, 0, 0, 0, 0, \n  .     0, 0, 0, 0, 0, 0, 0, 0, 0, 0, 0, 0, 0, 0, 0, 0, 0, 0, 0, \n  .     0, 0, 0, 0, 0, 0, 0, 0, 0, 0, 0, 0, 0, 0, 0, 0, 0, 0, 0, \n  .     1, 1, 0, 0, 0, 0, 1, 0, 0, 0, 0, 0, 0, 0, 0, 0, 0, 0, 0, \n  .     0, 0, 0, 0, 0, 0, 0, 0, 0, 0, 0, 0, 0, 1, 0, 0, 0, 0, 0, \n  .     0, 0, 0, 1, 1, 0, 1, 0, 1, 0, 0, 0, 0, 0, 0, 0, 0, 0, 0, \n  .     0, 0, 0, 0, 0, 0, 0, 1, 0, 0, 0, 0, 0, 0, 0, 0, 0, 1, 0, \n  .     1, 0, 0, 1, 0, 0, 0, 0, 0, 0, 0, 0, 0, 0, 1, 0, 0, 0, 0, \n  .     0, 0, 0, 0, 0, 0, 1, 0, 0, 0, 0, 0, 0, 0, 0, 0, 0, 0, 0, \n  .     0, 0, 1, 0, 0, 0, 0, 0, 0, 0, 1, 0, 0, 0, 0, 0, 0, 0, 0, \n  .     0, 0, 0, 0, 0, 0, 0, 0, 0, 0, 0, 0, 1, 0, 0, 0, 0, 1, 0, \n  .     1, 0, 0, 0, 0, 0, 0, 0, 0, 0, 0, 0, 0, 0, 0, 0, 0, 0, 0, \n  .     0, 0, 0, 0, 0, 0, 1, 0, 1, 1, 0, 0, 0, 1, 1, 0, 0, 0, 0, \n  .     0, 0, 0, 0, 0, 0, 0, 1, 0, 0, 0, 0, 0, 0, 1, 0, 0, 1, 0, \n  .     0, 0, 0, 0, 0, 0, 0, 0, 0, 0, 0, 0, 0, 0, 0, 0, 0, 0, 0, \n  .     1, 0, 0, 1, 0, 0, 0, 0, 0, 0, 0, 0, 0, 0, 0, 0, 0, 0, 1, \n  .     1, 0, 0, 0, 0, 0, 0, 0, 1, 0, 1, 0, 0, 0, 0, 0, 0, 1, 0, \n  .     0, 0, 0, 0, 0, 0, 0, 1, 0, 0, 0, 0, 0, 0, 0, 0, 0, 0, 0, \n  .     0, 0, 0, 0, 1, 0, 0, 0, 0, 1, 0, 0, 0, 0, 0, 0, 0, 0, 0, \n  .     0, 0, 0, 0, 0, 1, 0, 0, 0, 0, 0, 0, 0, 0, 1, 0, 0, 0, 0, \n  .     0, 0, 1, 0, 1, 0, 0, 0, 0, 0, 0, 0, 0, 0, 0, 0, 0, 0, 0, \n  .     1, 0, 0, 1, 0, 1, 0, 0, 0, 1, 0, 0, 0, 0, 0, 1, 0, 0, 0, \n  .     0, 0, 0, 0, 0, 0, 0, 0, 0, 0, 0, 0, 0, 0, 0, 0, 0, 0, 0, \n  .     0, 0, 0, 0, 0, 0, 0, 0, 0, 0, 0, 0, 0, 0, 0, 0, 0, 0, 0, \n  .     0, 0, 0, 0, 1, 1, 0, 0, 1, 1, 0, 0, 0, 0, 1, 0, 0, 0, 0, \n  .     0, 0, 0, 0, 0, 0, 1, 0, 0, 0, 0, 0, 0, 0, 0, 0, 0, 0, 1, \n  .     0, 0, 0, 0, 0, 0, 0, 0, 0, 0, 0, 0, 0, 0, 0, 0, 0, 0, 0, \n  .     0, 0, 0, 0, 0, 0, 0, 1, 0, 0, 0, 0, 0, 0, 0, 0, 0, 1, 0, \n  .     0, 0, 1, 0, 1, 0, 0, 0, 0, 0, 0, 0, 0, 0, 0, 0, 0, 0, 0, \n  .     0, 0, 0, 1, 0, 0, 0, 0, 0, 0, 0, 0, 0, 0, 0, 0, 0, 0, 0, \n  .     0, 0, 0, 0, 0, 0, 0, 0, 0, 0, 0, 0, 0, 0, 0, 0, 0, 0, 0, \n  .     0, 0, 0, 0, 0, 0, 0, 0, 0, 0, 0, 0, 0, 0, 0, 0, 0, 0, 0, \n  .     1, 0, 0, 0, 0, 0, 0, 0, 0, 0, 0, 0, 0, 0, 0, 0, 1, 0, 0, \n  .     0, 0, 0, 0, 0, 0, 1, 0, 0, 0, 0, 0, 0, 0, 0, 1, 0, 0, 0, \n  .     0, 1, 0, 0, 0, 0, 0, 0, 0, 0, 0, 0, 0, 1, 0, 1, 0, 0, 0, \n  .     0, 1, 0, 0, 1, 1, 0, 0, 0, 1, 0, 0, 0, 0, 0, 0, 0, 0, 0, \n  .     0, 0, 0, 0, 0, 0, 0, 1, 0, 0, 0, 0, 0, 0, 0, 0, 0, 0, 0, \n  .     0, 0, 0, 0, 0, 0, 0, 0, 0, 0, 0, 1, 0, 0, 0, 0, 0, 0, 0, \n  .     1, 0, 0, 0, 1, 0, 0, 1, 0, 1, 0, 0, 0, 0, 0, 0, 0, 1, 0, \n  .     1, 0, 0, 0, 0, 0, 0, 0, 0, 0, 0, 0, 0, 0, 0, 0, 0, 0, 0, \n  .     0, 1, 0, 0, 1, 0, 1, 0, 0, 0, 0, 0, 0, 0, 0, 0, 0, 0, 0, \n  .     0, 0, 0, 0, 0, 0, 0, 0, 0, 0, 0, 0, 0, 1, 0, 0, 0, 0, 0, \n  .     0, 0, 0, 0, 0, 0, 0, 0, 0, 0, 0, 0, 0, 1, 0, 1, 0, 0, 0, \n  .     0, 0, 0, 0, 0, 0, 0, 0, 0, 0, 0, 0, 0, 0, 1, 0, 0, 0, 0, \n  .     0, 1, 0, 0, 0, 0, 0, 0, 0, 0, 0, 0, 0, 0, 0, 0, 0, 0, 0, \n  .     0, 1, 0, 1, 0, 0, 0, 0, 0, 0, 0, 0, 0, 0, 0, 0, 0, 0, 1, \n  .     0, 0, 0, 0, 0, 0, 0, 0, 0, 0, 0, 0, 0, 0, 0, 0, 0, 0, 0, \n  .     0, 1, 0, 1, 0, 0, 0, 0, 0, 0, 0, 1, 0, 0, 0, 1, 0, 0, 0, \n  .     0, 0, 0, 0, 0, 0, 0, 0, 0, 0, 0, 0, 0, 0, 0, 0, 0, 0, 0, \n  .     0, 0, 0, 0, 1, 0, 0, 0, 0, 0, 1, 0, 1, 0, 0, 0, 0, 0, 0, \n  .     0, 0, 0, 1, 0, 0, 0, 0, 0, 0, 0, 0, 0, 0, 0, 0, 0, 0, 0, \n  .     0, 1, 1, 0, 0, 0, 1, 0, 1, 0, 0, 0, 0, 0, 0, 0, 0, 0, 0, \n  .     0, 0, 0, 0, 0, 0, 0, 1, 0, 1, 0, 0, 0, 0, 0, 0, 0, 0, 0, \n  .     0, 0, 0, 0, 0, 0, 1, 0, 0, 0, 0, 0, 0, 0, 0, 0, 0, 0, 0, \n  .     0, 0, 0, 0, 0, 0, 0, 0, 0, 0, 0, 0, 0, 0, 0, 0, 0, 0, 0, \n  .     1, 0, 0, 0, 0, 1, 0, 0, 0, 0, 0, 0, 0, 0, 0, 0, 0, 0, 0, \n  .     0, 1, 0, 0, 1, 0, 0, 0, 1, 0, 0, 0, 0, 0, 0, 0, 0, 0, 0, \n  .     0, 0, 0, 0, 0, 0, 0, 0, 0, 0, 0, 0, 1, 0, 0, 1, 0, 0, 0, \n  .     0, 0, 0, 0, 1, 0, 0, 0, 0, 0, 0, 0, 0, 0, 0, 0, 0, 0, 0, \n  .     0, 0, 0, 0, 0, 0, 0, 0, 0, 0, 0, 0, 0, 1, 0, 0, 1, 0, 0, \n  .     0, 0, 1), heart_disease = c(1, 0, 1, 1, 1, 0, 0, 1, 0, 0, \n  .     0, 0, 0, 1, 0, 1, 0, 0, 0, 0, 0, 0, 0, 1, 0, 0, 0, 1, 0, \n  .     0, 0, 0, 0, 1, 0, 0, 0, 0, 0, 0, 0, 0, 1, 0, 0, 0, 1, 0, \n  .     0, 0, 1, 0, 1, 0, 0, 0, 0, 0, 1, 1, 0, 0, 0, 0, 0, 0, 0, \n  .     1, 1, 0, 0, 0, 0, 0, 0, 0, 0, 0, 0, 0, 0, 0, 0, 0, 0, 0, \n  .     0, 0, 0, 0, 0, 0, 1, 0, 0, 0, 0, 0, 0, 0, 0, 0, 1, 0, 0, \n  .     0, 0, 0, 0, 0, 1, 0, 0, 0, 0, 0, 0, 0, 0, 0, 0, 0, 1, 0, \n  .     0, 0, 1, 0, 0, 0, 0, 0, 0, 0, 0, 0, 0, 0, 0, 0, 0, 0, 0, \n  .     0, 0, 0, 0, 0, 0, 0, 0, 0, 0, 0, 0, 0, 0, 0, 0, 0, 0, 0, \n  .     0, 0, 0, 1, 0, 0, 0, 0, 0, 0, 0, 0, 0, 0, 0, 0, 0, 0, 0, \n  .     0, 1, 0, 0, 0, 0, 0, 0, 0, 0, 0, 0, 0, 1, 0, 0, 0, 0, 0, \n  .     0, 0, 0, 0, 0, 0, 0, 0, 0, 0, 0, 0, 0, 0, 0, 0, 0, 0, 0, \n  .     0, 0, 0, 1, 0, 0, 0, 0, 0, 0, 0, 0, 0, 0, 0, 0, 0, 0, 1, \n  .     0, 0, 0, 0, 0, 0, 0, 0, 0, 0, 0, 0, 0, 0, 0, 0, 0, 1, 0, \n  .     0, 0, 0, 0, 0, 0, 0, 0, 0, 0, 0, 0, 0, 1, 0, 0, 0, 0, 0, \n  .     0, 0, 0, 0, 0, 0, 0, 0, 0, 0, 0, 0, 0, 0, 0, 0, 0, 0, 0, \n  .     0, 0, 0, 0, 0, 0, 0, 0, 0, 0, 0, 0, 1, 0, 0, 0, 0, 0, 0, \n  .     0, 0, 0, 0, 0, 0, 0, 0, 0, 0, 0, 0, 0, 0, 0, 0, 0, 0, 0, \n  .     0, 0, 0, 0, 0, 0, 0, 0, 0, 0, 0, 0, 0, 0, 0, 0, 0, 1, 0, \n  .     0, 0, 0, 0, 0, 0, 1, 0, 0, 0, 0, 0, 0, 1, 0, 0, 0, 0, 0, \n  .     0, 0, 0, 0, 0, 0, 0, 0, 0, 0, 0, 0, 0, 0, 0, 1, 0, 0, 0, \n  .     0, 0, 0, 0, 0, 1, 0, 0, 0, 0, 0, 0, 0, 0, 0, 0, 0, 0, 0, \n  .     0, 0, 0, 0, 0, 0, 0, 1, 0, 1, 0, 0, 0, 0, 0, 0, 0, 0, 0, \n  .     0, 0, 0, 0, 0, 0, 0, 0, 0, 0, 0, 0, 0, 0, 0, 0, 0, 0, 0, \n  .     0, 0, 0, 0, 0, 1, 0, 0, 0, 0, 0, 0, 0, 0, 0, 0, 0, 0, 0, \n  .     0, 0, 0, 0, 0, 0, 0, 0, 0, 0, 0, 0, 0, 0, 1, 0, 0, 0, 0, \n  .     1, 0, 0, 0, 0, 0, 0, 0, 0, 0, 0, 0, 0, 0, 1, 0, 0, 0, 0, \n  .     0, 0, 0, 0, 1, 0, 0, 0, 0, 0, 0, 0, 0, 0, 0, 0, 0, 0, 0, \n  .     0, 0, 0, 0, 0, 0, 0, 0, 0, 0, 0, 0, 0, 0, 0, 0, 0, 0, 1, \n  .     0, 0, 0, 0, 0, 0, 0, 0, 0, 0, 0, 0, 0, 0, 0, 0, 0, 0, 0, \n  .     0, 0, 0, 0, 0, 0, 0, 0, 0, 1, 0, 0, 0, 0, 0, 0, 1, 0, 0, \n  .     0, 0, 0, 0, 0, 0, 0, 0, 0, 0, 0, 0, 0, 1, 0, 0, 0, 0, 0, \n  .     0, 0, 0, 0, 0, 0, 0, 0, 0, 0, 0, 0, 0, 0, 0, 0, 0, 0, 0, \n  .     0, 0, 0, 0, 0, 0, 0, 0, 0, 0, 0, 0, 0, 0, 0, 0, 0, 0, 0, \n  .     0, 0, 0, 0, 0, 0, 0, 0, 0, 0, 0, 0, 0, 0, 0, 1, 1, 1, 0, \n  .     0, 0, 0, 0, 1, 0, 0, 0, 0, 0, 0, 0, 0, 0, 0, 1, 0, 0, 0, \n  .     0, 0, 0, 0, 0, 0, 0, 0, 0, 0, 0, 0, 0, 0, 0, 0, 0, 0, 0, \n  .     0, 0, 0, 0, 0, 0, 0, 0, 0, 0, 0, 0, 0, 0, 0, 0, 0, 0, 0, \n  .     0, 0, 0, 0, 0, 0, 1, 0, 0, 0, 0, 0, 1, 0, 0, 0, 0, 0, 0, \n  .     0, 0, 0, 0, 0, 0, 0, 0, 0, 0, 0, 0, 0, 0, 0, 0, 0, 0, 0, \n  .     0, 0, 0, 0, 0, 0, 0, 0, 0, 0, 0, 0, 0, 0, 0, 0, 0, 0, 0, \n  .     0, 0, 0, 0, 0, 0, 1, 0, 1, 0, 0, 0, 0, 0, 0, 0, 0, 0, 0, \n  .     0, 0, 0, 0, 0, 0, 0, 0, 0, 0, 0, 0, 0, 0, 0, 0, 0, 0, 0, \n  .     0, 0, 0, 0, 0, 0, 0, 0, 0, 0, 0, 0, 0, 0, 0, 0, 0, 0, 0, \n  .     0, 0, 0, 0, 1, 0, 0, 0, 0, 0, 0, 0, 0, 0, 0, 0, 0, 0, 0, \n  .     0, 0, 0, 0, 0, 0, 0, 0, 0, 0, 0, 0, 0, 0, 1, 0, 0, 0, 0, \n  .     0, 0, 0, 0, 0, 0, 0, 0, 0, 0, 0, 0, 0, 0, 0, 0, 0, 0, 0, \n  .     0, 0, 0, 0, 0, 0, 0, 1, 1, 0, 0, 0, 0, 0, 1, 0, 0, 0, 0, \n  .     0, 0, 0, 0, 0, 0, 0, 0, 0, 0, 0, 0, 0, 0, 0, 0, 0, 0, 0, \n  .     0, 0, 0, 0, 0, 0, 0, 0, 0, 0, 0, 0, 0, 0, 0, 0, 0, 0, 0, \n  .     0, 0, 0, 0, 0, 0, 0, 0, 0, 0, 0, 0, 0, 0, 0, 0, 0, 0, 0, \n  .     0, 0, 0, 0, 0, 0, 0, 0, 0, 0, 0, 0, 0, 0, 0, 0, 0, 1, 0, \n  .     0, 0, 0, 0, 0, 0, 0, 0, 0, 0, 0, 0, 0, 0, 0, 0, 0, 0, 0, \n  .     0, 0, 1, 0, 0, 0, 0, 0, 0, 0, 0, 0, 0, 0, 0, 0, 0, 0, 0, \n  .     0, 0, 0, 0, 0, 1, 0, 0, 0, 0, 0, 0, 0, 0, 0, 0, 0, 0, 0, \n  .     0, 0, 0, 0, 1, 0, 0, 0, 0, 0, 0, 0, 0, 0, 1, 0, 0, 0, 0, \n  .     0, 0, 0, 0, 0, 0, 0, 0, 0, 0, 0, 0, 0, 0, 0, 0, 0, 0, 0, \n  .     0, 0, 0, 0, 0, 1, 0, 0, 0, 0, 0, 0, 0, 1, 0, 0, 0, 0, 0, \n  .     0, 0, 0, 0, 0, 0, 0, 0, 0, 0, 0, 0, 0, 0, 0, 0, 0, 0, 0, \n  .     0, 0, 0, 0, 0, 0, 1, 0, 0, 0, 0, 0, 0, 0, 0, 0, 0, 0, 0, \n  .     0, 0, 0, 0, 0, 1, 0, 0, 0, 0, 0, 0, 0, 0, 0, 0, 0, 0, 0, \n  .     0, 0, 0, 0, 0, 0, 0, 0, 0, 0, 0, 0, 0, 0, 0, 0, 0, 0, 0, \n  .     0, 0, 0, 0, 0, 0, 0, 0, 0, 0, 0, 0, 0, 0, 0, 0, 0, 0, 1, \n  .     0, 0, 0, 0, 0, 0, 0, 0, 0, 0, 0, 0, 0, 0, 0, 0, 0, 0, 0, \n  .     0, 0, 0, 0, 0, 0, 0, 0, 0, 0, 0, 0, 0, 0, 0, 0, 0, 1, 0, \n  .     0, 0, 0, 0, 0, 0, 0, 0, 0, 0, 0, 0, 0, 0, 0, 0, 0, 0, 0, \n  .     0, 0, 0, 0, 0, 0, 0, 0, 0, 0, 0, 0, 0, 0, 0, 0, 0, 0, 0, \n  .     0, 0, 0, 0, 0, 0, 0, 0, 0, 0, 0, 0, 0), avg_glucose_level = c(70.09, \n  .     80.43, 219.84, 214.09, 191.61, 228.7, 100.98, 252.72, 92.62, \n  .     60.91, 78.03, 107.26, 89.96, 127.29, 124.13, 196.71, 237.75, \n  .     185.17, 93.72, 113.01, 104.47, 179.12, 96.16, 111.81, 98.55, \n  .     72.81, 78.92, 74.1, 190.32, 191.82, 93.05, 64.17, 106.41, \n  .     216.94, 59.86, 62.55, 93.13, 73.54, 200.59, 130.54, 182.99, \n  .     194.37, 72.17, 67.29, 169.67, 76.57, 81.76, 98.02, 97.43, \n  .     111.04, 112.24, 137.3, 209.86, 242.52, 90, 106.74, 208.65, \n  .     116.1, 199.86, 219.73, 70.3, 104.86, 97.76, 81.95, 199.84, \n  .     218.46, 86.3, 91.92, 247.51, 84.96, 78.8, 78.81, 87.96, 110.89, \n  .     84.62, 129.54, 82.9, 103.26, 149.75, 117.92, 114.84, 190.7, \n  .     113.63, 146.01, 61.45, 88.19, 85.6, 79.83, 71.89, 90.12, \n  .     235.85, 89.84, 215.6, 138.16, 116.23, 66.3, 136.8, 110.99, \n  .     107.41, 99.8, 64.4, 73.02, 109.51, 85.84, 91.72, 80.81, 83.51, \n  .     87.52, 213.37, 84.59, 70.21, 86.67, 81.6, 71.16, 94.29, 77.88, \n  .     205.26, 94.48, 82.34, 130.34, 82.59, 68.19, 97.53, 122.31, \n  .     83.51, 112.06, 201.76, 113.47, 115.43, 92.21, 70.08, 87.24, \n  .     94.59, 104.48, 89.32, 80.98, 129.53, 93.73, 77.49, 94.18, \n  .     96.29, 122.1, 114.94, 108.79, 68.52, 70.92, 90.65, 98.41, \n  .     105.61, 79.3, 122.22, 183.34, 247.69, 93.36, 67.06, 239.82, \n  .     71.91, 65.3, 189.57, 81.26, 87.88, 99.97, 118.51, 182.86, \n  .     59.17, 196.36, 89.99, 108.53, 60.53, 115.03, 88.39, 228.08, \n  .     106.43, 92.2, 219.53, 158.31, 68.34, 71.2, 92.04, 111.73, \n  .     85.79, 85.06, 79.09, 98.42, 82.01, 56.11, 111.85, 64.64, \n  .     55.32, 98.73, 81.18, 69.61, 118.14, 56.75, 88.27, 86.39, \n  .     116.38, 81.03, 89.63, 88.97, 80.93, 59.26, 63.26, 90.9, 77.65, \n  .     119.34, 85.02, 78.49, 96.78, 55.83, 73.62, 103.86, 250.2, \n  .     74.8, 79.08, 123.15, 184.25, 55.26, 98.42, 99.2, 92.7, 76.99, \n  .     254.6, 93.99, 62.37, 101.28, 88.31, 60.26, 79.39, 82.32, \n  .     106.98, 93.88, 212.01, 88.66, 112.95, 91.56, 84.84, 86.06, \n  .     85.62, 110.76, 79.44, 69.21, 126.18, 74.51, 94.63, 56.77, \n  .     75.87, 77.19, 135.75, 125.38, 111.71, 83.23, 106.35, 86.96, \n  .     237.15, 84.31, 62.61, 90.78, 72.36, 110.91, 77.16, 115.29, \n  .     111.02, 99.21, 113.21, 61.81, 104.62, 74.9, 88.27, 123.36, \n  .     148.24, 89.11, 143.15, 116.67, 85.6, 156.18, 95.2, 78.52, \n  .     82.21, 82.38, 97.84, 56.48, 246.34, 106.56, 93.88, 153.76, \n  .     111.22, 103.94, 229.2, 65.98, 64.99, 73.4, 89.96, 100.91, \n  .     86.06, 78.78, 91.68, 90.06, 58.03, 65.08, 111.21, 83.56, \n  .     83.5, 99.29, 120.06, 224.71, 57.02, 230.68, 62.68, 84.46, \n  .     204.17, 121.19, 107.18, 74.58, 80.92, 59.2, 133.76, 118.62, \n  .     68.98, 112.08, 94.89, 86.38, 79.69, 61.61, 94.12, 76.25, \n  .     96.42, 103.76, 68.52, 217.39, 82.77, 102.77, 69.34, 66.13, \n  .     130.15, 82.41, 88.34, 84.91, 145.71, 63.37, 97.6, 82.81, \n  .     67.97, 71.7, 70.87, 103.81, 78.04, 83.28, 132.41, 89.96, \n  .     113.63, 94.75, 101.79, 85.07, 93.17, 112.34, 107.4, 107.29, \n  .     80.43, 80.77, 70.75, 78.29, 80.98, 84.21, 92.86, 140.28, \n  .     68.34, 79.53, 68.8, 61.01, 222.29, 139.43, 114.88, 111.65, \n  .     129.01, 107.91, 95.4, 65.9, 210, 111.13, 65.84, 143.45, 98.91, \n  .     76.3, 121.27, 119.67, 76.11, 93.23, 102.54, 126.67, 58.87, \n  .     83.14, 218.54, 73, 72.63, 123.95, 105.29, 66.32, 79.2, 83.86, \n  .     119.96, 65.29, 91.93, 115.93, 99.13, 69.24, 87.66, 81.11, \n  .     81.38, 80.06, 84.3, 61.42, 73.83, 103.78, 75.94, 58.29, 79.05, \n  .     81.43, 101.22, 210, 66.85, 94.71, 151.56, 191.48, 94, 97.46, \n  .     80.8, 144.2, 71.38, 95.5, 122.48, 108.56, 86.87, 83.41, 77.19, \n  .     88.85, 60.6, 80.63, 59.89, 90.46, 176.48, 85.12, 70, 91.98, \n  .     100.52, 58.96, 96.77, 97.51, 225.6, 95.58, 92.82, 234.82, \n  .     81.99, 87.69, 70.93, 89.93, 137.45, 230.59, 168.15, 108.12, \n  .     84.14, 85.57, 64.1, 97.58, 58.66, 185.71, 62.99, 208.17, \n  .     133.2, 103.44, 65.78, 76.68, 90.95, 203.04, 68.37, 136.1, \n  .     149.42, 89.61, 105.63, 92.27, 196.25, 85.97, 72.52, 90.58, \n  .     113.74, 86.68, 130.56, 209.26, 74.11, 121.66, 95.46, 91.9, \n  .     102.04, 65.52, 75.53, 83.52, 129.07, 62.47, 69.82, 74.36, \n  .     153.38, 87.1, 67.8, 106.13, 74.33, 75.4, 124.5, 75.5, 103.28, \n  .     186.95, 68.66, 128.72, 97.52, 81.71, 96.25, 99.79, 83.34, \n  .     95.01, 229.21, 80.08, 62, 118.69, 81.05, 114.37, 100.29, \n  .     131.43, 107.29, 95.4, 104.51, 209.06, 86.57, 114.45, 83.85, \n  .     228.42, 100.41, 92.67, 116.93, 107.27, 81.96, 98.71, 72.39, \n  .     102.96, 80.72, 77.12, 81.2, 114.76, 109.97, 134.33, 61.67, \n  .     76.03, 191.66, 76.74, 63.94, 96.3, 93.88, 62.08, 81.76, 55.61, \n  .     58.7, 122.32, 82.39, 169.49, 80.25, 203.81, 170.76, 92.56, \n  .     189.44, 70.03, 96.93, 60.96, 120.09, 97.24, 85.84, 80.86, \n  .     60.61, 135.19, 104.02, 56.9, 112.66, 71.06, 133.82, 88.81, \n  .     75.09, 96.24, 94.03, 66.67, 58.51, 110.92, 131.99, 136.81, \n  .     88.33, 131.43, 231.5, 82.89, 192.37, 99.4, 77.75, 75.03, \n  .     75.64, 129.97, 87.92, 85.15, 220.47, 65.01, 96.06, 162.93, \n  .     85.81, 85.81, 111.15, 80.97, 112.19, 101.98, 98.12, 99.73, \n  .     161.57, 74.32, 110.38, 61.34, 85.13, 86.32, 83.43, 86.25, \n  .     112.94, 80.86, 83.91, 86, 120.27, 113.86, 99.49, 114.99, \n  .     98.03, 117.34, 105.63, 114.34, 78.44, 108.8, 55.58, 65.87, \n  .     83.06, 81.66, 90.62, 92.08, 95.25, 75.91, 88.23, 101.15, \n  .     96.35, 78.9, 59.91, 97.55, 116.02, 127.32, 82.15, 62.44, \n  .     221.43, 96.69, 134.23, 80.18, 84.02, 192.16, 82.27, 101.87, \n  .     58.63, 84.44, 65.5, 78.96, 123.47, 71.59, 87.93, 92.02, 60.98, \n  .     110.78, 99.78, 201.45, 123.23, 88.75, 79.18, 126.68, 196.61, \n  .     79.16, 79.55, 87.86, 120.94, 105.74, 58.41, 56.89, 83.16, \n  .     70.06, 213.33, 66.08, 87.26, 78.97, 84.12, 103.15, 71.81, \n  .     91.28, 190.13, 84.46, 100.05, 84.2, 74.29, 88.57, 89.11, \n  .     73.6, 142.68, 100.75, 143.45, 90.04, 255.17, 88.43, 73.49, \n  .     87.82, 85.55, 79.2, 110.18, 82.1, 107.59, 69.38, 65.42, 124.37, \n  .     75.22, 107.49, 87.92, 80.72, 75.78, 98.45, 93.51, 58.65, \n  .     148.52, 84.16, 61.11, 115.99, 100.8, 98.27, 94.69, 102.88, \n  .     57.02, 73.36, 82.35, 73.28, 79.96, 70.96, 99.23, 87.39, 89.53, \n  .     58.35, 104.79, 96.81, 107.97, 71.06, 113.28, 103.34, 114.05, \n  .     99.49, 181.3, 70.54, 100.03, 95.98, 96.52, 104.95, 69.26, \n  .     74.63, 80.76, 65.16, 74.53, 221.8, 103.21, 90.91, 87.51, \n  .     104.64, 131.8, 101.07, 103.17, 91.44, 139.72, 139.48, 220.24, \n  .     112.46, 72.42, 113.21, 59.93, 78.02, 115.21, 88.2, 147.42, \n  .     88.88, 114.61, 59.62, 75.85, 161, 71.97, 82.07, 112.62, 220.26, \n  .     69.12, 211.12, 95.38, 108.72, 75.77, 66.25, 90.87, 88.38, \n  .     104.4, 61.47, 228.2, 92.15, 65.51, 83.7, 63.16, 260.85, 223.9, \n  .     105.52, 109.27, 86.36, 82.72, 89.58, 81.96, 71.02, 78.32, \n  .     84.7, 81.54, 86.15, 110.41, 127.57, 76.44, 66.46, 72.33, \n  .     105.05, 81.42, 75.25, 204.77, 63.86, 72.2, 114.32, 80.72, \n  .     79.25, 82.09, 98.84, 66.55, 59.07, 96.84, 85.59, 81.73, 127.42, \n  .     74.85, 215.92, 104.05, 76.81, 198.12, 79.44, 89.28, 68.91, \n  .     73.04, 107.82, 141.09, 77.91, 103.6, 84.5, 235.45, 72.28, \n  .     67.06, 94.53, 97.26, 92.26, 80, 105.51, 71.06, 72.64, 62.69, \n  .     76.42, 57.57, 65.46, 87.18, 71.66, 63.63, 100.12, 151.23, \n  .     71.93, 97.37, 130, 97.25, 79.95, 98.35, 85.86, 98.22, 87.72, \n  .     68.94, 66.51, 87.74, 103.37, 110.17, 109.88, 199.38, 65.77, \n  .     85.17, 202.98, 60.7, 95.32, 198.32, 96.02, 112.69, 104.77, \n  .     84.68, 204.92, 59.74, 74.64, 234.35, 88.38, 96.95, 66.24, \n  .     91.81, 116.2, 96.01, 86.96, 123.49, 105.49, 89.45, 82.3, \n  .     202.66, 142.31, 74.5, 83.55, 61.53, 90.07, 76.05, 116.49, \n  .     116.21, 76.74, 101.19, 76.72, 196.08, 93.93, 76.74, 175.74, \n  .     95.28, 180.45, 102.84, 130.37, 62.61, 70.07, 92.35, 69.5, \n  .     89.18, 92.71, 68.12, 57.42, 58.01, 106.27, 96.28, 106.95, \n  .     76.12, 74.86, 157.77, 101.85, 85.92, 65.48, 80.83, 56.79, \n  .     93.28, 91.04, 216.64, 102.39, 67.08, 208.05, 95.37, 56.13, \n  .     67.99, 185.28, 82.08, 85.16, 69.54, 198.3, 91.09, 61.54, \n  .     62.02, 77.57, 97.34, 83.88, 86.53, 69.79, 65.21, 119.77, \n  .     59.67, 83.16, 200.46, 95.7, 125.11, 92.14, 93.8, 90.74, 91.28, \n  .     110.41, 181.23, 76.12, 200.98, 101.96, 219.67, 135.84, 74.83, \n  .     247.97, 186.54, 71.58, 122.83, 91.65, 84.1, 118.85, 89.32, \n  .     98.07, 158.33, 95.94, 107.52, 92.76, 79.16, 65.43, 106.84, \n  .     163.17, 212.62, 70.51, 109.19, 55.23, 64.68, 111.08, 75, \n  .     78.04, 107.74, 60.64, 82.64, 58.89, 77.94, 111.76, 222.52, \n  .     55.35, 57.46, 119.13, 120.22, 75.1, 111.84, 201.96, 56.9, \n  .     91.16, 99.44, 90.44, 85.66, 71.79, 167.16, 131.05, 86.92, \n  .     59.62, 103.72, 69.46, 76.78, 103.78, 83.16, 88.06, 76.63, \n  .     58.01, 77.43, 64.45, 110.33, 77.95, 67.56, 126.12, 86.4, \n  .     88.85, 134.65, 228.26, 75.13, 112.02, 101.46, 111.24, 56.48, \n  .     91.89, 78.9, 228.5, 102.92, 100.2, 80.48, 76.64, 107.33, \n  .     196.58, 89.14, 55.79, 73.08, 89.68, 195.74, 130.07, 74.24, \n  .     221.24, 80.55, 73.94, 65.58, 84.93, 103.08, 85.98, 125.43, \n  .     101.58, 112.55, 70.87, 85.08, 108.51, 79.53, 69.47, 85.07, \n  .     86.78, 105.72, 192.5, 103.5, 212.92, 86.95, 74, 88.62, 229.73, \n  .     110.2, 105.28, 70.56, 70.13, 62.68, 71.77, 101.81, 111.48, \n  .     85.33, 81.51, 77.92, 76.47, 77.76, 72.76, 190.67, 112.75, \n  .     92.75, 197.06, 108.82, 116.62, 145.18, 96.62, 58.42, 68.07, \n  .     57.52, 92.24, 74.34, 72.99, 99.96, 200.25, 90.31, 85.65, \n  .     223.64, 98.66, 81.33, 199.78, 176.42, 72.88, 72.84, 70.89, \n  .     244.3, 65.84, 127.4, 78.91, 226.28, 172.86, 94.68, 89, 58.19, \n  .     94.06, 90.3, 83.14, 200.8, 84.41, 72.34, 222.58, 80.42, 104.12, \n  .     102.87, 74.16, 100.93, 75.07, 106.65, 234.06, 96.98, 90.16, \n  .     104.09, 174.54, 73.63, 98.52, 62.93, 67.87, 219.8, 111.79, \n  .     86.91, 240.69, 79.76, 108.51, 113.85, 69.34, 66.71, 66.11, \n  .     96.77, 89.32, 76.58, 111.94, 57.83, 234.51, 69.77, 96.85, \n  .     182.22, 60.02, 112.31, 65.67, 119.3, 107.72, 90.29, 72.49, \n  .     86.58, 113.26, 84.92, 206.53, 83.91, 73.48, 69.25, 59.91, \n  .     87.17, 67.55, 243.52, 108.63, 84.49, 89.33, 238.27, 111.33, \n  .     121.71, 80.08, 84.4, 98.61, 74.12, 71.08, 176.34, 87.98, \n  .     84.07, 124.92, 154.67, 67.66, 86.21, 100.6, 196.26, 56.85, \n  .     88.68, 104.03, 124.66, 96.75, 126.85, 76.04, 185.27, 97.46, \n  .     124.54, 73.29, 206.49, 117.59, 253.86, 125.87, 175.92, 89.68, \n  .     95.16, 96.86, 84.04, 118.41, 90.42, 104, 174.37, 106.56, \n  .     77.28, 97.04, 76.89, 62.13, 82.35, 95.02, 82.38, 79.15, 71.88, \n  .     83.94, 83.75), bmi = c(27.4, 29.7, NA, 28.2, 37.5, 26.6, \n  .     28.2, 30.5, 32, 29.9, 23.9, 38.6, NA, 27.7, 31.4, 36.5, NA, \n  .     40.4, 30.2, 24, 20.3, 28.1, 44.1, 27.3, 25.6, 26.3, 27.7, \n  .     28.8, 31.4, 40.4, 24.2, 41.5, NA, 30.9, 28, 30.3, NA, 24, \n  .     29, 20.1, 36.5, 27, 36.8, 24.6, NA, 34.1, NA, 22.3, 26.4, \n  .     32, 37.4, 31.7, NA, 45.5, 32, 33, 30.7, 27.1, NA, 28.6, 25.8, \n  .     31.9, 29.6, 16.9, 28, 26.8, 31.7, 35.9, 40.5, 36.7, 29.3, \n  .     19.6, 39.2, 17.6, 19.7, 60.9, 25, 25.4, 27, 29.4, 18.3, 36, \n  .     27.5, 31.5, 36.7, 29.3, 21.4, 27.9, 27.6, 35.4, 40.1, 29.9, \n  .     24.9, 19.4, 26.1, 27.2, 37.3, 29.8, 47.3, 31.6, 31, 31.1, \n  .     41.9, 16.4, 29.2, 33.2, 26.4, 39.2, 36, 17.7, 24.8, 39, 36.3, \n  .     46.5, 35.2, 13.8, 40.3, 31.1, 31.9, 22, 29.4, 31, 29.4, 15.3, \n  .     37.1, 38.2, 30.2, 19.5, 27.8, 27.3, 26.6, 22.5, 20, 21.7, \n  .     36.7, 29.7, 21.3, 23.9, 36, 27.1, 25.4, 23.6, 21.4, 21, 26.2, \n  .     41.6, 20.9, 32.1, 27.9, 30.6, 17.7, 39.5, 35.1, 28.4, 16.1, \n  .     35.8, 19.2, 40.4, 30.7, 26.4, 34.7, 35.6, 40.6, 21, 20, 34.5, \n  .     24.4, 19.4, 17.5, 23.4, 19.7, 29.1, 27, 34.2, 40.9, 32.8, \n  .     39.3, 27.1, 23.1, 34.6, 26.7, 21.6, 22.8, 36.4, 34.7, 28.7, \n  .     26.7, 22.1, 29.6, 24.3, 26.9, 35.3, NA, 21, NA, 30.2, 21.9, \n  .     32.6, 23.2, 30.2, 23.1, 35.8, 19.5, 31.2, 24.4, 38.5, 16.3, \n  .     31.8, 24.6, 26.4, 20.8, 30.6, 27.4, 23.5, 41.2, 26.1, 27.5, \n  .     33.2, 23.4, 32.5, 29.5, 29, 21.7, 37.8, 41.3, 22.7, 24, 20.4, \n  .     27.6, 27.9, 27.6, 14.6, 28.4, 36.7, 22.2, 42.2, 39.4, 34.8, \n  .     46.1, 24.7, 22.7, 33.1, 18.1, 36.6, 24.9, 20.9, 30.3, 37.4, \n  .     35.9, 24.4, 38.9, NA, 29.7, 25.8, 27.7, 30.3, 21.2, 32.3, \n  .     34.7, 27.6, 35.2, 32.9, 22.4, 22.1, 38.3, 37.1, 33.5, 32.1, \n  .     NA, 33.4, 32.2, 20.1, 44.7, 33.5, 25.9, 25.3, 35, 27.2, 26, \n  .     27.2, 23.3, 39.8, 21.1, 29.9, 24, 36.7, 25.5, 23.3, 35.6, \n  .     31.1, 33.2, 21.6, 35.6, 18, 29.2, 24, 42.8, 29.8, 35.2, 27.3, \n  .     18.3, 28.7, 26.7, 31.2, 33, 42.9, 43, 37.7, 35.8, 21.8, 41.3, \n  .     22.1, 22.8, 31.6, 19.4, 29.1, 43.4, 29.7, 23.4, 23, 28.5, \n  .     22.8, NA, 27.8, 21.4, 20.1, 22.6, 15.9, 20.8, 50.6, 36.3, \n  .     35.8, 43.7, 46.2, 17.2, 45.4, 27.5, 26.1, 18.1, 26.5, 25.8, \n  .     44.3, 27.9, 32.8, 22.1, 28.3, 32.4, 20, 16.3, 28.1, 26.5, \n  .     18, 26.7, 21.1, 27.5, 18.1, 26.7, 28.1, 29.2, 21.1, 35.8, \n  .     NA, 19.9, 24.4, 35.1, 37.1, 18, 37.3, 34.9, 32.5, 30.1, 40.2, \n  .     19.1, 16.3, 17.2, 25, 27.5, 21.5, 30.7, 32.7, 24.8, 32, 24.4, \n  .     30.5, 29.7, 36.9, 37, NA, 40.5, 28.7, 36.6, 23.7, 38.9, 20.6, \n  .     66.8, 34.8, 25.1, 34.4, 32.5, 19.5, 27.7, 32.9, 24.7, 23.3, \n  .     22.8, 26.6, 57.3, 20.2, 23.1, 31.8, 22.1, 20.8, 16.6, 23.6, \n  .     28.3, 25.5, NA, NA, NA, NA, 29.3, 28.4, 28.5, 27.9, NA, 21.3, \n  .     44.8, 35.4, 19.7, 31.3, 35.9, 27.3, 43.2, 29.9, 37.2, 27.1, \n  .     34.2, 28.2, 25.5, 22.5, 24, 36.3, 18.6, 16.4, 29.9, 25.3, \n  .     20.5, 22, 29, NA, 37.4, 51.8, 27.3, 27.5, 22.9, 32.1, 18.2, \n  .     23.2, 22.9, 22.2, 32.3, 24.2, 19.8, 24.3, 16.4, NA, 27, 24.9, \n  .     26.3, 20.1, 27.5, 34.8, 24.6, NA, 29.4, 26.4, 20.6, 22, 32.8, \n  .     35.2, 24.9, 35.7, 33.9, 23.2, 31.6, 27.7, 36.1, 38.1, 34.1, \n  .     29.1, 31.4, 32.7, 18.5, 33.5, 34.9, 25, 20.6, 26.5, 25.1, \n  .     27.3, 38.8, 18.3, 23.8, 22.4, 29.9, 28.7, 16.4, 24.6, 34.3, \n  .     33.3, 22.6, 26.3, 45.5, 32.7, 23.3, 20.2, 49.3, 26.2, 30.1, \n  .     25.1, 32.7, 26.4, 30.3, 37.8, 30.2, 17.7, 29.6, 19.5, 20.6, \n  .     43.8, 18, 25.2, 24.5, 42.3, 23.8, 26.3, 28.3, 30.1, NA, 26.1, \n  .     NA, 20.9, 41.5, 24.5, 23, 24.7, 19.3, 19.5, 97.6, 27.3, 26.1, \n  .     53.9, 17.6, 28.1, 24.3, 16.1, 34.3, 19.6, 38.9, 23.9, 17.1, \n  .     27.2, 30.3, 33.9, 20, 18, 35.8, 23.1, 25, 11.5, 30.7, 22.5, \n  .     37.3, 31, 35.7, 23.4, 29.5, 28.2, 14.2, 26.4, 20.4, 32.7, \n  .     28.7, 25.4, 25.7, 35, 30.4, 25.9, 37.5, 23.1, 20, 24.3, 45.4, \n  .     29.5, 49.2, 29.1, 38.8, 23.4, 24.4, 44.2, 32.5, 15.1, 36.4, \n  .     17, 37.6, 15.7, 18.6, 20.2, 23.8, 28.7, 18.9, 23.2, 20.4, \n  .     36.7, 25.7, 34, 30.1, 19.1, 24.6, 18.3, 38.4, 29, 43, 27.5, \n  .     40.2, 24.1, 25, 36.4, 23.4, 18.8, 22.1, 21.6, 19.2, 30.3, \n  .     23.9, 33.5, 30, 32.2, 27, 17.2, 22.4, 28.4, 24.3, 27.8, 25.8, \n  .     22.2, 35.9, 26.7, 28.4, 28.3, 36.6, 33.1, 31.6, 25.2, 32.5, \n  .     27.4, 30.6, 22.9, 18.7, 43.6, NA, 20.3, 35.3, 30.5, 30.7, \n  .     28.6, 27.5, 40.3, 33.6, 38.1, 29.9, 22.9, 38, 43.8, 21.3, \n  .     25.6, 30, 28.1, 23, 34.8, 21.1, 29, 29.7, 26.8, 21, 23.8, \n  .     29.7, 35.8, 31.1, 36.2, 40.1, 19.4, 15.3, 21, 22.2, 30.1, \n  .     20.7, 19.9, 20.8, 19.2, 29.3, 31.1, 51.9, 27, 24.4, 27.2, \n  .     23.8, 28.7, 38.1, 17.7, 23.5, 38.8, 63.3, 32.6, 26, 26.4, \n  .     26.2, 22.1, 39.7, 28.3, 33.1, 29.5, 14.1, 26, 23.6, 29.7, \n  .     30.9, 25.6, 20.6, 37.5, 29.3, 20.9, 45.9, 61.2, 28.4, 38.9, \n  .     16.1, 36.6, 25.3, 17.2, 27, 33.1, 48, 24.6, 23.1, 18.6, 24.1, \n  .     41.2, 26.7, 23.4, 23.7, 18.8, 32.5, 22, 35.8, 23.5, 23.5, \n  .     40.1, 21.7, 28.8, 21.8, 45.3, 28.8, 30.8, 24.6, 44.7, 22.9, \n  .     39.1, 30.5, 24.9, 30.3, 26.4, 32.1, NA, 43.9, 28.6, 36.8, \n  .     27.3, 27.6, 28.6, 28.9, 36.4, 28.7, 22.7, 26.6, 36.3, 40.1, \n  .     32.4, 20.3, 29, 27.2, 30.4, 24.8, 28, 26.8, 22, 34.3, 29.2, \n  .     30, 15.8, 22.1, 20.1, 24.4, 22.9, 37.7, 20.8, 33.2, 20.6, \n  .     23.3, NA, 28.2, 30.8, 43.8, 32.1, 29.8, 22.8, 29.9, 21.2, \n  .     32, 34, 31.8, 21.3, 28.7, 22.6, 48.3, 31.5, 36.2, 20.4, 13.5, \n  .     39.7, 40.8, 29.5, 33, 28.1, 34.1, 23.6, 35.7, 27.3, 33.4, \n  .     21.6, 30.2, 33.2, 27.4, 22.4, 24.8, 27.4, 33.5, 28.3, 29.1, \n  .     32.8, 14.2, 23, 25.3, 26, 24, 30.3, 23.7, 15.8, NA, 19, 26.7, \n  .     36.1, 16.7, 33.1, 27.5, 32.7, 22.6, 32.4, 28.7, 24.8, 26.8, \n  .     32.5, 20, 28.7, 20, 32.3, 24.9, 41.7, 26.5, 25.9, 21.5, 25.9, \n  .     26.6, 35.4, 34, 21.3, 26.8, 29.2, 17.1, 26.9, 20.3, 33.9, \n  .     39, 31.2, 29.2, 41.3, 31.3, 26.8, 31.3, 29.8, 33.5, 19.2, \n  .     14.5, 39.6, 27, 22.4, 25.3, 25.4, 41.4, 37.5, 15.8, 20.9, \n  .     33.8, 32.6, 19.5, 31.5, NA, 18.8, NA, 35.2, NA, 22.4, 20.5, \n  .     28.6, 42, 30.3, 32.8, 29.8, 23.4, 21.5, 31, 21.5, 19.1, 45.4, \n  .     16.5, 22.5, 22.4, 26.3, 30.7, 24.5, 38, 24.5, 34.8, 24.1, \n  .     32, 28, 35.3, 28.6, 31.1, 33.4, 19.4, 26.9, 28.4, 25.1, 35.6, \n  .     26.6, 18, 20.4, 36.3, 21.1, 43.3, 22.9, 22.3, NA, 34.5, 39.2, \n  .     31.1, 32, 24.7, 20.2, 27.4, 54.3, 22.2, 28.4, 23.7, 18.3, \n  .     28.9, NA, 42.2, 13, 27.7, 23.5, 27.7, 28.3, 25, 24.8, 24.9, \n  .     29.6, 23.9, 19.9, 26.5, 30.5, 36.7, 38.2, 30.4, 34.5, 29.4, \n  .     27.3, 17.4, 36.1, 39, 25.6, 30.6, 25.7, 33.3, 23.8, 17.2, \n  .     50.9, 33.5, 31.1, 17.6, 22.3, 20.2, 27.2, 29.6, 25.6, 35.8, \n  .     24.5, 29.8, 28.9, 23.3, 27.9, 25.7, 37.9, 28.4, 20, 31, 26.1, \n  .     33, 24.8, NA, 22.7, 23, 25, 21.3, 20.7, 33.7, 30.1, 92, 38, \n  .     27.7, 28.7, 28.5, 43, 18.3, 27.2, 22, 50.8, 35.4, 26.6, 22.7, \n  .     32.7, 20.2, 25.3, 17.3, 27.8, 16.2, 21.7, 24, 25.1, 19.6, \n  .     24.8, 32.6, 36.2, 32.4, 46, 31.1, 20.9, 25.9, 38.8, 26.2, \n  .     22.4, 23, 34.5, 17.6, 28.5, 17.7, 19.5, 26.4, 41.9, 22.6, \n  .     21.3, 20.4, 38.7, 32.7, 33.1, 32.7, 24.2, 23.5, 24.8, 26.1, \n  .     24.2, 41.5, 28, 32.2, 35.9, 32.1, 55.7, 14.6, 33.3, NA, 18.9, \n  .     21.9, 35.5, 29.1, 29, 19, 21.4, 25, 29.6, 28.5, 30.4, 21.8, \n  .     23.1, 32.3, 17.8, 18.4, 26.9, 28.4, 28.9, 25.5, 19.5, 24.9, \n  .     30.6, 18.1, 18.8, 20.2, 25.1, 34.5, 26.1, 41.3, NA, 32.6, \n  .     18.6, 32.8, 18.6, NA, 27.9, 23.5, 46.4, 25.2, 33.1, 38.1, \n  .     17.4, 27.1, 28.3, 18.6, 45.2, 39.7, 26.5, 26.1, 19.8, 37.3, \n  .     16.1, 35.8, 34.3, 38.4, 34.4, 33.6, 36.3, 29.6, 14.8, 33.5, \n  .     31.9, 32.3, 33.9, 32.2, 37.4, 29.4, 27.4, 26.6, 19.9, 32.7, \n  .     30.5, 35.9, 33.7, 21.5, 34.4, 27.9, 26.4, 22.5, 29.8, 26.1, \n  .     24.9, 34.2, 23.6, 21.1, NA, 15.6, 26.7, 22.9, 29, 51.7, 16.3, \n  .     30.3, 31, 27.4, 21.7, 21.6, 27.2, 29.9, 23.4, 32.6, 33.8, \n  .     36.9, 26.7, 30.4, 60.9, 38.7, 16.9, 34.2, 27.6, 47.8, 44.5, \n  .     36.6, 22.9, 18.6, 18.3, 25.1, 38.1, 37.2, 19.6, 20.5, 30.7, \n  .     NA, 27, 23.4, 16.4, 14.9, 38.8, 21.8, 28.1, 28.4, 19.8, 21.2, \n  .     28.8, 33.8, 22.4, 28.8, 20.5, 34.5, 24.4, 23.9, 18.4, 27.3, \n  .     28.4, 49.5, 29.5, 31.3, 17.6, 31.3, 27.8, 26.3, 17.1, 28.8, \n  .     24.6, 26.9, 34.6, 42.7, 29.3, 24.7, 25.1, 24.3, 25.6, 23, \n  .     21, 17.1, 26.9, 30.2, 16.8, 38.9, NA, 24.3, 17.4, 17.5, NA, \n  .     NA), smoking_status = structure(c(2L, 2L, 4L, 2L, 3L, 2L, \n  .     1L, 1L, 4L, 2L, 1L, 1L, 4L, 2L, 2L, 1L, 1L, 1L, 1L, 2L, 4L, \n  .     1L, 4L, 3L, 4L, 2L, 1L, 4L, 2L, 3L, 2L, 2L, 1L, 2L, 1L, 4L, \n  .     1L, 4L, 1L, 2L, 2L, 1L, 2L, 2L, 4L, 2L, 3L, 1L, 3L, 1L, 3L, \n  .     1L, 4L, 1L, 2L, 1L, 2L, 2L, 3L, 2L, 3L, 3L, 3L, 2L, 1L, 4L, \n  .     4L, 3L, 1L, 4L, 1L, 4L, 2L, 4L, 3L, 3L, 4L, 4L, 4L, 3L, 4L, \n  .     1L, 3L, 3L, 3L, 1L, 4L, 3L, 2L, 4L, 2L, 4L, 2L, 2L, 2L, 2L, \n  .     2L, 1L, 2L, 2L, 3L, 2L, 2L, 4L, 2L, 2L, 2L, 2L, 2L, 4L, 2L, \n  .     4L, 3L, 3L, 4L, 4L, 2L, 2L, 2L, 2L, 2L, 2L, 3L, 2L, 2L, 2L, \n  .     1L, 4L, 2L, 4L, 2L, 1L, 4L, 2L, 4L, 1L, 2L, 3L, 1L, 2L, 3L, \n  .     3L, 2L, 4L, 2L, 2L, 4L, 2L, 4L, 1L, 4L, 1L, 4L, 2L, 4L, 2L, \n  .     4L, 2L, 2L, 1L, 3L, 2L, 2L, 4L, 4L, 1L, 1L, 3L, 4L, 2L, 4L, \n  .     4L, 3L, 4L, 2L, 1L, 4L, 2L, 2L, 2L, 4L, 2L, 2L, 1L, 1L, 3L, \n  .     2L, 2L, 3L, 2L, 2L, 2L, 1L, 2L, 2L, 2L, 1L, 2L, 3L, 2L, 2L, \n  .     3L, 4L, 1L, 3L, 2L, 4L, 3L, 3L, 2L, 4L, 4L, 4L, 2L, 2L, 3L, \n  .     2L, 4L, 4L, 2L, 2L, 2L, 4L, 1L, 2L, 2L, 3L, 2L, 2L, 4L, 2L, \n  .     4L, 2L, 1L, 1L, 2L, 4L, 2L, 3L, 1L, 2L, 2L, 4L, 2L, 2L, 4L, \n  .     2L, 3L, 3L, 3L, 1L, 2L, 2L, 2L, 2L, 3L, 4L, 2L, 3L, 2L, 3L, \n  .     4L, 4L, 2L, 2L, 4L, 3L, 2L, 1L, 2L, 1L, 4L, 1L, 2L, 4L, 3L, \n  .     2L, 2L, 2L, 1L, 4L, 2L, 2L, 2L, 1L, 4L, 4L, 2L, 1L, 4L, 2L, \n  .     2L, 2L, 4L, 1L, 1L, 1L, 4L, 4L, 1L, 4L, 3L, 4L, 2L, 2L, 2L, \n  .     1L, 4L, 2L, 4L, 1L, 2L, 2L, 4L, 4L, 4L, 3L, 4L, 1L, 2L, 2L, \n  .     4L, 1L, 2L, 4L, 4L, 4L, 4L, 4L, 4L, 4L, 3L, 2L, 2L, 4L, 3L, \n  .     2L, 4L, 4L, 2L, 4L, 2L, 2L, 2L, 1L, 2L, 3L, 4L, 4L, 4L, 4L, \n  .     4L, 4L, 2L, 3L, 4L, 3L, 2L, 4L, 2L, 4L, 3L, 4L, 2L, 1L, 1L, \n  .     4L, 2L, 2L, 4L, 2L, 1L, 4L, 4L, 4L, 4L, 2L, 2L, 1L, 1L, 3L, \n  .     3L, 2L, 2L, 3L, 4L, 4L, 3L, 2L, 3L, 2L, 2L, 3L, 2L, 4L, 1L, \n  .     1L, 1L, 2L, 2L, 2L, 2L, 3L, 2L, 4L, 2L, 2L, 4L, 4L, 4L, 4L, \n  .     4L, 4L, 4L, 2L, 1L, 4L, 1L, 1L, 2L, 4L, 3L, 4L, 3L, 4L, 4L, \n  .     2L, 3L, 2L, 4L, 3L, 1L, 4L, 2L, 3L, 4L, 2L, 3L, 2L, 4L, 1L, \n  .     1L, 4L, 4L, 4L, 4L, 2L, 4L, 2L, 3L, 2L, 2L, 1L, 1L, 2L, 2L, \n  .     4L, 1L, 2L, 4L, 2L, 1L, 4L, 4L, 2L, 4L, 1L, 2L, 4L, 2L, 4L, \n  .     3L, 3L, 3L, 3L, 4L, 4L, 2L, 2L, 1L, 3L, 4L, 2L, 4L, 3L, 1L, \n  .     4L, 1L, 3L, 3L, 3L, 1L, 4L, 4L, 2L, 2L, 4L, 2L, 2L, 2L, 2L, \n  .     2L, 4L, 2L, 3L, 4L, 4L, 2L, 3L, 2L, 4L, 3L, 1L, 4L, 1L, 4L, \n  .     2L, 1L, 3L, 2L, 3L, 4L, 4L, 4L, 2L, 4L, 2L, 4L, 4L, 4L, 4L, \n  .     3L, 2L, 1L, 2L, 1L, 2L, 4L, 1L, 1L, 3L, 1L, 1L, 1L, 4L, 2L, \n  .     4L, 4L, 4L, 2L, 3L, 4L, 2L, 3L, 3L, 4L, 1L, 4L, 3L, 4L, 2L, \n  .     4L, 1L, 1L, 4L, 4L, 2L, 3L, 3L, 2L, 2L, 2L, 2L, 3L, 1L, 2L, \n  .     2L, 2L, 4L, 2L, 2L, 4L, 2L, 2L, 2L, 3L, 1L, 4L, 2L, 3L, 4L, \n  .     2L, 2L, 2L, 2L, 2L, 3L, 2L, 2L, 3L, 4L, 4L, 3L, 4L, 2L, 4L, \n  .     4L, 1L, 2L, 2L, 4L, 4L, 4L, 1L, 3L, 2L, 4L, 4L, 4L, 4L, 4L, \n  .     2L, 2L, 4L, 4L, 2L, 2L, 2L, 4L, 4L, 3L, 2L, 4L, 3L, 2L, 4L, \n  .     2L, 1L, 4L, 4L, 4L, 3L, 2L, 4L, 4L, 4L, 2L, 2L, 1L, 1L, 1L, \n  .     3L, 1L, 3L, 4L, 3L, 4L, 1L, 2L, 2L, 2L, 2L, 2L, 1L, 2L, 2L, \n  .     4L, 2L, 2L, 2L, 1L, 2L, 2L, 3L, 4L, 4L, 4L, 2L, 2L, 1L, 1L, \n  .     1L, 1L, 1L, 4L, 3L, 3L, 4L, 1L, 2L, 3L, 2L, 4L, 3L, 4L, 4L, \n  .     2L, 4L, 3L, 4L, 3L, 2L, 3L, 2L, 4L, 2L, 2L, 1L, 1L, 4L, 2L, \n  .     1L, 2L, 2L, 1L, 4L, 1L, 4L, 2L, 2L, 4L, 2L, 4L, 1L, 4L, 4L, \n  .     3L, 3L, 4L, 3L, 2L, 2L, 2L, 4L, 3L, 4L, 4L, 1L, 2L, 2L, 1L, \n  .     4L, 1L, 4L, 4L, 4L, 4L, 3L, 4L, 2L, 2L, 4L, 2L, 4L, 2L, 4L, \n  .     2L, 3L, 4L, 4L, 1L, 2L, 3L, 2L, 2L, 1L, 1L, 4L, 1L, 4L, 2L, \n  .     4L, 1L, 4L, 2L, 1L, 2L, 2L, 2L, 3L, 1L, 2L, 4L, 2L, 4L, 2L, \n  .     1L, 2L, 4L, 3L, 2L, 4L, 2L, 1L, 2L, 2L, 1L, 1L, 1L, 4L, 2L, \n  .     3L, 2L, 2L, 2L, 2L, 1L, 2L, 1L, 4L, 1L, 2L, 1L, 3L, 3L, 4L, \n  .     2L, 2L, 4L, 2L, 1L, 2L, 2L, 2L, 4L, 1L, 3L, 4L, 4L, 1L, 2L, \n  .     3L, 4L, 4L, 3L, 4L, 3L, 4L, 4L, 2L, 4L, 4L, 2L, 4L, 1L, 3L, \n  .     2L, 3L, 2L, 2L, 4L, 4L, 2L, 2L, 4L, 1L, 2L, 4L, 1L, 4L, 3L, \n  .     2L, 4L, 1L, 2L, 2L, 4L, 2L, 4L, 3L, 4L, 1L, 1L, 2L, 3L, 1L, \n  .     2L, 2L, 3L, 1L, 2L, 2L, 2L, 4L, 4L, 2L, 2L, 4L, 4L, 1L, 4L, \n  .     4L, 4L, 2L, 2L, 2L, 2L, 2L, 1L, 2L, 1L, 3L, 4L, 2L, 1L, 4L, \n  .     1L, 2L, 2L, 2L, 4L, 4L, 4L, 2L, 4L, 3L, 4L, 4L, 2L, 3L, 4L, \n  .     4L, 4L, 2L, 4L, 2L, 3L, 4L, 2L, 4L, 1L, 2L, 4L, 4L, 4L, 2L, \n  .     2L, 4L, 2L, 1L, 2L, 2L, 3L, 4L, 4L, 3L, 2L, 2L, 2L, 4L, 4L, \n  .     2L, 2L, 3L, 3L, 4L, 4L, 4L, 2L, 2L, 1L, 3L, 4L, 3L, 3L, 4L, \n  .     2L, 3L, 4L, 4L, 2L, 1L, 2L, 4L, 3L, 4L, 2L, 3L, 2L, 4L, 4L, \n  .     4L, 2L, 2L, 4L, 1L, 1L, 1L, 2L, 4L, 2L, 3L, 2L, 1L, 3L, 2L, \n  .     3L, 2L, 4L, 1L, 1L, 4L, 4L, 1L, 4L, 3L, 4L, 1L, 2L, 2L, 4L, \n  .     4L, 4L, 4L, 2L, 2L, 2L, 4L, 4L, 4L, 3L, 2L, 3L, 2L, 4L, 2L, \n  .     2L, 1L, 2L, 4L, 1L, 4L, 3L, 2L, 2L, 4L, 4L, 4L, 2L, 2L, 4L, \n  .     2L, 2L, 1L, 2L, 2L, 4L, 4L, 1L, 2L, 3L, 1L, 4L, 4L, 4L, 2L, \n  .     4L, 4L, 3L, 2L, 4L, 4L, 3L, 4L, 4L, 2L, 1L, 4L, 1L, 2L, 1L, \n  .     4L, 4L, 2L, 4L, 3L, 4L, 2L, 1L, 1L, 1L, 2L, 4L, 2L, 4L, 2L, \n  .     2L, 4L, 3L, 4L, 4L, 2L, 3L, 4L, 4L, 2L, 2L, 1L, 4L, 4L, 2L, \n  .     4L, 4L, 3L, 1L, 2L, 4L, 2L, 1L, 2L, 1L, 2L, 4L, 2L, 2L, 4L, \n  .     2L, 2L, 3L, 2L, 2L, 1L, 4L, 4L, 4L, 4L, 2L, 4L, 3L, 2L, 3L, \n  .     3L, 3L, 4L, 1L, 3L, 1L, 4L, 2L, 4L, 2L, 2L, 3L, 4L, 3L, 4L, \n  .     4L, 4L, 4L, 2L, 4L, 2L, 2L, 4L, 1L, 4L, 4L, 2L, 4L, 1L, 3L, \n  .     4L, 1L, 2L, 4L, 2L, 4L, 3L, 1L, 2L, 3L, 2L, 2L, 2L, 1L, 2L, \n  .     2L, 2L, 4L, 2L, 3L, 1L, 3L, 1L, 1L, 3L, 1L, 3L, 4L, 4L, 4L, \n  .     2L, 2L, 4L, 1L, 1L, 2L, 2L, 3L, 1L, 2L, 4L, 1L, 1L, 4L, 3L, \n  .     1L, 4L, 4L, 4L, 2L, 2L, 2L, 3L, 4L, 4L, 4L, 2L, 2L, 4L, 3L, \n  .     4L, 2L, 2L, 3L, 2L, 2L, 4L, 4L, 3L, 1L, 2L, 2L, 4L, 3L, 4L, \n  .     2L, 2L, 3L, 2L, 4L, 2L, 2L, 4L, 2L, 1L, 1L, 3L, 2L, 4L, 2L, \n  .     2L, 2L, 2L, 1L, 2L, 3L, 4L, 1L, 2L, 2L, 2L, 2L, 3L, 2L, 4L, \n  .     4L, 3L, 4L, 4L, 2L, 3L, 4L, 4L, 4L, 3L, 2L), .Label = c(\"formerly smoked\", \n  .     \"never smoked\", \"smokes\", \"Unknown\"), class = \"factor\"), \n  .     stroke = structure(c(2L, 2L, 2L, 2L, 2L, 2L, 2L, 2L, 2L, \n  .     2L, 2L, 2L, 2L, 2L, 2L, 2L, 2L, 2L, 2L, 2L, 2L, 2L, 2L, 2L, \n  .     2L, 2L, 2L, 2L, 2L, 2L, 2L, 2L, 2L, 2L, 2L, 2L, 2L, 2L, 2L, \n  .     2L, 2L, 2L, 2L, 2L, 2L, 2L, 2L, 2L, 2L, 2L, 2L, 2L, 2L, 2L, \n  .     2L, 2L, 2L, 2L, 2L, 2L, 2L, 2L, 2L, 2L, 2L, 2L, 2L, 2L, 2L, \n  .     2L, 2L, 2L, 1L, 1L, 1L, 1L, 1L, 1L, 1L, 1L, 1L, 1L, 1L, 1L, \n  .     1L, 1L, 1L, 1L, 1L, 1L, 1L, 1L, 1L, 1L, 1L, 1L, 1L, 1L, 1L, \n  .     1L, 1L, 1L, 1L, 1L, 1L, 1L, 1L, 1L, 1L, 1L, 1L, 1L, 1L, 1L, \n  .     1L, 1L, 1L, 1L, 1L, 1L, 1L, 1L, 1L, 1L, 1L, 1L, 1L, 1L, 1L, \n  .     1L, 1L, 1L, 1L, 1L, 1L, 1L, 1L, 1L, 1L, 1L, 1L, 1L, 1L, 1L, \n  .     1L, 1L, 1L, 1L, 1L, 1L, 1L, 1L, 1L, 1L, 1L, 1L, 1L, 1L, 1L, \n  .     1L, 1L, 1L, 1L, 1L, 1L, 1L, 1L, 1L, 1L, 1L, 1L, 1L, 1L, 1L, \n  .     1L, 1L, 1L, 1L, 1L, 1L, 1L, 1L, 1L, 1L, 1L, 1L, 1L, 1L, 1L, \n  .     1L, 1L, 1L, 1L, 1L, 1L, 1L, 1L, 1L, 1L, 1L, 1L, 1L, 1L, 1L, \n  .     1L, 1L, 1L, 1L, 1L, 1L, 1L, 1L, 1L, 1L, 1L, 1L, 1L, 1L, 1L, \n  .     1L, 1L, 1L, 1L, 1L, 1L, 1L, 1L, 1L, 1L, 1L, 1L, 1L, 1L, 1L, \n  .     1L, 1L, 1L, 1L, 1L, 1L, 1L, 1L, 1L, 1L, 1L, 1L, 1L, 1L, 1L, \n  .     1L, 1L, 1L, 1L, 1L, 1L, 1L, 1L, 1L, 1L, 1L, 1L, 1L, 1L, 1L, \n  .     1L, 1L, 1L, 1L, 1L, 1L, 1L, 1L, 1L, 1L, 1L, 1L, 1L, 1L, 1L, \n  .     1L, 1L, 1L, 1L, 1L, 1L, 1L, 1L, 1L, 1L, 1L, 1L, 1L, 1L, 1L, \n  .     1L, 1L, 1L, 1L, 1L, 1L, 1L, 1L, 1L, 1L, 1L, 1L, 1L, 1L, 1L, \n  .     1L, 1L, 1L, 1L, 1L, 1L, 1L, 1L, 1L, 1L, 1L, 1L, 1L, 1L, 1L, \n  .     1L, 1L, 1L, 1L, 1L, 1L, 1L, 1L, 1L, 1L, 1L, 1L, 1L, 1L, 1L, \n  .     1L, 1L, 1L, 1L, 1L, 1L, 1L, 1L, 1L, 1L, 1L, 1L, 1L, 1L, 1L, \n  .     1L, 1L, 1L, 1L, 1L, 1L, 1L, 1L, 1L, 1L, 1L, 1L, 1L, 1L, 1L, \n  .     1L, 1L, 1L, 1L, 1L, 1L, 1L, 1L, 1L, 1L, 1L, 1L, 1L, 1L, 1L, \n  .     1L, 1L, 1L, 1L, 1L, 1L, 1L, 1L, 1L, 1L, 1L, 1L, 1L, 1L, 1L, \n  .     1L, 1L, 1L, 1L, 1L, 1L, 1L, 1L, 1L, 1L, 1L, 1L, 1L, 1L, 1L, \n  .     1L, 1L, 1L, 1L, 1L, 1L, 1L, 1L, 1L, 1L, 1L, 1L, 1L, 1L, 1L, \n  .     1L, 1L, 1L, 1L, 1L, 1L, 1L, 1L, 1L, 1L, 1L, 1L, 1L, 1L, 1L, \n  .     1L, 1L, 1L, 1L, 1L, 1L, 1L, 1L, 1L, 1L, 1L, 1L, 1L, 1L, 1L, \n  .     1L, 1L, 1L, 1L, 1L, 1L, 1L, 1L, 1L, 1L, 1L, 1L, 1L, 1L, 1L, \n  .     1L, 1L, 1L, 1L, 1L, 1L, 1L, 1L, 1L, 1L, 1L, 1L, 1L, 1L, 1L, \n  .     1L, 1L, 1L, 1L, 1L, 1L, 1L, 1L, 1L, 1L, 1L, 1L, 1L, 1L, 1L, \n  .     1L, 1L, 1L, 1L, 1L, 1L, 1L, 1L, 1L, 1L, 1L, 1L, 1L, 1L, 1L, \n  .     1L, 1L, 1L, 1L, 1L, 1L, 1L, 1L, 1L, 1L, 1L, 1L, 1L, 1L, 1L, \n  .     1L, 1L, 1L, 1L, 1L, 1L, 1L, 1L, 1L, 1L, 1L, 1L, 1L, 1L, 1L, \n  .     1L, 1L, 1L, 1L, 1L, 1L, 1L, 1L, 1L, 1L, 1L, 1L, 1L, 1L, 1L, \n  .     1L, 1L, 1L, 1L, 1L, 1L, 1L, 1L, 1L, 1L, 1L, 1L, 1L, 1L, 1L, \n  .     1L, 1L, 1L, 1L, 1L, 1L, 1L, 1L, 1L, 1L, 1L, 1L, 1L, 1L, 1L, \n  .     1L, 1L, 1L, 1L, 1L, 1L, 1L, 1L, 1L, 1L, 1L, 1L, 1L, 1L, 1L, \n  .     1L, 1L, 1L, 1L, 1L, 1L, 1L, 1L, 1L, 1L, 1L, 1L, 1L, 1L, 1L, \n  .     1L, 1L, 1L, 1L, 1L, 1L, 1L, 1L, 1L, 1L, 1L, 1L, 1L, 1L, 1L, \n  .     1L, 1L, 1L, 1L, 1L, 1L, 1L, 1L, 1L, 1L, 1L, 1L, 1L, 1L, 1L, \n  .     1L, 1L, 1L, 1L, 1L, 1L, 1L, 1L, 1L, 1L, 1L, 1L, 1L, 1L, 1L, \n  .     1L, 1L, 1L, 1L, 1L, 1L, 1L, 1L, 1L, 1L, 1L, 1L, 1L, 1L, 1L, \n  .     1L, 1L, 1L, 1L, 1L, 1L, 1L, 1L, 1L, 1L, 1L, 1L, 1L, 1L, 1L, \n  .     1L, 1L, 1L, 1L, 1L, 1L, 1L, 1L, 1L, 1L, 1L, 1L, 1L, 1L, 1L, \n  .     1L, 1L, 1L, 1L, 1L, 1L, 1L, 1L, 1L, 1L, 1L, 1L, 1L, 1L, 1L, \n  .     1L, 1L, 1L, 1L, 1L, 1L, 1L, 1L, 1L, 1L, 1L, 1L, 1L, 1L, 1L, \n  .     1L, 1L, 1L, 1L, 1L, 1L, 1L, 1L, 1L, 1L, 1L, 1L, 1L, 1L, 1L, \n  .     1L, 1L, 1L, 1L, 1L, 1L, 1L, 1L, 1L, 1L, 1L, 1L, 1L, 1L, 1L, \n  .     1L, 1L, 1L, 1L, 1L, 1L, 1L, 1L, 1L, 1L, 1L, 1L, 1L, 1L, 1L, \n  .     1L, 1L, 1L, 1L, 1L, 1L, 1L, 1L, 1L, 1L, 1L, 1L, 1L, 1L, 1L, \n  .     1L, 1L, 1L, 1L, 1L, 1L, 1L, 1L, 1L, 1L, 1L, 1L, 1L, 1L, 1L, \n  .     1L, 1L, 1L, 1L, 1L, 1L, 1L, 1L, 1L, 1L, 1L, 1L, 1L, 1L, 1L, \n  .     1L, 1L, 1L, 1L, 1L, 1L, 1L, 1L, 1L, 1L, 1L, 1L, 1L, 1L, 1L, \n  .     1L, 1L, 1L, 1L, 1L, 1L, 1L, 1L, 1L, 1L, 1L, 1L, 1L, 1L, 1L, \n  .     1L, 1L, 1L, 1L, 1L, 1L, 1L, 1L, 1L, 1L, 1L, 1L, 1L, 1L, 1L, \n  .     1L, 1L, 1L, 1L, 1L, 1L, 1L, 1L, 1L, 1L, 1L, 1L, 1L, 1L, 1L, \n  .     1L, 1L, 1L, 1L, 1L, 1L, 1L, 1L, 1L, 1L, 1L, 1L, 1L, 1L, 1L, \n  .     1L, 1L, 1L, 1L, 1L, 1L, 1L, 1L, 1L, 1L, 1L, 1L, 1L, 1L, 1L, \n  .     1L, 1L, 1L, 1L, 1L, 1L, 1L, 1L, 1L, 1L, 1L, 1L, 1L, 1L, 1L, \n  .     1L, 1L, 1L, 1L, 1L, 1L, 1L, 1L, 1L, 1L, 1L, 1L, 1L, 1L, 1L, \n  .     1L, 1L, 1L, 1L, 1L, 1L, 1L, 1L, 1L, 1L, 1L, 1L, 1L, 1L, 1L, \n  .     1L, 1L, 1L, 1L, 1L, 1L, 1L, 1L, 1L, 1L, 1L, 1L, 1L, 1L, 1L, \n  .     1L, 1L, 1L, 1L, 1L, 1L, 1L, 1L, 1L, 1L, 1L, 1L, 1L, 1L, 1L, \n  .     1L, 1L, 1L, 1L, 1L, 1L, 1L, 1L, 1L, 1L, 1L, 1L, 1L, 1L, 1L, \n  .     1L, 1L, 1L, 1L, 1L, 1L, 1L, 1L, 1L, 1L, 1L, 1L, 1L, 1L, 1L, \n  .     1L, 1L, 1L, 1L, 1L, 1L, 1L, 1L, 1L, 1L, 1L, 1L, 1L, 1L, 1L, \n  .     1L, 1L, 1L, 1L, 1L, 1L, 1L, 1L, 1L, 1L, 1L, 1L, 1L, 1L, 1L, \n  .     1L, 1L, 1L, 1L, 1L, 1L, 1L, 1L, 1L, 1L, 1L, 1L, 1L, 1L, 1L, \n  .     1L, 1L, 1L, 1L, 1L, 1L, 1L, 1L, 1L, 1L, 1L, 1L, 1L, 1L, 1L, \n  .     1L, 1L, 1L, 1L, 1L, 1L, 1L, 1L, 1L, 1L, 1L, 1L, 1L, 1L, 1L, \n  .     1L, 1L, 1L, 1L, 1L, 1L, 1L, 1L, 1L, 1L, 1L, 1L, 1L, 1L, 1L, \n  .     1L, 1L, 1L, 1L, 1L, 1L, 1L, 1L, 1L, 1L, 1L, 1L, 1L, 1L, 1L, \n  .     1L, 1L, 1L, 1L, 1L, 1L, 1L, 1L, 1L, 1L, 1L, 1L, 1L, 1L, 1L, \n  .     1L, 1L, 1L, 1L, 1L, 1L, 1L, 1L, 1L, 1L, 1L, 1L, 1L, 1L, 1L, \n  .     1L, 1L, 1L, 1L, 1L, 1L, 1L, 1L, 1L, 1L, 1L, 1L, 1L, 1L, 1L, \n  .     1L, 1L, 1L, 1L, 1L, 1L, 1L, 1L, 1L, 1L, 1L, 1L, 1L, 1L, 1L, \n  .     1L, 1L, 1L, 1L, 1L, 1L, 1L, 1L, 1L, 1L, 1L, 1L, 1L, 1L, 1L, \n  .     1L, 1L, 1L, 1L, 1L, 1L, 1L, 1L, 1L, 1L, 1L, 1L, 1L, 1L, 1L, \n  .     1L, 1L, 1L, 1L, 1L, 1L, 1L, 1L, 1L, 1L, 1L, 1L, 1L, 1L, 1L, \n  .     1L, 1L, 1L, 1L, 1L, 1L, 1L, 1L, 1L, 1L, 1L, 1L, 1L, 1L, 1L, \n  .     1L, 1L, 1L, 1L, 1L, 1L, 1L, 1L, 1L, 1L, 1L, 1L, 1L, 1L, 1L, \n  .     1L, 1L, 1L, 1L, 1L, 1L, 1L, 1L), .Label = c(\"0\", \"1\"), class = \"factor\")), row.names = c(NA, \n  . -1277L), class = c(\"tbl_df\", \"tbl\", \"data.frame\"))), x_size = 1233L, \n  .     y_size = 1277L, x_arg = \"..1\", y_arg = \"..2\")",
      "12. stop_incompatible(x, y, x_size = x_size, y_size = y_size, ..., \n  .     x_arg = x_arg, y_arg = y_arg, details = details, message = message, \n  .     class = c(class, \"vctrs_error_incompatible_size\"))",
      "13. stop_vctrs(message, class = c(class, \"vctrs_error_incompatible\"), \n  .     x = x, y = y, details = details, ...)",
      "14. abort(message, class = c(class, \"vctrs_error\"), ...)",
      "15. signal_abort(cnd)"
     ]
    }
   ],
   "source": [
    "# get predictions on the validation data\n",
    "validation_predicted <- predict(knn_fit, stroke_test) %>%\n",
    "  bind_cols(stroke_test)"
   ]
  },
  {
   "cell_type": "code",
   "execution_count": null,
   "metadata": {},
   "outputs": [],
   "source": [
    "# compute the accuracy\n",
    "acc <- validation_predicted %>%\n",
    "  metrics(truth = stroke, estimate = .pred_class) %>%\n",
    "  filter(.metric == \"accuracy\") %>%\n",
    "  select(.estimate) %>%\n",
    "  pull()\n",
    "\n",
    "acc"
   ]
  },
  {
   "cell_type": "code",
   "execution_count": null,
   "metadata": {},
   "outputs": [],
   "source": []
  },
  {
   "cell_type": "markdown",
   "metadata": {},
   "source": [
    "## Methods ##\n",
    "..."
   ]
  },
  {
   "cell_type": "markdown",
   "metadata": {},
   "source": [
    "## Expected Outcomes ##\n",
    "...\n",
    "\n",
    "## Significance ##\n",
    "..."
   ]
  },
  {
   "cell_type": "code",
   "execution_count": null,
   "metadata": {},
   "outputs": [],
   "source": []
  },
  {
   "cell_type": "code",
   "execution_count": null,
   "metadata": {},
   "outputs": [],
   "source": []
  }
 ],
 "metadata": {
  "kernelspec": {
   "display_name": "R",
   "language": "R",
   "name": "ir"
  },
  "language_info": {
   "codemirror_mode": "r",
   "file_extension": ".r",
   "mimetype": "text/x-r-source",
   "name": "R",
   "pygments_lexer": "r",
   "version": "4.0.0"
  }
 },
 "nbformat": 4,
 "nbformat_minor": 4
}
