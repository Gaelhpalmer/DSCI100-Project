{
 "cells": [
  {
   "cell_type": "markdown",
   "metadata": {},
   "source": [
    "## Predictor variable selection ## "
   ]
  },
  {
   "cell_type": "markdown",
   "metadata": {},
   "source": [
    "#### forward selection (Eforymson 1966; Draper and Smith 1966) ####"
   ]
  },
  {
   "cell_type": "markdown",
   "metadata": {},
   "source": [
    "Iteratively build up a model by adding one predictor variable at a time, starting one with no predictors."
   ]
  },
  {
   "cell_type": "markdown",
   "metadata": {},
   "source": [
    "Run the following 3 steps until you run out of predictors:\n",
    "1. For each unused predictor, add it to the model to form a candidate model.\n",
    "2. Tune all of the candidate models.\n",
    "3. Update the model to be the candidate model with the highest cross-validation accuracy.\n",
    "\n",
    "Select the model that provides the best trade-off between accuracy and simplicity."
   ]
  },
  {
   "cell_type": "markdown",
   "metadata": {},
   "source": [
    "### set-up ###"
   ]
  },
  {
   "cell_type": "code",
   "execution_count": 1,
   "metadata": {},
   "outputs": [
    {
     "name": "stderr",
     "output_type": "stream",
     "text": [
      "── \u001b[1mAttaching packages\u001b[22m ─────────────────────────────────────── tidyverse 1.3.0 ──\n",
      "\n",
      "\u001b[32m✔\u001b[39m \u001b[34mggplot2\u001b[39m 3.3.2     \u001b[32m✔\u001b[39m \u001b[34mpurrr  \u001b[39m 0.3.4\n",
      "\u001b[32m✔\u001b[39m \u001b[34mtibble \u001b[39m 3.0.3     \u001b[32m✔\u001b[39m \u001b[34mdplyr  \u001b[39m 1.0.2\n",
      "\u001b[32m✔\u001b[39m \u001b[34mtidyr  \u001b[39m 1.1.2     \u001b[32m✔\u001b[39m \u001b[34mstringr\u001b[39m 1.4.0\n",
      "\u001b[32m✔\u001b[39m \u001b[34mreadr  \u001b[39m 1.3.1     \u001b[32m✔\u001b[39m \u001b[34mforcats\u001b[39m 0.5.0\n",
      "\n",
      "Warning message:\n",
      "“package ‘ggplot2’ was built under R version 4.0.1”\n",
      "Warning message:\n",
      "“package ‘tibble’ was built under R version 4.0.2”\n",
      "Warning message:\n",
      "“package ‘tidyr’ was built under R version 4.0.2”\n",
      "Warning message:\n",
      "“package ‘dplyr’ was built under R version 4.0.2”\n",
      "── \u001b[1mConflicts\u001b[22m ────────────────────────────────────────── tidyverse_conflicts() ──\n",
      "\u001b[31m✖\u001b[39m \u001b[34mdplyr\u001b[39m::\u001b[32mfilter()\u001b[39m masks \u001b[34mstats\u001b[39m::filter()\n",
      "\u001b[31m✖\u001b[39m \u001b[34mdplyr\u001b[39m::\u001b[32mlag()\u001b[39m    masks \u001b[34mstats\u001b[39m::lag()\n",
      "\n",
      "Warning message:\n",
      "“package ‘tidymodels’ was built under R version 4.0.2”\n",
      "── \u001b[1mAttaching packages\u001b[22m ────────────────────────────────────── tidymodels 0.1.1 ──\n",
      "\n",
      "\u001b[32m✔\u001b[39m \u001b[34mbroom    \u001b[39m 0.7.0      \u001b[32m✔\u001b[39m \u001b[34mrecipes  \u001b[39m 0.1.13\n",
      "\u001b[32m✔\u001b[39m \u001b[34mdials    \u001b[39m 0.0.9      \u001b[32m✔\u001b[39m \u001b[34mrsample  \u001b[39m 0.0.7 \n",
      "\u001b[32m✔\u001b[39m \u001b[34minfer    \u001b[39m 0.5.4      \u001b[32m✔\u001b[39m \u001b[34mtune     \u001b[39m 0.1.1 \n",
      "\u001b[32m✔\u001b[39m \u001b[34mmodeldata\u001b[39m 0.0.2      \u001b[32m✔\u001b[39m \u001b[34mworkflows\u001b[39m 0.2.0 \n",
      "\u001b[32m✔\u001b[39m \u001b[34mparsnip  \u001b[39m 0.1.3      \u001b[32m✔\u001b[39m \u001b[34myardstick\u001b[39m 0.0.7 \n",
      "\n",
      "Warning message:\n",
      "“package ‘broom’ was built under R version 4.0.2”\n",
      "Warning message:\n",
      "“package ‘dials’ was built under R version 4.0.2”\n",
      "Warning message:\n",
      "“package ‘infer’ was built under R version 4.0.3”\n",
      "Warning message:\n",
      "“package ‘modeldata’ was built under R version 4.0.1”\n",
      "Warning message:\n",
      "“package ‘parsnip’ was built under R version 4.0.2”\n",
      "Warning message:\n",
      "“package ‘recipes’ was built under R version 4.0.1”\n",
      "Warning message:\n",
      "“package ‘tune’ was built under R version 4.0.2”\n",
      "Warning message:\n",
      "“package ‘workflows’ was built under R version 4.0.2”\n",
      "Warning message:\n",
      "“package ‘yardstick’ was built under R version 4.0.2”\n",
      "── \u001b[1mConflicts\u001b[22m ───────────────────────────────────────── tidymodels_conflicts() ──\n",
      "\u001b[31m✖\u001b[39m \u001b[34mscales\u001b[39m::\u001b[32mdiscard()\u001b[39m masks \u001b[34mpurrr\u001b[39m::discard()\n",
      "\u001b[31m✖\u001b[39m \u001b[34mdplyr\u001b[39m::\u001b[32mfilter()\u001b[39m   masks \u001b[34mstats\u001b[39m::filter()\n",
      "\u001b[31m✖\u001b[39m \u001b[34mrecipes\u001b[39m::\u001b[32mfixed()\u001b[39m  masks \u001b[34mstringr\u001b[39m::fixed()\n",
      "\u001b[31m✖\u001b[39m \u001b[34mdplyr\u001b[39m::\u001b[32mlag()\u001b[39m      masks \u001b[34mstats\u001b[39m::lag()\n",
      "\u001b[31m✖\u001b[39m \u001b[34myardstick\u001b[39m::\u001b[32mspec()\u001b[39m masks \u001b[34mreadr\u001b[39m::spec()\n",
      "\u001b[31m✖\u001b[39m \u001b[34mrecipes\u001b[39m::\u001b[32mstep()\u001b[39m   masks \u001b[34mstats\u001b[39m::step()\n",
      "\n"
     ]
    }
   ],
   "source": [
    "# loading packages\n",
    "library(repr)\n",
    "library(tidyverse)\n",
    "library(tidymodels)\n",
    "# library(themis)"
   ]
  },
  {
   "cell_type": "code",
   "execution_count": 2,
   "metadata": {},
   "outputs": [
    {
     "name": "stderr",
     "output_type": "stream",
     "text": [
      "Parsed with column specification:\n",
      "cols(\n",
      "  id = \u001b[32mcol_double()\u001b[39m,\n",
      "  gender = \u001b[31mcol_character()\u001b[39m,\n",
      "  age = \u001b[32mcol_double()\u001b[39m,\n",
      "  hypertension = \u001b[32mcol_double()\u001b[39m,\n",
      "  heart_disease = \u001b[32mcol_double()\u001b[39m,\n",
      "  ever_married = \u001b[31mcol_character()\u001b[39m,\n",
      "  work_type = \u001b[31mcol_character()\u001b[39m,\n",
      "  Residence_type = \u001b[31mcol_character()\u001b[39m,\n",
      "  avg_glucose_level = \u001b[32mcol_double()\u001b[39m,\n",
      "  bmi = \u001b[31mcol_character()\u001b[39m,\n",
      "  smoking_status = \u001b[31mcol_character()\u001b[39m,\n",
      "  stroke = \u001b[32mcol_double()\u001b[39m\n",
      ")\n",
      "\n"
     ]
    },
    {
     "data": {
      "text/html": [
       "<style>\n",
       ".list-inline {list-style: none; margin:0; padding: 0}\n",
       ".list-inline>li {display: inline-block}\n",
       ".list-inline>li:not(:last-child)::after {content: \"\\00b7\"; padding: 0 .5ex}\n",
       "</style>\n",
       "<ol class=list-inline><li>'id'</li><li>'gender'</li><li>'age'</li><li>'hypertension'</li><li>'heart_disease'</li><li>'ever_married'</li><li>'work_type'</li><li>'Residence_type'</li><li>'avg_glucose_level'</li><li>'bmi'</li><li>'smoking_status'</li><li>'stroke'</li></ol>\n"
      ],
      "text/latex": [
       "\\begin{enumerate*}\n",
       "\\item 'id'\n",
       "\\item 'gender'\n",
       "\\item 'age'\n",
       "\\item 'hypertension'\n",
       "\\item 'heart\\_disease'\n",
       "\\item 'ever\\_married'\n",
       "\\item 'work\\_type'\n",
       "\\item 'Residence\\_type'\n",
       "\\item 'avg\\_glucose\\_level'\n",
       "\\item 'bmi'\n",
       "\\item 'smoking\\_status'\n",
       "\\item 'stroke'\n",
       "\\end{enumerate*}\n"
      ],
      "text/markdown": [
       "1. 'id'\n",
       "2. 'gender'\n",
       "3. 'age'\n",
       "4. 'hypertension'\n",
       "5. 'heart_disease'\n",
       "6. 'ever_married'\n",
       "7. 'work_type'\n",
       "8. 'Residence_type'\n",
       "9. 'avg_glucose_level'\n",
       "10. 'bmi'\n",
       "11. 'smoking_status'\n",
       "12. 'stroke'\n",
       "\n",
       "\n"
      ],
      "text/plain": [
       " [1] \"id\"                \"gender\"            \"age\"              \n",
       " [4] \"hypertension\"      \"heart_disease\"     \"ever_married\"     \n",
       " [7] \"work_type\"         \"Residence_type\"    \"avg_glucose_level\"\n",
       "[10] \"bmi\"               \"smoking_status\"    \"stroke\"           "
      ]
     },
     "metadata": {},
     "output_type": "display_data"
    }
   ],
   "source": [
    "# loading data\n",
    "stroke <- read_csv(\"data/stroke-data.csv\")\n",
    "colnames(stroke)"
   ]
  },
  {
   "cell_type": "code",
   "execution_count": 3,
   "metadata": {},
   "outputs": [
    {
     "name": "stderr",
     "output_type": "stream",
     "text": [
      "Warning message:\n",
      "“Problem with `mutate()` input `bmi`.\n",
      "\u001b[34mℹ\u001b[39m NAs introduced by coercion\n",
      "\u001b[34mℹ\u001b[39m Input `bmi` is `as.numeric(bmi)`.”\n",
      "Warning message in mask$eval_all_mutate(dots[[i]]):\n",
      "“NAs introduced by coercion”\n"
     ]
    }
   ],
   "source": [
    "# cleaning and wrangling\n",
    "# stroke_clean <- stroke %>%\n",
    "#     select(gender, age, hypertension, heart_disease, avg_glucose_level, bmi, smoking_status, stroke) %>%\n",
    "#     mutate(gender = as_factor(gender), \n",
    "#            bmi = as.numeric(bmi),\n",
    "#            smoking_status = as_factor(smoking_status),\n",
    "#            stroke = as_factor(stroke)) %>%\n",
    "#     filter(gender != \"Other\") #Other was removed as there was only one occurrence in the dataset\n",
    "\n",
    "# prep and bake data with upsampling, then use it with everything\n",
    "# gonna overfit data, data leakage\n",
    "stroke_clean <- stroke %>%\n",
    "    select(age, hypertension, heart_disease, avg_glucose_level, bmi, stroke) %>%\n",
    "    mutate(stroke = as_factor(stroke),\n",
    "           bmi = as.numeric(bmi)) "
   ]
  },
  {
   "cell_type": "code",
   "execution_count": 4,
   "metadata": {},
   "outputs": [
    {
     "data": {
      "text/html": [
       "<table>\n",
       "<caption>A tibble: 6 × 6</caption>\n",
       "<thead>\n",
       "\t<tr><th scope=col>age</th><th scope=col>hypertension</th><th scope=col>heart_disease</th><th scope=col>avg_glucose_level</th><th scope=col>bmi</th><th scope=col>stroke</th></tr>\n",
       "\t<tr><th scope=col>&lt;dbl&gt;</th><th scope=col>&lt;dbl&gt;</th><th scope=col>&lt;dbl&gt;</th><th scope=col>&lt;dbl&gt;</th><th scope=col>&lt;dbl&gt;</th><th scope=col>&lt;fct&gt;</th></tr>\n",
       "</thead>\n",
       "<tbody>\n",
       "\t<tr><td>67</td><td>0</td><td>1</td><td>228.69</td><td>36.6</td><td>1</td></tr>\n",
       "\t<tr><td>61</td><td>0</td><td>0</td><td>202.21</td><td>  NA</td><td>1</td></tr>\n",
       "\t<tr><td>80</td><td>0</td><td>1</td><td>105.92</td><td>32.5</td><td>1</td></tr>\n",
       "\t<tr><td>49</td><td>0</td><td>0</td><td>171.23</td><td>34.4</td><td>1</td></tr>\n",
       "\t<tr><td>79</td><td>1</td><td>0</td><td>174.12</td><td>24.0</td><td>1</td></tr>\n",
       "\t<tr><td>81</td><td>0</td><td>0</td><td>186.21</td><td>29.0</td><td>1</td></tr>\n",
       "</tbody>\n",
       "</table>\n"
      ],
      "text/latex": [
       "A tibble: 6 × 6\n",
       "\\begin{tabular}{llllll}\n",
       " age & hypertension & heart\\_disease & avg\\_glucose\\_level & bmi & stroke\\\\\n",
       " <dbl> & <dbl> & <dbl> & <dbl> & <dbl> & <fct>\\\\\n",
       "\\hline\n",
       "\t 67 & 0 & 1 & 228.69 & 36.6 & 1\\\\\n",
       "\t 61 & 0 & 0 & 202.21 &   NA & 1\\\\\n",
       "\t 80 & 0 & 1 & 105.92 & 32.5 & 1\\\\\n",
       "\t 49 & 0 & 0 & 171.23 & 34.4 & 1\\\\\n",
       "\t 79 & 1 & 0 & 174.12 & 24.0 & 1\\\\\n",
       "\t 81 & 0 & 0 & 186.21 & 29.0 & 1\\\\\n",
       "\\end{tabular}\n"
      ],
      "text/markdown": [
       "\n",
       "A tibble: 6 × 6\n",
       "\n",
       "| age &lt;dbl&gt; | hypertension &lt;dbl&gt; | heart_disease &lt;dbl&gt; | avg_glucose_level &lt;dbl&gt; | bmi &lt;dbl&gt; | stroke &lt;fct&gt; |\n",
       "|---|---|---|---|---|---|\n",
       "| 67 | 0 | 1 | 228.69 | 36.6 | 1 |\n",
       "| 61 | 0 | 0 | 202.21 |   NA | 1 |\n",
       "| 80 | 0 | 1 | 105.92 | 32.5 | 1 |\n",
       "| 49 | 0 | 0 | 171.23 | 34.4 | 1 |\n",
       "| 79 | 1 | 0 | 174.12 | 24.0 | 1 |\n",
       "| 81 | 0 | 0 | 186.21 | 29.0 | 1 |\n",
       "\n"
      ],
      "text/plain": [
       "  age hypertension heart_disease avg_glucose_level bmi  stroke\n",
       "1 67  0            1             228.69            36.6 1     \n",
       "2 61  0            0             202.21              NA 1     \n",
       "3 80  0            1             105.92            32.5 1     \n",
       "4 49  0            0             171.23            34.4 1     \n",
       "5 79  1            0             174.12            24.0 1     \n",
       "6 81  0            0             186.21            29.0 1     "
      ]
     },
     "metadata": {},
     "output_type": "display_data"
    }
   ],
   "source": [
    "head(stroke_clean)"
   ]
  },
  {
   "cell_type": "code",
   "execution_count": 5,
   "metadata": {},
   "outputs": [
    {
     "name": "stderr",
     "output_type": "stream",
     "text": [
      "Warning message:\n",
      "“`step_upsample()` is deprecated as of recipes 0.1.13.\n",
      "Please use `themis::step_upsample()` instead.\n",
      "\u001b[90mThis warning is displayed once every 8 hours.\u001b[39m\n",
      "\u001b[90mCall `lifecycle::last_warnings()` to see where this warning was generated.\u001b[39m”\n",
      "`summarise()` ungrouping output (override with `.groups` argument)\n",
      "\n"
     ]
    },
    {
     "data": {
      "text/html": [
       "<table>\n",
       "<caption>A tibble: 2 × 2</caption>\n",
       "<thead>\n",
       "\t<tr><th scope=col>stroke</th><th scope=col>n</th></tr>\n",
       "\t<tr><th scope=col>&lt;fct&gt;</th><th scope=col>&lt;int&gt;</th></tr>\n",
       "</thead>\n",
       "<tbody>\n",
       "\t<tr><td>0</td><td>4861</td></tr>\n",
       "\t<tr><td>1</td><td>4861</td></tr>\n",
       "</tbody>\n",
       "</table>\n"
      ],
      "text/latex": [
       "A tibble: 2 × 2\n",
       "\\begin{tabular}{ll}\n",
       " stroke & n\\\\\n",
       " <fct> & <int>\\\\\n",
       "\\hline\n",
       "\t 0 & 4861\\\\\n",
       "\t 1 & 4861\\\\\n",
       "\\end{tabular}\n"
      ],
      "text/markdown": [
       "\n",
       "A tibble: 2 × 2\n",
       "\n",
       "| stroke &lt;fct&gt; | n &lt;int&gt; |\n",
       "|---|---|\n",
       "| 0 | 4861 |\n",
       "| 1 | 4861 |\n",
       "\n"
      ],
      "text/plain": [
       "  stroke n   \n",
       "1 0      4861\n",
       "2 1      4861"
      ]
     },
     "metadata": {},
     "output_type": "display_data"
    },
    {
     "data": {
      "text/html": [
       "<table>\n",
       "<caption>A tibble: 6 × 6</caption>\n",
       "<thead>\n",
       "\t<tr><th scope=col>age</th><th scope=col>hypertension</th><th scope=col>heart_disease</th><th scope=col>avg_glucose_level</th><th scope=col>bmi</th><th scope=col>stroke</th></tr>\n",
       "\t<tr><th scope=col>&lt;dbl&gt;</th><th scope=col>&lt;dbl&gt;</th><th scope=col>&lt;dbl&gt;</th><th scope=col>&lt;dbl&gt;</th><th scope=col>&lt;dbl&gt;</th><th scope=col>&lt;fct&gt;</th></tr>\n",
       "</thead>\n",
       "<tbody>\n",
       "\t<tr><td>-1.7789432</td><td>-0.3285697</td><td>-0.2389234</td><td>-0.2435250</td><td>-1.3869550</td><td>0</td></tr>\n",
       "\t<tr><td> 0.6533240</td><td> 3.0428986</td><td>-0.2389234</td><td>-0.4016397</td><td> 1.3122836</td><td>0</td></tr>\n",
       "\t<tr><td>-1.5578280</td><td>-0.3285697</td><td>-0.2389234</td><td> 0.1047250</td><td>-1.4378840</td><td>0</td></tr>\n",
       "\t<tr><td> 1.1840005</td><td>-0.3285697</td><td>-0.2389234</td><td>-0.8194514</td><td> 0.8921191</td><td>0</td></tr>\n",
       "\t<tr><td>-1.2924898</td><td>-0.3285697</td><td>-0.2389234</td><td> 1.2174909</td><td>-1.2469001</td><td>0</td></tr>\n",
       "\t<tr><td> 0.1668706</td><td>-0.3285697</td><td>-0.2389234</td><td> 2.3143570</td><td> 2.7000997</td><td>0</td></tr>\n",
       "</tbody>\n",
       "</table>\n"
      ],
      "text/latex": [
       "A tibble: 6 × 6\n",
       "\\begin{tabular}{llllll}\n",
       " age & hypertension & heart\\_disease & avg\\_glucose\\_level & bmi & stroke\\\\\n",
       " <dbl> & <dbl> & <dbl> & <dbl> & <dbl> & <fct>\\\\\n",
       "\\hline\n",
       "\t -1.7789432 & -0.3285697 & -0.2389234 & -0.2435250 & -1.3869550 & 0\\\\\n",
       "\t  0.6533240 &  3.0428986 & -0.2389234 & -0.4016397 &  1.3122836 & 0\\\\\n",
       "\t -1.5578280 & -0.3285697 & -0.2389234 &  0.1047250 & -1.4378840 & 0\\\\\n",
       "\t  1.1840005 & -0.3285697 & -0.2389234 & -0.8194514 &  0.8921191 & 0\\\\\n",
       "\t -1.2924898 & -0.3285697 & -0.2389234 &  1.2174909 & -1.2469001 & 0\\\\\n",
       "\t  0.1668706 & -0.3285697 & -0.2389234 &  2.3143570 &  2.7000997 & 0\\\\\n",
       "\\end{tabular}\n"
      ],
      "text/markdown": [
       "\n",
       "A tibble: 6 × 6\n",
       "\n",
       "| age &lt;dbl&gt; | hypertension &lt;dbl&gt; | heart_disease &lt;dbl&gt; | avg_glucose_level &lt;dbl&gt; | bmi &lt;dbl&gt; | stroke &lt;fct&gt; |\n",
       "|---|---|---|---|---|---|\n",
       "| -1.7789432 | -0.3285697 | -0.2389234 | -0.2435250 | -1.3869550 | 0 |\n",
       "|  0.6533240 |  3.0428986 | -0.2389234 | -0.4016397 |  1.3122836 | 0 |\n",
       "| -1.5578280 | -0.3285697 | -0.2389234 |  0.1047250 | -1.4378840 | 0 |\n",
       "|  1.1840005 | -0.3285697 | -0.2389234 | -0.8194514 |  0.8921191 | 0 |\n",
       "| -1.2924898 | -0.3285697 | -0.2389234 |  1.2174909 | -1.2469001 | 0 |\n",
       "|  0.1668706 | -0.3285697 | -0.2389234 |  2.3143570 |  2.7000997 | 0 |\n",
       "\n"
      ],
      "text/plain": [
       "  age        hypertension heart_disease avg_glucose_level bmi        stroke\n",
       "1 -1.7789432 -0.3285697   -0.2389234    -0.2435250        -1.3869550 0     \n",
       "2  0.6533240  3.0428986   -0.2389234    -0.4016397         1.3122836 0     \n",
       "3 -1.5578280 -0.3285697   -0.2389234     0.1047250        -1.4378840 0     \n",
       "4  1.1840005 -0.3285697   -0.2389234    -0.8194514         0.8921191 0     \n",
       "5 -1.2924898 -0.3285697   -0.2389234     1.2174909        -1.2469001 0     \n",
       "6  0.1668706 -0.3285697   -0.2389234     2.3143570         2.7000997 0     "
      ]
     },
     "metadata": {},
     "output_type": "display_data"
    },
    {
     "data": {
      "text/html": [
       "<table>\n",
       "<caption>A tibble: 6 × 6</caption>\n",
       "<thead>\n",
       "\t<tr><th scope=col>age</th><th scope=col>hypertension</th><th scope=col>heart_disease</th><th scope=col>avg_glucose_level</th><th scope=col>bmi</th><th scope=col>stroke</th></tr>\n",
       "\t<tr><th scope=col>&lt;dbl&gt;</th><th scope=col>&lt;dbl&gt;</th><th scope=col>&lt;dbl&gt;</th><th scope=col>&lt;dbl&gt;</th><th scope=col>&lt;dbl&gt;</th><th scope=col>&lt;fct&gt;</th></tr>\n",
       "</thead>\n",
       "<tbody>\n",
       "\t<tr><td>1.1397775</td><td> 3.0428986</td><td> 4.1846225</td><td>-0.7503314</td><td>1.00670944</td><td>1</td></tr>\n",
       "\t<tr><td>0.6975471</td><td>-0.3285697</td><td>-0.2389234</td><td>-0.6624408</td><td>        NA</td><td>1</td></tr>\n",
       "\t<tr><td>0.0784245</td><td>-0.3285697</td><td>-0.2389234</td><td>-0.9276584</td><td>0.06452238</td><td>1</td></tr>\n",
       "\t<tr><td>0.2110936</td><td>-0.3285697</td><td>-0.2389234</td><td>-0.4846721</td><td>0.10271915</td><td>1</td></tr>\n",
       "\t<tr><td>0.9628853</td><td>-0.3285697</td><td>-0.2389234</td><td>-0.8329221</td><td>        NA</td><td>1</td></tr>\n",
       "\t<tr><td>1.7146770</td><td>-0.3285697</td><td> 4.1846225</td><td> 2.2558368</td><td>0.45922236</td><td>1</td></tr>\n",
       "</tbody>\n",
       "</table>\n"
      ],
      "text/latex": [
       "A tibble: 6 × 6\n",
       "\\begin{tabular}{llllll}\n",
       " age & hypertension & heart\\_disease & avg\\_glucose\\_level & bmi & stroke\\\\\n",
       " <dbl> & <dbl> & <dbl> & <dbl> & <dbl> & <fct>\\\\\n",
       "\\hline\n",
       "\t 1.1397775 &  3.0428986 &  4.1846225 & -0.7503314 & 1.00670944 & 1\\\\\n",
       "\t 0.6975471 & -0.3285697 & -0.2389234 & -0.6624408 &         NA & 1\\\\\n",
       "\t 0.0784245 & -0.3285697 & -0.2389234 & -0.9276584 & 0.06452238 & 1\\\\\n",
       "\t 0.2110936 & -0.3285697 & -0.2389234 & -0.4846721 & 0.10271915 & 1\\\\\n",
       "\t 0.9628853 & -0.3285697 & -0.2389234 & -0.8329221 &         NA & 1\\\\\n",
       "\t 1.7146770 & -0.3285697 &  4.1846225 &  2.2558368 & 0.45922236 & 1\\\\\n",
       "\\end{tabular}\n"
      ],
      "text/markdown": [
       "\n",
       "A tibble: 6 × 6\n",
       "\n",
       "| age &lt;dbl&gt; | hypertension &lt;dbl&gt; | heart_disease &lt;dbl&gt; | avg_glucose_level &lt;dbl&gt; | bmi &lt;dbl&gt; | stroke &lt;fct&gt; |\n",
       "|---|---|---|---|---|---|\n",
       "| 1.1397775 |  3.0428986 |  4.1846225 | -0.7503314 | 1.00670944 | 1 |\n",
       "| 0.6975471 | -0.3285697 | -0.2389234 | -0.6624408 |         NA | 1 |\n",
       "| 0.0784245 | -0.3285697 | -0.2389234 | -0.9276584 | 0.06452238 | 1 |\n",
       "| 0.2110936 | -0.3285697 | -0.2389234 | -0.4846721 | 0.10271915 | 1 |\n",
       "| 0.9628853 | -0.3285697 | -0.2389234 | -0.8329221 |         NA | 1 |\n",
       "| 1.7146770 | -0.3285697 |  4.1846225 |  2.2558368 | 0.45922236 | 1 |\n",
       "\n"
      ],
      "text/plain": [
       "  age       hypertension heart_disease avg_glucose_level bmi        stroke\n",
       "1 1.1397775  3.0428986    4.1846225    -0.7503314        1.00670944 1     \n",
       "2 0.6975471 -0.3285697   -0.2389234    -0.6624408                NA 1     \n",
       "3 0.0784245 -0.3285697   -0.2389234    -0.9276584        0.06452238 1     \n",
       "4 0.2110936 -0.3285697   -0.2389234    -0.4846721        0.10271915 1     \n",
       "5 0.9628853 -0.3285697   -0.2389234    -0.8329221                NA 1     \n",
       "6 1.7146770 -0.3285697    4.1846225     2.2558368        0.45922236 1     "
      ]
     },
     "metadata": {},
     "output_type": "display_data"
    }
   ],
   "source": [
    "# library(themis)\n",
    "ups_recipe <- recipe(stroke ~ ., data = stroke_clean) %>%\n",
    "    step_scale(all_predictors()) %>%\n",
    "    step_center(all_predictors()) %>%\n",
    "    step_upsample(stroke, over_ratio = 1, skip = FALSE) %>%\n",
    "    prep()\n",
    "\n",
    "upsampled_stroke <- bake(ups_recipe, stroke_clean)\n",
    "\n",
    "upsampled_stroke %>%\n",
    "  group_by(stroke) %>%\n",
    "  summarize(n = n())\n",
    "\n",
    "head(upsampled_stroke)\n",
    "tail(upsampled_stroke)\n",
    "stroke_clean <- upsampled_stroke"
   ]
  },
  {
   "cell_type": "markdown",
   "metadata": {},
   "source": [
    "### start ### DONT RUN THINGS IN THIS SECTION (skip to 'with predict')"
   ]
  },
  {
   "cell_type": "code",
   "execution_count": 6,
   "metadata": {},
   "outputs": [
    {
     "data": {
      "text/html": [
       "<style>\n",
       ".list-inline {list-style: none; margin:0; padding: 0}\n",
       ".list-inline>li {display: inline-block}\n",
       ".list-inline>li:not(:last-child)::after {content: \"\\00b7\"; padding: 0 .5ex}\n",
       "</style>\n",
       "<ol class=list-inline><li>'age'</li><li>'avg_glucose_level'</li><li>'bmi'</li><li>'heart_disease'</li><li>'hypertension'</li></ol>\n"
      ],
      "text/latex": [
       "\\begin{enumerate*}\n",
       "\\item 'age'\n",
       "\\item 'avg\\_glucose\\_level'\n",
       "\\item 'bmi'\n",
       "\\item 'heart\\_disease'\n",
       "\\item 'hypertension'\n",
       "\\end{enumerate*}\n"
      ],
      "text/markdown": [
       "1. 'age'\n",
       "2. 'avg_glucose_level'\n",
       "3. 'bmi'\n",
       "4. 'heart_disease'\n",
       "5. 'hypertension'\n",
       "\n",
       "\n"
      ],
      "text/plain": [
       "[1] \"age\"               \"avg_glucose_level\" \"bmi\"              \n",
       "[4] \"heart_disease\"     \"hypertension\"     "
      ]
     },
     "metadata": {},
     "output_type": "display_data"
    }
   ],
   "source": [
    "stroke_subset <- upsampled_stroke %>%\n",
    "    filter(!is.na(bmi))\n",
    "names <- colnames(stroke_clean %>% select(-stroke)) %>% sort()\n",
    "names"
   ]
  },
  {
   "cell_type": "code",
   "execution_count": 7,
   "metadata": {},
   "outputs": [
    {
     "data": {
      "text/html": [
       "'stroke ~ age+avg_glucose_level+bmi+heart_disease+hypertension'"
      ],
      "text/latex": [
       "'stroke \\textasciitilde{} age+avg\\_glucose\\_level+bmi+heart\\_disease+hypertension'"
      ],
      "text/markdown": [
       "'stroke ~ age+avg_glucose_level+bmi+heart_disease+hypertension'"
      ],
      "text/plain": [
       "[1] \"stroke ~ age+avg_glucose_level+bmi+heart_disease+hypertension\""
      ]
     },
     "metadata": {},
     "output_type": "display_data"
    }
   ],
   "source": [
    "example_formula <- paste(\"stroke\", \"~\", paste(names, collapse=\"+\"))\n",
    "example_formula"
   ]
  },
  {
   "cell_type": "code",
   "execution_count": 174,
   "metadata": {},
   "outputs": [
    {
     "data": {
      "text/html": [
       "<table>\n",
       "<caption>A tibble: 0 × 3</caption>\n",
       "<thead>\n",
       "\t<tr><th scope=col>size</th><th scope=col>model_string</th><th scope=col>accuracy</th></tr>\n",
       "\t<tr><th scope=col>&lt;int&gt;</th><th scope=col>&lt;chr&gt;</th><th scope=col>&lt;dbl&gt;</th></tr>\n",
       "</thead>\n",
       "<tbody>\n",
       "</tbody>\n",
       "</table>\n"
      ],
      "text/latex": [
       "A tibble: 0 × 3\n",
       "\\begin{tabular}{lll}\n",
       " size & model\\_string & accuracy\\\\\n",
       " <int> & <chr> & <dbl>\\\\\n",
       "\\hline\n",
       "\\end{tabular}\n"
      ],
      "text/markdown": [
       "\n",
       "A tibble: 0 × 3\n",
       "\n",
       "| size &lt;int&gt; | model_string &lt;chr&gt; | accuracy &lt;dbl&gt; |\n",
       "|---|---|---|\n",
       "\n"
      ],
      "text/plain": [
       "     size model_string accuracy"
      ]
     },
     "metadata": {},
     "output_type": "display_data"
    }
   ],
   "source": [
    "# create an empty tibble to store the results\n",
    "accuracies <- tibble(size = integer(), \n",
    "                     model_string = character(), \n",
    "                     accuracy = numeric())\n",
    "accuracies"
   ]
  },
  {
   "cell_type": "code",
   "execution_count": 175,
   "metadata": {},
   "outputs": [],
   "source": [
    "# create a model specification\n",
    "knn_spec <- nearest_neighbor(weight_func = \"rectangular\", \n",
    "                             neighbors = tune()) %>%\n",
    "     set_engine(\"kknn\") %>%\n",
    "     set_mode(\"classification\")\n",
    "\n",
    "# create a 5-fold cross-validation object\n",
    "stroke_vfold <- vfold_cv(stroke_subset, v = 5, strata = stroke)\n",
    "\n",
    "gridvals <- tibble(neighbors = seq(from = 1, to = 20, by = 2))"
   ]
  },
  {
   "cell_type": "code",
   "execution_count": 176,
   "metadata": {},
   "outputs": [],
   "source": [
    "# store the total number of predictors\n",
    "n_total <- length(names)\n",
    "\n",
    "# stores selected predictors\n",
    "selected <- c()"
   ]
  },
  {
   "cell_type": "code",
   "execution_count": 8,
   "metadata": {},
   "outputs": [
    {
     "ename": "ERROR",
     "evalue": "Error in eval(expr, envir, enclos): object 'n_total' not found\n",
     "output_type": "error",
     "traceback": [
      "Error in eval(expr, envir, enclos): object 'n_total' not found\nTraceback:\n"
     ]
    }
   ],
   "source": [
    "set.seed(31)\n",
    "# for every size from 1 to the total number of predictors\n",
    "for (i in 1:n_total) {\n",
    "    print(\"start\")\n",
    "    # for every predictor still not added yet\n",
    "    accs <- list()\n",
    "    models <- list()\n",
    "    for (j in 1:length(names)) {\n",
    "        # create a model string for this combination of predictors\n",
    "        preds_new <- c(selected, names[[j]])\n",
    "        model_string <- paste(\"stroke\", \"~\", paste(preds_new, collapse=\"+\"))\n",
    "        print(model_string)\n",
    "        \n",
    "        # create a recipe from the model string\n",
    "        stroke_recipe <- recipe(as.formula(model_string), \n",
    "                                data = stroke_subset) %>%\n",
    "                          step_scale(all_predictors()) %>%\n",
    "                          step_center(all_predictors())\n",
    "\n",
    "#         !!! how can i repeat the below step more to make it more accurate?\n",
    "        # tune the KNN classifier with these predictors, \n",
    "        # and collect the accuracy for the best K\n",
    "        acc <- workflow() %>%\n",
    "          add_recipe(stroke_recipe) %>%\n",
    "          add_model(knn_spec) %>%\n",
    "          tune_grid(resamples = stroke_vfold, grid = gridvals) %>%\n",
    "          collect_metrics() %>%\n",
    "          filter(.metric == \"accuracy\") %>%\n",
    "          summarize(mx = max(mean))\n",
    "        acc <- acc$mx %>% unlist()\n",
    "\n",
    "        # add this result to the dataframe\n",
    "        accs[[j]] <- acc\n",
    "        models[[j]] <- model_string\n",
    "    }\n",
    "    print(\"unlist\")\n",
    "    print(unlist(accs))\n",
    "    jstar <- which.max(unlist(accs))\n",
    "    accuracies <- accuracies %>% \n",
    "      add_row(size = i, \n",
    "              model_string = models[[jstar]], \n",
    "              accuracy = accs[[jstar]])\n",
    "    selected <- c(selected, names[[jstar]])\n",
    "    names <- names[-jstar]\n",
    "}\n"
   ]
  },
  {
   "cell_type": "code",
   "execution_count": 178,
   "metadata": {},
   "outputs": [
    {
     "data": {
      "text/html": [
       "<table>\n",
       "<caption>A tibble: 5 × 3</caption>\n",
       "<thead>\n",
       "\t<tr><th scope=col>size</th><th scope=col>model_string</th><th scope=col>accuracy</th></tr>\n",
       "\t<tr><th scope=col>&lt;int&gt;</th><th scope=col>&lt;chr&gt;</th><th scope=col>&lt;dbl&gt;</th></tr>\n",
       "</thead>\n",
       "<tbody>\n",
       "\t<tr><td>1</td><td>stroke ~ avg_glucose_level                                   </td><td>0.9387171</td></tr>\n",
       "\t<tr><td>2</td><td>stroke ~ avg_glucose_level+age                               </td><td>0.9744559</td></tr>\n",
       "\t<tr><td>3</td><td>stroke ~ avg_glucose_level+age+heart_disease                 </td><td>0.9741123</td></tr>\n",
       "\t<tr><td>4</td><td>stroke ~ avg_glucose_level+age+heart_disease+hypertension    </td><td>0.9749141</td></tr>\n",
       "\t<tr><td>5</td><td>stroke ~ avg_glucose_level+age+heart_disease+hypertension+bmi</td><td>0.9737686</td></tr>\n",
       "</tbody>\n",
       "</table>\n"
      ],
      "text/latex": [
       "A tibble: 5 × 3\n",
       "\\begin{tabular}{lll}\n",
       " size & model\\_string & accuracy\\\\\n",
       " <int> & <chr> & <dbl>\\\\\n",
       "\\hline\n",
       "\t 1 & stroke \\textasciitilde{} avg\\_glucose\\_level                                    & 0.9387171\\\\\n",
       "\t 2 & stroke \\textasciitilde{} avg\\_glucose\\_level+age                                & 0.9744559\\\\\n",
       "\t 3 & stroke \\textasciitilde{} avg\\_glucose\\_level+age+heart\\_disease                  & 0.9741123\\\\\n",
       "\t 4 & stroke \\textasciitilde{} avg\\_glucose\\_level+age+heart\\_disease+hypertension     & 0.9749141\\\\\n",
       "\t 5 & stroke \\textasciitilde{} avg\\_glucose\\_level+age+heart\\_disease+hypertension+bmi & 0.9737686\\\\\n",
       "\\end{tabular}\n"
      ],
      "text/markdown": [
       "\n",
       "A tibble: 5 × 3\n",
       "\n",
       "| size &lt;int&gt; | model_string &lt;chr&gt; | accuracy &lt;dbl&gt; |\n",
       "|---|---|---|\n",
       "| 1 | stroke ~ avg_glucose_level                                    | 0.9387171 |\n",
       "| 2 | stroke ~ avg_glucose_level+age                                | 0.9744559 |\n",
       "| 3 | stroke ~ avg_glucose_level+age+heart_disease                  | 0.9741123 |\n",
       "| 4 | stroke ~ avg_glucose_level+age+heart_disease+hypertension     | 0.9749141 |\n",
       "| 5 | stroke ~ avg_glucose_level+age+heart_disease+hypertension+bmi | 0.9737686 |\n",
       "\n"
      ],
      "text/plain": [
       "  size model_string                                                  accuracy \n",
       "1 1    stroke ~ avg_glucose_level                                    0.9387171\n",
       "2 2    stroke ~ avg_glucose_level+age                                0.9744559\n",
       "3 3    stroke ~ avg_glucose_level+age+heart_disease                  0.9741123\n",
       "4 4    stroke ~ avg_glucose_level+age+heart_disease+hypertension     0.9749141\n",
       "5 5    stroke ~ avg_glucose_level+age+heart_disease+hypertension+bmi 0.9737686"
      ]
     },
     "metadata": {},
     "output_type": "display_data"
    }
   ],
   "source": [
    "accuracies"
   ]
  },
  {
   "cell_type": "code",
   "execution_count": 165,
   "metadata": {},
   "outputs": [
    {
     "data": {
      "image/png": "[encoded data removed]",
      "text/plain": [
       "plot without title"
      ]
     },
     "metadata": {
      "image/png": {
       "height": 420,
       "width": 420
      }
     },
     "output_type": "display_data"
    }
   ],
   "source": [
    "ggplot(accuracies, aes(x=size, y=accuracy)) +\n",
    "geom_line()"
   ]
  },
  {
   "cell_type": "markdown",
   "metadata": {},
   "source": [
    "## with predict ##"
   ]
  },
  {
   "cell_type": "code",
   "execution_count": 19,
   "metadata": {},
   "outputs": [],
   "source": [
    "# data splitting\n",
    "set.seed(31)\n",
    "\n",
    "stroke_split <- initial_split(upsampled_stroke, prop = 0.75, strata = stroke)\n",
    "stroke_train <- training(stroke_split)\n",
    "stroke_test <- testing(stroke_split)"
   ]
  },
  {
   "cell_type": "code",
   "execution_count": 20,
   "metadata": {},
   "outputs": [],
   "source": [
    "stroke_recipe <- recipe(stroke ~ avg_glucose_level + hypertension, data = stroke_train) %>%\n",
    "  step_scale(all_predictors()) %>%\n",
    "  step_center(all_predictors())"
   ]
  },
  {
   "cell_type": "code",
   "execution_count": 21,
   "metadata": {},
   "outputs": [],
   "source": [
    "stroke_vfold <- vfold_cv(stroke_train, v = 5, strata = stroke)\n",
    "k_vals <- tibble(neighbors = seq(from = 1, to = 10, by = 1))"
   ]
  },
  {
   "cell_type": "code",
   "execution_count": 22,
   "metadata": {},
   "outputs": [],
   "source": [
    "knn_spec <- nearest_neighbor(weight_func = \"rectangular\", neighbors = tune()) %>%\n",
    "  set_engine(\"kknn\") %>%\n",
    "  set_mode(\"classification\")"
   ]
  },
  {
   "cell_type": "code",
   "execution_count": 23,
   "metadata": {},
   "outputs": [
    {
     "data": {
      "text/html": [
       "<table>\n",
       "<caption>A tibble: 20 × 7</caption>\n",
       "<thead>\n",
       "\t<tr><th scope=col>neighbors</th><th scope=col>.metric</th><th scope=col>.estimator</th><th scope=col>mean</th><th scope=col>n</th><th scope=col>std_err</th><th scope=col>.config</th></tr>\n",
       "\t<tr><th scope=col>&lt;dbl&gt;</th><th scope=col>&lt;chr&gt;</th><th scope=col>&lt;chr&gt;</th><th scope=col>&lt;dbl&gt;</th><th scope=col>&lt;int&gt;</th><th scope=col>&lt;dbl&gt;</th><th scope=col>&lt;chr&gt;</th></tr>\n",
       "</thead>\n",
       "<tbody>\n",
       "\t<tr><td> 1</td><td>accuracy</td><td>binary</td><td>0.9223808</td><td>5</td><td>0.0008479548</td><td>Model01</td></tr>\n",
       "\t<tr><td> 1</td><td>roc_auc </td><td>binary</td><td>0.9223808</td><td>5</td><td>0.0008479548</td><td>Model01</td></tr>\n",
       "\t<tr><td> 2</td><td>accuracy</td><td>binary</td><td>0.9226576</td><td>5</td><td>0.0037122146</td><td>Model02</td></tr>\n",
       "\t<tr><td> 2</td><td>roc_auc </td><td>binary</td><td>0.9555307</td><td>5</td><td>0.0021515454</td><td>Model02</td></tr>\n",
       "\t<tr><td> 3</td><td>accuracy</td><td>binary</td><td>0.9258104</td><td>5</td><td>0.0031155363</td><td>Model03</td></tr>\n",
       "\t<tr><td> 3</td><td>roc_auc </td><td>binary</td><td>0.9546790</td><td>5</td><td>0.0015471547</td><td>Model03</td></tr>\n",
       "\t<tr><td> 4</td><td>accuracy</td><td>binary</td><td>0.9258105</td><td>5</td><td>0.0033682530</td><td>Model04</td></tr>\n",
       "\t<tr><td> 4</td><td>roc_auc </td><td>binary</td><td>0.9536289</td><td>5</td><td>0.0018918386</td><td>Model04</td></tr>\n",
       "\t<tr><td> 5</td><td>accuracy</td><td>binary</td><td>0.8994797</td><td>5</td><td>0.0036403344</td><td>Model05</td></tr>\n",
       "\t<tr><td> 5</td><td>roc_auc </td><td>binary</td><td>0.9532575</td><td>5</td><td>0.0019364508</td><td>Model05</td></tr>\n",
       "\t<tr><td> 6</td><td>accuracy</td><td>binary</td><td>0.9004397</td><td>5</td><td>0.0034323073</td><td>Model06</td></tr>\n",
       "\t<tr><td> 6</td><td>roc_auc </td><td>binary</td><td>0.9528933</td><td>5</td><td>0.0020957969</td><td>Model06</td></tr>\n",
       "\t<tr><td> 7</td><td>accuracy</td><td>binary</td><td>0.8731494</td><td>5</td><td>0.0043269234</td><td>Model07</td></tr>\n",
       "\t<tr><td> 7</td><td>roc_auc </td><td>binary</td><td>0.9515674</td><td>5</td><td>0.0021782446</td><td>Model07</td></tr>\n",
       "\t<tr><td> 8</td><td>accuracy</td><td>binary</td><td>0.8731494</td><td>5</td><td>0.0043269234</td><td>Model08</td></tr>\n",
       "\t<tr><td> 8</td><td>roc_auc </td><td>binary</td><td>0.9486705</td><td>5</td><td>0.0020175201</td><td>Model08</td></tr>\n",
       "\t<tr><td> 9</td><td>accuracy</td><td>binary</td><td>0.8510692</td><td>5</td><td>0.0048696007</td><td>Model09</td></tr>\n",
       "\t<tr><td> 9</td><td>roc_auc </td><td>binary</td><td>0.9433674</td><td>5</td><td>0.0022635399</td><td>Model09</td></tr>\n",
       "\t<tr><td>10</td><td>accuracy</td><td>binary</td><td>0.8510692</td><td>5</td><td>0.0048696007</td><td>Model10</td></tr>\n",
       "\t<tr><td>10</td><td>roc_auc </td><td>binary</td><td>0.9358934</td><td>5</td><td>0.0026365670</td><td>Model10</td></tr>\n",
       "</tbody>\n",
       "</table>\n"
      ],
      "text/latex": [
       "A tibble: 20 × 7\n",
       "\\begin{tabular}{lllllll}\n",
       " neighbors & .metric & .estimator & mean & n & std\\_err & .config\\\\\n",
       " <dbl> & <chr> & <chr> & <dbl> & <int> & <dbl> & <chr>\\\\\n",
       "\\hline\n",
       "\t  1 & accuracy & binary & 0.9223808 & 5 & 0.0008479548 & Model01\\\\\n",
       "\t  1 & roc\\_auc  & binary & 0.9223808 & 5 & 0.0008479548 & Model01\\\\\n",
       "\t  2 & accuracy & binary & 0.9226576 & 5 & 0.0037122146 & Model02\\\\\n",
       "\t  2 & roc\\_auc  & binary & 0.9555307 & 5 & 0.0021515454 & Model02\\\\\n",
       "\t  3 & accuracy & binary & 0.9258104 & 5 & 0.0031155363 & Model03\\\\\n",
       "\t  3 & roc\\_auc  & binary & 0.9546790 & 5 & 0.0015471547 & Model03\\\\\n",
       "\t  4 & accuracy & binary & 0.9258105 & 5 & 0.0033682530 & Model04\\\\\n",
       "\t  4 & roc\\_auc  & binary & 0.9536289 & 5 & 0.0018918386 & Model04\\\\\n",
       "\t  5 & accuracy & binary & 0.8994797 & 5 & 0.0036403344 & Model05\\\\\n",
       "\t  5 & roc\\_auc  & binary & 0.9532575 & 5 & 0.0019364508 & Model05\\\\\n",
       "\t  6 & accuracy & binary & 0.9004397 & 5 & 0.0034323073 & Model06\\\\\n",
       "\t  6 & roc\\_auc  & binary & 0.9528933 & 5 & 0.0020957969 & Model06\\\\\n",
       "\t  7 & accuracy & binary & 0.8731494 & 5 & 0.0043269234 & Model07\\\\\n",
       "\t  7 & roc\\_auc  & binary & 0.9515674 & 5 & 0.0021782446 & Model07\\\\\n",
       "\t  8 & accuracy & binary & 0.8731494 & 5 & 0.0043269234 & Model08\\\\\n",
       "\t  8 & roc\\_auc  & binary & 0.9486705 & 5 & 0.0020175201 & Model08\\\\\n",
       "\t  9 & accuracy & binary & 0.8510692 & 5 & 0.0048696007 & Model09\\\\\n",
       "\t  9 & roc\\_auc  & binary & 0.9433674 & 5 & 0.0022635399 & Model09\\\\\n",
       "\t 10 & accuracy & binary & 0.8510692 & 5 & 0.0048696007 & Model10\\\\\n",
       "\t 10 & roc\\_auc  & binary & 0.9358934 & 5 & 0.0026365670 & Model10\\\\\n",
       "\\end{tabular}\n"
      ],
      "text/markdown": [
       "\n",
       "A tibble: 20 × 7\n",
       "\n",
       "| neighbors &lt;dbl&gt; | .metric &lt;chr&gt; | .estimator &lt;chr&gt; | mean &lt;dbl&gt; | n &lt;int&gt; | std_err &lt;dbl&gt; | .config &lt;chr&gt; |\n",
       "|---|---|---|---|---|---|---|\n",
       "|  1 | accuracy | binary | 0.9223808 | 5 | 0.0008479548 | Model01 |\n",
       "|  1 | roc_auc  | binary | 0.9223808 | 5 | 0.0008479548 | Model01 |\n",
       "|  2 | accuracy | binary | 0.9226576 | 5 | 0.0037122146 | Model02 |\n",
       "|  2 | roc_auc  | binary | 0.9555307 | 5 | 0.0021515454 | Model02 |\n",
       "|  3 | accuracy | binary | 0.9258104 | 5 | 0.0031155363 | Model03 |\n",
       "|  3 | roc_auc  | binary | 0.9546790 | 5 | 0.0015471547 | Model03 |\n",
       "|  4 | accuracy | binary | 0.9258105 | 5 | 0.0033682530 | Model04 |\n",
       "|  4 | roc_auc  | binary | 0.9536289 | 5 | 0.0018918386 | Model04 |\n",
       "|  5 | accuracy | binary | 0.8994797 | 5 | 0.0036403344 | Model05 |\n",
       "|  5 | roc_auc  | binary | 0.9532575 | 5 | 0.0019364508 | Model05 |\n",
       "|  6 | accuracy | binary | 0.9004397 | 5 | 0.0034323073 | Model06 |\n",
       "|  6 | roc_auc  | binary | 0.9528933 | 5 | 0.0020957969 | Model06 |\n",
       "|  7 | accuracy | binary | 0.8731494 | 5 | 0.0043269234 | Model07 |\n",
       "|  7 | roc_auc  | binary | 0.9515674 | 5 | 0.0021782446 | Model07 |\n",
       "|  8 | accuracy | binary | 0.8731494 | 5 | 0.0043269234 | Model08 |\n",
       "|  8 | roc_auc  | binary | 0.9486705 | 5 | 0.0020175201 | Model08 |\n",
       "|  9 | accuracy | binary | 0.8510692 | 5 | 0.0048696007 | Model09 |\n",
       "|  9 | roc_auc  | binary | 0.9433674 | 5 | 0.0022635399 | Model09 |\n",
       "| 10 | accuracy | binary | 0.8510692 | 5 | 0.0048696007 | Model10 |\n",
       "| 10 | roc_auc  | binary | 0.9358934 | 5 | 0.0026365670 | Model10 |\n",
       "\n"
      ],
      "text/plain": [
       "   neighbors .metric  .estimator mean      n std_err      .config\n",
       "1   1        accuracy binary     0.9223808 5 0.0008479548 Model01\n",
       "2   1        roc_auc  binary     0.9223808 5 0.0008479548 Model01\n",
       "3   2        accuracy binary     0.9226576 5 0.0037122146 Model02\n",
       "4   2        roc_auc  binary     0.9555307 5 0.0021515454 Model02\n",
       "5   3        accuracy binary     0.9258104 5 0.0031155363 Model03\n",
       "6   3        roc_auc  binary     0.9546790 5 0.0015471547 Model03\n",
       "7   4        accuracy binary     0.9258105 5 0.0033682530 Model04\n",
       "8   4        roc_auc  binary     0.9536289 5 0.0018918386 Model04\n",
       "9   5        accuracy binary     0.8994797 5 0.0036403344 Model05\n",
       "10  5        roc_auc  binary     0.9532575 5 0.0019364508 Model05\n",
       "11  6        accuracy binary     0.9004397 5 0.0034323073 Model06\n",
       "12  6        roc_auc  binary     0.9528933 5 0.0020957969 Model06\n",
       "13  7        accuracy binary     0.8731494 5 0.0043269234 Model07\n",
       "14  7        roc_auc  binary     0.9515674 5 0.0021782446 Model07\n",
       "15  8        accuracy binary     0.8731494 5 0.0043269234 Model08\n",
       "16  8        roc_auc  binary     0.9486705 5 0.0020175201 Model08\n",
       "17  9        accuracy binary     0.8510692 5 0.0048696007 Model09\n",
       "18  9        roc_auc  binary     0.9433674 5 0.0022635399 Model09\n",
       "19 10        accuracy binary     0.8510692 5 0.0048696007 Model10\n",
       "20 10        roc_auc  binary     0.9358934 5 0.0026365670 Model10"
      ]
     },
     "metadata": {},
     "output_type": "display_data"
    }
   ],
   "source": [
    "knn_results <- workflow() %>%\n",
    "  add_recipe(stroke_recipe) %>%\n",
    "  add_model(knn_spec) %>%\n",
    "  tune_grid(resamples = stroke_vfold, grid = k_vals) %>%\n",
    "  collect_metrics() \n",
    "knn_results"
   ]
  },
  {
   "cell_type": "code",
   "execution_count": 27,
   "metadata": {},
   "outputs": [
    {
     "data": {
      "text/html": [
       "<table>\n",
       "<caption>A tibble: 1 × 7</caption>\n",
       "<thead>\n",
       "\t<tr><th scope=col>neighbors</th><th scope=col>.metric</th><th scope=col>.estimator</th><th scope=col>mean</th><th scope=col>n</th><th scope=col>std_err</th><th scope=col>.config</th></tr>\n",
       "\t<tr><th scope=col>&lt;dbl&gt;</th><th scope=col>&lt;chr&gt;</th><th scope=col>&lt;chr&gt;</th><th scope=col>&lt;dbl&gt;</th><th scope=col>&lt;int&gt;</th><th scope=col>&lt;dbl&gt;</th><th scope=col>&lt;chr&gt;</th></tr>\n",
       "</thead>\n",
       "<tbody>\n",
       "\t<tr><td>4</td><td>accuracy</td><td>binary</td><td>0.9258105</td><td>5</td><td>0.003368253</td><td>Model04</td></tr>\n",
       "</tbody>\n",
       "</table>\n"
      ],
      "text/latex": [
       "A tibble: 1 × 7\n",
       "\\begin{tabular}{lllllll}\n",
       " neighbors & .metric & .estimator & mean & n & std\\_err & .config\\\\\n",
       " <dbl> & <chr> & <chr> & <dbl> & <int> & <dbl> & <chr>\\\\\n",
       "\\hline\n",
       "\t 4 & accuracy & binary & 0.9258105 & 5 & 0.003368253 & Model04\\\\\n",
       "\\end{tabular}\n"
      ],
      "text/markdown": [
       "\n",
       "A tibble: 1 × 7\n",
       "\n",
       "| neighbors &lt;dbl&gt; | .metric &lt;chr&gt; | .estimator &lt;chr&gt; | mean &lt;dbl&gt; | n &lt;int&gt; | std_err &lt;dbl&gt; | .config &lt;chr&gt; |\n",
       "|---|---|---|---|---|---|---|\n",
       "| 4 | accuracy | binary | 0.9258105 | 5 | 0.003368253 | Model04 |\n",
       "\n"
      ],
      "text/plain": [
       "  neighbors .metric  .estimator mean      n std_err     .config\n",
       "1 4         accuracy binary     0.9258105 5 0.003368253 Model04"
      ]
     },
     "metadata": {},
     "output_type": "display_data"
    },
    {
     "data": {
      "image/png": "[encoded data removed]",
      "text/plain": [
       "plot without title"
      ]
     },
     "metadata": {
      "image/png": {
       "height": 420,
       "width": 420
      }
     },
     "output_type": "display_data"
    }
   ],
   "source": [
    "accuracies <- knn_results %>% # Plot accuracies vs neighbours\n",
    "  filter(.metric == \"accuracy\")\n",
    "\n",
    "# This plot \n",
    "accuracies_vs_ks <- accuracies %>%\n",
    "    ggplot(aes(x=neighbors, y=mean)) +\n",
    "    geom_point() +\n",
    "    geom_line() +\n",
    "    ggtitle(\"Number of Neighbors vs Model Accuracy\") +\n",
    "    labs(x=\"Neighbors\", y=\"Accuracy\") +\n",
    "    theme(text = element_text(size=15)) +\n",
    "    scale_x_continuous(breaks=c(1:10))\n",
    "\n",
    "accuracies_vs_ks\n",
    "\n",
    "# This is the optimal number of neighbors, found by determining the max accuracy \n",
    "\n",
    "optimal_neighbours <- accuracies %>%\n",
    "  filter(mean == max(mean))\n",
    "optimal_neighbours"
   ]
  },
  {
   "cell_type": "markdown",
   "metadata": {},
   "source": [
    "## Model Construction ##"
   ]
  },
  {
   "cell_type": "code",
   "execution_count": 31,
   "metadata": {},
   "outputs": [
    {
     "data": {
      "text/plain": [
       "══ Workflow [trained] ══════════════════════════════════════════════════════════\n",
       "\u001b[3mPreprocessor:\u001b[23m Recipe\n",
       "\u001b[3mModel:\u001b[23m nearest_neighbor()\n",
       "\n",
       "── Preprocessor ────────────────────────────────────────────────────────────────\n",
       "2 Recipe Steps\n",
       "\n",
       "● step_scale()\n",
       "● step_center()\n",
       "\n",
       "── Model ───────────────────────────────────────────────────────────────────────\n",
       "\n",
       "Call:\n",
       "kknn::train.kknn(formula = ..y ~ ., data = data, ks = ~4, kernel = ~\"rectangular\")\n",
       "\n",
       "Type of response variable: nominal\n",
       "Minimal misclassification: 0.05869446\n",
       "Best kernel: rectangular\n",
       "Best k: 4"
      ]
     },
     "metadata": {},
     "output_type": "display_data"
    }
   ],
   "source": [
    "stroke_spec <- nearest_neighbor(weight_func = \"rectangular\", neighbors = 4) %>%\n",
    "  set_engine(\"kknn\") %>%\n",
    "  set_mode(\"classification\")\n",
    "\n",
    "stroke_recipe <- recipe(stroke ~ avg_glucose_level + hypertension, data = stroke_train) %>%\n",
    "  step_scale(all_predictors()) %>%\n",
    "  step_center(all_predictors())\n",
    "\n",
    "stroke_fit <- workflow() %>%\n",
    "  add_recipe(stroke_recipe) %>%\n",
    "  add_model(stroke_spec) %>%\n",
    "  fit(data = stroke_train)\n",
    "stroke_fit\n"
   ]
  },
  {
   "cell_type": "markdown",
   "metadata": {},
   "source": [
    "## Test Set Prediction ##"
   ]
  },
  {
   "cell_type": "code",
   "execution_count": 36,
   "metadata": {},
   "outputs": [
    {
     "data": {
      "text/html": [
       "<table>\n",
       "<caption>A tibble: 1 × 3</caption>\n",
       "<thead>\n",
       "\t<tr><th scope=col>.metric</th><th scope=col>.estimator</th><th scope=col>.estimate</th></tr>\n",
       "\t<tr><th scope=col>&lt;chr&gt;</th><th scope=col>&lt;chr&gt;</th><th scope=col>&lt;dbl&gt;</th></tr>\n",
       "</thead>\n",
       "<tbody>\n",
       "\t<tr><td>accuracy</td><td>binary</td><td>0.9403292</td></tr>\n",
       "</tbody>\n",
       "</table>\n"
      ],
      "text/latex": [
       "A tibble: 1 × 3\n",
       "\\begin{tabular}{lll}\n",
       " .metric & .estimator & .estimate\\\\\n",
       " <chr> & <chr> & <dbl>\\\\\n",
       "\\hline\n",
       "\t accuracy & binary & 0.9403292\\\\\n",
       "\\end{tabular}\n"
      ],
      "text/markdown": [
       "\n",
       "A tibble: 1 × 3\n",
       "\n",
       "| .metric &lt;chr&gt; | .estimator &lt;chr&gt; | .estimate &lt;dbl&gt; |\n",
       "|---|---|---|\n",
       "| accuracy | binary | 0.9403292 |\n",
       "\n"
      ],
      "text/plain": [
       "  .metric  .estimator .estimate\n",
       "1 accuracy binary     0.9403292"
      ]
     },
     "metadata": {},
     "output_type": "display_data"
    },
    {
     "data": {
      "text/plain": [
       "          Truth\n",
       "Prediction    0    1\n",
       "         0 1074    4\n",
       "         1  141 1211"
      ]
     },
     "metadata": {},
     "output_type": "display_data"
    }
   ],
   "source": [
    "stroke_test_predictions <- predict(stroke_fit, stroke_test) %>%\n",
    "  bind_cols(stroke_test)\n",
    "\n",
    "stroke_test_accuracies <- stroke_test_predictions %>%\n",
    "  metrics(truth = stroke, estimate = .pred_class) %>%\n",
    "  filter(.metric == \"accuracy\")\n",
    "\n",
    "stroke_test_accuracies\n",
    "\n",
    "\n",
    "stroke_confusion_mat <- stroke_test_predictions %>%\n",
    "             conf_mat(truth = stroke, estimate = .pred_class)\n",
    "\n",
    "stroke_confusion_mat"
   ]
  },
  {
   "cell_type": "markdown",
   "metadata": {},
   "source": [
    "### Performance Analysis ###\n",
    "\n",
    "For this model, an accuracy of 94.03292% was achieved.\n",
    "\n",
    "When observing the confusion matrix for the model's classification of test data, we see that type 1 error is much more prevalent, meaning false positives are assigned to patients who in reality will not experience a stroke. On the other hand, type 2 error is very low. In the case of preventative medicine, which is the aim of this classifier, false positives are much less serious than false negatives as it will simply mean patients will likel taking further precautions to prevent stroke occurance. "
   ]
  },
  {
   "cell_type": "markdown",
   "metadata": {},
   "source": [
    "# for every size from 1 to the total number of predictors\n",
    "for (i in 1:n_total) {\n",
    "    # for every predictor still not added yet\n",
    "    accs <- list()\n",
    "    models <- list()\n",
    "    for (j in 1:length(names)) {\n",
    "        # create a model string for this combination of predictors\n",
    "        preds_new <- c(selected, names[[j]])\n",
    "        model_string <- paste(\"stroke\", \"~\", paste(preds_new, collapse=\"+\"))\n",
    "        \n",
    "        # create a recipe from the model string\n",
    "        stroke_recipe <- recipe(as.formula(model_string), \n",
    "                                data = stroke_subset) %>%\n",
    "                          step_scale(all_predictors()) %>%\n",
    "                          step_center(all_predictors())\n",
    "\n",
    "        # tune the KNN classifier with these predictors, \n",
    "        # and collect the accuracy for the best K\n",
    "        acc <- workflow() %>%\n",
    "          add_recipe(stroke_recipe) %>%\n",
    "          add_model(knn_spec) %>%\n",
    "          tune_grid(resamples = stroke_vfold, grid = 10) %>%\n",
    "          collect_metrics() %>%\n",
    "          filter(.metric == \"accuracy\") %>%\n",
    "          summarize(mx = max(mean))\n",
    "        acc <- acc$mx %>% unlist()\n",
    "\n",
    "        # add this result to the dataframe\n",
    "        accs[[j]] <- acc\n",
    "        models[[j]] <- model_string\n",
    "    }\n",
    "    jstar <- which.max(unlist(accs))\n",
    "    accuracies <- accuracies %>% \n",
    "      add_row(size = i, \n",
    "              model_string = models[[jstar]], \n",
    "              accuracy = accs[[jstar]])\n",
    "    selected <- c(selected, names[[jstar]])\n",
    "    names <- names[-jstar]\n",
    "}\n",
    "accuracies"
   ]
  }
 ],
 "metadata": {
  "kernelspec": {
   "display_name": "R",
   "language": "R",
   "name": "ir"
  },
  "language_info": {
   "codemirror_mode": "r",
   "file_extension": ".r",
   "mimetype": "text/x-r-source",
   "name": "R",
   "pygments_lexer": "r",
   "version": "4.0.0"
  }
 },
 "nbformat": 4,
 "nbformat_minor": 4
}
