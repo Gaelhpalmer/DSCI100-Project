{
 "cells": [
  {
   "cell_type": "markdown",
   "metadata": {},
   "source": [
    "## Predictor variable selection ## "
   ]
  },
  {
   "cell_type": "markdown",
   "metadata": {},
   "source": [
    "#### forward selection (Eforymson 1966; Draper and Smith 1966) ####"
   ]
  },
  {
   "cell_type": "markdown",
   "metadata": {},
   "source": [
    "Iteratively build up a model by adding one predictor variable at a time, starting one with no predictors."
   ]
  },
  {
   "cell_type": "markdown",
   "metadata": {},
   "source": [
    "Run the following 3 steps until you run out of predictors:\n",
    "1. For each unused predictor, add it to the model to form a candidate model.\n",
    "2. Tune all of the candidate models.\n",
    "3. Update the model to be the candidate model with the highest cross-validation accuracy.\n",
    "\n",
    "Select the model that provides the best trade-off between accuracy and simplicity."
   ]
  },
  {
   "cell_type": "markdown",
   "metadata": {},
   "source": [
    "### set-up ###"
   ]
  },
  {
   "cell_type": "code",
   "execution_count": 175,
   "metadata": {},
   "outputs": [],
   "source": [
    "# loading packages\n",
    "library(repr)\n",
    "library(tidyverse)\n",
    "library(tidymodels)\n",
    "# library(themis)"
   ]
  },
  {
   "cell_type": "code",
   "execution_count": 176,
   "metadata": {},
   "outputs": [
    {
     "name": "stderr",
     "output_type": "stream",
     "text": [
      "Parsed with column specification:\n",
      "cols(\n",
      "  id = \u001b[32mcol_double()\u001b[39m,\n",
      "  gender = \u001b[31mcol_character()\u001b[39m,\n",
      "  age = \u001b[32mcol_double()\u001b[39m,\n",
      "  hypertension = \u001b[32mcol_double()\u001b[39m,\n",
      "  heart_disease = \u001b[32mcol_double()\u001b[39m,\n",
      "  ever_married = \u001b[31mcol_character()\u001b[39m,\n",
      "  work_type = \u001b[31mcol_character()\u001b[39m,\n",
      "  Residence_type = \u001b[31mcol_character()\u001b[39m,\n",
      "  avg_glucose_level = \u001b[32mcol_double()\u001b[39m,\n",
      "  bmi = \u001b[31mcol_character()\u001b[39m,\n",
      "  smoking_status = \u001b[31mcol_character()\u001b[39m,\n",
      "  stroke = \u001b[32mcol_double()\u001b[39m\n",
      ")\n",
      "\n"
     ]
    },
    {
     "data": {
      "text/html": [
       "<style>\n",
       ".list-inline {list-style: none; margin:0; padding: 0}\n",
       ".list-inline>li {display: inline-block}\n",
       ".list-inline>li:not(:last-child)::after {content: \"\\00b7\"; padding: 0 .5ex}\n",
       "</style>\n",
       "<ol class=list-inline><li>'id'</li><li>'gender'</li><li>'age'</li><li>'hypertension'</li><li>'heart_disease'</li><li>'ever_married'</li><li>'work_type'</li><li>'Residence_type'</li><li>'avg_glucose_level'</li><li>'bmi'</li><li>'smoking_status'</li><li>'stroke'</li></ol>\n"
      ],
      "text/latex": [
       "\\begin{enumerate*}\n",
       "\\item 'id'\n",
       "\\item 'gender'\n",
       "\\item 'age'\n",
       "\\item 'hypertension'\n",
       "\\item 'heart\\_disease'\n",
       "\\item 'ever\\_married'\n",
       "\\item 'work\\_type'\n",
       "\\item 'Residence\\_type'\n",
       "\\item 'avg\\_glucose\\_level'\n",
       "\\item 'bmi'\n",
       "\\item 'smoking\\_status'\n",
       "\\item 'stroke'\n",
       "\\end{enumerate*}\n"
      ],
      "text/markdown": [
       "1. 'id'\n",
       "2. 'gender'\n",
       "3. 'age'\n",
       "4. 'hypertension'\n",
       "5. 'heart_disease'\n",
       "6. 'ever_married'\n",
       "7. 'work_type'\n",
       "8. 'Residence_type'\n",
       "9. 'avg_glucose_level'\n",
       "10. 'bmi'\n",
       "11. 'smoking_status'\n",
       "12. 'stroke'\n",
       "\n",
       "\n"
      ],
      "text/plain": [
       " [1] \"id\"                \"gender\"            \"age\"              \n",
       " [4] \"hypertension\"      \"heart_disease\"     \"ever_married\"     \n",
       " [7] \"work_type\"         \"Residence_type\"    \"avg_glucose_level\"\n",
       "[10] \"bmi\"               \"smoking_status\"    \"stroke\"           "
      ]
     },
     "metadata": {},
     "output_type": "display_data"
    }
   ],
   "source": [
    "# loading data\n",
    "stroke <- read_csv(\"data/stroke-data.csv\")\n",
    "colnames(stroke)\n",
    "seed <- 31"
   ]
  },
  {
   "cell_type": "code",
   "execution_count": 177,
   "metadata": {},
   "outputs": [
    {
     "name": "stderr",
     "output_type": "stream",
     "text": [
      "Warning message:\n",
      "“Problem with `mutate()` input `bmi`.\n",
      "\u001b[34mℹ\u001b[39m NAs introduced by coercion\n",
      "\u001b[34mℹ\u001b[39m Input `bmi` is `as.numeric(bmi)`.”\n",
      "Warning message in mask$eval_all_mutate(dots[[i]]):\n",
      "“NAs introduced by coercion”\n"
     ]
    }
   ],
   "source": [
    "# prep and bake data with upsampling, then use it with everything\n",
    "# gonna overfit data, data leakage\n",
    "stroke_clean <- stroke %>%\n",
    "    select(age, hypertension, heart_disease, avg_glucose_level, bmi, stroke) %>%\n",
    "    mutate(stroke = as_factor(stroke),\n",
    "           bmi = as.numeric(bmi)) "
   ]
  },
  {
   "cell_type": "markdown",
   "metadata": {},
   "source": [
    "#### Split data"
   ]
  },
  {
   "cell_type": "code",
   "execution_count": 178,
   "metadata": {},
   "outputs": [],
   "source": [
    "set.seed(seed)\n",
    "stroke_split <- initial_split(stroke_clean, prop = 0.75, strata = stroke)\n",
    "stroke_train <- training(stroke_split)\n",
    "stroke_test <- testing(stroke_split)\n",
    "\n",
    "\n",
    "set.seed(seed)\n",
    "standardize_recipe <- recipe(stroke ~ ., data = stroke_test) %>%\n",
    "    step_scale(all_predictors()) %>%\n",
    "    step_center(all_predictors()) %>%\n",
    "    prep()\n",
    "\n",
    "stroke_test_standardized <- bake(standardize_recipe, stroke_test)"
   ]
  },
  {
   "cell_type": "markdown",
   "metadata": {},
   "source": [
    "### Downsampling"
   ]
  },
  {
   "cell_type": "code",
   "execution_count": 179,
   "metadata": {},
   "outputs": [
    {
     "name": "stderr",
     "output_type": "stream",
     "text": [
      "`summarise()` ungrouping output (override with `.groups` argument)\n",
      "\n"
     ]
    },
    {
     "data": {
      "text/html": [
       "<table>\n",
       "<caption>A tibble: 2 × 2</caption>\n",
       "<thead>\n",
       "\t<tr><th scope=col>stroke</th><th scope=col>n</th></tr>\n",
       "\t<tr><th scope=col>&lt;fct&gt;</th><th scope=col>&lt;int&gt;</th></tr>\n",
       "</thead>\n",
       "<tbody>\n",
       "\t<tr><td>0</td><td>189</td></tr>\n",
       "\t<tr><td>1</td><td>189</td></tr>\n",
       "</tbody>\n",
       "</table>\n"
      ],
      "text/latex": [
       "A tibble: 2 × 2\n",
       "\\begin{tabular}{ll}\n",
       " stroke & n\\\\\n",
       " <fct> & <int>\\\\\n",
       "\\hline\n",
       "\t 0 & 189\\\\\n",
       "\t 1 & 189\\\\\n",
       "\\end{tabular}\n"
      ],
      "text/markdown": [
       "\n",
       "A tibble: 2 × 2\n",
       "\n",
       "| stroke &lt;fct&gt; | n &lt;int&gt; |\n",
       "|---|---|\n",
       "| 0 | 189 |\n",
       "| 1 | 189 |\n",
       "\n"
      ],
      "text/plain": [
       "  stroke n  \n",
       "1 0      189\n",
       "2 1      189"
      ]
     },
     "metadata": {},
     "output_type": "display_data"
    }
   ],
   "source": [
    "set.seed(seed)\n",
    "ds_recipe <- recipe(stroke ~ ., data = stroke_train) %>%\n",
    "    step_scale(all_predictors()) %>%\n",
    "    step_center(all_predictors()) %>%\n",
    "    step_downsample(stroke, under_ratio = 1, skip = FALSE) %>%\n",
    "    prep()\n",
    "dsampled_stroke <- bake(ds_recipe, stroke_train)\n",
    "\n",
    "dsampled_stroke %>%\n",
    "    group_by(stroke) %>%\n",
    "    summarize(n = n())"
   ]
  },
  {
   "cell_type": "markdown",
   "metadata": {},
   "source": [
    "### Forward Selection"
   ]
  },
  {
   "cell_type": "code",
   "execution_count": 180,
   "metadata": {},
   "outputs": [],
   "source": [
    "# DOWNSAMPLE here!!!"
   ]
  },
  {
   "cell_type": "code",
   "execution_count": 181,
   "metadata": {},
   "outputs": [
    {
     "data": {
      "text/html": [
       "<style>\n",
       ".list-inline {list-style: none; margin:0; padding: 0}\n",
       ".list-inline>li {display: inline-block}\n",
       ".list-inline>li:not(:last-child)::after {content: \"\\00b7\"; padding: 0 .5ex}\n",
       "</style>\n",
       "<ol class=list-inline><li>'age'</li><li>'hypertension'</li><li>'heart_disease'</li><li>'avg_glucose_level'</li><li>'bmi'</li></ol>\n"
      ],
      "text/latex": [
       "\\begin{enumerate*}\n",
       "\\item 'age'\n",
       "\\item 'hypertension'\n",
       "\\item 'heart\\_disease'\n",
       "\\item 'avg\\_glucose\\_level'\n",
       "\\item 'bmi'\n",
       "\\end{enumerate*}\n"
      ],
      "text/markdown": [
       "1. 'age'\n",
       "2. 'hypertension'\n",
       "3. 'heart_disease'\n",
       "4. 'avg_glucose_level'\n",
       "5. 'bmi'\n",
       "\n",
       "\n"
      ],
      "text/plain": [
       "[1] \"age\"               \"hypertension\"      \"heart_disease\"    \n",
       "[4] \"avg_glucose_level\" \"bmi\"              "
      ]
     },
     "metadata": {},
     "output_type": "display_data"
    }
   ],
   "source": [
    "stroke_subset <- dsampled_stroke %>%\n",
    "    filter(!is.na(bmi))\n",
    "names <- colnames(dsampled_stroke %>% select(-stroke))\n",
    "names"
   ]
  },
  {
   "cell_type": "code",
   "execution_count": 182,
   "metadata": {},
   "outputs": [
    {
     "data": {
      "text/html": [
       "'stroke ~ age+hypertension+heart_disease+avg_glucose_level+bmi'"
      ],
      "text/latex": [
       "'stroke \\textasciitilde{} age+hypertension+heart\\_disease+avg\\_glucose\\_level+bmi'"
      ],
      "text/markdown": [
       "'stroke ~ age+hypertension+heart_disease+avg_glucose_level+bmi'"
      ],
      "text/plain": [
       "[1] \"stroke ~ age+hypertension+heart_disease+avg_glucose_level+bmi\""
      ]
     },
     "metadata": {},
     "output_type": "display_data"
    }
   ],
   "source": [
    "example_formula <- paste(\"stroke\", \"~\", paste(names, collapse=\"+\"))\n",
    "example_formula"
   ]
  },
  {
   "cell_type": "code",
   "execution_count": 183,
   "metadata": {},
   "outputs": [
    {
     "data": {
      "text/html": [
       "<table>\n",
       "<caption>A tibble: 0 × 3</caption>\n",
       "<thead>\n",
       "\t<tr><th scope=col>size</th><th scope=col>model_string</th><th scope=col>accuracy</th></tr>\n",
       "\t<tr><th scope=col>&lt;int&gt;</th><th scope=col>&lt;chr&gt;</th><th scope=col>&lt;dbl&gt;</th></tr>\n",
       "</thead>\n",
       "<tbody>\n",
       "</tbody>\n",
       "</table>\n"
      ],
      "text/latex": [
       "A tibble: 0 × 3\n",
       "\\begin{tabular}{lll}\n",
       " size & model\\_string & accuracy\\\\\n",
       " <int> & <chr> & <dbl>\\\\\n",
       "\\hline\n",
       "\\end{tabular}\n"
      ],
      "text/markdown": [
       "\n",
       "A tibble: 0 × 3\n",
       "\n",
       "| size &lt;int&gt; | model_string &lt;chr&gt; | accuracy &lt;dbl&gt; |\n",
       "|---|---|---|\n",
       "\n"
      ],
      "text/plain": [
       "     size model_string accuracy"
      ]
     },
     "metadata": {},
     "output_type": "display_data"
    }
   ],
   "source": [
    "# create an empty tibble to store the results\n",
    "accuracies <- tibble(size = integer(), \n",
    "                     model_string = character(), \n",
    "                     accuracy = numeric())\n",
    "accuracies"
   ]
  },
  {
   "cell_type": "code",
   "execution_count": 184,
   "metadata": {},
   "outputs": [],
   "source": [
    "# create a model specification\n",
    "knn_spec <- nearest_neighbor(weight_func = \"rectangular\", \n",
    "                             neighbors = tune()) %>%\n",
    "     set_engine(\"kknn\") %>%\n",
    "     set_mode(\"classification\")\n",
    "\n",
    "# create a 5-fold cross-validation object\n",
    "stroke_vfold <- vfold_cv(stroke_subset, v = 5, strata = stroke)\n",
    "\n",
    "# This value was chosen for gridvals to increase the accuracy of the forward selection, while making it so that the forward selection did not take\n",
    "# too long to run\n",
    "gridvals <- tibble(neighbors = seq(from = 1, to = 20, by = 5))"
   ]
  },
  {
   "cell_type": "code",
   "execution_count": 185,
   "metadata": {},
   "outputs": [],
   "source": [
    "# store the total number of predictors\n",
    "n_total <- length(names)\n",
    "\n",
    "# stores selected predictors\n",
    "selected <- c()"
   ]
  },
  {
   "cell_type": "code",
   "execution_count": 186,
   "metadata": {},
   "outputs": [
    {
     "name": "stdout",
     "output_type": "stream",
     "text": [
      "[1] \"start\"\n",
      "[1] \"stroke ~ age\"\n",
      "[1] \"stroke ~ hypertension\"\n",
      "[1] \"stroke ~ heart_disease\"\n",
      "[1] \"stroke ~ avg_glucose_level\"\n",
      "[1] \"stroke ~ bmi\"\n",
      "[1] \"unlist\"\n",
      "[1] 0.7179454 0.6280477 0.5872123 0.6512788 0.5319267\n",
      "[1] \"start\"\n",
      "[1] \"stroke ~ age+hypertension\"\n",
      "[1] \"stroke ~ age+heart_disease\"\n",
      "[1] \"stroke ~ age+avg_glucose_level\"\n",
      "[1] \"stroke ~ age+bmi\"\n",
      "[1] \"unlist\"\n",
      "[1] 0.7470162 0.7410912 0.7528559 0.7414749\n",
      "[1] \"start\"\n",
      "[1] \"stroke ~ age+avg_glucose_level+hypertension\"\n",
      "[1] \"stroke ~ age+avg_glucose_level+heart_disease\"\n",
      "[1] \"stroke ~ age+avg_glucose_level+bmi\"\n",
      "[1] \"unlist\"\n",
      "[1] 0.7673913 0.7323956 0.7325661\n",
      "[1] \"start\"\n",
      "[1] \"stroke ~ age+avg_glucose_level+hypertension+heart_disease\"\n",
      "[1] \"stroke ~ age+avg_glucose_level+hypertension+bmi\"\n",
      "[1] \"unlist\"\n",
      "[1] 0.7527280 0.7412191\n",
      "[1] \"start\"\n",
      "[1] \"stroke ~ age+avg_glucose_level+hypertension+heart_disease+bmi\"\n",
      "[1] \"unlist\"\n",
      "[1] 0.735422\n"
     ]
    },
    {
     "data": {
      "text/html": [
       "<table>\n",
       "<caption>A tibble: 5 × 3</caption>\n",
       "<thead>\n",
       "\t<tr><th scope=col>size</th><th scope=col>model_string</th><th scope=col>accuracy</th></tr>\n",
       "\t<tr><th scope=col>&lt;int&gt;</th><th scope=col>&lt;chr&gt;</th><th scope=col>&lt;dbl&gt;</th></tr>\n",
       "</thead>\n",
       "<tbody>\n",
       "\t<tr><td>1</td><td>stroke ~ age                                                 </td><td>0.7179454</td></tr>\n",
       "\t<tr><td>2</td><td>stroke ~ age+avg_glucose_level                               </td><td>0.7528559</td></tr>\n",
       "\t<tr><td>3</td><td>stroke ~ age+avg_glucose_level+hypertension                  </td><td>0.7673913</td></tr>\n",
       "\t<tr><td>4</td><td>stroke ~ age+avg_glucose_level+hypertension+heart_disease    </td><td>0.7527280</td></tr>\n",
       "\t<tr><td>5</td><td>stroke ~ age+avg_glucose_level+hypertension+heart_disease+bmi</td><td>0.7354220</td></tr>\n",
       "</tbody>\n",
       "</table>\n"
      ],
      "text/latex": [
       "A tibble: 5 × 3\n",
       "\\begin{tabular}{lll}\n",
       " size & model\\_string & accuracy\\\\\n",
       " <int> & <chr> & <dbl>\\\\\n",
       "\\hline\n",
       "\t 1 & stroke \\textasciitilde{} age                                                  & 0.7179454\\\\\n",
       "\t 2 & stroke \\textasciitilde{} age+avg\\_glucose\\_level                                & 0.7528559\\\\\n",
       "\t 3 & stroke \\textasciitilde{} age+avg\\_glucose\\_level+hypertension                   & 0.7673913\\\\\n",
       "\t 4 & stroke \\textasciitilde{} age+avg\\_glucose\\_level+hypertension+heart\\_disease     & 0.7527280\\\\\n",
       "\t 5 & stroke \\textasciitilde{} age+avg\\_glucose\\_level+hypertension+heart\\_disease+bmi & 0.7354220\\\\\n",
       "\\end{tabular}\n"
      ],
      "text/markdown": [
       "\n",
       "A tibble: 5 × 3\n",
       "\n",
       "| size &lt;int&gt; | model_string &lt;chr&gt; | accuracy &lt;dbl&gt; |\n",
       "|---|---|---|\n",
       "| 1 | stroke ~ age                                                  | 0.7179454 |\n",
       "| 2 | stroke ~ age+avg_glucose_level                                | 0.7528559 |\n",
       "| 3 | stroke ~ age+avg_glucose_level+hypertension                   | 0.7673913 |\n",
       "| 4 | stroke ~ age+avg_glucose_level+hypertension+heart_disease     | 0.7527280 |\n",
       "| 5 | stroke ~ age+avg_glucose_level+hypertension+heart_disease+bmi | 0.7354220 |\n",
       "\n"
      ],
      "text/plain": [
       "  size model_string                                                  accuracy \n",
       "1 1    stroke ~ age                                                  0.7179454\n",
       "2 2    stroke ~ age+avg_glucose_level                                0.7528559\n",
       "3 3    stroke ~ age+avg_glucose_level+hypertension                   0.7673913\n",
       "4 4    stroke ~ age+avg_glucose_level+hypertension+heart_disease     0.7527280\n",
       "5 5    stroke ~ age+avg_glucose_level+hypertension+heart_disease+bmi 0.7354220"
      ]
     },
     "metadata": {},
     "output_type": "display_data"
    }
   ],
   "source": [
    "set.seed(seed)\n",
    "# Note: takes about 30s to run\n",
    "# for every size from 1 to the total number of predictors\n",
    "for (i in 1:n_total) {\n",
    "    print(\"start\")\n",
    "    # for every predictor still not added yet\n",
    "    accs <- list()\n",
    "    models <- list()\n",
    "    for (j in 1:length(names)) {\n",
    "        # create a model string for this combination of predictors\n",
    "        preds_new <- c(selected, names[[j]])\n",
    "        model_string <- paste(\"stroke\", \"~\", paste(preds_new, collapse=\"+\"))\n",
    "        print(model_string)\n",
    "        \n",
    "        # create a recipe from the model string\n",
    "        stroke_recipe <- recipe(as.formula(model_string), \n",
    "                                data = stroke_subset) %>%\n",
    "                          step_scale(all_predictors()) %>%\n",
    "                          step_center(all_predictors())\n",
    "\n",
    "        # tune the KNN classifier with these predictors, \n",
    "        # and collect the accuracy for the best K\n",
    "        set.seed(seed)\n",
    "        acc <- workflow() %>%\n",
    "          add_recipe(stroke_recipe) %>%\n",
    "          add_model(knn_spec) %>%\n",
    "          tune_grid(resamples = stroke_vfold, grid = gridvals) %>%\n",
    "          collect_metrics() %>%\n",
    "          filter(.metric == \"accuracy\") %>%\n",
    "          summarize(mx = max(mean))\n",
    "        acc <- acc$mx %>% unlist()\n",
    "\n",
    "        # add this result to the dataframe\n",
    "        accs[[j]] <- acc\n",
    "        models[[j]] <- model_string\n",
    "    }\n",
    "    set.seed(seed)\n",
    "    print(\"unlist\")\n",
    "    print(unlist(accs))\n",
    "    jstar <- which.max(unlist(accs))\n",
    "    accuracies <- accuracies %>% \n",
    "      add_row(size = i, \n",
    "              model_string = models[[jstar]], \n",
    "              accuracy = accs[[jstar]])\n",
    "    selected <- c(selected, names[[jstar]])\n",
    "    names <- names[-jstar]\n",
    "}\n",
    "accuracies"
   ]
  },
  {
   "cell_type": "code",
   "execution_count": 187,
   "metadata": {},
   "outputs": [
    {
     "data": {
      "text/html": [
       "<table>\n",
       "<caption>A tibble: 5 × 3</caption>\n",
       "<thead>\n",
       "\t<tr><th scope=col>size</th><th scope=col>model_string</th><th scope=col>accuracy</th></tr>\n",
       "\t<tr><th scope=col>&lt;int&gt;</th><th scope=col>&lt;chr&gt;</th><th scope=col>&lt;dbl&gt;</th></tr>\n",
       "</thead>\n",
       "<tbody>\n",
       "\t<tr><td>1</td><td>stroke ~ age                                                 </td><td>0.7179454</td></tr>\n",
       "\t<tr><td>2</td><td>stroke ~ age+avg_glucose_level                               </td><td>0.7528559</td></tr>\n",
       "\t<tr><td>3</td><td>stroke ~ age+avg_glucose_level+hypertension                  </td><td>0.7673913</td></tr>\n",
       "\t<tr><td>4</td><td>stroke ~ age+avg_glucose_level+hypertension+heart_disease    </td><td>0.7527280</td></tr>\n",
       "\t<tr><td>5</td><td>stroke ~ age+avg_glucose_level+hypertension+heart_disease+bmi</td><td>0.7354220</td></tr>\n",
       "</tbody>\n",
       "</table>\n"
      ],
      "text/latex": [
       "A tibble: 5 × 3\n",
       "\\begin{tabular}{lll}\n",
       " size & model\\_string & accuracy\\\\\n",
       " <int> & <chr> & <dbl>\\\\\n",
       "\\hline\n",
       "\t 1 & stroke \\textasciitilde{} age                                                  & 0.7179454\\\\\n",
       "\t 2 & stroke \\textasciitilde{} age+avg\\_glucose\\_level                                & 0.7528559\\\\\n",
       "\t 3 & stroke \\textasciitilde{} age+avg\\_glucose\\_level+hypertension                   & 0.7673913\\\\\n",
       "\t 4 & stroke \\textasciitilde{} age+avg\\_glucose\\_level+hypertension+heart\\_disease     & 0.7527280\\\\\n",
       "\t 5 & stroke \\textasciitilde{} age+avg\\_glucose\\_level+hypertension+heart\\_disease+bmi & 0.7354220\\\\\n",
       "\\end{tabular}\n"
      ],
      "text/markdown": [
       "\n",
       "A tibble: 5 × 3\n",
       "\n",
       "| size &lt;int&gt; | model_string &lt;chr&gt; | accuracy &lt;dbl&gt; |\n",
       "|---|---|---|\n",
       "| 1 | stroke ~ age                                                  | 0.7179454 |\n",
       "| 2 | stroke ~ age+avg_glucose_level                                | 0.7528559 |\n",
       "| 3 | stroke ~ age+avg_glucose_level+hypertension                   | 0.7673913 |\n",
       "| 4 | stroke ~ age+avg_glucose_level+hypertension+heart_disease     | 0.7527280 |\n",
       "| 5 | stroke ~ age+avg_glucose_level+hypertension+heart_disease+bmi | 0.7354220 |\n",
       "\n"
      ],
      "text/plain": [
       "  size model_string                                                  accuracy \n",
       "1 1    stroke ~ age                                                  0.7179454\n",
       "2 2    stroke ~ age+avg_glucose_level                                0.7528559\n",
       "3 3    stroke ~ age+avg_glucose_level+hypertension                   0.7673913\n",
       "4 4    stroke ~ age+avg_glucose_level+hypertension+heart_disease     0.7527280\n",
       "5 5    stroke ~ age+avg_glucose_level+hypertension+heart_disease+bmi 0.7354220"
      ]
     },
     "metadata": {},
     "output_type": "display_data"
    }
   ],
   "source": [
    "accuracies"
   ]
  },
  {
   "cell_type": "code",
   "execution_count": 188,
   "metadata": {},
   "outputs": [
    {
     "data": {
      "image/png": "[encoded data removed]",
      "text/plain": [
       "plot without title"
      ]
     },
     "metadata": {
      "image/png": {
       "height": 420,
       "width": 420
      }
     },
     "output_type": "display_data"
    }
   ],
   "source": [
    "ggplot(accuracies, aes(x=size, y=accuracy)) +\n",
    "geom_line() +\n",
    "geom_point()"
   ]
  },
  {
   "cell_type": "markdown",
   "metadata": {},
   "source": [
    "## with predict ##"
   ]
  },
  {
   "cell_type": "code",
   "execution_count": 189,
   "metadata": {},
   "outputs": [],
   "source": [
    "set.seed(seed)\n",
    "stroke_recipe <- recipe(stroke ~ avg_glucose_level + age, data = dsampled_stroke) %>%\n",
    "  step_scale(all_predictors()) %>%\n",
    "  step_center(all_predictors())"
   ]
  },
  {
   "cell_type": "code",
   "execution_count": 190,
   "metadata": {},
   "outputs": [],
   "source": [
    "set.seed(seed)\n",
    "stroke_vfold <- vfold_cv(dsampled_stroke, v = 5, strata = stroke)\n",
    "# We chose to perform cross-validation with 1-75 neighbours. We chose the cap it at 75 and step it up by 3 to prevent the computational time from being \n",
    "# too long while still giving a fairly accurate estimate of the optimal k value.\n",
    "k_vals <- tibble(neighbors = seq(from = 1, to = 75, by = 3))"
   ]
  },
  {
   "cell_type": "code",
   "execution_count": 191,
   "metadata": {},
   "outputs": [],
   "source": [
    "set.seed(seed)\n",
    "knn_spec <- nearest_neighbor(weight_func = \"rectangular\", neighbors = tune()) %>%\n",
    "  set_engine(\"kknn\") %>%\n",
    "  set_mode(\"classification\")"
   ]
  },
  {
   "cell_type": "code",
   "execution_count": 192,
   "metadata": {},
   "outputs": [],
   "source": [
    "set.seed(seed)\n",
    "knn_results <- workflow() %>%\n",
    "  add_recipe(stroke_recipe) %>%\n",
    "  add_model(knn_spec) %>%\n",
    "  tune_grid(resamples = stroke_vfold, grid = k_vals) %>%\n",
    "  collect_metrics() "
   ]
  },
  {
   "cell_type": "code",
   "execution_count": 193,
   "metadata": {},
   "outputs": [
    {
     "data": {
      "text/html": [
       "<table>\n",
       "<caption>A tibble: 1 × 7</caption>\n",
       "<thead>\n",
       "\t<tr><th scope=col>neighbors</th><th scope=col>.metric</th><th scope=col>.estimator</th><th scope=col>mean</th><th scope=col>n</th><th scope=col>std_err</th><th scope=col>.config</th></tr>\n",
       "\t<tr><th scope=col>&lt;dbl&gt;</th><th scope=col>&lt;chr&gt;</th><th scope=col>&lt;chr&gt;</th><th scope=col>&lt;dbl&gt;</th><th scope=col>&lt;int&gt;</th><th scope=col>&lt;dbl&gt;</th><th scope=col>&lt;chr&gt;</th></tr>\n",
       "</thead>\n",
       "<tbody>\n",
       "\t<tr><td>10</td><td>accuracy</td><td>binary</td><td>0.7751778</td><td>5</td><td>0.01844095</td><td>Model04</td></tr>\n",
       "</tbody>\n",
       "</table>\n"
      ],
      "text/latex": [
       "A tibble: 1 × 7\n",
       "\\begin{tabular}{lllllll}\n",
       " neighbors & .metric & .estimator & mean & n & std\\_err & .config\\\\\n",
       " <dbl> & <chr> & <chr> & <dbl> & <int> & <dbl> & <chr>\\\\\n",
       "\\hline\n",
       "\t 10 & accuracy & binary & 0.7751778 & 5 & 0.01844095 & Model04\\\\\n",
       "\\end{tabular}\n"
      ],
      "text/markdown": [
       "\n",
       "A tibble: 1 × 7\n",
       "\n",
       "| neighbors &lt;dbl&gt; | .metric &lt;chr&gt; | .estimator &lt;chr&gt; | mean &lt;dbl&gt; | n &lt;int&gt; | std_err &lt;dbl&gt; | .config &lt;chr&gt; |\n",
       "|---|---|---|---|---|---|---|\n",
       "| 10 | accuracy | binary | 0.7751778 | 5 | 0.01844095 | Model04 |\n",
       "\n"
      ],
      "text/plain": [
       "  neighbors .metric  .estimator mean      n std_err    .config\n",
       "1 10        accuracy binary     0.7751778 5 0.01844095 Model04"
      ]
     },
     "metadata": {},
     "output_type": "display_data"
    },
    {
     "data": {
      "image/png": "[encoded data removed]",
      "text/plain": [
       "plot without title"
      ]
     },
     "metadata": {
      "image/png": {
       "height": 420,
       "width": 420
      }
     },
     "output_type": "display_data"
    }
   ],
   "source": [
    "accuracies <- knn_results %>% # Plot accuracies vs neighbours\n",
    "  filter(.metric == \"accuracy\")\n",
    "ggplot(accuracies, aes(x=neighbors, y=mean)) +\n",
    "    geom_line()\n",
    "optimal_neighbours <- accuracies %>%\n",
    "  filter(mean == max(mean))\n",
    "optimal_neighbours"
   ]
  },
  {
   "cell_type": "code",
   "execution_count": 194,
   "metadata": {},
   "outputs": [
    {
     "data": {
      "text/html": [
       "<table>\n",
       "<caption>A tibble: 2 × 3</caption>\n",
       "<thead>\n",
       "\t<tr><th scope=col>.metric</th><th scope=col>.estimator</th><th scope=col>.estimate</th></tr>\n",
       "\t<tr><th scope=col>&lt;chr&gt;</th><th scope=col>&lt;chr&gt;</th><th scope=col>&lt;dbl&gt;</th></tr>\n",
       "</thead>\n",
       "<tbody>\n",
       "\t<tr><td>accuracy</td><td>binary</td><td>0.7055599</td></tr>\n",
       "\t<tr><td>kap     </td><td>binary</td><td>0.1429622</td></tr>\n",
       "</tbody>\n",
       "</table>\n"
      ],
      "text/latex": [
       "A tibble: 2 × 3\n",
       "\\begin{tabular}{lll}\n",
       " .metric & .estimator & .estimate\\\\\n",
       " <chr> & <chr> & <dbl>\\\\\n",
       "\\hline\n",
       "\t accuracy & binary & 0.7055599\\\\\n",
       "\t kap      & binary & 0.1429622\\\\\n",
       "\\end{tabular}\n"
      ],
      "text/markdown": [
       "\n",
       "A tibble: 2 × 3\n",
       "\n",
       "| .metric &lt;chr&gt; | .estimator &lt;chr&gt; | .estimate &lt;dbl&gt; |\n",
       "|---|---|---|\n",
       "| accuracy | binary | 0.7055599 |\n",
       "| kap      | binary | 0.1429622 |\n",
       "\n"
      ],
      "text/plain": [
       "  .metric  .estimator .estimate\n",
       "1 accuracy binary     0.7055599\n",
       "2 kap      binary     0.1429622"
      ]
     },
     "metadata": {},
     "output_type": "display_data"
    }
   ],
   "source": [
    "# We chose to select K=10, as it gives the highest estimated accuracy from our cross-validation. \n",
    "# Furthermore, K=10 is not too comupationally expensive, making it a suitable value to \n",
    "knn_spec <- nearest_neighbor(weight_func = \"rectangular\", neighbors = 10) %>%\n",
    "  set_engine(\"kknn\") %>%\n",
    "  set_mode(\"classification\")\n",
    "\n",
    "set.seed(seed)\n",
    "# workflow + fit data\n",
    "knn_fit <- workflow() %>%\n",
    "  add_recipe(stroke_recipe) %>%\n",
    "  add_model(knn_spec) %>%\n",
    "  fit(data = dsampled_stroke)\n",
    "\n",
    "stroke_test_predictions <- predict(knn_fit, stroke_test_standardized) %>%\n",
    "  bind_cols(stroke_test_standardized) %>%\n",
    "  metrics(truth = stroke, estimate = .pred_class)\n",
    "stroke_test_predictions"
   ]
  }
 ],
 "metadata": {
  "kernelspec": {
   "display_name": "R",
   "language": "R",
   "name": "ir"
  },
  "language_info": {
   "codemirror_mode": "r",
   "file_extension": ".r",
   "mimetype": "text/x-r-source",
   "name": "R",
   "pygments_lexer": "r",
   "version": "4.0.0"
  }
 },
 "nbformat": 4,
 "nbformat_minor": 4
}
