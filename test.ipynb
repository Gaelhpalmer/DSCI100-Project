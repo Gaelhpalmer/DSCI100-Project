{
 "cells": [
  {
   "cell_type": "markdown",
   "metadata": {},
   "source": [
    "## Predictor variable selection ## "
   ]
  },
  {
   "cell_type": "markdown",
   "metadata": {},
   "source": [
    "#### forward selection (Eforymson 1966; Draper and Smith 1966) ####"
   ]
  },
  {
   "cell_type": "markdown",
   "metadata": {},
   "source": [
    "Iteratively build up a model by adding one predictor variable at a time, starting one with no predictors."
   ]
  },
  {
   "cell_type": "markdown",
   "metadata": {},
   "source": [
    "Run the following 3 steps until you run out of predictors:\n",
    "1. For each unused predictor, add it to the model to form a candidate model.\n",
    "2. Tune all of the candidate models.\n",
    "3. Update the model to be the candidate model with the highest cross-validation accuracy.\n",
    "\n",
    "Select the model that provides the best trade-off between accuracy and simplicity."
   ]
  },
  {
   "cell_type": "markdown",
   "metadata": {},
   "source": [
    "### set-up ###"
   ]
  },
  {
   "cell_type": "code",
   "execution_count": 28,
   "metadata": {},
   "outputs": [],
   "source": [
    "# loading packages\n",
    "library(repr)\n",
    "library(tidyverse)\n",
    "library(tidymodels)"
   ]
  },
  {
   "cell_type": "code",
   "execution_count": 29,
   "metadata": {},
   "outputs": [
    {
     "name": "stderr",
     "output_type": "stream",
     "text": [
      "Parsed with column specification:\n",
      "cols(\n",
      "  id = \u001b[32mcol_double()\u001b[39m,\n",
      "  gender = \u001b[31mcol_character()\u001b[39m,\n",
      "  age = \u001b[32mcol_double()\u001b[39m,\n",
      "  hypertension = \u001b[32mcol_double()\u001b[39m,\n",
      "  heart_disease = \u001b[32mcol_double()\u001b[39m,\n",
      "  ever_married = \u001b[31mcol_character()\u001b[39m,\n",
      "  work_type = \u001b[31mcol_character()\u001b[39m,\n",
      "  Residence_type = \u001b[31mcol_character()\u001b[39m,\n",
      "  avg_glucose_level = \u001b[32mcol_double()\u001b[39m,\n",
      "  bmi = \u001b[31mcol_character()\u001b[39m,\n",
      "  smoking_status = \u001b[31mcol_character()\u001b[39m,\n",
      "  stroke = \u001b[32mcol_double()\u001b[39m\n",
      ")\n",
      "\n"
     ]
    },
    {
     "data": {
      "text/html": [
       "<style>\n",
       ".list-inline {list-style: none; margin:0; padding: 0}\n",
       ".list-inline>li {display: inline-block}\n",
       ".list-inline>li:not(:last-child)::after {content: \"\\00b7\"; padding: 0 .5ex}\n",
       "</style>\n",
       "<ol class=list-inline><li>'id'</li><li>'gender'</li><li>'age'</li><li>'hypertension'</li><li>'heart_disease'</li><li>'ever_married'</li><li>'work_type'</li><li>'Residence_type'</li><li>'avg_glucose_level'</li><li>'bmi'</li><li>'smoking_status'</li><li>'stroke'</li></ol>\n"
      ],
      "text/latex": [
       "\\begin{enumerate*}\n",
       "\\item 'id'\n",
       "\\item 'gender'\n",
       "\\item 'age'\n",
       "\\item 'hypertension'\n",
       "\\item 'heart\\_disease'\n",
       "\\item 'ever\\_married'\n",
       "\\item 'work\\_type'\n",
       "\\item 'Residence\\_type'\n",
       "\\item 'avg\\_glucose\\_level'\n",
       "\\item 'bmi'\n",
       "\\item 'smoking\\_status'\n",
       "\\item 'stroke'\n",
       "\\end{enumerate*}\n"
      ],
      "text/markdown": [
       "1. 'id'\n",
       "2. 'gender'\n",
       "3. 'age'\n",
       "4. 'hypertension'\n",
       "5. 'heart_disease'\n",
       "6. 'ever_married'\n",
       "7. 'work_type'\n",
       "8. 'Residence_type'\n",
       "9. 'avg_glucose_level'\n",
       "10. 'bmi'\n",
       "11. 'smoking_status'\n",
       "12. 'stroke'\n",
       "\n",
       "\n"
      ],
      "text/plain": [
       " [1] \"id\"                \"gender\"            \"age\"              \n",
       " [4] \"hypertension\"      \"heart_disease\"     \"ever_married\"     \n",
       " [7] \"work_type\"         \"Residence_type\"    \"avg_glucose_level\"\n",
       "[10] \"bmi\"               \"smoking_status\"    \"stroke\"           "
      ]
     },
     "metadata": {},
     "output_type": "display_data"
    }
   ],
   "source": [
    "# loading data\n",
    "stroke <- read_csv(\"data/stroke-data.csv\")\n",
    "colnames(stroke)"
   ]
  },
  {
   "cell_type": "code",
   "execution_count": 30,
   "metadata": {},
   "outputs": [
    {
     "name": "stderr",
     "output_type": "stream",
     "text": [
      "Warning message:\n",
      "“Problem with `mutate()` input `bmi`.\n",
      "\u001b[34mℹ\u001b[39m NAs introduced by coercion\n",
      "\u001b[34mℹ\u001b[39m Input `bmi` is `as.numeric(bmi)`.”\n",
      "Warning message in mask$eval_all_mutate(dots[[i]]):\n",
      "“NAs introduced by coercion”\n"
     ]
    }
   ],
   "source": [
    "# cleaning and wrangling\n",
    "stroke_clean <- stroke %>%\n",
    "    select(gender, age, hypertension, heart_disease, avg_glucose_level, bmi, smoking_status, stroke) %>%\n",
    "    mutate(gender = as_factor(gender), \n",
    "           bmi = as.numeric(bmi),\n",
    "           smoking_status = as_factor(smoking_status),\n",
    "           stroke = as_factor(stroke)) %>%\n",
    "    filter(gender != \"Other\") #Other was removed as there was only one occurrence in the dataset"
   ]
  },
  {
   "cell_type": "code",
   "execution_count": 31,
   "metadata": {},
   "outputs": [
    {
     "data": {
      "text/html": [
       "<table>\n",
       "<caption>A tibble: 6 × 8</caption>\n",
       "<thead>\n",
       "\t<tr><th scope=col>gender</th><th scope=col>age</th><th scope=col>hypertension</th><th scope=col>heart_disease</th><th scope=col>avg_glucose_level</th><th scope=col>bmi</th><th scope=col>smoking_status</th><th scope=col>stroke</th></tr>\n",
       "\t<tr><th scope=col>&lt;fct&gt;</th><th scope=col>&lt;dbl&gt;</th><th scope=col>&lt;dbl&gt;</th><th scope=col>&lt;dbl&gt;</th><th scope=col>&lt;dbl&gt;</th><th scope=col>&lt;dbl&gt;</th><th scope=col>&lt;fct&gt;</th><th scope=col>&lt;fct&gt;</th></tr>\n",
       "</thead>\n",
       "<tbody>\n",
       "\t<tr><td>Male  </td><td>67</td><td>0</td><td>1</td><td>228.69</td><td>36.6</td><td>formerly smoked</td><td>1</td></tr>\n",
       "\t<tr><td>Female</td><td>61</td><td>0</td><td>0</td><td>202.21</td><td>  NA</td><td>never smoked   </td><td>1</td></tr>\n",
       "\t<tr><td>Male  </td><td>80</td><td>0</td><td>1</td><td>105.92</td><td>32.5</td><td>never smoked   </td><td>1</td></tr>\n",
       "\t<tr><td>Female</td><td>49</td><td>0</td><td>0</td><td>171.23</td><td>34.4</td><td>smokes         </td><td>1</td></tr>\n",
       "\t<tr><td>Female</td><td>79</td><td>1</td><td>0</td><td>174.12</td><td>24.0</td><td>never smoked   </td><td>1</td></tr>\n",
       "\t<tr><td>Male  </td><td>81</td><td>0</td><td>0</td><td>186.21</td><td>29.0</td><td>formerly smoked</td><td>1</td></tr>\n",
       "</tbody>\n",
       "</table>\n"
      ],
      "text/latex": [
       "A tibble: 6 × 8\n",
       "\\begin{tabular}{llllllll}\n",
       " gender & age & hypertension & heart\\_disease & avg\\_glucose\\_level & bmi & smoking\\_status & stroke\\\\\n",
       " <fct> & <dbl> & <dbl> & <dbl> & <dbl> & <dbl> & <fct> & <fct>\\\\\n",
       "\\hline\n",
       "\t Male   & 67 & 0 & 1 & 228.69 & 36.6 & formerly smoked & 1\\\\\n",
       "\t Female & 61 & 0 & 0 & 202.21 &   NA & never smoked    & 1\\\\\n",
       "\t Male   & 80 & 0 & 1 & 105.92 & 32.5 & never smoked    & 1\\\\\n",
       "\t Female & 49 & 0 & 0 & 171.23 & 34.4 & smokes          & 1\\\\\n",
       "\t Female & 79 & 1 & 0 & 174.12 & 24.0 & never smoked    & 1\\\\\n",
       "\t Male   & 81 & 0 & 0 & 186.21 & 29.0 & formerly smoked & 1\\\\\n",
       "\\end{tabular}\n"
      ],
      "text/markdown": [
       "\n",
       "A tibble: 6 × 8\n",
       "\n",
       "| gender &lt;fct&gt; | age &lt;dbl&gt; | hypertension &lt;dbl&gt; | heart_disease &lt;dbl&gt; | avg_glucose_level &lt;dbl&gt; | bmi &lt;dbl&gt; | smoking_status &lt;fct&gt; | stroke &lt;fct&gt; |\n",
       "|---|---|---|---|---|---|---|---|\n",
       "| Male   | 67 | 0 | 1 | 228.69 | 36.6 | formerly smoked | 1 |\n",
       "| Female | 61 | 0 | 0 | 202.21 |   NA | never smoked    | 1 |\n",
       "| Male   | 80 | 0 | 1 | 105.92 | 32.5 | never smoked    | 1 |\n",
       "| Female | 49 | 0 | 0 | 171.23 | 34.4 | smokes          | 1 |\n",
       "| Female | 79 | 1 | 0 | 174.12 | 24.0 | never smoked    | 1 |\n",
       "| Male   | 81 | 0 | 0 | 186.21 | 29.0 | formerly smoked | 1 |\n",
       "\n"
      ],
      "text/plain": [
       "  gender age hypertension heart_disease avg_glucose_level bmi  smoking_status \n",
       "1 Male   67  0            1             228.69            36.6 formerly smoked\n",
       "2 Female 61  0            0             202.21              NA never smoked   \n",
       "3 Male   80  0            1             105.92            32.5 never smoked   \n",
       "4 Female 49  0            0             171.23            34.4 smokes         \n",
       "5 Female 79  1            0             174.12            24.0 never smoked   \n",
       "6 Male   81  0            0             186.21            29.0 formerly smoked\n",
       "  stroke\n",
       "1 1     \n",
       "2 1     \n",
       "3 1     \n",
       "4 1     \n",
       "5 1     \n",
       "6 1     "
      ]
     },
     "metadata": {},
     "output_type": "display_data"
    }
   ],
   "source": [
    "head(stroke_clean)"
   ]
  },
  {
   "cell_type": "markdown",
   "metadata": {},
   "source": [
    "### start ###"
   ]
  },
  {
   "cell_type": "code",
   "execution_count": 32,
   "metadata": {},
   "outputs": [
    {
     "data": {
      "text/html": [
       "<style>\n",
       ".list-inline {list-style: none; margin:0; padding: 0}\n",
       ".list-inline>li {display: inline-block}\n",
       ".list-inline>li:not(:last-child)::after {content: \"\\00b7\"; padding: 0 .5ex}\n",
       "</style>\n",
       "<ol class=list-inline><li>'age'</li><li>'hypertension'</li><li>'heart_disease'</li><li>'avg_glucose_level'</li><li>'bmi'</li></ol>\n"
      ],
      "text/latex": [
       "\\begin{enumerate*}\n",
       "\\item 'age'\n",
       "\\item 'hypertension'\n",
       "\\item 'heart\\_disease'\n",
       "\\item 'avg\\_glucose\\_level'\n",
       "\\item 'bmi'\n",
       "\\end{enumerate*}\n"
      ],
      "text/markdown": [
       "1. 'age'\n",
       "2. 'hypertension'\n",
       "3. 'heart_disease'\n",
       "4. 'avg_glucose_level'\n",
       "5. 'bmi'\n",
       "\n",
       "\n"
      ],
      "text/plain": [
       "[1] \"age\"               \"hypertension\"      \"heart_disease\"    \n",
       "[4] \"avg_glucose_level\" \"bmi\"              "
      ]
     },
     "metadata": {},
     "output_type": "display_data"
    }
   ],
   "source": [
    "stroke_subset <- stroke_clean %>%\n",
    "    select(-gender, -smoking_status) %>%\n",
    "    filter(!is.na(bmi))\n",
    "names <- colnames(stroke_subset %>% select(-stroke))\n",
    "names"
   ]
  },
  {
   "cell_type": "code",
   "execution_count": 33,
   "metadata": {},
   "outputs": [
    {
     "data": {
      "text/html": [
       "'stroke ~ age+hypertension+heart_disease+avg_glucose_level+bmi'"
      ],
      "text/latex": [
       "'stroke \\textasciitilde{} age+hypertension+heart\\_disease+avg\\_glucose\\_level+bmi'"
      ],
      "text/markdown": [
       "'stroke ~ age+hypertension+heart_disease+avg_glucose_level+bmi'"
      ],
      "text/plain": [
       "[1] \"stroke ~ age+hypertension+heart_disease+avg_glucose_level+bmi\""
      ]
     },
     "metadata": {},
     "output_type": "display_data"
    }
   ],
   "source": [
    "example_formula <- paste(\"stroke\", \"~\", paste(names, collapse=\"+\"))\n",
    "example_formula"
   ]
  },
  {
   "cell_type": "code",
   "execution_count": 34,
   "metadata": {},
   "outputs": [
    {
     "data": {
      "text/html": [
       "<table>\n",
       "<caption>A tibble: 0 × 3</caption>\n",
       "<thead>\n",
       "\t<tr><th scope=col>size</th><th scope=col>model_string</th><th scope=col>accuracy</th></tr>\n",
       "\t<tr><th scope=col>&lt;int&gt;</th><th scope=col>&lt;chr&gt;</th><th scope=col>&lt;dbl&gt;</th></tr>\n",
       "</thead>\n",
       "<tbody>\n",
       "</tbody>\n",
       "</table>\n"
      ],
      "text/latex": [
       "A tibble: 0 × 3\n",
       "\\begin{tabular}{lll}\n",
       " size & model\\_string & accuracy\\\\\n",
       " <int> & <chr> & <dbl>\\\\\n",
       "\\hline\n",
       "\\end{tabular}\n"
      ],
      "text/markdown": [
       "\n",
       "A tibble: 0 × 3\n",
       "\n",
       "| size &lt;int&gt; | model_string &lt;chr&gt; | accuracy &lt;dbl&gt; |\n",
       "|---|---|---|\n",
       "\n"
      ],
      "text/plain": [
       "     size model_string accuracy"
      ]
     },
     "metadata": {},
     "output_type": "display_data"
    }
   ],
   "source": [
    "# create an empty tibble to store the results\n",
    "accuracies <- tibble(size = integer(), \n",
    "                     model_string = character(), \n",
    "                     accuracy = numeric())\n",
    "accuracies"
   ]
  },
  {
   "cell_type": "code",
   "execution_count": 35,
   "metadata": {},
   "outputs": [],
   "source": [
    "# create a model specification\n",
    "knn_spec <- nearest_neighbor(weight_func = \"rectangular\", \n",
    "                             neighbors = tune()) %>%\n",
    "     set_engine(\"kknn\") %>%\n",
    "     set_mode(\"classification\")\n",
    "\n",
    "# create a 5-fold cross-validation object\n",
    "stroke_vfold <- vfold_cv(stroke_subset, v = 5, strata = stroke)"
   ]
  },
  {
   "cell_type": "code",
   "execution_count": 36,
   "metadata": {},
   "outputs": [],
   "source": [
    "# store the total number of predictors\n",
    "n_total <- length(names)\n",
    "\n",
    "# stores selected predictors\n",
    "selected <- c()"
   ]
  },
  {
   "cell_type": "code",
   "execution_count": 37,
   "metadata": {},
   "outputs": [
    {
     "data": {
      "text/html": [
       "<table>\n",
       "<caption>A tibble: 5 × 3</caption>\n",
       "<thead>\n",
       "\t<tr><th scope=col>size</th><th scope=col>model_string</th><th scope=col>accuracy</th></tr>\n",
       "\t<tr><th scope=col>&lt;int&gt;</th><th scope=col>&lt;chr&gt;</th><th scope=col>&lt;dbl&gt;</th></tr>\n",
       "</thead>\n",
       "<tbody>\n",
       "\t<tr><td>1</td><td>stroke ~ avg_glucose_level                                   </td><td>0.9574187</td></tr>\n",
       "\t<tr><td>2</td><td>stroke ~ avg_glucose_level+age                               </td><td>0.9574187</td></tr>\n",
       "\t<tr><td>3</td><td>stroke ~ avg_glucose_level+age+heart_disease                 </td><td>0.9574187</td></tr>\n",
       "\t<tr><td>4</td><td>stroke ~ avg_glucose_level+age+heart_disease+bmi             </td><td>0.9568074</td></tr>\n",
       "\t<tr><td>5</td><td>stroke ~ avg_glucose_level+age+heart_disease+bmi+hypertension</td><td>0.9566036</td></tr>\n",
       "</tbody>\n",
       "</table>\n"
      ],
      "text/latex": [
       "A tibble: 5 × 3\n",
       "\\begin{tabular}{lll}\n",
       " size & model\\_string & accuracy\\\\\n",
       " <int> & <chr> & <dbl>\\\\\n",
       "\\hline\n",
       "\t 1 & stroke \\textasciitilde{} avg\\_glucose\\_level                                    & 0.9574187\\\\\n",
       "\t 2 & stroke \\textasciitilde{} avg\\_glucose\\_level+age                                & 0.9574187\\\\\n",
       "\t 3 & stroke \\textasciitilde{} avg\\_glucose\\_level+age+heart\\_disease                  & 0.9574187\\\\\n",
       "\t 4 & stroke \\textasciitilde{} avg\\_glucose\\_level+age+heart\\_disease+bmi              & 0.9568074\\\\\n",
       "\t 5 & stroke \\textasciitilde{} avg\\_glucose\\_level+age+heart\\_disease+bmi+hypertension & 0.9566036\\\\\n",
       "\\end{tabular}\n"
      ],
      "text/markdown": [
       "\n",
       "A tibble: 5 × 3\n",
       "\n",
       "| size &lt;int&gt; | model_string &lt;chr&gt; | accuracy &lt;dbl&gt; |\n",
       "|---|---|---|\n",
       "| 1 | stroke ~ avg_glucose_level                                    | 0.9574187 |\n",
       "| 2 | stroke ~ avg_glucose_level+age                                | 0.9574187 |\n",
       "| 3 | stroke ~ avg_glucose_level+age+heart_disease                  | 0.9574187 |\n",
       "| 4 | stroke ~ avg_glucose_level+age+heart_disease+bmi              | 0.9568074 |\n",
       "| 5 | stroke ~ avg_glucose_level+age+heart_disease+bmi+hypertension | 0.9566036 |\n",
       "\n"
      ],
      "text/plain": [
       "  size model_string                                                  accuracy \n",
       "1 1    stroke ~ avg_glucose_level                                    0.9574187\n",
       "2 2    stroke ~ avg_glucose_level+age                                0.9574187\n",
       "3 3    stroke ~ avg_glucose_level+age+heart_disease                  0.9574187\n",
       "4 4    stroke ~ avg_glucose_level+age+heart_disease+bmi              0.9568074\n",
       "5 5    stroke ~ avg_glucose_level+age+heart_disease+bmi+hypertension 0.9566036"
      ]
     },
     "metadata": {},
     "output_type": "display_data"
    }
   ],
   "source": [
    "# for every size from 1 to the total number of predictors\n",
    "for (i in 1:n_total) {\n",
    "    # for every predictor still not added yet\n",
    "    accs <- list()\n",
    "    models <- list()\n",
    "    for (j in 1:length(names)) {\n",
    "        # create a model string for this combination of predictors\n",
    "        preds_new <- c(selected, names[[j]])\n",
    "        model_string <- paste(\"stroke\", \"~\", paste(preds_new, collapse=\"+\"))\n",
    "        \n",
    "        # create a recipe from the model string\n",
    "        stroke_recipe <- recipe(as.formula(model_string), \n",
    "                                data = stroke_subset) %>%\n",
    "                          step_scale(all_predictors()) %>%\n",
    "                          step_center(all_predictors())\n",
    "\n",
    "        # tune the KNN classifier with these predictors, \n",
    "        # and collect the accuracy for the best K\n",
    "        acc <- workflow() %>%\n",
    "          add_recipe(stroke_recipe) %>%\n",
    "          add_model(knn_spec) %>%\n",
    "          tune_grid(resamples = stroke_vfold, grid = 10) %>%\n",
    "          collect_metrics() %>%\n",
    "          filter(.metric == \"accuracy\") %>%\n",
    "          summarize(mx = max(mean))\n",
    "        acc <- acc$mx %>% unlist()\n",
    "\n",
    "        # add this result to the dataframe\n",
    "        accs[[j]] <- acc\n",
    "        models[[j]] <- model_string\n",
    "    }\n",
    "    jstar <- which.max(unlist(accs))\n",
    "    accuracies <- accuracies %>% \n",
    "      add_row(size = i, \n",
    "              model_string = models[[jstar]], \n",
    "              accuracy = accs[[jstar]])\n",
    "    selected <- c(selected, names[[jstar]])\n",
    "    names <- names[-jstar]\n",
    "}\n",
    "accuracies"
   ]
  },
  {
   "cell_type": "code",
   "execution_count": 39,
   "metadata": {},
   "outputs": [
    {
     "data": {
      "image/png": "[encoded data removed]",
      "text/plain": [
       "plot without title"
      ]
     },
     "metadata": {
      "image/png": {
       "height": 420,
       "width": 420
      }
     },
     "output_type": "display_data"
    }
   ],
   "source": [
    "ggplot(accuracies, aes(x=size, y=accuracy)) +\n",
    "geom_line()"
   ]
  },
  {
   "cell_type": "code",
   "execution_count": null,
   "metadata": {},
   "outputs": [],
   "source": []
  }
 ],
 "metadata": {
  "kernelspec": {
   "display_name": "R",
   "language": "R",
   "name": "ir"
  },
  "language_info": {
   "codemirror_mode": "r",
   "file_extension": ".r",
   "mimetype": "text/x-r-source",
   "name": "R",
   "pygments_lexer": "r",
   "version": "4.0.0"
  }
 },
 "nbformat": 4,
 "nbformat_minor": 4
}
