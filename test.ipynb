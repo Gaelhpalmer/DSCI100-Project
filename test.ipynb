{
 "cells": [
  {
   "cell_type": "markdown",
   "metadata": {},
   "source": [
    "## Predictor variable selection ## "
   ]
  },
  {
   "cell_type": "markdown",
   "metadata": {},
   "source": [
    "#### forward selection (Eforymson 1966; Draper and Smith 1966) ####"
   ]
  },
  {
   "cell_type": "markdown",
   "metadata": {},
   "source": [
    "Iteratively build up a model by adding one predictor variable at a time, starting one with no predictors."
   ]
  },
  {
   "cell_type": "markdown",
   "metadata": {},
   "source": [
    "Run the following 3 steps until you run out of predictors:\n",
    "1. For each unused predictor, add it to the model to form a candidate model.\n",
    "2. Tune all of the candidate models.\n",
    "3. Update the model to be the candidate model with the highest cross-validation accuracy.\n",
    "\n",
    "Select the model that provides the best trade-off between accuracy and simplicity."
   ]
  },
  {
   "cell_type": "markdown",
   "metadata": {},
   "source": [
    "### set-up ###"
   ]
  },
  {
   "cell_type": "code",
   "execution_count": 47,
   "metadata": {},
   "outputs": [],
   "source": [
    "# loading packages\n",
    "library(repr)\n",
    "library(tidyverse)\n",
    "library(tidymodels)\n",
    "# library(themis)\n",
    "set.seed(31)"
   ]
  },
  {
   "cell_type": "code",
   "execution_count": 48,
   "metadata": {},
   "outputs": [
    {
     "name": "stderr",
     "output_type": "stream",
     "text": [
      "Parsed with column specification:\n",
      "cols(\n",
      "  id = \u001b[32mcol_double()\u001b[39m,\n",
      "  gender = \u001b[31mcol_character()\u001b[39m,\n",
      "  age = \u001b[32mcol_double()\u001b[39m,\n",
      "  hypertension = \u001b[32mcol_double()\u001b[39m,\n",
      "  heart_disease = \u001b[32mcol_double()\u001b[39m,\n",
      "  ever_married = \u001b[31mcol_character()\u001b[39m,\n",
      "  work_type = \u001b[31mcol_character()\u001b[39m,\n",
      "  Residence_type = \u001b[31mcol_character()\u001b[39m,\n",
      "  avg_glucose_level = \u001b[32mcol_double()\u001b[39m,\n",
      "  bmi = \u001b[31mcol_character()\u001b[39m,\n",
      "  smoking_status = \u001b[31mcol_character()\u001b[39m,\n",
      "  stroke = \u001b[32mcol_double()\u001b[39m\n",
      ")\n",
      "\n"
     ]
    },
    {
     "data": {
      "text/html": [
       "<style>\n",
       ".list-inline {list-style: none; margin:0; padding: 0}\n",
       ".list-inline>li {display: inline-block}\n",
       ".list-inline>li:not(:last-child)::after {content: \"\\00b7\"; padding: 0 .5ex}\n",
       "</style>\n",
       "<ol class=list-inline><li>'id'</li><li>'gender'</li><li>'age'</li><li>'hypertension'</li><li>'heart_disease'</li><li>'ever_married'</li><li>'work_type'</li><li>'Residence_type'</li><li>'avg_glucose_level'</li><li>'bmi'</li><li>'smoking_status'</li><li>'stroke'</li></ol>\n"
      ],
      "text/latex": [
       "\\begin{enumerate*}\n",
       "\\item 'id'\n",
       "\\item 'gender'\n",
       "\\item 'age'\n",
       "\\item 'hypertension'\n",
       "\\item 'heart\\_disease'\n",
       "\\item 'ever\\_married'\n",
       "\\item 'work\\_type'\n",
       "\\item 'Residence\\_type'\n",
       "\\item 'avg\\_glucose\\_level'\n",
       "\\item 'bmi'\n",
       "\\item 'smoking\\_status'\n",
       "\\item 'stroke'\n",
       "\\end{enumerate*}\n"
      ],
      "text/markdown": [
       "1. 'id'\n",
       "2. 'gender'\n",
       "3. 'age'\n",
       "4. 'hypertension'\n",
       "5. 'heart_disease'\n",
       "6. 'ever_married'\n",
       "7. 'work_type'\n",
       "8. 'Residence_type'\n",
       "9. 'avg_glucose_level'\n",
       "10. 'bmi'\n",
       "11. 'smoking_status'\n",
       "12. 'stroke'\n",
       "\n",
       "\n"
      ],
      "text/plain": [
       " [1] \"id\"                \"gender\"            \"age\"              \n",
       " [4] \"hypertension\"      \"heart_disease\"     \"ever_married\"     \n",
       " [7] \"work_type\"         \"Residence_type\"    \"avg_glucose_level\"\n",
       "[10] \"bmi\"               \"smoking_status\"    \"stroke\"           "
      ]
     },
     "metadata": {},
     "output_type": "display_data"
    }
   ],
   "source": [
    "# loading data\n",
    "stroke <- read_csv(\"data/stroke-data.csv\")\n",
    "colnames(stroke)"
   ]
  },
  {
   "cell_type": "code",
   "execution_count": 49,
   "metadata": {},
   "outputs": [
    {
     "name": "stderr",
     "output_type": "stream",
     "text": [
      "Warning message:\n",
      "“Problem with `mutate()` input `bmi`.\n",
      "\u001b[34mℹ\u001b[39m NAs introduced by coercion\n",
      "\u001b[34mℹ\u001b[39m Input `bmi` is `as.numeric(bmi)`.”\n",
      "Warning message in mask$eval_all_mutate(dots[[i]]):\n",
      "“NAs introduced by coercion”\n"
     ]
    }
   ],
   "source": [
    "# cleaning and wrangling\n",
    "# stroke_clean <- stroke %>%\n",
    "#     select(gender, age, hypertension, heart_disease, avg_glucose_level, bmi, smoking_status, stroke) %>%\n",
    "#     mutate(gender = as_factor(gender), \n",
    "#            bmi = as.numeric(bmi),\n",
    "#            smoking_status = as_factor(smoking_status),\n",
    "#            stroke = as_factor(stroke)) %>%\n",
    "#     filter(gender != \"Other\") #Other was removed as there was only one occurrence in the dataset\n",
    "\n",
    "# prep and bake data with upsampling, then use it with everything\n",
    "# gonna overfit data, data leakage\n",
    "stroke_clean <- stroke %>%\n",
    "    select(age, hypertension, heart_disease, avg_glucose_level, bmi, stroke) %>%\n",
    "    mutate(stroke = as_factor(stroke),\n",
    "           bmi = as.numeric(bmi)) "
   ]
  },
  {
   "cell_type": "code",
   "execution_count": 68,
   "metadata": {},
   "outputs": [
    {
     "data": {
      "text/html": [
       "<table>\n",
       "<caption>A tibble: 6 × 6</caption>\n",
       "<thead>\n",
       "\t<tr><th scope=col>age</th><th scope=col>hypertension</th><th scope=col>heart_disease</th><th scope=col>avg_glucose_level</th><th scope=col>bmi</th><th scope=col>stroke</th></tr>\n",
       "\t<tr><th scope=col>&lt;dbl&gt;</th><th scope=col>&lt;dbl&gt;</th><th scope=col>&lt;dbl&gt;</th><th scope=col>&lt;dbl&gt;</th><th scope=col>&lt;dbl&gt;</th><th scope=col>&lt;fct&gt;</th></tr>\n",
       "</thead>\n",
       "<tbody>\n",
       "\t<tr><td> 0.3784336</td><td>-0.3350744</td><td> 4.0915769</td><td>-0.58622986</td><td>        NA</td><td>0</td></tr>\n",
       "\t<tr><td> 1.1708731</td><td>-0.3350744</td><td>-0.2443408</td><td>-0.08416999</td><td> 1.1691436</td><td>0</td></tr>\n",
       "\t<tr><td>-0.6781525</td><td>-0.3350744</td><td>-0.2443408</td><td>-0.45391087</td><td>-0.2754355</td><td>0</td></tr>\n",
       "\t<tr><td>-0.7221769</td><td>-0.3350744</td><td>-0.2443408</td><td>-0.91127435</td><td> 1.5986130</td><td>0</td></tr>\n",
       "\t<tr><td>-0.8542502</td><td>-0.3350744</td><td>-0.2443408</td><td> 0.18223815</td><td> 0.1670482</td><td>0</td></tr>\n",
       "\t<tr><td> 0.2903847</td><td>-0.3350744</td><td>-0.2443408</td><td>-1.07036692</td><td>-0.1583074</td><td>0</td></tr>\n",
       "</tbody>\n",
       "</table>\n"
      ],
      "text/latex": [
       "A tibble: 6 × 6\n",
       "\\begin{tabular}{llllll}\n",
       " age & hypertension & heart\\_disease & avg\\_glucose\\_level & bmi & stroke\\\\\n",
       " <dbl> & <dbl> & <dbl> & <dbl> & <dbl> & <fct>\\\\\n",
       "\\hline\n",
       "\t  0.3784336 & -0.3350744 &  4.0915769 & -0.58622986 &         NA & 0\\\\\n",
       "\t  1.1708731 & -0.3350744 & -0.2443408 & -0.08416999 &  1.1691436 & 0\\\\\n",
       "\t -0.6781525 & -0.3350744 & -0.2443408 & -0.45391087 & -0.2754355 & 0\\\\\n",
       "\t -0.7221769 & -0.3350744 & -0.2443408 & -0.91127435 &  1.5986130 & 0\\\\\n",
       "\t -0.8542502 & -0.3350744 & -0.2443408 &  0.18223815 &  0.1670482 & 0\\\\\n",
       "\t  0.2903847 & -0.3350744 & -0.2443408 & -1.07036692 & -0.1583074 & 0\\\\\n",
       "\\end{tabular}\n"
      ],
      "text/markdown": [
       "\n",
       "A tibble: 6 × 6\n",
       "\n",
       "| age &lt;dbl&gt; | hypertension &lt;dbl&gt; | heart_disease &lt;dbl&gt; | avg_glucose_level &lt;dbl&gt; | bmi &lt;dbl&gt; | stroke &lt;fct&gt; |\n",
       "|---|---|---|---|---|---|\n",
       "|  0.3784336 | -0.3350744 |  4.0915769 | -0.58622986 |         NA | 0 |\n",
       "|  1.1708731 | -0.3350744 | -0.2443408 | -0.08416999 |  1.1691436 | 0 |\n",
       "| -0.6781525 | -0.3350744 | -0.2443408 | -0.45391087 | -0.2754355 | 0 |\n",
       "| -0.7221769 | -0.3350744 | -0.2443408 | -0.91127435 |  1.5986130 | 0 |\n",
       "| -0.8542502 | -0.3350744 | -0.2443408 |  0.18223815 |  0.1670482 | 0 |\n",
       "|  0.2903847 | -0.3350744 | -0.2443408 | -1.07036692 | -0.1583074 | 0 |\n",
       "\n"
      ],
      "text/plain": [
       "  age        hypertension heart_disease avg_glucose_level bmi        stroke\n",
       "1  0.3784336 -0.3350744    4.0915769    -0.58622986               NA 0     \n",
       "2  1.1708731 -0.3350744   -0.2443408    -0.08416999        1.1691436 0     \n",
       "3 -0.6781525 -0.3350744   -0.2443408    -0.45391087       -0.2754355 0     \n",
       "4 -0.7221769 -0.3350744   -0.2443408    -0.91127435        1.5986130 0     \n",
       "5 -0.8542502 -0.3350744   -0.2443408     0.18223815        0.1670482 0     \n",
       "6  0.2903847 -0.3350744   -0.2443408    -1.07036692       -0.1583074 0     "
      ]
     },
     "metadata": {},
     "output_type": "display_data"
    }
   ],
   "source": [
    "head(stroke_clean)"
   ]
  },
  {
   "cell_type": "markdown",
   "metadata": {},
   "source": [
    "#### Split data"
   ]
  },
  {
   "cell_type": "code",
   "execution_count": 72,
   "metadata": {},
   "outputs": [],
   "source": [
    "stroke_split <- initial_split(stroke_clean, prop = 0.75, strata = stroke)\n",
    "stroke_train <- training(stroke_split)\n",
    "stroke_test <- testing(stroke_split)"
   ]
  },
  {
   "cell_type": "markdown",
   "metadata": {},
   "source": [
    "### Downsampling"
   ]
  },
  {
   "cell_type": "code",
   "execution_count": 76,
   "metadata": {},
   "outputs": [],
   "source": [
    "ds_recipe <- recipe(stroke ~ ., data = stroke_train) %>%\n",
    "    step_scale(all_predictors()) %>%\n",
    "    step_center(all_predictors()) %>%\n",
    "    step_downsample(stroke, under_ratio = 1, skip = FALSE) %>%\n",
    "    prep()\n",
    "dsampled_stroke <- bake(ups_recipe, stroke_train)"
   ]
  },
  {
   "cell_type": "code",
   "execution_count": 75,
   "metadata": {},
   "outputs": [
    {
     "name": "stderr",
     "output_type": "stream",
     "text": [
      "`summarise()` ungrouping output (override with `.groups` argument)\n",
      "\n"
     ]
    },
    {
     "data": {
      "text/html": [
       "<table>\n",
       "<caption>A tibble: 2 × 2</caption>\n",
       "<thead>\n",
       "\t<tr><th scope=col>stroke</th><th scope=col>n</th></tr>\n",
       "\t<tr><th scope=col>&lt;fct&gt;</th><th scope=col>&lt;int&gt;</th></tr>\n",
       "</thead>\n",
       "<tbody>\n",
       "\t<tr><td>0</td><td>3644</td></tr>\n",
       "\t<tr><td>1</td><td>3644</td></tr>\n",
       "</tbody>\n",
       "</table>\n"
      ],
      "text/latex": [
       "A tibble: 2 × 2\n",
       "\\begin{tabular}{ll}\n",
       " stroke & n\\\\\n",
       " <fct> & <int>\\\\\n",
       "\\hline\n",
       "\t 0 & 3644\\\\\n",
       "\t 1 & 3644\\\\\n",
       "\\end{tabular}\n"
      ],
      "text/markdown": [
       "\n",
       "A tibble: 2 × 2\n",
       "\n",
       "| stroke &lt;fct&gt; | n &lt;int&gt; |\n",
       "|---|---|\n",
       "| 0 | 3644 |\n",
       "| 1 | 3644 |\n",
       "\n"
      ],
      "text/plain": [
       "  stroke n   \n",
       "1 0      3644\n",
       "2 1      3644"
      ]
     },
     "metadata": {},
     "output_type": "display_data"
    },
    {
     "data": {
      "text/html": [
       "<table>\n",
       "<caption>A tibble: 6 × 6</caption>\n",
       "<thead>\n",
       "\t<tr><th scope=col>age</th><th scope=col>hypertension</th><th scope=col>heart_disease</th><th scope=col>avg_glucose_level</th><th scope=col>bmi</th><th scope=col>stroke</th></tr>\n",
       "\t<tr><th scope=col>&lt;dbl&gt;</th><th scope=col>&lt;dbl&gt;</th><th scope=col>&lt;dbl&gt;</th><th scope=col>&lt;dbl&gt;</th><th scope=col>&lt;dbl&gt;</th><th scope=col>&lt;fct&gt;</th></tr>\n",
       "</thead>\n",
       "<tbody>\n",
       "\t<tr><td>-1.7787630</td><td>-0.3350744</td><td>-0.2443408</td><td>-0.2474667</td><td>-1.4076731</td><td>0</td></tr>\n",
       "\t<tr><td> 0.6425801</td><td> 2.9836336</td><td>-0.2443408</td><td>-0.4058954</td><td> 1.3513427</td><td>0</td></tr>\n",
       "\t<tr><td>-1.5586409</td><td>-0.3350744</td><td>-0.2443408</td><td> 0.1014749</td><td>-1.4597300</td><td>0</td></tr>\n",
       "\t<tr><td> 1.1708731</td><td>-0.3350744</td><td>-0.2443408</td><td>-0.8245368</td><td> 0.9218733</td><td>0</td></tr>\n",
       "\t<tr><td> 0.3784336</td><td>-0.3350744</td><td>-0.2443408</td><td>-0.6353516</td><td>-1.4467158</td><td>0</td></tr>\n",
       "\t<tr><td> 1.3909952</td><td>-0.3350744</td><td> 4.0915769</td><td> 3.0363899</td><td>-0.2363928</td><td>0</td></tr>\n",
       "</tbody>\n",
       "</table>\n"
      ],
      "text/latex": [
       "A tibble: 6 × 6\n",
       "\\begin{tabular}{llllll}\n",
       " age & hypertension & heart\\_disease & avg\\_glucose\\_level & bmi & stroke\\\\\n",
       " <dbl> & <dbl> & <dbl> & <dbl> & <dbl> & <fct>\\\\\n",
       "\\hline\n",
       "\t -1.7787630 & -0.3350744 & -0.2443408 & -0.2474667 & -1.4076731 & 0\\\\\n",
       "\t  0.6425801 &  2.9836336 & -0.2443408 & -0.4058954 &  1.3513427 & 0\\\\\n",
       "\t -1.5586409 & -0.3350744 & -0.2443408 &  0.1014749 & -1.4597300 & 0\\\\\n",
       "\t  1.1708731 & -0.3350744 & -0.2443408 & -0.8245368 &  0.9218733 & 0\\\\\n",
       "\t  0.3784336 & -0.3350744 & -0.2443408 & -0.6353516 & -1.4467158 & 0\\\\\n",
       "\t  1.3909952 & -0.3350744 &  4.0915769 &  3.0363899 & -0.2363928 & 0\\\\\n",
       "\\end{tabular}\n"
      ],
      "text/markdown": [
       "\n",
       "A tibble: 6 × 6\n",
       "\n",
       "| age &lt;dbl&gt; | hypertension &lt;dbl&gt; | heart_disease &lt;dbl&gt; | avg_glucose_level &lt;dbl&gt; | bmi &lt;dbl&gt; | stroke &lt;fct&gt; |\n",
       "|---|---|---|---|---|---|\n",
       "| -1.7787630 | -0.3350744 | -0.2443408 | -0.2474667 | -1.4076731 | 0 |\n",
       "|  0.6425801 |  2.9836336 | -0.2443408 | -0.4058954 |  1.3513427 | 0 |\n",
       "| -1.5586409 | -0.3350744 | -0.2443408 |  0.1014749 | -1.4597300 | 0 |\n",
       "|  1.1708731 | -0.3350744 | -0.2443408 | -0.8245368 |  0.9218733 | 0 |\n",
       "|  0.3784336 | -0.3350744 | -0.2443408 | -0.6353516 | -1.4467158 | 0 |\n",
       "|  1.3909952 | -0.3350744 |  4.0915769 |  3.0363899 | -0.2363928 | 0 |\n",
       "\n"
      ],
      "text/plain": [
       "  age        hypertension heart_disease avg_glucose_level bmi        stroke\n",
       "1 -1.7787630 -0.3350744   -0.2443408    -0.2474667        -1.4076731 0     \n",
       "2  0.6425801  2.9836336   -0.2443408    -0.4058954         1.3513427 0     \n",
       "3 -1.5586409 -0.3350744   -0.2443408     0.1014749        -1.4597300 0     \n",
       "4  1.1708731 -0.3350744   -0.2443408    -0.8245368         0.9218733 0     \n",
       "5  0.3784336 -0.3350744   -0.2443408    -0.6353516        -1.4467158 0     \n",
       "6  1.3909952 -0.3350744    4.0915769     3.0363899        -0.2363928 0     "
      ]
     },
     "metadata": {},
     "output_type": "display_data"
    },
    {
     "data": {
      "text/html": [
       "<table>\n",
       "<caption>A tibble: 6 × 6</caption>\n",
       "<thead>\n",
       "\t<tr><th scope=col>age</th><th scope=col>hypertension</th><th scope=col>heart_disease</th><th scope=col>avg_glucose_level</th><th scope=col>bmi</th><th scope=col>stroke</th></tr>\n",
       "\t<tr><th scope=col>&lt;dbl&gt;</th><th scope=col>&lt;dbl&gt;</th><th scope=col>&lt;dbl&gt;</th><th scope=col>&lt;dbl&gt;</th><th scope=col>&lt;dbl&gt;</th><th scope=col>&lt;fct&gt;</th></tr>\n",
       "</thead>\n",
       "<tbody>\n",
       "\t<tr><td>0.5985557</td><td>-0.3350744</td><td>-0.2443408</td><td>-0.84710628</td><td> 1.1301009</td><td>1</td></tr>\n",
       "\t<tr><td>0.8627022</td><td>-0.3350744</td><td>-0.2443408</td><td> 0.00610785</td><td>-0.6398338</td><td>1</td></tr>\n",
       "\t<tr><td>0.5545313</td><td>-0.3350744</td><td>-0.2443408</td><td> 1.74506268</td><td> 1.5075134</td><td>1</td></tr>\n",
       "\t<tr><td>1.1268487</td><td> 2.9836336</td><td> 4.0915769</td><td>-0.75527955</td><td> 1.0390013</td><td>1</td></tr>\n",
       "\t<tr><td>1.6551417</td><td>-0.3350744</td><td>-0.2443408</td><td>-0.79665689</td><td>-0.3925635</td><td>1</td></tr>\n",
       "\t<tr><td>0.6866045</td><td>-0.3350744</td><td>-0.2443408</td><td>-0.22445468</td><td> 1.9890398</td><td>1</td></tr>\n",
       "</tbody>\n",
       "</table>\n"
      ],
      "text/latex": [
       "A tibble: 6 × 6\n",
       "\\begin{tabular}{llllll}\n",
       " age & hypertension & heart\\_disease & avg\\_glucose\\_level & bmi & stroke\\\\\n",
       " <dbl> & <dbl> & <dbl> & <dbl> & <dbl> & <fct>\\\\\n",
       "\\hline\n",
       "\t 0.5985557 & -0.3350744 & -0.2443408 & -0.84710628 &  1.1301009 & 1\\\\\n",
       "\t 0.8627022 & -0.3350744 & -0.2443408 &  0.00610785 & -0.6398338 & 1\\\\\n",
       "\t 0.5545313 & -0.3350744 & -0.2443408 &  1.74506268 &  1.5075134 & 1\\\\\n",
       "\t 1.1268487 &  2.9836336 &  4.0915769 & -0.75527955 &  1.0390013 & 1\\\\\n",
       "\t 1.6551417 & -0.3350744 & -0.2443408 & -0.79665689 & -0.3925635 & 1\\\\\n",
       "\t 0.6866045 & -0.3350744 & -0.2443408 & -0.22445468 &  1.9890398 & 1\\\\\n",
       "\\end{tabular}\n"
      ],
      "text/markdown": [
       "\n",
       "A tibble: 6 × 6\n",
       "\n",
       "| age &lt;dbl&gt; | hypertension &lt;dbl&gt; | heart_disease &lt;dbl&gt; | avg_glucose_level &lt;dbl&gt; | bmi &lt;dbl&gt; | stroke &lt;fct&gt; |\n",
       "|---|---|---|---|---|---|\n",
       "| 0.5985557 | -0.3350744 | -0.2443408 | -0.84710628 |  1.1301009 | 1 |\n",
       "| 0.8627022 | -0.3350744 | -0.2443408 |  0.00610785 | -0.6398338 | 1 |\n",
       "| 0.5545313 | -0.3350744 | -0.2443408 |  1.74506268 |  1.5075134 | 1 |\n",
       "| 1.1268487 |  2.9836336 |  4.0915769 | -0.75527955 |  1.0390013 | 1 |\n",
       "| 1.6551417 | -0.3350744 | -0.2443408 | -0.79665689 | -0.3925635 | 1 |\n",
       "| 0.6866045 | -0.3350744 | -0.2443408 | -0.22445468 |  1.9890398 | 1 |\n",
       "\n"
      ],
      "text/plain": [
       "  age       hypertension heart_disease avg_glucose_level bmi        stroke\n",
       "1 0.5985557 -0.3350744   -0.2443408    -0.84710628        1.1301009 1     \n",
       "2 0.8627022 -0.3350744   -0.2443408     0.00610785       -0.6398338 1     \n",
       "3 0.5545313 -0.3350744   -0.2443408     1.74506268        1.5075134 1     \n",
       "4 1.1268487  2.9836336    4.0915769    -0.75527955        1.0390013 1     \n",
       "5 1.6551417 -0.3350744   -0.2443408    -0.79665689       -0.3925635 1     \n",
       "6 0.6866045 -0.3350744   -0.2443408    -0.22445468        1.9890398 1     "
      ]
     },
     "metadata": {},
     "output_type": "display_data"
    }
   ],
   "source": [
    "dsampled_stroke <- bake(ups_recipe, stroke_train)\n",
    "\n",
    "upsampled_stroke %>%\n",
    "  group_by(stroke) %>%\n",
    "  summarize(n = n())\n",
    "\n",
    "head(upsampled_stroke)\n",
    "tail(upsampled_stroke)"
   ]
  },
  {
   "cell_type": "markdown",
   "metadata": {},
   "source": [
    "### Forward Selection"
   ]
  },
  {
   "cell_type": "code",
   "execution_count": 70,
   "metadata": {},
   "outputs": [],
   "source": [
    "# DOWNSAMPLE here!!!"
   ]
  },
  {
   "cell_type": "code",
   "execution_count": 57,
   "metadata": {},
   "outputs": [
    {
     "data": {
      "text/html": [
       "<style>\n",
       ".list-inline {list-style: none; margin:0; padding: 0}\n",
       ".list-inline>li {display: inline-block}\n",
       ".list-inline>li:not(:last-child)::after {content: \"\\00b7\"; padding: 0 .5ex}\n",
       "</style>\n",
       "<ol class=list-inline><li>'age'</li><li>'avg_glucose_level'</li><li>'bmi'</li><li>'heart_disease'</li><li>'hypertension'</li></ol>\n"
      ],
      "text/latex": [
       "\\begin{enumerate*}\n",
       "\\item 'age'\n",
       "\\item 'avg\\_glucose\\_level'\n",
       "\\item 'bmi'\n",
       "\\item 'heart\\_disease'\n",
       "\\item 'hypertension'\n",
       "\\end{enumerate*}\n"
      ],
      "text/markdown": [
       "1. 'age'\n",
       "2. 'avg_glucose_level'\n",
       "3. 'bmi'\n",
       "4. 'heart_disease'\n",
       "5. 'hypertension'\n",
       "\n",
       "\n"
      ],
      "text/plain": [
       "[1] \"age\"               \"avg_glucose_level\" \"bmi\"              \n",
       "[4] \"heart_disease\"     \"hypertension\"     "
      ]
     },
     "metadata": {},
     "output_type": "display_data"
    }
   ],
   "source": [
    "stroke_subset <- upsampled_stroke %>%\n",
    "    filter(!is.na(bmi))\n",
    "names <- colnames(upsampled_stroke %>% select(-stroke)) %>% sort()\n",
    "names"
   ]
  },
  {
   "cell_type": "code",
   "execution_count": 58,
   "metadata": {},
   "outputs": [
    {
     "data": {
      "text/html": [
       "'stroke ~ age+avg_glucose_level+bmi+heart_disease+hypertension'"
      ],
      "text/latex": [
       "'stroke \\textasciitilde{} age+avg\\_glucose\\_level+bmi+heart\\_disease+hypertension'"
      ],
      "text/markdown": [
       "'stroke ~ age+avg_glucose_level+bmi+heart_disease+hypertension'"
      ],
      "text/plain": [
       "[1] \"stroke ~ age+avg_glucose_level+bmi+heart_disease+hypertension\""
      ]
     },
     "metadata": {},
     "output_type": "display_data"
    }
   ],
   "source": [
    "example_formula <- paste(\"stroke\", \"~\", paste(names, collapse=\"+\"))\n",
    "example_formula"
   ]
  },
  {
   "cell_type": "code",
   "execution_count": 59,
   "metadata": {},
   "outputs": [
    {
     "data": {
      "text/html": [
       "<table>\n",
       "<caption>A tibble: 0 × 3</caption>\n",
       "<thead>\n",
       "\t<tr><th scope=col>size</th><th scope=col>model_string</th><th scope=col>accuracy</th></tr>\n",
       "\t<tr><th scope=col>&lt;int&gt;</th><th scope=col>&lt;chr&gt;</th><th scope=col>&lt;dbl&gt;</th></tr>\n",
       "</thead>\n",
       "<tbody>\n",
       "</tbody>\n",
       "</table>\n"
      ],
      "text/latex": [
       "A tibble: 0 × 3\n",
       "\\begin{tabular}{lll}\n",
       " size & model\\_string & accuracy\\\\\n",
       " <int> & <chr> & <dbl>\\\\\n",
       "\\hline\n",
       "\\end{tabular}\n"
      ],
      "text/markdown": [
       "\n",
       "A tibble: 0 × 3\n",
       "\n",
       "| size &lt;int&gt; | model_string &lt;chr&gt; | accuracy &lt;dbl&gt; |\n",
       "|---|---|---|\n",
       "\n"
      ],
      "text/plain": [
       "     size model_string accuracy"
      ]
     },
     "metadata": {},
     "output_type": "display_data"
    }
   ],
   "source": [
    "# create an empty tibble to store the results\n",
    "accuracies <- tibble(size = integer(), \n",
    "                     model_string = character(), \n",
    "                     accuracy = numeric())\n",
    "accuracies"
   ]
  },
  {
   "cell_type": "code",
   "execution_count": 60,
   "metadata": {},
   "outputs": [],
   "source": [
    "# create a model specification\n",
    "knn_spec <- nearest_neighbor(weight_func = \"rectangular\", \n",
    "                             neighbors = tune()) %>%\n",
    "     set_engine(\"kknn\") %>%\n",
    "     set_mode(\"classification\")\n",
    "\n",
    "# create a 5-fold cross-validation object\n",
    "stroke_vfold <- vfold_cv(stroke_subset, v = 5, strata = stroke)\n",
    "\n",
    "gridvals <- tibble(neighbors = seq(from = 1, to = 20, by = 2))"
   ]
  },
  {
   "cell_type": "code",
   "execution_count": 61,
   "metadata": {},
   "outputs": [],
   "source": [
    "# store the total number of predictors\n",
    "n_total <- length(names)\n",
    "\n",
    "# stores selected predictors\n",
    "selected <- c()"
   ]
  },
  {
   "cell_type": "code",
   "execution_count": 62,
   "metadata": {},
   "outputs": [],
   "source": [
    "set.seed(31)\n",
    "# for every size from 1 to the total number of predictors\n",
    "for (i in 1:n_total) {\n",
    "    print(\"start\")\n",
    "    # for every predictor still not added yet\n",
    "    accs <- list()\n",
    "    models <- list()\n",
    "    for (j in 1:length(names)) {\n",
    "        # create a model string for this combination of predictors\n",
    "        preds_new <- c(selected, names[[j]])\n",
    "        model_string <- paste(\"stroke\", \"~\", paste(preds_new, collapse=\"+\"))\n",
    "        print(model_string)\n",
    "        \n",
    "        # create a recipe from the model string\n",
    "        stroke_recipe <- recipe(as.formula(model_string), \n",
    "                                data = stroke_subset) %>%\n",
    "                          step_scale(all_predictors()) %>%\n",
    "                          step_center(all_predictors())\n",
    "\n",
    "#         !!! how can i repeat the below step more to make it more accurate?\n",
    "        # tune the KNN classifier with these predictors, \n",
    "        # and collect the accuracy for the best K\n",
    "        acc <- workflow() %>%\n",
    "          add_recipe(stroke_recipe) %>%\n",
    "          add_model(knn_spec) %>%\n",
    "          tune_grid(resamples = stroke_vfold, grid = gridvals) %>%\n",
    "          collect_metrics() %>%\n",
    "          filter(.metric == \"accuracy\") %>%\n",
    "          summarize(mx = max(mean))\n",
    "        acc <- acc$mx %>% unlist()\n",
    "\n",
    "        # add this result to the dataframe\n",
    "        accs[[j]] <- acc\n",
    "        models[[j]] <- model_string\n",
    "    }\n",
    "    print(\"unlist\")\n",
    "    print(unlist(accs))\n",
    "    jstar <- which.max(unlist(accs))\n",
    "    accuracies <- accuracies %>% \n",
    "      add_row(size = i, \n",
    "              model_string = models[[jstar]], \n",
    "              accuracy = accs[[jstar]])\n",
    "    selected <- c(selected, names[[jstar]])\n",
    "    names <- names[-jstar]\n",
    "}\n",
    "accuracies"
   ]
  },
  {
   "cell_type": "code",
   "execution_count": null,
   "metadata": {},
   "outputs": [],
   "source": [
    "accuracies"
   ]
  },
  {
   "cell_type": "code",
   "execution_count": 165,
   "metadata": {},
   "outputs": [
    {
     "data": {
      "image/png": "[encoded data removed]",
      "text/plain": [
       "plot without title"
      ]
     },
     "metadata": {
      "image/png": {
       "height": 420,
       "width": 420
      }
     },
     "output_type": "display_data"
    }
   ],
   "source": [
    "ggplot(accuracies, aes(x=size, y=accuracy)) +\n",
    "geom_line()"
   ]
  },
  {
   "cell_type": "markdown",
   "metadata": {},
   "source": [
    "## with predict ##"
   ]
  },
  {
   "cell_type": "code",
   "execution_count": 63,
   "metadata": {},
   "outputs": [],
   "source": [
    "stroke_recipe <- recipe(stroke ~ avg_glucose_level + age, data = stroke_train) %>%\n",
    "  step_scale(all_predictors()) %>%\n",
    "  step_center(all_predictors())"
   ]
  },
  {
   "cell_type": "code",
   "execution_count": 42,
   "metadata": {},
   "outputs": [],
   "source": [
    "stroke_vfold <- vfold_cv(stroke_train, v = 5, strata = stroke)\n",
    "k_vals <- tibble(neighbors = seq(from = 100, to = 200, by = 5))"
   ]
  },
  {
   "cell_type": "code",
   "execution_count": 43,
   "metadata": {},
   "outputs": [],
   "source": [
    "knn_spec <- nearest_neighbor(weight_func = \"rectangular\", neighbors = tune()) %>%\n",
    "  set_engine(\"kknn\") %>%\n",
    "  set_mode(\"classification\")"
   ]
  },
  {
   "cell_type": "code",
   "execution_count": null,
   "metadata": {},
   "outputs": [],
   "source": [
    "knn_results <- workflow() %>%\n",
    "  add_recipe(stroke_recipe) %>%\n",
    "  add_model(knn_spec) %>%\n",
    "  tune_grid(resamples = stroke_vfold, grid = k_vals) %>%\n",
    "  collect_metrics() \n",
    "knn_results"
   ]
  },
  {
   "cell_type": "code",
   "execution_count": 29,
   "metadata": {},
   "outputs": [
    {
     "data": {
      "text/html": [
       "<table>\n",
       "<caption>A tibble: 92 × 7</caption>\n",
       "<thead>\n",
       "\t<tr><th scope=col>neighbors</th><th scope=col>.metric</th><th scope=col>.estimator</th><th scope=col>mean</th><th scope=col>n</th><th scope=col>std_err</th><th scope=col>.config</th></tr>\n",
       "\t<tr><th scope=col>&lt;dbl&gt;</th><th scope=col>&lt;chr&gt;</th><th scope=col>&lt;chr&gt;</th><th scope=col>&lt;dbl&gt;</th><th scope=col>&lt;int&gt;</th><th scope=col>&lt;dbl&gt;</th><th scope=col>&lt;chr&gt;</th></tr>\n",
       "</thead>\n",
       "<tbody>\n",
       "\t<tr><td> 9</td><td>accuracy</td><td>binary</td><td>0.9538097</td><td>5</td><td>0.002285071</td><td>Model009</td></tr>\n",
       "\t<tr><td>10</td><td>accuracy</td><td>binary</td><td>0.9538097</td><td>5</td><td>0.002285071</td><td>Model010</td></tr>\n",
       "\t<tr><td>11</td><td>accuracy</td><td>binary</td><td>0.9538097</td><td>5</td><td>0.002285071</td><td>Model011</td></tr>\n",
       "\t<tr><td>12</td><td>accuracy</td><td>binary</td><td>0.9538097</td><td>5</td><td>0.002285071</td><td>Model012</td></tr>\n",
       "\t<tr><td>13</td><td>accuracy</td><td>binary</td><td>0.9538097</td><td>5</td><td>0.002285071</td><td>Model013</td></tr>\n",
       "\t<tr><td>14</td><td>accuracy</td><td>binary</td><td>0.9538097</td><td>5</td><td>0.002285071</td><td>Model014</td></tr>\n",
       "\t<tr><td>15</td><td>accuracy</td><td>binary</td><td>0.9538097</td><td>5</td><td>0.002285071</td><td>Model015</td></tr>\n",
       "\t<tr><td>16</td><td>accuracy</td><td>binary</td><td>0.9538097</td><td>5</td><td>0.002285071</td><td>Model016</td></tr>\n",
       "\t<tr><td>17</td><td>accuracy</td><td>binary</td><td>0.9538097</td><td>5</td><td>0.002285071</td><td>Model017</td></tr>\n",
       "\t<tr><td>18</td><td>accuracy</td><td>binary</td><td>0.9538097</td><td>5</td><td>0.002285071</td><td>Model018</td></tr>\n",
       "\t<tr><td>19</td><td>accuracy</td><td>binary</td><td>0.9538097</td><td>5</td><td>0.002285071</td><td>Model019</td></tr>\n",
       "\t<tr><td>20</td><td>accuracy</td><td>binary</td><td>0.9538097</td><td>5</td><td>0.002285071</td><td>Model020</td></tr>\n",
       "\t<tr><td>21</td><td>accuracy</td><td>binary</td><td>0.9538097</td><td>5</td><td>0.002285071</td><td>Model021</td></tr>\n",
       "\t<tr><td>22</td><td>accuracy</td><td>binary</td><td>0.9538097</td><td>5</td><td>0.002285071</td><td>Model022</td></tr>\n",
       "\t<tr><td>23</td><td>accuracy</td><td>binary</td><td>0.9538097</td><td>5</td><td>0.002285071</td><td>Model023</td></tr>\n",
       "\t<tr><td>24</td><td>accuracy</td><td>binary</td><td>0.9538097</td><td>5</td><td>0.002285071</td><td>Model024</td></tr>\n",
       "\t<tr><td>25</td><td>accuracy</td><td>binary</td><td>0.9538097</td><td>5</td><td>0.002285071</td><td>Model025</td></tr>\n",
       "\t<tr><td>26</td><td>accuracy</td><td>binary</td><td>0.9538097</td><td>5</td><td>0.002285071</td><td>Model026</td></tr>\n",
       "\t<tr><td>27</td><td>accuracy</td><td>binary</td><td>0.9538097</td><td>5</td><td>0.002285071</td><td>Model027</td></tr>\n",
       "\t<tr><td>28</td><td>accuracy</td><td>binary</td><td>0.9538097</td><td>5</td><td>0.002285071</td><td>Model028</td></tr>\n",
       "\t<tr><td>29</td><td>accuracy</td><td>binary</td><td>0.9538097</td><td>5</td><td>0.002285071</td><td>Model029</td></tr>\n",
       "\t<tr><td>30</td><td>accuracy</td><td>binary</td><td>0.9538097</td><td>5</td><td>0.002285071</td><td>Model030</td></tr>\n",
       "\t<tr><td>31</td><td>accuracy</td><td>binary</td><td>0.9538097</td><td>5</td><td>0.002285071</td><td>Model031</td></tr>\n",
       "\t<tr><td>32</td><td>accuracy</td><td>binary</td><td>0.9538097</td><td>5</td><td>0.002285071</td><td>Model032</td></tr>\n",
       "\t<tr><td>33</td><td>accuracy</td><td>binary</td><td>0.9538097</td><td>5</td><td>0.002285071</td><td>Model033</td></tr>\n",
       "\t<tr><td>34</td><td>accuracy</td><td>binary</td><td>0.9538097</td><td>5</td><td>0.002285071</td><td>Model034</td></tr>\n",
       "\t<tr><td>35</td><td>accuracy</td><td>binary</td><td>0.9538097</td><td>5</td><td>0.002285071</td><td>Model035</td></tr>\n",
       "\t<tr><td>36</td><td>accuracy</td><td>binary</td><td>0.9538097</td><td>5</td><td>0.002285071</td><td>Model036</td></tr>\n",
       "\t<tr><td>37</td><td>accuracy</td><td>binary</td><td>0.9538097</td><td>5</td><td>0.002285071</td><td>Model037</td></tr>\n",
       "\t<tr><td>38</td><td>accuracy</td><td>binary</td><td>0.9538097</td><td>5</td><td>0.002285071</td><td>Model038</td></tr>\n",
       "\t<tr><td>⋮</td><td>⋮</td><td>⋮</td><td>⋮</td><td>⋮</td><td>⋮</td><td>⋮</td></tr>\n",
       "\t<tr><td> 71</td><td>accuracy</td><td>binary</td><td>0.9538097</td><td>5</td><td>0.002285071</td><td>Model071</td></tr>\n",
       "\t<tr><td> 72</td><td>accuracy</td><td>binary</td><td>0.9538097</td><td>5</td><td>0.002285071</td><td>Model072</td></tr>\n",
       "\t<tr><td> 73</td><td>accuracy</td><td>binary</td><td>0.9538097</td><td>5</td><td>0.002285071</td><td>Model073</td></tr>\n",
       "\t<tr><td> 74</td><td>accuracy</td><td>binary</td><td>0.9538097</td><td>5</td><td>0.002285071</td><td>Model074</td></tr>\n",
       "\t<tr><td> 75</td><td>accuracy</td><td>binary</td><td>0.9538097</td><td>5</td><td>0.002285071</td><td>Model075</td></tr>\n",
       "\t<tr><td> 76</td><td>accuracy</td><td>binary</td><td>0.9538097</td><td>5</td><td>0.002285071</td><td>Model076</td></tr>\n",
       "\t<tr><td> 77</td><td>accuracy</td><td>binary</td><td>0.9538097</td><td>5</td><td>0.002285071</td><td>Model077</td></tr>\n",
       "\t<tr><td> 78</td><td>accuracy</td><td>binary</td><td>0.9538097</td><td>5</td><td>0.002285071</td><td>Model078</td></tr>\n",
       "\t<tr><td> 79</td><td>accuracy</td><td>binary</td><td>0.9538097</td><td>5</td><td>0.002285071</td><td>Model079</td></tr>\n",
       "\t<tr><td> 80</td><td>accuracy</td><td>binary</td><td>0.9538097</td><td>5</td><td>0.002285071</td><td>Model080</td></tr>\n",
       "\t<tr><td> 81</td><td>accuracy</td><td>binary</td><td>0.9538097</td><td>5</td><td>0.002285071</td><td>Model081</td></tr>\n",
       "\t<tr><td> 82</td><td>accuracy</td><td>binary</td><td>0.9538097</td><td>5</td><td>0.002285071</td><td>Model082</td></tr>\n",
       "\t<tr><td> 83</td><td>accuracy</td><td>binary</td><td>0.9538097</td><td>5</td><td>0.002285071</td><td>Model083</td></tr>\n",
       "\t<tr><td> 84</td><td>accuracy</td><td>binary</td><td>0.9538097</td><td>5</td><td>0.002285071</td><td>Model084</td></tr>\n",
       "\t<tr><td> 85</td><td>accuracy</td><td>binary</td><td>0.9538097</td><td>5</td><td>0.002285071</td><td>Model085</td></tr>\n",
       "\t<tr><td> 86</td><td>accuracy</td><td>binary</td><td>0.9538097</td><td>5</td><td>0.002285071</td><td>Model086</td></tr>\n",
       "\t<tr><td> 87</td><td>accuracy</td><td>binary</td><td>0.9538097</td><td>5</td><td>0.002285071</td><td>Model087</td></tr>\n",
       "\t<tr><td> 88</td><td>accuracy</td><td>binary</td><td>0.9538097</td><td>5</td><td>0.002285071</td><td>Model088</td></tr>\n",
       "\t<tr><td> 89</td><td>accuracy</td><td>binary</td><td>0.9538097</td><td>5</td><td>0.002285071</td><td>Model089</td></tr>\n",
       "\t<tr><td> 90</td><td>accuracy</td><td>binary</td><td>0.9538097</td><td>5</td><td>0.002285071</td><td>Model090</td></tr>\n",
       "\t<tr><td> 91</td><td>accuracy</td><td>binary</td><td>0.9538097</td><td>5</td><td>0.002285071</td><td>Model091</td></tr>\n",
       "\t<tr><td> 92</td><td>accuracy</td><td>binary</td><td>0.9538097</td><td>5</td><td>0.002285071</td><td>Model092</td></tr>\n",
       "\t<tr><td> 93</td><td>accuracy</td><td>binary</td><td>0.9538097</td><td>5</td><td>0.002285071</td><td>Model093</td></tr>\n",
       "\t<tr><td> 94</td><td>accuracy</td><td>binary</td><td>0.9538097</td><td>5</td><td>0.002285071</td><td>Model094</td></tr>\n",
       "\t<tr><td> 95</td><td>accuracy</td><td>binary</td><td>0.9538097</td><td>5</td><td>0.002285071</td><td>Model095</td></tr>\n",
       "\t<tr><td> 96</td><td>accuracy</td><td>binary</td><td>0.9538097</td><td>5</td><td>0.002285071</td><td>Model096</td></tr>\n",
       "\t<tr><td> 97</td><td>accuracy</td><td>binary</td><td>0.9538097</td><td>5</td><td>0.002285071</td><td>Model097</td></tr>\n",
       "\t<tr><td> 98</td><td>accuracy</td><td>binary</td><td>0.9538097</td><td>5</td><td>0.002285071</td><td>Model098</td></tr>\n",
       "\t<tr><td> 99</td><td>accuracy</td><td>binary</td><td>0.9538097</td><td>5</td><td>0.002285071</td><td>Model099</td></tr>\n",
       "\t<tr><td>100</td><td>accuracy</td><td>binary</td><td>0.9538097</td><td>5</td><td>0.002285071</td><td>Model100</td></tr>\n",
       "</tbody>\n",
       "</table>\n"
      ],
      "text/latex": [
       "A tibble: 92 × 7\n",
       "\\begin{tabular}{lllllll}\n",
       " neighbors & .metric & .estimator & mean & n & std\\_err & .config\\\\\n",
       " <dbl> & <chr> & <chr> & <dbl> & <int> & <dbl> & <chr>\\\\\n",
       "\\hline\n",
       "\t  9 & accuracy & binary & 0.9538097 & 5 & 0.002285071 & Model009\\\\\n",
       "\t 10 & accuracy & binary & 0.9538097 & 5 & 0.002285071 & Model010\\\\\n",
       "\t 11 & accuracy & binary & 0.9538097 & 5 & 0.002285071 & Model011\\\\\n",
       "\t 12 & accuracy & binary & 0.9538097 & 5 & 0.002285071 & Model012\\\\\n",
       "\t 13 & accuracy & binary & 0.9538097 & 5 & 0.002285071 & Model013\\\\\n",
       "\t 14 & accuracy & binary & 0.9538097 & 5 & 0.002285071 & Model014\\\\\n",
       "\t 15 & accuracy & binary & 0.9538097 & 5 & 0.002285071 & Model015\\\\\n",
       "\t 16 & accuracy & binary & 0.9538097 & 5 & 0.002285071 & Model016\\\\\n",
       "\t 17 & accuracy & binary & 0.9538097 & 5 & 0.002285071 & Model017\\\\\n",
       "\t 18 & accuracy & binary & 0.9538097 & 5 & 0.002285071 & Model018\\\\\n",
       "\t 19 & accuracy & binary & 0.9538097 & 5 & 0.002285071 & Model019\\\\\n",
       "\t 20 & accuracy & binary & 0.9538097 & 5 & 0.002285071 & Model020\\\\\n",
       "\t 21 & accuracy & binary & 0.9538097 & 5 & 0.002285071 & Model021\\\\\n",
       "\t 22 & accuracy & binary & 0.9538097 & 5 & 0.002285071 & Model022\\\\\n",
       "\t 23 & accuracy & binary & 0.9538097 & 5 & 0.002285071 & Model023\\\\\n",
       "\t 24 & accuracy & binary & 0.9538097 & 5 & 0.002285071 & Model024\\\\\n",
       "\t 25 & accuracy & binary & 0.9538097 & 5 & 0.002285071 & Model025\\\\\n",
       "\t 26 & accuracy & binary & 0.9538097 & 5 & 0.002285071 & Model026\\\\\n",
       "\t 27 & accuracy & binary & 0.9538097 & 5 & 0.002285071 & Model027\\\\\n",
       "\t 28 & accuracy & binary & 0.9538097 & 5 & 0.002285071 & Model028\\\\\n",
       "\t 29 & accuracy & binary & 0.9538097 & 5 & 0.002285071 & Model029\\\\\n",
       "\t 30 & accuracy & binary & 0.9538097 & 5 & 0.002285071 & Model030\\\\\n",
       "\t 31 & accuracy & binary & 0.9538097 & 5 & 0.002285071 & Model031\\\\\n",
       "\t 32 & accuracy & binary & 0.9538097 & 5 & 0.002285071 & Model032\\\\\n",
       "\t 33 & accuracy & binary & 0.9538097 & 5 & 0.002285071 & Model033\\\\\n",
       "\t 34 & accuracy & binary & 0.9538097 & 5 & 0.002285071 & Model034\\\\\n",
       "\t 35 & accuracy & binary & 0.9538097 & 5 & 0.002285071 & Model035\\\\\n",
       "\t 36 & accuracy & binary & 0.9538097 & 5 & 0.002285071 & Model036\\\\\n",
       "\t 37 & accuracy & binary & 0.9538097 & 5 & 0.002285071 & Model037\\\\\n",
       "\t 38 & accuracy & binary & 0.9538097 & 5 & 0.002285071 & Model038\\\\\n",
       "\t ⋮ & ⋮ & ⋮ & ⋮ & ⋮ & ⋮ & ⋮\\\\\n",
       "\t  71 & accuracy & binary & 0.9538097 & 5 & 0.002285071 & Model071\\\\\n",
       "\t  72 & accuracy & binary & 0.9538097 & 5 & 0.002285071 & Model072\\\\\n",
       "\t  73 & accuracy & binary & 0.9538097 & 5 & 0.002285071 & Model073\\\\\n",
       "\t  74 & accuracy & binary & 0.9538097 & 5 & 0.002285071 & Model074\\\\\n",
       "\t  75 & accuracy & binary & 0.9538097 & 5 & 0.002285071 & Model075\\\\\n",
       "\t  76 & accuracy & binary & 0.9538097 & 5 & 0.002285071 & Model076\\\\\n",
       "\t  77 & accuracy & binary & 0.9538097 & 5 & 0.002285071 & Model077\\\\\n",
       "\t  78 & accuracy & binary & 0.9538097 & 5 & 0.002285071 & Model078\\\\\n",
       "\t  79 & accuracy & binary & 0.9538097 & 5 & 0.002285071 & Model079\\\\\n",
       "\t  80 & accuracy & binary & 0.9538097 & 5 & 0.002285071 & Model080\\\\\n",
       "\t  81 & accuracy & binary & 0.9538097 & 5 & 0.002285071 & Model081\\\\\n",
       "\t  82 & accuracy & binary & 0.9538097 & 5 & 0.002285071 & Model082\\\\\n",
       "\t  83 & accuracy & binary & 0.9538097 & 5 & 0.002285071 & Model083\\\\\n",
       "\t  84 & accuracy & binary & 0.9538097 & 5 & 0.002285071 & Model084\\\\\n",
       "\t  85 & accuracy & binary & 0.9538097 & 5 & 0.002285071 & Model085\\\\\n",
       "\t  86 & accuracy & binary & 0.9538097 & 5 & 0.002285071 & Model086\\\\\n",
       "\t  87 & accuracy & binary & 0.9538097 & 5 & 0.002285071 & Model087\\\\\n",
       "\t  88 & accuracy & binary & 0.9538097 & 5 & 0.002285071 & Model088\\\\\n",
       "\t  89 & accuracy & binary & 0.9538097 & 5 & 0.002285071 & Model089\\\\\n",
       "\t  90 & accuracy & binary & 0.9538097 & 5 & 0.002285071 & Model090\\\\\n",
       "\t  91 & accuracy & binary & 0.9538097 & 5 & 0.002285071 & Model091\\\\\n",
       "\t  92 & accuracy & binary & 0.9538097 & 5 & 0.002285071 & Model092\\\\\n",
       "\t  93 & accuracy & binary & 0.9538097 & 5 & 0.002285071 & Model093\\\\\n",
       "\t  94 & accuracy & binary & 0.9538097 & 5 & 0.002285071 & Model094\\\\\n",
       "\t  95 & accuracy & binary & 0.9538097 & 5 & 0.002285071 & Model095\\\\\n",
       "\t  96 & accuracy & binary & 0.9538097 & 5 & 0.002285071 & Model096\\\\\n",
       "\t  97 & accuracy & binary & 0.9538097 & 5 & 0.002285071 & Model097\\\\\n",
       "\t  98 & accuracy & binary & 0.9538097 & 5 & 0.002285071 & Model098\\\\\n",
       "\t  99 & accuracy & binary & 0.9538097 & 5 & 0.002285071 & Model099\\\\\n",
       "\t 100 & accuracy & binary & 0.9538097 & 5 & 0.002285071 & Model100\\\\\n",
       "\\end{tabular}\n"
      ],
      "text/markdown": [
       "\n",
       "A tibble: 92 × 7\n",
       "\n",
       "| neighbors &lt;dbl&gt; | .metric &lt;chr&gt; | .estimator &lt;chr&gt; | mean &lt;dbl&gt; | n &lt;int&gt; | std_err &lt;dbl&gt; | .config &lt;chr&gt; |\n",
       "|---|---|---|---|---|---|---|\n",
       "|  9 | accuracy | binary | 0.9538097 | 5 | 0.002285071 | Model009 |\n",
       "| 10 | accuracy | binary | 0.9538097 | 5 | 0.002285071 | Model010 |\n",
       "| 11 | accuracy | binary | 0.9538097 | 5 | 0.002285071 | Model011 |\n",
       "| 12 | accuracy | binary | 0.9538097 | 5 | 0.002285071 | Model012 |\n",
       "| 13 | accuracy | binary | 0.9538097 | 5 | 0.002285071 | Model013 |\n",
       "| 14 | accuracy | binary | 0.9538097 | 5 | 0.002285071 | Model014 |\n",
       "| 15 | accuracy | binary | 0.9538097 | 5 | 0.002285071 | Model015 |\n",
       "| 16 | accuracy | binary | 0.9538097 | 5 | 0.002285071 | Model016 |\n",
       "| 17 | accuracy | binary | 0.9538097 | 5 | 0.002285071 | Model017 |\n",
       "| 18 | accuracy | binary | 0.9538097 | 5 | 0.002285071 | Model018 |\n",
       "| 19 | accuracy | binary | 0.9538097 | 5 | 0.002285071 | Model019 |\n",
       "| 20 | accuracy | binary | 0.9538097 | 5 | 0.002285071 | Model020 |\n",
       "| 21 | accuracy | binary | 0.9538097 | 5 | 0.002285071 | Model021 |\n",
       "| 22 | accuracy | binary | 0.9538097 | 5 | 0.002285071 | Model022 |\n",
       "| 23 | accuracy | binary | 0.9538097 | 5 | 0.002285071 | Model023 |\n",
       "| 24 | accuracy | binary | 0.9538097 | 5 | 0.002285071 | Model024 |\n",
       "| 25 | accuracy | binary | 0.9538097 | 5 | 0.002285071 | Model025 |\n",
       "| 26 | accuracy | binary | 0.9538097 | 5 | 0.002285071 | Model026 |\n",
       "| 27 | accuracy | binary | 0.9538097 | 5 | 0.002285071 | Model027 |\n",
       "| 28 | accuracy | binary | 0.9538097 | 5 | 0.002285071 | Model028 |\n",
       "| 29 | accuracy | binary | 0.9538097 | 5 | 0.002285071 | Model029 |\n",
       "| 30 | accuracy | binary | 0.9538097 | 5 | 0.002285071 | Model030 |\n",
       "| 31 | accuracy | binary | 0.9538097 | 5 | 0.002285071 | Model031 |\n",
       "| 32 | accuracy | binary | 0.9538097 | 5 | 0.002285071 | Model032 |\n",
       "| 33 | accuracy | binary | 0.9538097 | 5 | 0.002285071 | Model033 |\n",
       "| 34 | accuracy | binary | 0.9538097 | 5 | 0.002285071 | Model034 |\n",
       "| 35 | accuracy | binary | 0.9538097 | 5 | 0.002285071 | Model035 |\n",
       "| 36 | accuracy | binary | 0.9538097 | 5 | 0.002285071 | Model036 |\n",
       "| 37 | accuracy | binary | 0.9538097 | 5 | 0.002285071 | Model037 |\n",
       "| 38 | accuracy | binary | 0.9538097 | 5 | 0.002285071 | Model038 |\n",
       "| ⋮ | ⋮ | ⋮ | ⋮ | ⋮ | ⋮ | ⋮ |\n",
       "|  71 | accuracy | binary | 0.9538097 | 5 | 0.002285071 | Model071 |\n",
       "|  72 | accuracy | binary | 0.9538097 | 5 | 0.002285071 | Model072 |\n",
       "|  73 | accuracy | binary | 0.9538097 | 5 | 0.002285071 | Model073 |\n",
       "|  74 | accuracy | binary | 0.9538097 | 5 | 0.002285071 | Model074 |\n",
       "|  75 | accuracy | binary | 0.9538097 | 5 | 0.002285071 | Model075 |\n",
       "|  76 | accuracy | binary | 0.9538097 | 5 | 0.002285071 | Model076 |\n",
       "|  77 | accuracy | binary | 0.9538097 | 5 | 0.002285071 | Model077 |\n",
       "|  78 | accuracy | binary | 0.9538097 | 5 | 0.002285071 | Model078 |\n",
       "|  79 | accuracy | binary | 0.9538097 | 5 | 0.002285071 | Model079 |\n",
       "|  80 | accuracy | binary | 0.9538097 | 5 | 0.002285071 | Model080 |\n",
       "|  81 | accuracy | binary | 0.9538097 | 5 | 0.002285071 | Model081 |\n",
       "|  82 | accuracy | binary | 0.9538097 | 5 | 0.002285071 | Model082 |\n",
       "|  83 | accuracy | binary | 0.9538097 | 5 | 0.002285071 | Model083 |\n",
       "|  84 | accuracy | binary | 0.9538097 | 5 | 0.002285071 | Model084 |\n",
       "|  85 | accuracy | binary | 0.9538097 | 5 | 0.002285071 | Model085 |\n",
       "|  86 | accuracy | binary | 0.9538097 | 5 | 0.002285071 | Model086 |\n",
       "|  87 | accuracy | binary | 0.9538097 | 5 | 0.002285071 | Model087 |\n",
       "|  88 | accuracy | binary | 0.9538097 | 5 | 0.002285071 | Model088 |\n",
       "|  89 | accuracy | binary | 0.9538097 | 5 | 0.002285071 | Model089 |\n",
       "|  90 | accuracy | binary | 0.9538097 | 5 | 0.002285071 | Model090 |\n",
       "|  91 | accuracy | binary | 0.9538097 | 5 | 0.002285071 | Model091 |\n",
       "|  92 | accuracy | binary | 0.9538097 | 5 | 0.002285071 | Model092 |\n",
       "|  93 | accuracy | binary | 0.9538097 | 5 | 0.002285071 | Model093 |\n",
       "|  94 | accuracy | binary | 0.9538097 | 5 | 0.002285071 | Model094 |\n",
       "|  95 | accuracy | binary | 0.9538097 | 5 | 0.002285071 | Model095 |\n",
       "|  96 | accuracy | binary | 0.9538097 | 5 | 0.002285071 | Model096 |\n",
       "|  97 | accuracy | binary | 0.9538097 | 5 | 0.002285071 | Model097 |\n",
       "|  98 | accuracy | binary | 0.9538097 | 5 | 0.002285071 | Model098 |\n",
       "|  99 | accuracy | binary | 0.9538097 | 5 | 0.002285071 | Model099 |\n",
       "| 100 | accuracy | binary | 0.9538097 | 5 | 0.002285071 | Model100 |\n",
       "\n"
      ],
      "text/plain": [
       "   neighbors .metric  .estimator mean      n std_err     .config \n",
       "1   9        accuracy binary     0.9538097 5 0.002285071 Model009\n",
       "2  10        accuracy binary     0.9538097 5 0.002285071 Model010\n",
       "3  11        accuracy binary     0.9538097 5 0.002285071 Model011\n",
       "4  12        accuracy binary     0.9538097 5 0.002285071 Model012\n",
       "5  13        accuracy binary     0.9538097 5 0.002285071 Model013\n",
       "6  14        accuracy binary     0.9538097 5 0.002285071 Model014\n",
       "7  15        accuracy binary     0.9538097 5 0.002285071 Model015\n",
       "8  16        accuracy binary     0.9538097 5 0.002285071 Model016\n",
       "9  17        accuracy binary     0.9538097 5 0.002285071 Model017\n",
       "10 18        accuracy binary     0.9538097 5 0.002285071 Model018\n",
       "11 19        accuracy binary     0.9538097 5 0.002285071 Model019\n",
       "12 20        accuracy binary     0.9538097 5 0.002285071 Model020\n",
       "13 21        accuracy binary     0.9538097 5 0.002285071 Model021\n",
       "14 22        accuracy binary     0.9538097 5 0.002285071 Model022\n",
       "15 23        accuracy binary     0.9538097 5 0.002285071 Model023\n",
       "16 24        accuracy binary     0.9538097 5 0.002285071 Model024\n",
       "17 25        accuracy binary     0.9538097 5 0.002285071 Model025\n",
       "18 26        accuracy binary     0.9538097 5 0.002285071 Model026\n",
       "19 27        accuracy binary     0.9538097 5 0.002285071 Model027\n",
       "20 28        accuracy binary     0.9538097 5 0.002285071 Model028\n",
       "21 29        accuracy binary     0.9538097 5 0.002285071 Model029\n",
       "22 30        accuracy binary     0.9538097 5 0.002285071 Model030\n",
       "23 31        accuracy binary     0.9538097 5 0.002285071 Model031\n",
       "24 32        accuracy binary     0.9538097 5 0.002285071 Model032\n",
       "25 33        accuracy binary     0.9538097 5 0.002285071 Model033\n",
       "26 34        accuracy binary     0.9538097 5 0.002285071 Model034\n",
       "27 35        accuracy binary     0.9538097 5 0.002285071 Model035\n",
       "28 36        accuracy binary     0.9538097 5 0.002285071 Model036\n",
       "29 37        accuracy binary     0.9538097 5 0.002285071 Model037\n",
       "30 38        accuracy binary     0.9538097 5 0.002285071 Model038\n",
       "⋮  ⋮         ⋮        ⋮          ⋮         ⋮ ⋮           ⋮       \n",
       "63  71       accuracy binary     0.9538097 5 0.002285071 Model071\n",
       "64  72       accuracy binary     0.9538097 5 0.002285071 Model072\n",
       "65  73       accuracy binary     0.9538097 5 0.002285071 Model073\n",
       "66  74       accuracy binary     0.9538097 5 0.002285071 Model074\n",
       "67  75       accuracy binary     0.9538097 5 0.002285071 Model075\n",
       "68  76       accuracy binary     0.9538097 5 0.002285071 Model076\n",
       "69  77       accuracy binary     0.9538097 5 0.002285071 Model077\n",
       "70  78       accuracy binary     0.9538097 5 0.002285071 Model078\n",
       "71  79       accuracy binary     0.9538097 5 0.002285071 Model079\n",
       "72  80       accuracy binary     0.9538097 5 0.002285071 Model080\n",
       "73  81       accuracy binary     0.9538097 5 0.002285071 Model081\n",
       "74  82       accuracy binary     0.9538097 5 0.002285071 Model082\n",
       "75  83       accuracy binary     0.9538097 5 0.002285071 Model083\n",
       "76  84       accuracy binary     0.9538097 5 0.002285071 Model084\n",
       "77  85       accuracy binary     0.9538097 5 0.002285071 Model085\n",
       "78  86       accuracy binary     0.9538097 5 0.002285071 Model086\n",
       "79  87       accuracy binary     0.9538097 5 0.002285071 Model087\n",
       "80  88       accuracy binary     0.9538097 5 0.002285071 Model088\n",
       "81  89       accuracy binary     0.9538097 5 0.002285071 Model089\n",
       "82  90       accuracy binary     0.9538097 5 0.002285071 Model090\n",
       "83  91       accuracy binary     0.9538097 5 0.002285071 Model091\n",
       "84  92       accuracy binary     0.9538097 5 0.002285071 Model092\n",
       "85  93       accuracy binary     0.9538097 5 0.002285071 Model093\n",
       "86  94       accuracy binary     0.9538097 5 0.002285071 Model094\n",
       "87  95       accuracy binary     0.9538097 5 0.002285071 Model095\n",
       "88  96       accuracy binary     0.9538097 5 0.002285071 Model096\n",
       "89  97       accuracy binary     0.9538097 5 0.002285071 Model097\n",
       "90  98       accuracy binary     0.9538097 5 0.002285071 Model098\n",
       "91  99       accuracy binary     0.9538097 5 0.002285071 Model099\n",
       "92 100       accuracy binary     0.9538097 5 0.002285071 Model100"
      ]
     },
     "metadata": {},
     "output_type": "display_data"
    }
   ],
   "source": [
    "accuracies <- knn_results %>% # Plot accuracies vs neighbours\n",
    "  filter(.metric == \"accuracy\")\n",
    "optimal_neighbours <- accuracies %>%\n",
    "  filter(mean == max(mean))\n",
    "optimal_neighbours"
   ]
  },
  {
   "cell_type": "code",
   "execution_count": null,
   "metadata": {},
   "outputs": [],
   "source": [
    "stroke_test_predictions <- predict(knn_fit, stroke_test) %>%\n",
    "  bind_cols(stroke_test)"
   ]
  },
  {
   "cell_type": "markdown",
   "metadata": {},
   "source": [
    "stroke_test_predictions %>%\n",
    "  metrics(truth = stroke, estimate = .pred_class) %>%\n",
    "  filter(.metric == \"accuracy\") %>%\n",
    "  arrange(desc(mass))"
   ]
  },
  {
   "cell_type": "markdown",
   "metadata": {},
   "source": [
    "# for every size from 1 to the total number of predictors\n",
    "for (i in 1:n_total) {\n",
    "    # for every predictor still not added yet\n",
    "    accs <- list()\n",
    "    models <- list()\n",
    "    for (j in 1:length(names)) {\n",
    "        # create a model string for this combination of predictors\n",
    "        preds_new <- c(selected, names[[j]])\n",
    "        model_string <- paste(\"stroke\", \"~\", paste(preds_new, collapse=\"+\"))\n",
    "        \n",
    "        # create a recipe from the model string\n",
    "        stroke_recipe <- recipe(as.formula(model_string), \n",
    "                                data = stroke_subset) %>%\n",
    "                          step_scale(all_predictors()) %>%\n",
    "                          step_center(all_predictors())\n",
    "\n",
    "        # tune the KNN classifier with these predictors, \n",
    "        # and collect the accuracy for the best K\n",
    "        acc <- workflow() %>%\n",
    "          add_recipe(stroke_recipe) %>%\n",
    "          add_model(knn_spec) %>%\n",
    "          tune_grid(resamples = stroke_vfold, grid = 10) %>%\n",
    "          collect_metrics() %>%\n",
    "          filter(.metric == \"accuracy\") %>%\n",
    "          summarize(mx = max(mean))\n",
    "        acc <- acc$mx %>% unlist()\n",
    "\n",
    "        # add this result to the dataframe\n",
    "        accs[[j]] <- acc\n",
    "        models[[j]] <- model_string\n",
    "    }\n",
    "    jstar <- which.max(unlist(accs))\n",
    "    accuracies <- accuracies %>% \n",
    "      add_row(size = i, \n",
    "              model_string = models[[jstar]], \n",
    "              accuracy = accs[[jstar]])\n",
    "    selected <- c(selected, names[[jstar]])\n",
    "    names <- names[-jstar]\n",
    "}\n",
    "accuracies"
   ]
  }
 ],
 "metadata": {
  "kernelspec": {
   "display_name": "R",
   "language": "R",
   "name": "ir"
  },
  "language_info": {
   "codemirror_mode": "r",
   "file_extension": ".r",
   "mimetype": "text/x-r-source",
   "name": "R",
   "pygments_lexer": "r",
   "version": "4.0.0"
  }
 },
 "nbformat": 4,
 "nbformat_minor": 4
}
