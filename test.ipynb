{
 "cells": [
  {
   "cell_type": "markdown",
   "metadata": {},
   "source": [
    "## Predictor variable selection ## "
   ]
  },
  {
   "cell_type": "markdown",
   "metadata": {},
   "source": [
    "#### forward selection (Eforymson 1966; Draper and Smith 1966) ####"
   ]
  },
  {
   "cell_type": "markdown",
   "metadata": {},
   "source": [
    "Iteratively build up a model by adding one predictor variable at a time, starting one with no predictors."
   ]
  },
  {
   "cell_type": "markdown",
   "metadata": {},
   "source": [
    "Run the following 3 steps until you run out of predictors:\n",
    "1. For each unused predictor, add it to the model to form a candidate model.\n",
    "2. Tune all of the candidate models.\n",
    "3. Update the model to be the candidate model with the highest cross-validation accuracy.\n",
    "\n",
    "Select the model that provides the best trade-off between accuracy and simplicity."
   ]
  },
  {
   "cell_type": "markdown",
   "metadata": {},
   "source": [
    "### set-up ###"
   ]
  },
  {
   "cell_type": "code",
   "execution_count": 17,
   "metadata": {},
   "outputs": [],
   "source": [
    "# loading packages\n",
    "library(repr)\n",
    "library(tidyverse)\n",
    "library(tidymodels)\n",
    "# library(themis)\n",
    "set.seed(31)"
   ]
  },
  {
   "cell_type": "code",
   "execution_count": 18,
   "metadata": {},
   "outputs": [
    {
     "name": "stderr",
     "output_type": "stream",
     "text": [
      "Parsed with column specification:\n",
      "cols(\n",
      "  id = \u001b[32mcol_double()\u001b[39m,\n",
      "  gender = \u001b[31mcol_character()\u001b[39m,\n",
      "  age = \u001b[32mcol_double()\u001b[39m,\n",
      "  hypertension = \u001b[32mcol_double()\u001b[39m,\n",
      "  heart_disease = \u001b[32mcol_double()\u001b[39m,\n",
      "  ever_married = \u001b[31mcol_character()\u001b[39m,\n",
      "  work_type = \u001b[31mcol_character()\u001b[39m,\n",
      "  Residence_type = \u001b[31mcol_character()\u001b[39m,\n",
      "  avg_glucose_level = \u001b[32mcol_double()\u001b[39m,\n",
      "  bmi = \u001b[31mcol_character()\u001b[39m,\n",
      "  smoking_status = \u001b[31mcol_character()\u001b[39m,\n",
      "  stroke = \u001b[32mcol_double()\u001b[39m\n",
      ")\n",
      "\n"
     ]
    },
    {
     "data": {
      "text/html": [
       "<style>\n",
       ".list-inline {list-style: none; margin:0; padding: 0}\n",
       ".list-inline>li {display: inline-block}\n",
       ".list-inline>li:not(:last-child)::after {content: \"\\00b7\"; padding: 0 .5ex}\n",
       "</style>\n",
       "<ol class=list-inline><li>'id'</li><li>'gender'</li><li>'age'</li><li>'hypertension'</li><li>'heart_disease'</li><li>'ever_married'</li><li>'work_type'</li><li>'Residence_type'</li><li>'avg_glucose_level'</li><li>'bmi'</li><li>'smoking_status'</li><li>'stroke'</li></ol>\n"
      ],
      "text/latex": [
       "\\begin{enumerate*}\n",
       "\\item 'id'\n",
       "\\item 'gender'\n",
       "\\item 'age'\n",
       "\\item 'hypertension'\n",
       "\\item 'heart\\_disease'\n",
       "\\item 'ever\\_married'\n",
       "\\item 'work\\_type'\n",
       "\\item 'Residence\\_type'\n",
       "\\item 'avg\\_glucose\\_level'\n",
       "\\item 'bmi'\n",
       "\\item 'smoking\\_status'\n",
       "\\item 'stroke'\n",
       "\\end{enumerate*}\n"
      ],
      "text/markdown": [
       "1. 'id'\n",
       "2. 'gender'\n",
       "3. 'age'\n",
       "4. 'hypertension'\n",
       "5. 'heart_disease'\n",
       "6. 'ever_married'\n",
       "7. 'work_type'\n",
       "8. 'Residence_type'\n",
       "9. 'avg_glucose_level'\n",
       "10. 'bmi'\n",
       "11. 'smoking_status'\n",
       "12. 'stroke'\n",
       "\n",
       "\n"
      ],
      "text/plain": [
       " [1] \"id\"                \"gender\"            \"age\"              \n",
       " [4] \"hypertension\"      \"heart_disease\"     \"ever_married\"     \n",
       " [7] \"work_type\"         \"Residence_type\"    \"avg_glucose_level\"\n",
       "[10] \"bmi\"               \"smoking_status\"    \"stroke\"           "
      ]
     },
     "metadata": {},
     "output_type": "display_data"
    }
   ],
   "source": [
    "# loading data\n",
    "stroke <- read_csv(\"data/stroke-data.csv\")\n",
    "colnames(stroke)"
   ]
  },
  {
   "cell_type": "code",
   "execution_count": 19,
   "metadata": {},
   "outputs": [
    {
     "name": "stderr",
     "output_type": "stream",
     "text": [
      "Warning message:\n",
      "“Problem with `mutate()` input `bmi`.\n",
      "\u001b[34mℹ\u001b[39m NAs introduced by coercion\n",
      "\u001b[34mℹ\u001b[39m Input `bmi` is `as.numeric(bmi)`.”\n",
      "Warning message in mask$eval_all_mutate(dots[[i]]):\n",
      "“NAs introduced by coercion”\n"
     ]
    }
   ],
   "source": [
    "# cleaning and wrangling\n",
    "# stroke_clean <- stroke %>%\n",
    "#     select(gender, age, hypertension, heart_disease, avg_glucose_level, bmi, smoking_status, stroke) %>%\n",
    "#     mutate(gender = as_factor(gender), \n",
    "#            bmi = as.numeric(bmi),\n",
    "#            smoking_status = as_factor(smoking_status),\n",
    "#            stroke = as_factor(stroke)) %>%\n",
    "#     filter(gender != \"Other\") #Other was removed as there was only one occurrence in the dataset\n",
    "\n",
    "# prep and bake data with upsampling, then use it with everything\n",
    "# gonna overfit data, data leakage\n",
    "stroke_clean <- stroke %>%\n",
    "    select(age, hypertension, heart_disease, avg_glucose_level, bmi, stroke) %>%\n",
    "    mutate(stroke = as_factor(stroke),\n",
    "           bmi = as.numeric(bmi)) "
   ]
  },
  {
   "cell_type": "code",
   "execution_count": 20,
   "metadata": {},
   "outputs": [
    {
     "data": {
      "text/html": [
       "<table>\n",
       "<caption>A tibble: 6 × 6</caption>\n",
       "<thead>\n",
       "\t<tr><th scope=col>age</th><th scope=col>hypertension</th><th scope=col>heart_disease</th><th scope=col>avg_glucose_level</th><th scope=col>bmi</th><th scope=col>stroke</th></tr>\n",
       "\t<tr><th scope=col>&lt;dbl&gt;</th><th scope=col>&lt;dbl&gt;</th><th scope=col>&lt;dbl&gt;</th><th scope=col>&lt;dbl&gt;</th><th scope=col>&lt;dbl&gt;</th><th scope=col>&lt;fct&gt;</th></tr>\n",
       "</thead>\n",
       "<tbody>\n",
       "\t<tr><td>67</td><td>0</td><td>1</td><td>228.69</td><td>36.6</td><td>1</td></tr>\n",
       "\t<tr><td>61</td><td>0</td><td>0</td><td>202.21</td><td>  NA</td><td>1</td></tr>\n",
       "\t<tr><td>80</td><td>0</td><td>1</td><td>105.92</td><td>32.5</td><td>1</td></tr>\n",
       "\t<tr><td>49</td><td>0</td><td>0</td><td>171.23</td><td>34.4</td><td>1</td></tr>\n",
       "\t<tr><td>79</td><td>1</td><td>0</td><td>174.12</td><td>24.0</td><td>1</td></tr>\n",
       "\t<tr><td>81</td><td>0</td><td>0</td><td>186.21</td><td>29.0</td><td>1</td></tr>\n",
       "</tbody>\n",
       "</table>\n"
      ],
      "text/latex": [
       "A tibble: 6 × 6\n",
       "\\begin{tabular}{llllll}\n",
       " age & hypertension & heart\\_disease & avg\\_glucose\\_level & bmi & stroke\\\\\n",
       " <dbl> & <dbl> & <dbl> & <dbl> & <dbl> & <fct>\\\\\n",
       "\\hline\n",
       "\t 67 & 0 & 1 & 228.69 & 36.6 & 1\\\\\n",
       "\t 61 & 0 & 0 & 202.21 &   NA & 1\\\\\n",
       "\t 80 & 0 & 1 & 105.92 & 32.5 & 1\\\\\n",
       "\t 49 & 0 & 0 & 171.23 & 34.4 & 1\\\\\n",
       "\t 79 & 1 & 0 & 174.12 & 24.0 & 1\\\\\n",
       "\t 81 & 0 & 0 & 186.21 & 29.0 & 1\\\\\n",
       "\\end{tabular}\n"
      ],
      "text/markdown": [
       "\n",
       "A tibble: 6 × 6\n",
       "\n",
       "| age &lt;dbl&gt; | hypertension &lt;dbl&gt; | heart_disease &lt;dbl&gt; | avg_glucose_level &lt;dbl&gt; | bmi &lt;dbl&gt; | stroke &lt;fct&gt; |\n",
       "|---|---|---|---|---|---|\n",
       "| 67 | 0 | 1 | 228.69 | 36.6 | 1 |\n",
       "| 61 | 0 | 0 | 202.21 |   NA | 1 |\n",
       "| 80 | 0 | 1 | 105.92 | 32.5 | 1 |\n",
       "| 49 | 0 | 0 | 171.23 | 34.4 | 1 |\n",
       "| 79 | 1 | 0 | 174.12 | 24.0 | 1 |\n",
       "| 81 | 0 | 0 | 186.21 | 29.0 | 1 |\n",
       "\n"
      ],
      "text/plain": [
       "  age hypertension heart_disease avg_glucose_level bmi  stroke\n",
       "1 67  0            1             228.69            36.6 1     \n",
       "2 61  0            0             202.21              NA 1     \n",
       "3 80  0            1             105.92            32.5 1     \n",
       "4 49  0            0             171.23            34.4 1     \n",
       "5 79  1            0             174.12            24.0 1     \n",
       "6 81  0            0             186.21            29.0 1     "
      ]
     },
     "metadata": {},
     "output_type": "display_data"
    }
   ],
   "source": [
    "head(stroke_clean)"
   ]
  },
  {
   "cell_type": "markdown",
   "metadata": {},
   "source": [
    "#### Split data"
   ]
  },
  {
   "cell_type": "code",
   "execution_count": 21,
   "metadata": {},
   "outputs": [],
   "source": [
    "stroke_split <- initial_split(stroke_clean, prop = 0.75, strata = stroke)\n",
    "stroke_train <- training(stroke_split)\n",
    "stroke_test <- testing(stroke_split)\n",
    "\n",
    "test_recipe <- recipe(stroke ~ ., data = stroke_train) %>%\n",
    "    step_scale(all_predictors()) %>%\n",
    "    step_center(all_predictors()) %>%\n",
    "    prep()\n",
    "\n",
    "stroke_test_scaled <- bake(test_recipe, stroke_test)"
   ]
  },
  {
   "cell_type": "markdown",
   "metadata": {},
   "source": [
    "### Downsampling"
   ]
  },
  {
   "cell_type": "code",
   "execution_count": 46,
   "metadata": {},
   "outputs": [
    {
     "name": "stderr",
     "output_type": "stream",
     "text": [
      "`summarise()` ungrouping output (override with `.groups` argument)\n",
      "\n"
     ]
    },
    {
     "data": {
      "text/html": [
       "<table>\n",
       "<caption>A tibble: 2 × 2</caption>\n",
       "<thead>\n",
       "\t<tr><th scope=col>stroke</th><th scope=col>n</th></tr>\n",
       "\t<tr><th scope=col>&lt;fct&gt;</th><th scope=col>&lt;int&gt;</th></tr>\n",
       "</thead>\n",
       "<tbody>\n",
       "\t<tr><td>0</td><td>189</td></tr>\n",
       "\t<tr><td>1</td><td>189</td></tr>\n",
       "</tbody>\n",
       "</table>\n"
      ],
      "text/latex": [
       "A tibble: 2 × 2\n",
       "\\begin{tabular}{ll}\n",
       " stroke & n\\\\\n",
       " <fct> & <int>\\\\\n",
       "\\hline\n",
       "\t 0 & 189\\\\\n",
       "\t 1 & 189\\\\\n",
       "\\end{tabular}\n"
      ],
      "text/markdown": [
       "\n",
       "A tibble: 2 × 2\n",
       "\n",
       "| stroke &lt;fct&gt; | n &lt;int&gt; |\n",
       "|---|---|\n",
       "| 0 | 189 |\n",
       "| 1 | 189 |\n",
       "\n"
      ],
      "text/plain": [
       "  stroke n  \n",
       "1 0      189\n",
       "2 1      189"
      ]
     },
     "metadata": {},
     "output_type": "display_data"
    },
    {
     "data": {
      "text/html": [
       "<table>\n",
       "<caption>A tibble: 6 × 6</caption>\n",
       "<thead>\n",
       "\t<tr><th scope=col>age</th><th scope=col>hypertension</th><th scope=col>heart_disease</th><th scope=col>avg_glucose_level</th><th scope=col>bmi</th><th scope=col>stroke</th></tr>\n",
       "\t<tr><th scope=col>&lt;dbl&gt;</th><th scope=col>&lt;dbl&gt;</th><th scope=col>&lt;dbl&gt;</th><th scope=col>&lt;dbl&gt;</th><th scope=col>&lt;dbl&gt;</th><th scope=col>&lt;fct&gt;</th></tr>\n",
       "</thead>\n",
       "<tbody>\n",
       "\t<tr><td> 1.6551417</td><td>-0.3350744</td><td>-0.2443408</td><td> 0.4181111</td><td> 1.4554565</td><td>0</td></tr>\n",
       "\t<tr><td> 1.5230685</td><td>-0.3350744</td><td> 4.0915769</td><td> 0.8568880</td><td>-0.2624212</td><td>0</td></tr>\n",
       "\t<tr><td>-0.3259571</td><td>-0.3350744</td><td>-0.2443408</td><td> 0.5117080</td><td> 0.1149913</td><td>0</td></tr>\n",
       "\t<tr><td>-0.4140060</td><td>-0.3350744</td><td>-0.2443408</td><td>-0.4289074</td><td>-0.8871041</td><td>0</td></tr>\n",
       "\t<tr><td>-0.1498594</td><td>-0.3350744</td><td>-0.2443408</td><td>-0.6734099</td><td> 0.1930767</td><td>0</td></tr>\n",
       "\t<tr><td>-1.4705920</td><td>-0.3350744</td><td>-0.2443408</td><td>-0.4930755</td><td>-1.3165735</td><td>0</td></tr>\n",
       "</tbody>\n",
       "</table>\n"
      ],
      "text/latex": [
       "A tibble: 6 × 6\n",
       "\\begin{tabular}{llllll}\n",
       " age & hypertension & heart\\_disease & avg\\_glucose\\_level & bmi & stroke\\\\\n",
       " <dbl> & <dbl> & <dbl> & <dbl> & <dbl> & <fct>\\\\\n",
       "\\hline\n",
       "\t  1.6551417 & -0.3350744 & -0.2443408 &  0.4181111 &  1.4554565 & 0\\\\\n",
       "\t  1.5230685 & -0.3350744 &  4.0915769 &  0.8568880 & -0.2624212 & 0\\\\\n",
       "\t -0.3259571 & -0.3350744 & -0.2443408 &  0.5117080 &  0.1149913 & 0\\\\\n",
       "\t -0.4140060 & -0.3350744 & -0.2443408 & -0.4289074 & -0.8871041 & 0\\\\\n",
       "\t -0.1498594 & -0.3350744 & -0.2443408 & -0.6734099 &  0.1930767 & 0\\\\\n",
       "\t -1.4705920 & -0.3350744 & -0.2443408 & -0.4930755 & -1.3165735 & 0\\\\\n",
       "\\end{tabular}\n"
      ],
      "text/markdown": [
       "\n",
       "A tibble: 6 × 6\n",
       "\n",
       "| age &lt;dbl&gt; | hypertension &lt;dbl&gt; | heart_disease &lt;dbl&gt; | avg_glucose_level &lt;dbl&gt; | bmi &lt;dbl&gt; | stroke &lt;fct&gt; |\n",
       "|---|---|---|---|---|---|\n",
       "|  1.6551417 | -0.3350744 | -0.2443408 |  0.4181111 |  1.4554565 | 0 |\n",
       "|  1.5230685 | -0.3350744 |  4.0915769 |  0.8568880 | -0.2624212 | 0 |\n",
       "| -0.3259571 | -0.3350744 | -0.2443408 |  0.5117080 |  0.1149913 | 0 |\n",
       "| -0.4140060 | -0.3350744 | -0.2443408 | -0.4289074 | -0.8871041 | 0 |\n",
       "| -0.1498594 | -0.3350744 | -0.2443408 | -0.6734099 |  0.1930767 | 0 |\n",
       "| -1.4705920 | -0.3350744 | -0.2443408 | -0.4930755 | -1.3165735 | 0 |\n",
       "\n"
      ],
      "text/plain": [
       "  age        hypertension heart_disease avg_glucose_level bmi        stroke\n",
       "1  1.6551417 -0.3350744   -0.2443408     0.4181111         1.4554565 0     \n",
       "2  1.5230685 -0.3350744    4.0915769     0.8568880        -0.2624212 0     \n",
       "3 -0.3259571 -0.3350744   -0.2443408     0.5117080         0.1149913 0     \n",
       "4 -0.4140060 -0.3350744   -0.2443408    -0.4289074        -0.8871041 0     \n",
       "5 -0.1498594 -0.3350744   -0.2443408    -0.6734099         0.1930767 0     \n",
       "6 -1.4705920 -0.3350744   -0.2443408    -0.4930755        -1.3165735 0     "
      ]
     },
     "metadata": {},
     "output_type": "display_data"
    },
    {
     "data": {
      "text/html": [
       "<table>\n",
       "<caption>A tibble: 6 × 6</caption>\n",
       "<thead>\n",
       "\t<tr><th scope=col>age</th><th scope=col>hypertension</th><th scope=col>heart_disease</th><th scope=col>avg_glucose_level</th><th scope=col>bmi</th><th scope=col>stroke</th></tr>\n",
       "\t<tr><th scope=col>&lt;dbl&gt;</th><th scope=col>&lt;dbl&gt;</th><th scope=col>&lt;dbl&gt;</th><th scope=col>&lt;dbl&gt;</th><th scope=col>&lt;dbl&gt;</th><th scope=col>&lt;fct&gt;</th></tr>\n",
       "</thead>\n",
       "<tbody>\n",
       "\t<tr><td>1.0828243</td><td>-0.3350744</td><td>-0.2443408</td><td> 2.8241927</td><td> 1.76779796</td><td>1</td></tr>\n",
       "\t<tr><td>1.0828243</td><td> 2.9836336</td><td> 4.0915769</td><td> 3.1244550</td><td> 1.52052767</td><td>1</td></tr>\n",
       "\t<tr><td>0.5985557</td><td>-0.3350744</td><td>-0.2443408</td><td>-0.4722762</td><td> 1.02598710</td><td>1</td></tr>\n",
       "\t<tr><td>1.3909952</td><td>-0.3350744</td><td>-0.2443408</td><td>-0.6085781</td><td> 0.06293441</td><td>1</td></tr>\n",
       "\t<tr><td>1.2148976</td><td> 2.9836336</td><td>-0.2443408</td><td>-0.4094358</td><td>         NA</td><td>1</td></tr>\n",
       "\t<tr><td>1.5230685</td><td>-0.3350744</td><td>-0.2443408</td><td>-0.6083568</td><td>-1.19944547</td><td>1</td></tr>\n",
       "</tbody>\n",
       "</table>\n"
      ],
      "text/latex": [
       "A tibble: 6 × 6\n",
       "\\begin{tabular}{llllll}\n",
       " age & hypertension & heart\\_disease & avg\\_glucose\\_level & bmi & stroke\\\\\n",
       " <dbl> & <dbl> & <dbl> & <dbl> & <dbl> & <fct>\\\\\n",
       "\\hline\n",
       "\t 1.0828243 & -0.3350744 & -0.2443408 &  2.8241927 &  1.76779796 & 1\\\\\n",
       "\t 1.0828243 &  2.9836336 &  4.0915769 &  3.1244550 &  1.52052767 & 1\\\\\n",
       "\t 0.5985557 & -0.3350744 & -0.2443408 & -0.4722762 &  1.02598710 & 1\\\\\n",
       "\t 1.3909952 & -0.3350744 & -0.2443408 & -0.6085781 &  0.06293441 & 1\\\\\n",
       "\t 1.2148976 &  2.9836336 & -0.2443408 & -0.4094358 &          NA & 1\\\\\n",
       "\t 1.5230685 & -0.3350744 & -0.2443408 & -0.6083568 & -1.19944547 & 1\\\\\n",
       "\\end{tabular}\n"
      ],
      "text/markdown": [
       "\n",
       "A tibble: 6 × 6\n",
       "\n",
       "| age &lt;dbl&gt; | hypertension &lt;dbl&gt; | heart_disease &lt;dbl&gt; | avg_glucose_level &lt;dbl&gt; | bmi &lt;dbl&gt; | stroke &lt;fct&gt; |\n",
       "|---|---|---|---|---|---|\n",
       "| 1.0828243 | -0.3350744 | -0.2443408 |  2.8241927 |  1.76779796 | 1 |\n",
       "| 1.0828243 |  2.9836336 |  4.0915769 |  3.1244550 |  1.52052767 | 1 |\n",
       "| 0.5985557 | -0.3350744 | -0.2443408 | -0.4722762 |  1.02598710 | 1 |\n",
       "| 1.3909952 | -0.3350744 | -0.2443408 | -0.6085781 |  0.06293441 | 1 |\n",
       "| 1.2148976 |  2.9836336 | -0.2443408 | -0.4094358 |          NA | 1 |\n",
       "| 1.5230685 | -0.3350744 | -0.2443408 | -0.6083568 | -1.19944547 | 1 |\n",
       "\n"
      ],
      "text/plain": [
       "  age       hypertension heart_disease avg_glucose_level bmi         stroke\n",
       "1 1.0828243 -0.3350744   -0.2443408     2.8241927         1.76779796 1     \n",
       "2 1.0828243  2.9836336    4.0915769     3.1244550         1.52052767 1     \n",
       "3 0.5985557 -0.3350744   -0.2443408    -0.4722762         1.02598710 1     \n",
       "4 1.3909952 -0.3350744   -0.2443408    -0.6085781         0.06293441 1     \n",
       "5 1.2148976  2.9836336   -0.2443408    -0.4094358                 NA 1     \n",
       "6 1.5230685 -0.3350744   -0.2443408    -0.6083568        -1.19944547 1     "
      ]
     },
     "metadata": {},
     "output_type": "display_data"
    },
    {
     "data": {
      "text/plain": [
       "      age         hypertension     heart_disease     avg_glucose_level\n",
       " Min.   : 0.48   Min.   :0.00000   Min.   :0.00000   Min.   : 55.22   \n",
       " 1st Qu.:25.00   1st Qu.:0.00000   1st Qu.:0.00000   1st Qu.: 76.56   \n",
       " Median :44.00   Median :0.00000   Median :0.00000   Median : 92.20   \n",
       " Mean   :42.69   Mean   :0.08692   Mean   :0.04699   Mean   :105.68   \n",
       " 3rd Qu.:60.00   3rd Qu.:0.00000   3rd Qu.:0.00000   3rd Qu.:112.47   \n",
       " Max.   :82.00   Max.   :1.00000   Max.   :1.00000   Max.   :271.74   \n",
       "                                                                      \n",
       "      bmi        stroke  \n",
       " Min.   :11.50   0:1217  \n",
       " 1st Qu.:23.50   1:  60  \n",
       " Median :28.10           \n",
       " Mean   :29.13           \n",
       " 3rd Qu.:33.20           \n",
       " Max.   :97.60           \n",
       " NA's   :59              "
      ]
     },
     "metadata": {},
     "output_type": "display_data"
    }
   ],
   "source": [
    "ds_recipe <- recipe(stroke ~ ., data = stroke_train) %>%\n",
    "    step_scale(all_predictors()) %>%\n",
    "    step_center(all_predictors()) %>%\n",
    "    step_downsample(stroke, under_ratio = 1, skip = FALSE) %>%\n",
    "    prep()\n",
    "dsampled_stroke <- bake(ds_recipe, stroke_train)\n",
    "\n",
    "dsampled_stroke %>%\n",
    "    group_by(stroke) %>%\n",
    "    summarize(n = n())\n",
    "\n",
    "head(dsampled_stroke)\n",
    "tail(dsampled_stroke)\n",
    "\n",
    "summary(stroke_test)"
   ]
  },
  {
   "cell_type": "code",
   "execution_count": 23,
   "metadata": {},
   "outputs": [
    {
     "name": "stderr",
     "output_type": "stream",
     "text": [
      "Warning message:\n",
      "“`step_upsample()` is deprecated as of recipes 0.1.13.\n",
      "Please use `themis::step_upsample()` instead.\n",
      "\u001b[90mThis warning is displayed once every 8 hours.\u001b[39m\n",
      "\u001b[90mCall `lifecycle::last_warnings()` to see where this warning was generated.\u001b[39m”\n"
     ]
    }
   ],
   "source": [
    "up_recipe <- recipe(stroke ~ ., data = stroke_train) %>%\n",
    "    step_scale(all_predictors()) %>%\n",
    "    step_center(all_predictors()) %>%\n",
    "    step_upsample(stroke, over_ratio = 1, skip = FALSE) %>%\n",
    "    prep()\n",
    "upsampled_stroke <- bake(up_recipe, stroke_train)\n",
    "\n",
    "# upsampled_stroke %>%\n",
    "#   group_by(stroke) %>%\n",
    "#   summarize(n = n())\n",
    "\n",
    "# head(upsampled_stroke)\n",
    "# tail(upsampled_stroke)"
   ]
  },
  {
   "cell_type": "markdown",
   "metadata": {},
   "source": [
    "### Forward Selection"
   ]
  },
  {
   "cell_type": "code",
   "execution_count": 8,
   "metadata": {},
   "outputs": [],
   "source": [
    "# DOWNSAMPLE here!!!"
   ]
  },
  {
   "cell_type": "code",
   "execution_count": 18,
   "metadata": {},
   "outputs": [
    {
     "data": {
      "text/html": [
       "<style>\n",
       ".list-inline {list-style: none; margin:0; padding: 0}\n",
       ".list-inline>li {display: inline-block}\n",
       ".list-inline>li:not(:last-child)::after {content: \"\\00b7\"; padding: 0 .5ex}\n",
       "</style>\n",
       "<ol class=list-inline><li>'age'</li><li>'avg_glucose_level'</li><li>'bmi'</li><li>'heart_disease'</li><li>'hypertension'</li></ol>\n"
      ],
      "text/latex": [
       "\\begin{enumerate*}\n",
       "\\item 'age'\n",
       "\\item 'avg\\_glucose\\_level'\n",
       "\\item 'bmi'\n",
       "\\item 'heart\\_disease'\n",
       "\\item 'hypertension'\n",
       "\\end{enumerate*}\n"
      ],
      "text/markdown": [
       "1. 'age'\n",
       "2. 'avg_glucose_level'\n",
       "3. 'bmi'\n",
       "4. 'heart_disease'\n",
       "5. 'hypertension'\n",
       "\n",
       "\n"
      ],
      "text/plain": [
       "[1] \"age\"               \"avg_glucose_level\" \"bmi\"              \n",
       "[4] \"heart_disease\"     \"hypertension\"     "
      ]
     },
     "metadata": {},
     "output_type": "display_data"
    }
   ],
   "source": [
    "stroke_subset <- dsampled_stroke %>%\n",
    "    filter(!is.na(bmi))\n",
    "names <- colnames(dsampled_stroke %>% select(-stroke)) %>% sort()\n",
    "names"
   ]
  },
  {
   "cell_type": "code",
   "execution_count": 19,
   "metadata": {},
   "outputs": [
    {
     "data": {
      "text/html": [
       "'stroke ~ age+avg_glucose_level+bmi+heart_disease+hypertension'"
      ],
      "text/latex": [
       "'stroke \\textasciitilde{} age+avg\\_glucose\\_level+bmi+heart\\_disease+hypertension'"
      ],
      "text/markdown": [
       "'stroke ~ age+avg_glucose_level+bmi+heart_disease+hypertension'"
      ],
      "text/plain": [
       "[1] \"stroke ~ age+avg_glucose_level+bmi+heart_disease+hypertension\""
      ]
     },
     "metadata": {},
     "output_type": "display_data"
    }
   ],
   "source": [
    "example_formula <- paste(\"stroke\", \"~\", paste(names, collapse=\"+\"))\n",
    "example_formula"
   ]
  },
  {
   "cell_type": "code",
   "execution_count": 20,
   "metadata": {},
   "outputs": [
    {
     "data": {
      "text/html": [
       "<table>\n",
       "<caption>A tibble: 0 × 3</caption>\n",
       "<thead>\n",
       "\t<tr><th scope=col>size</th><th scope=col>model_string</th><th scope=col>accuracy</th></tr>\n",
       "\t<tr><th scope=col>&lt;int&gt;</th><th scope=col>&lt;chr&gt;</th><th scope=col>&lt;dbl&gt;</th></tr>\n",
       "</thead>\n",
       "<tbody>\n",
       "</tbody>\n",
       "</table>\n"
      ],
      "text/latex": [
       "A tibble: 0 × 3\n",
       "\\begin{tabular}{lll}\n",
       " size & model\\_string & accuracy\\\\\n",
       " <int> & <chr> & <dbl>\\\\\n",
       "\\hline\n",
       "\\end{tabular}\n"
      ],
      "text/markdown": [
       "\n",
       "A tibble: 0 × 3\n",
       "\n",
       "| size &lt;int&gt; | model_string &lt;chr&gt; | accuracy &lt;dbl&gt; |\n",
       "|---|---|---|\n",
       "\n"
      ],
      "text/plain": [
       "     size model_string accuracy"
      ]
     },
     "metadata": {},
     "output_type": "display_data"
    }
   ],
   "source": [
    "# create an empty tibble to store the results\n",
    "accuracies <- tibble(size = integer(), \n",
    "                     model_string = character(), \n",
    "                     accuracy = numeric())\n",
    "accuracies"
   ]
  },
  {
   "cell_type": "code",
   "execution_count": 21,
   "metadata": {},
   "outputs": [],
   "source": [
    "# create a model specification\n",
    "knn_spec <- nearest_neighbor(weight_func = \"rectangular\", \n",
    "                             neighbors = tune()) %>%\n",
    "     set_engine(\"kknn\") %>%\n",
    "     set_mode(\"classification\")\n",
    "\n",
    "# create a 5-fold cross-validation object\n",
    "stroke_vfold <- vfold_cv(stroke_subset, v = 5, strata = stroke)\n",
    "\n",
    "gridvals <- tibble(neighbors = seq(from = 1, to = 20, by = 2))"
   ]
  },
  {
   "cell_type": "code",
   "execution_count": 22,
   "metadata": {},
   "outputs": [],
   "source": [
    "# store the total number of predictors\n",
    "n_total <- length(names)\n",
    "\n",
    "# stores selected predictors\n",
    "selected <- c()"
   ]
  },
  {
   "cell_type": "code",
   "execution_count": 23,
   "metadata": {},
   "outputs": [
    {
     "name": "stdout",
     "output_type": "stream",
     "text": [
      "[1] \"start\"\n",
      "[1] \"stroke ~ age\"\n",
      "[1] \"stroke ~ avg_glucose_level\"\n",
      "[1] \"stroke ~ bmi\"\n",
      "[1] \"stroke ~ heart_disease\"\n",
      "[1] \"stroke ~ hypertension\"\n",
      "[1] \"unlist\"\n",
      "[1] 0.7521500 0.6359942 0.5233800 0.5732406 0.5309997\n",
      "[1] \"start\"\n",
      "[1] \"stroke ~ age+avg_glucose_level\"\n",
      "[1] \"stroke ~ age+bmi\"\n",
      "[1] \"stroke ~ age+heart_disease\"\n",
      "[1] \"stroke ~ age+hypertension\"\n",
      "[1] \"unlist\"\n",
      "[1] 0.7868465 0.7631691 0.7597698 0.7712385\n",
      "[1] \"start\"\n",
      "[1] \"stroke ~ age+avg_glucose_level+bmi\"\n",
      "[1] \"stroke ~ age+avg_glucose_level+heart_disease\"\n",
      "[1] \"stroke ~ age+avg_glucose_level+hypertension\"\n",
      "[1] \"unlist\"\n",
      "[1] 0.7593258 0.7707917 0.7941703\n",
      "[1] \"start\"\n",
      "[1] \"stroke ~ age+avg_glucose_level+hypertension+bmi\"\n",
      "[1] \"stroke ~ age+avg_glucose_level+hypertension+heart_disease\"\n",
      "[1] \"unlist\"\n",
      "[1] 0.7633982 0.7826290\n",
      "[1] \"start\"\n",
      "[1] \"stroke ~ age+avg_glucose_level+hypertension+heart_disease+bmi\"\n",
      "[1] \"unlist\"\n",
      "[1] 0.759471\n"
     ]
    },
    {
     "data": {
      "text/html": [
       "<table>\n",
       "<caption>A tibble: 5 × 3</caption>\n",
       "<thead>\n",
       "\t<tr><th scope=col>size</th><th scope=col>model_string</th><th scope=col>accuracy</th></tr>\n",
       "\t<tr><th scope=col>&lt;int&gt;</th><th scope=col>&lt;chr&gt;</th><th scope=col>&lt;dbl&gt;</th></tr>\n",
       "</thead>\n",
       "<tbody>\n",
       "\t<tr><td>1</td><td>stroke ~ age                                                 </td><td>0.7521500</td></tr>\n",
       "\t<tr><td>2</td><td>stroke ~ age+avg_glucose_level                               </td><td>0.7868465</td></tr>\n",
       "\t<tr><td>3</td><td>stroke ~ age+avg_glucose_level+hypertension                  </td><td>0.7941703</td></tr>\n",
       "\t<tr><td>4</td><td>stroke ~ age+avg_glucose_level+hypertension+heart_disease    </td><td>0.7826290</td></tr>\n",
       "\t<tr><td>5</td><td>stroke ~ age+avg_glucose_level+hypertension+heart_disease+bmi</td><td>0.7594710</td></tr>\n",
       "</tbody>\n",
       "</table>\n"
      ],
      "text/latex": [
       "A tibble: 5 × 3\n",
       "\\begin{tabular}{lll}\n",
       " size & model\\_string & accuracy\\\\\n",
       " <int> & <chr> & <dbl>\\\\\n",
       "\\hline\n",
       "\t 1 & stroke \\textasciitilde{} age                                                  & 0.7521500\\\\\n",
       "\t 2 & stroke \\textasciitilde{} age+avg\\_glucose\\_level                                & 0.7868465\\\\\n",
       "\t 3 & stroke \\textasciitilde{} age+avg\\_glucose\\_level+hypertension                   & 0.7941703\\\\\n",
       "\t 4 & stroke \\textasciitilde{} age+avg\\_glucose\\_level+hypertension+heart\\_disease     & 0.7826290\\\\\n",
       "\t 5 & stroke \\textasciitilde{} age+avg\\_glucose\\_level+hypertension+heart\\_disease+bmi & 0.7594710\\\\\n",
       "\\end{tabular}\n"
      ],
      "text/markdown": [
       "\n",
       "A tibble: 5 × 3\n",
       "\n",
       "| size &lt;int&gt; | model_string &lt;chr&gt; | accuracy &lt;dbl&gt; |\n",
       "|---|---|---|\n",
       "| 1 | stroke ~ age                                                  | 0.7521500 |\n",
       "| 2 | stroke ~ age+avg_glucose_level                                | 0.7868465 |\n",
       "| 3 | stroke ~ age+avg_glucose_level+hypertension                   | 0.7941703 |\n",
       "| 4 | stroke ~ age+avg_glucose_level+hypertension+heart_disease     | 0.7826290 |\n",
       "| 5 | stroke ~ age+avg_glucose_level+hypertension+heart_disease+bmi | 0.7594710 |\n",
       "\n"
      ],
      "text/plain": [
       "  size model_string                                                  accuracy \n",
       "1 1    stroke ~ age                                                  0.7521500\n",
       "2 2    stroke ~ age+avg_glucose_level                                0.7868465\n",
       "3 3    stroke ~ age+avg_glucose_level+hypertension                   0.7941703\n",
       "4 4    stroke ~ age+avg_glucose_level+hypertension+heart_disease     0.7826290\n",
       "5 5    stroke ~ age+avg_glucose_level+hypertension+heart_disease+bmi 0.7594710"
      ]
     },
     "metadata": {},
     "output_type": "display_data"
    }
   ],
   "source": [
    "set.seed(31)\n",
    "# for every size from 1 to the total number of predictors\n",
    "for (i in 1:n_total) {\n",
    "    print(\"start\")\n",
    "    # for every predictor still not added yet\n",
    "    accs <- list()\n",
    "    models <- list()\n",
    "    for (j in 1:length(names)) {\n",
    "        # create a model string for this combination of predictors\n",
    "        preds_new <- c(selected, names[[j]])\n",
    "        model_string <- paste(\"stroke\", \"~\", paste(preds_new, collapse=\"+\"))\n",
    "        print(model_string)\n",
    "        \n",
    "        # create a recipe from the model string\n",
    "        stroke_recipe <- recipe(as.formula(model_string), \n",
    "                                data = stroke_subset) %>%\n",
    "                          step_scale(all_predictors()) %>%\n",
    "                          step_center(all_predictors())\n",
    "\n",
    "#         !!! how can i repeat the below step more to make it more accurate?\n",
    "        # tune the KNN classifier with these predictors, \n",
    "        # and collect the accuracy for the best K\n",
    "        acc <- workflow() %>%\n",
    "          add_recipe(stroke_recipe) %>%\n",
    "          add_model(knn_spec) %>%\n",
    "          tune_grid(resamples = stroke_vfold, grid = 10) %>%\n",
    "          collect_metrics() %>%\n",
    "          filter(.metric == \"accuracy\") %>%\n",
    "          summarize(mx = max(mean))\n",
    "        acc <- acc$mx %>% unlist()\n",
    "\n",
    "        # add this result to the dataframe\n",
    "        accs[[j]] <- acc\n",
    "        models[[j]] <- model_string\n",
    "    }\n",
    "    print(\"unlist\")\n",
    "    print(unlist(accs))\n",
    "    jstar <- which.max(unlist(accs))\n",
    "    accuracies <- accuracies %>% \n",
    "      add_row(size = i, \n",
    "              model_string = models[[jstar]], \n",
    "              accuracy = accs[[jstar]])\n",
    "    selected <- c(selected, names[[jstar]])\n",
    "    names <- names[-jstar]\n",
    "}\n",
    "accuracies"
   ]
  },
  {
   "cell_type": "code",
   "execution_count": 24,
   "metadata": {},
   "outputs": [
    {
     "data": {
      "text/html": [
       "<table>\n",
       "<caption>A tibble: 5 × 3</caption>\n",
       "<thead>\n",
       "\t<tr><th scope=col>size</th><th scope=col>model_string</th><th scope=col>accuracy</th></tr>\n",
       "\t<tr><th scope=col>&lt;int&gt;</th><th scope=col>&lt;chr&gt;</th><th scope=col>&lt;dbl&gt;</th></tr>\n",
       "</thead>\n",
       "<tbody>\n",
       "\t<tr><td>1</td><td>stroke ~ age                                                 </td><td>0.7521500</td></tr>\n",
       "\t<tr><td>2</td><td>stroke ~ age+avg_glucose_level                               </td><td>0.7868465</td></tr>\n",
       "\t<tr><td>3</td><td>stroke ~ age+avg_glucose_level+hypertension                  </td><td>0.7941703</td></tr>\n",
       "\t<tr><td>4</td><td>stroke ~ age+avg_glucose_level+hypertension+heart_disease    </td><td>0.7826290</td></tr>\n",
       "\t<tr><td>5</td><td>stroke ~ age+avg_glucose_level+hypertension+heart_disease+bmi</td><td>0.7594710</td></tr>\n",
       "</tbody>\n",
       "</table>\n"
      ],
      "text/latex": [
       "A tibble: 5 × 3\n",
       "\\begin{tabular}{lll}\n",
       " size & model\\_string & accuracy\\\\\n",
       " <int> & <chr> & <dbl>\\\\\n",
       "\\hline\n",
       "\t 1 & stroke \\textasciitilde{} age                                                  & 0.7521500\\\\\n",
       "\t 2 & stroke \\textasciitilde{} age+avg\\_glucose\\_level                                & 0.7868465\\\\\n",
       "\t 3 & stroke \\textasciitilde{} age+avg\\_glucose\\_level+hypertension                   & 0.7941703\\\\\n",
       "\t 4 & stroke \\textasciitilde{} age+avg\\_glucose\\_level+hypertension+heart\\_disease     & 0.7826290\\\\\n",
       "\t 5 & stroke \\textasciitilde{} age+avg\\_glucose\\_level+hypertension+heart\\_disease+bmi & 0.7594710\\\\\n",
       "\\end{tabular}\n"
      ],
      "text/markdown": [
       "\n",
       "A tibble: 5 × 3\n",
       "\n",
       "| size &lt;int&gt; | model_string &lt;chr&gt; | accuracy &lt;dbl&gt; |\n",
       "|---|---|---|\n",
       "| 1 | stroke ~ age                                                  | 0.7521500 |\n",
       "| 2 | stroke ~ age+avg_glucose_level                                | 0.7868465 |\n",
       "| 3 | stroke ~ age+avg_glucose_level+hypertension                   | 0.7941703 |\n",
       "| 4 | stroke ~ age+avg_glucose_level+hypertension+heart_disease     | 0.7826290 |\n",
       "| 5 | stroke ~ age+avg_glucose_level+hypertension+heart_disease+bmi | 0.7594710 |\n",
       "\n"
      ],
      "text/plain": [
       "  size model_string                                                  accuracy \n",
       "1 1    stroke ~ age                                                  0.7521500\n",
       "2 2    stroke ~ age+avg_glucose_level                                0.7868465\n",
       "3 3    stroke ~ age+avg_glucose_level+hypertension                   0.7941703\n",
       "4 4    stroke ~ age+avg_glucose_level+hypertension+heart_disease     0.7826290\n",
       "5 5    stroke ~ age+avg_glucose_level+hypertension+heart_disease+bmi 0.7594710"
      ]
     },
     "metadata": {},
     "output_type": "display_data"
    }
   ],
   "source": [
    "accuracies"
   ]
  },
  {
   "cell_type": "code",
   "execution_count": 25,
   "metadata": {},
   "outputs": [
    {
     "data": {
      "image/png": "[encoded data removed]",
      "text/plain": [
       "plot without title"
      ]
     },
     "metadata": {
      "image/png": {
       "height": 420,
       "width": 420
      }
     },
     "output_type": "display_data"
    }
   ],
   "source": [
    "ggplot(accuracies, aes(x=size, y=accuracy)) +\n",
    "geom_line()"
   ]
  },
  {
   "cell_type": "markdown",
   "metadata": {},
   "source": [
    "## with predict ##"
   ]
  },
  {
   "cell_type": "code",
   "execution_count": 24,
   "metadata": {},
   "outputs": [],
   "source": [
    "stroke_split2 <- initial_split(dsampled_stroke, prop = 0.75, strata = stroke)\n",
    "dsampled_stroke <- training(stroke_split2)\n",
    "stroke_test2 <- testing(stroke_split2)"
   ]
  },
  {
   "cell_type": "code",
   "execution_count": 33,
   "metadata": {},
   "outputs": [],
   "source": [
    "stroke_recipe <- recipe(stroke ~ avg_glucose_level + age + hypertension, data = dsampled_stroke) %>%\n",
    "  step_scale(all_predictors()) %>%\n",
    "  step_center(all_predictors())"
   ]
  },
  {
   "cell_type": "code",
   "execution_count": 40,
   "metadata": {},
   "outputs": [],
   "source": [
    "stroke_vfold <- vfold_cv(dsampled_stroke, v = 5, strata = stroke)\n",
    "k_vals <- tibble(neighbors = seq(from = 1, to = 20, by = 2))"
   ]
  },
  {
   "cell_type": "code",
   "execution_count": 41,
   "metadata": {},
   "outputs": [],
   "source": [
    "knn_spec <- nearest_neighbor(weight_func = \"rectangular\", neighbors = tune()) %>%\n",
    "  set_engine(\"kknn\") %>%\n",
    "  set_mode(\"classification\")"
   ]
  },
  {
   "cell_type": "code",
   "execution_count": 42,
   "metadata": {},
   "outputs": [],
   "source": [
    "knn_results <- workflow() %>%\n",
    "  add_recipe(stroke_recipe) %>%\n",
    "  add_model(knn_spec) %>%\n",
    "  tune_grid(resamples = stroke_vfold, grid = k_vals) %>%\n",
    "  collect_metrics() "
   ]
  },
  {
   "cell_type": "code",
   "execution_count": 43,
   "metadata": {},
   "outputs": [
    {
     "data": {
      "text/html": [
       "<table>\n",
       "<caption>A tibble: 1 × 7</caption>\n",
       "<thead>\n",
       "\t<tr><th scope=col>neighbors</th><th scope=col>.metric</th><th scope=col>.estimator</th><th scope=col>mean</th><th scope=col>n</th><th scope=col>std_err</th><th scope=col>.config</th></tr>\n",
       "\t<tr><th scope=col>&lt;dbl&gt;</th><th scope=col>&lt;chr&gt;</th><th scope=col>&lt;chr&gt;</th><th scope=col>&lt;dbl&gt;</th><th scope=col>&lt;int&gt;</th><th scope=col>&lt;dbl&gt;</th><th scope=col>&lt;chr&gt;</th></tr>\n",
       "</thead>\n",
       "<tbody>\n",
       "\t<tr><td>11</td><td>accuracy</td><td>binary</td><td>0.7995074</td><td>5</td><td>0.01337582</td><td>Model06</td></tr>\n",
       "</tbody>\n",
       "</table>\n"
      ],
      "text/latex": [
       "A tibble: 1 × 7\n",
       "\\begin{tabular}{lllllll}\n",
       " neighbors & .metric & .estimator & mean & n & std\\_err & .config\\\\\n",
       " <dbl> & <chr> & <chr> & <dbl> & <int> & <dbl> & <chr>\\\\\n",
       "\\hline\n",
       "\t 11 & accuracy & binary & 0.7995074 & 5 & 0.01337582 & Model06\\\\\n",
       "\\end{tabular}\n"
      ],
      "text/markdown": [
       "\n",
       "A tibble: 1 × 7\n",
       "\n",
       "| neighbors &lt;dbl&gt; | .metric &lt;chr&gt; | .estimator &lt;chr&gt; | mean &lt;dbl&gt; | n &lt;int&gt; | std_err &lt;dbl&gt; | .config &lt;chr&gt; |\n",
       "|---|---|---|---|---|---|---|\n",
       "| 11 | accuracy | binary | 0.7995074 | 5 | 0.01337582 | Model06 |\n",
       "\n"
      ],
      "text/plain": [
       "  neighbors .metric  .estimator mean      n std_err    .config\n",
       "1 11        accuracy binary     0.7995074 5 0.01337582 Model06"
      ]
     },
     "metadata": {},
     "output_type": "display_data"
    },
    {
     "data": {
      "image/png": "[encoded data removed]",
      "text/plain": [
       "plot without title"
      ]
     },
     "metadata": {
      "image/png": {
       "height": 420,
       "width": 420
      }
     },
     "output_type": "display_data"
    }
   ],
   "source": [
    "accuracies <- knn_results %>% # Plot accuracies vs neighbours\n",
    "  filter(.metric == \"accuracy\")\n",
    "ggplot(accuracies, aes(x=neighbors, y=mean)) +\n",
    "    geom_line()\n",
    "optimal_neighbours <- accuracies %>%\n",
    "  filter(mean == max(mean))\n",
    "optimal_neighbours"
   ]
  },
  {
   "cell_type": "code",
   "execution_count": 44,
   "metadata": {},
   "outputs": [
    {
     "data": {
      "text/html": [
       "<table>\n",
       "<caption>A tibble: 2 × 3</caption>\n",
       "<thead>\n",
       "\t<tr><th scope=col>.metric</th><th scope=col>.estimator</th><th scope=col>.estimate</th></tr>\n",
       "\t<tr><th scope=col>&lt;chr&gt;</th><th scope=col>&lt;chr&gt;</th><th scope=col>&lt;dbl&gt;</th></tr>\n",
       "</thead>\n",
       "<tbody>\n",
       "\t<tr><td>accuracy</td><td>binary</td><td>0.7659574</td></tr>\n",
       "\t<tr><td>kap     </td><td>binary</td><td>0.5319149</td></tr>\n",
       "</tbody>\n",
       "</table>\n"
      ],
      "text/latex": [
       "A tibble: 2 × 3\n",
       "\\begin{tabular}{lll}\n",
       " .metric & .estimator & .estimate\\\\\n",
       " <chr> & <chr> & <dbl>\\\\\n",
       "\\hline\n",
       "\t accuracy & binary & 0.7659574\\\\\n",
       "\t kap      & binary & 0.5319149\\\\\n",
       "\\end{tabular}\n"
      ],
      "text/markdown": [
       "\n",
       "A tibble: 2 × 3\n",
       "\n",
       "| .metric &lt;chr&gt; | .estimator &lt;chr&gt; | .estimate &lt;dbl&gt; |\n",
       "|---|---|---|\n",
       "| accuracy | binary | 0.7659574 |\n",
       "| kap      | binary | 0.5319149 |\n",
       "\n"
      ],
      "text/plain": [
       "  .metric  .estimator .estimate\n",
       "1 accuracy binary     0.7659574\n",
       "2 kap      binary     0.5319149"
      ]
     },
     "metadata": {},
     "output_type": "display_data"
    },
    {
     "data": {
      "text/html": [
       "<table>\n",
       "<caption>A tibble: 2 × 3</caption>\n",
       "<thead>\n",
       "\t<tr><th scope=col>.metric</th><th scope=col>.estimator</th><th scope=col>.estimate</th></tr>\n",
       "\t<tr><th scope=col>&lt;chr&gt;</th><th scope=col>&lt;chr&gt;</th><th scope=col>&lt;dbl&gt;</th></tr>\n",
       "</thead>\n",
       "<tbody>\n",
       "\t<tr><td>accuracy</td><td>binary</td><td>0.04698512</td></tr>\n",
       "\t<tr><td>kap     </td><td>binary</td><td>0.00000000</td></tr>\n",
       "</tbody>\n",
       "</table>\n"
      ],
      "text/latex": [
       "A tibble: 2 × 3\n",
       "\\begin{tabular}{lll}\n",
       " .metric & .estimator & .estimate\\\\\n",
       " <chr> & <chr> & <dbl>\\\\\n",
       "\\hline\n",
       "\t accuracy & binary & 0.04698512\\\\\n",
       "\t kap      & binary & 0.00000000\\\\\n",
       "\\end{tabular}\n"
      ],
      "text/markdown": [
       "\n",
       "A tibble: 2 × 3\n",
       "\n",
       "| .metric &lt;chr&gt; | .estimator &lt;chr&gt; | .estimate &lt;dbl&gt; |\n",
       "|---|---|---|\n",
       "| accuracy | binary | 0.04698512 |\n",
       "| kap      | binary | 0.00000000 |\n",
       "\n"
      ],
      "text/plain": [
       "  .metric  .estimator .estimate \n",
       "1 accuracy binary     0.04698512\n",
       "2 kap      binary     0.00000000"
      ]
     },
     "metadata": {},
     "output_type": "display_data"
    }
   ],
   "source": [
    "knn_spec <- nearest_neighbor(weight_func = \"rectangular\", neighbors = 11) %>%\n",
    "  set_engine(\"kknn\") %>%\n",
    "  set_mode(\"classification\")\n",
    "\n",
    "# workflow + fit data\n",
    "knn_fit <- workflow() %>%\n",
    "  add_recipe(stroke_recipe) %>%\n",
    "  add_model(knn_spec) %>%\n",
    "  fit(data = dsampled_stroke)\n",
    "\n",
    "stroke_test_predictions1 <- predict(knn_fit, stroke_test2) %>%\n",
    "  bind_cols(stroke_test2) %>%\n",
    "  metrics(truth = stroke, estimate = .pred_class)\n",
    "stroke_test_predictions1\n",
    "\n",
    "stroke_test_predictions2 <- predict(knn_fit, stroke_test) %>%\n",
    "  bind_cols(stroke_test) %>%\n",
    "  metrics(truth = stroke, estimate = .pred_class)\n",
    "stroke_test_predictions2\n",
    "# # calculate rmspe by predicting with credit_testing\n",
    "# knn_rmspe <- knn_fit %>%\n",
    "#   predict(credit_testing) %>%\n",
    "#   bind_cols(credit_testing) %>%\n",
    "#   metrics(truth = Balance, estimate = .pred) %>%\n",
    "#   filter(.metric == 'rmse') %>%        \n",
    "#   select(.estimate) %>%\n",
    "#   pull()\n",
    "# knn_rmspe"
   ]
  },
  {
   "cell_type": "code",
   "execution_count": null,
   "metadata": {},
   "outputs": [],
   "source": []
  },
  {
   "cell_type": "code",
   "execution_count": null,
   "metadata": {},
   "outputs": [],
   "source": []
  },
  {
   "cell_type": "code",
   "execution_count": null,
   "metadata": {},
   "outputs": [],
   "source": []
  },
  {
   "cell_type": "code",
   "execution_count": null,
   "metadata": {},
   "outputs": [],
   "source": []
  },
  {
   "cell_type": "markdown",
   "metadata": {},
   "source": [
    "stroke_test_predictions %>%\n",
    "  metrics(truth = stroke, estimate = .pred_class) %>%\n",
    "  filter(.metric == \"accuracy\") %>%\n",
    "  arrange(desc(mass))"
   ]
  },
  {
   "cell_type": "markdown",
   "metadata": {},
   "source": [
    "# for every size from 1 to the total number of predictors\n",
    "for (i in 1:n_total) {\n",
    "    # for every predictor still not added yet\n",
    "    accs <- list()\n",
    "    models <- list()\n",
    "    for (j in 1:length(names)) {\n",
    "        # create a model string for this combination of predictors\n",
    "        preds_new <- c(selected, names[[j]])\n",
    "        model_string <- paste(\"stroke\", \"~\", paste(preds_new, collapse=\"+\"))\n",
    "        \n",
    "        # create a recipe from the model string\n",
    "        stroke_recipe <- recipe(as.formula(model_string), \n",
    "                                data = stroke_subset) %>%\n",
    "                          step_scale(all_predictors()) %>%\n",
    "                          step_center(all_predictors())\n",
    "\n",
    "        # tune the KNN classifier with these predictors, \n",
    "        # and collect the accuracy for the best K\n",
    "        acc <- workflow() %>%\n",
    "          add_recipe(stroke_recipe) %>%\n",
    "          add_model(knn_spec) %>%\n",
    "          tune_grid(resamples = stroke_vfold, grid = 10) %>%\n",
    "          collect_metrics() %>%\n",
    "          filter(.metric == \"accuracy\") %>%\n",
    "          summarize(mx = max(mean))\n",
    "        acc <- acc$mx %>% unlist()\n",
    "\n",
    "        # add this result to the dataframe\n",
    "        accs[[j]] <- acc\n",
    "        models[[j]] <- model_string\n",
    "    }\n",
    "    jstar <- which.max(unlist(accs))\n",
    "    accuracies <- accuracies %>% \n",
    "      add_row(size = i, \n",
    "              model_string = models[[jstar]], \n",
    "              accuracy = accs[[jstar]])\n",
    "    selected <- c(selected, names[[jstar]])\n",
    "    names <- names[-jstar]\n",
    "}\n",
    "accuracies"
   ]
  },
  {
   "cell_type": "code",
   "execution_count": null,
   "metadata": {},
   "outputs": [],
   "source": []
  }
 ],
 "metadata": {
  "kernelspec": {
   "display_name": "R",
   "language": "R",
   "name": "ir"
  },
  "language_info": {
   "codemirror_mode": "r",
   "file_extension": ".r",
   "mimetype": "text/x-r-source",
   "name": "R",
   "pygments_lexer": "r",
   "version": "4.0.0"
  }
 },
 "nbformat": 4,
 "nbformat_minor": 4
}
