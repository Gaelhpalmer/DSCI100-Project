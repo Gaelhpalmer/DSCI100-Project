{
 "cells": [
  {
   "cell_type": "markdown",
   "metadata": {},
   "source": [
    "## Predictor variable selection ## "
   ]
  },
  {
   "cell_type": "markdown",
   "metadata": {},
   "source": [
    "#### forward selection (Eforymson 1966; Draper and Smith 1966) ####"
   ]
  },
  {
   "cell_type": "markdown",
   "metadata": {},
   "source": [
    "Iteratively build up a model by adding one predictor variable at a time, starting one with no predictors."
   ]
  },
  {
   "cell_type": "markdown",
   "metadata": {},
   "source": [
    "Run the following 3 steps until you run out of predictors:\n",
    "1. For each unused predictor, add it to the model to form a candidate model.\n",
    "2. Tune all of the candidate models.\n",
    "3. Update the model to be the candidate model with the highest cross-validation accuracy.\n",
    "\n",
    "Select the model that provides the best trade-off between accuracy and simplicity."
   ]
  },
  {
   "cell_type": "markdown",
   "metadata": {},
   "source": [
    "### set-up ###"
   ]
  },
  {
   "cell_type": "code",
   "execution_count": 159,
   "metadata": {},
   "outputs": [],
   "source": [
    "# loading packages\n",
    "library(repr)\n",
    "library(tidyverse)\n",
    "library(tidymodels)\n",
    "# library(themis)\n",
    "set.seed(31)"
   ]
  },
  {
   "cell_type": "code",
   "execution_count": 160,
   "metadata": {},
   "outputs": [
    {
     "name": "stderr",
     "output_type": "stream",
     "text": [
      "Parsed with column specification:\n",
      "cols(\n",
      "  id = \u001b[32mcol_double()\u001b[39m,\n",
      "  gender = \u001b[31mcol_character()\u001b[39m,\n",
      "  age = \u001b[32mcol_double()\u001b[39m,\n",
      "  hypertension = \u001b[32mcol_double()\u001b[39m,\n",
      "  heart_disease = \u001b[32mcol_double()\u001b[39m,\n",
      "  ever_married = \u001b[31mcol_character()\u001b[39m,\n",
      "  work_type = \u001b[31mcol_character()\u001b[39m,\n",
      "  Residence_type = \u001b[31mcol_character()\u001b[39m,\n",
      "  avg_glucose_level = \u001b[32mcol_double()\u001b[39m,\n",
      "  bmi = \u001b[31mcol_character()\u001b[39m,\n",
      "  smoking_status = \u001b[31mcol_character()\u001b[39m,\n",
      "  stroke = \u001b[32mcol_double()\u001b[39m\n",
      ")\n",
      "\n"
     ]
    },
    {
     "data": {
      "text/html": [
       "<style>\n",
       ".list-inline {list-style: none; margin:0; padding: 0}\n",
       ".list-inline>li {display: inline-block}\n",
       ".list-inline>li:not(:last-child)::after {content: \"\\00b7\"; padding: 0 .5ex}\n",
       "</style>\n",
       "<ol class=list-inline><li>'id'</li><li>'gender'</li><li>'age'</li><li>'hypertension'</li><li>'heart_disease'</li><li>'ever_married'</li><li>'work_type'</li><li>'Residence_type'</li><li>'avg_glucose_level'</li><li>'bmi'</li><li>'smoking_status'</li><li>'stroke'</li></ol>\n"
      ],
      "text/latex": [
       "\\begin{enumerate*}\n",
       "\\item 'id'\n",
       "\\item 'gender'\n",
       "\\item 'age'\n",
       "\\item 'hypertension'\n",
       "\\item 'heart\\_disease'\n",
       "\\item 'ever\\_married'\n",
       "\\item 'work\\_type'\n",
       "\\item 'Residence\\_type'\n",
       "\\item 'avg\\_glucose\\_level'\n",
       "\\item 'bmi'\n",
       "\\item 'smoking\\_status'\n",
       "\\item 'stroke'\n",
       "\\end{enumerate*}\n"
      ],
      "text/markdown": [
       "1. 'id'\n",
       "2. 'gender'\n",
       "3. 'age'\n",
       "4. 'hypertension'\n",
       "5. 'heart_disease'\n",
       "6. 'ever_married'\n",
       "7. 'work_type'\n",
       "8. 'Residence_type'\n",
       "9. 'avg_glucose_level'\n",
       "10. 'bmi'\n",
       "11. 'smoking_status'\n",
       "12. 'stroke'\n",
       "\n",
       "\n"
      ],
      "text/plain": [
       " [1] \"id\"                \"gender\"            \"age\"              \n",
       " [4] \"hypertension\"      \"heart_disease\"     \"ever_married\"     \n",
       " [7] \"work_type\"         \"Residence_type\"    \"avg_glucose_level\"\n",
       "[10] \"bmi\"               \"smoking_status\"    \"stroke\"           "
      ]
     },
     "metadata": {},
     "output_type": "display_data"
    }
   ],
   "source": [
    "# loading data\n",
    "stroke <- read_csv(\"data/stroke-data.csv\")\n",
    "colnames(stroke)"
   ]
  },
  {
   "cell_type": "code",
   "execution_count": 161,
   "metadata": {},
   "outputs": [
    {
     "name": "stderr",
     "output_type": "stream",
     "text": [
      "Warning message:\n",
      "“Problem with `mutate()` input `bmi`.\n",
      "\u001b[34mℹ\u001b[39m NAs introduced by coercion\n",
      "\u001b[34mℹ\u001b[39m Input `bmi` is `as.numeric(bmi)`.”\n",
      "Warning message in mask$eval_all_mutate(dots[[i]]):\n",
      "“NAs introduced by coercion”\n"
     ]
    }
   ],
   "source": [
    "# cleaning and wrangling\n",
    "# stroke_clean <- stroke %>%\n",
    "#     select(gender, age, hypertension, heart_disease, avg_glucose_level, bmi, smoking_status, stroke) %>%\n",
    "#     mutate(gender = as_factor(gender), \n",
    "#            bmi = as.numeric(bmi),\n",
    "#            smoking_status = as_factor(smoking_status),\n",
    "#            stroke = as_factor(stroke)) %>%\n",
    "#     filter(gender != \"Other\") #Other was removed as there was only one occurrence in the dataset\n",
    "\n",
    "# prep and bake data with upsampling, then use it with everything\n",
    "# gonna overfit data, data leakage\n",
    "stroke_clean <- stroke %>%\n",
    "    select(age, hypertension, heart_disease, avg_glucose_level, bmi, stroke) %>%\n",
    "    mutate(stroke = as_factor(stroke),\n",
    "           bmi = as.numeric(bmi)) "
   ]
  },
  {
   "cell_type": "code",
   "execution_count": 162,
   "metadata": {},
   "outputs": [
    {
     "data": {
      "text/html": [
       "<table>\n",
       "<caption>A tibble: 6 × 6</caption>\n",
       "<thead>\n",
       "\t<tr><th scope=col>age</th><th scope=col>hypertension</th><th scope=col>heart_disease</th><th scope=col>avg_glucose_level</th><th scope=col>bmi</th><th scope=col>stroke</th></tr>\n",
       "\t<tr><th scope=col>&lt;dbl&gt;</th><th scope=col>&lt;dbl&gt;</th><th scope=col>&lt;dbl&gt;</th><th scope=col>&lt;dbl&gt;</th><th scope=col>&lt;dbl&gt;</th><th scope=col>&lt;fct&gt;</th></tr>\n",
       "</thead>\n",
       "<tbody>\n",
       "\t<tr><td>67</td><td>0</td><td>1</td><td>228.69</td><td>36.6</td><td>1</td></tr>\n",
       "\t<tr><td>61</td><td>0</td><td>0</td><td>202.21</td><td>  NA</td><td>1</td></tr>\n",
       "\t<tr><td>80</td><td>0</td><td>1</td><td>105.92</td><td>32.5</td><td>1</td></tr>\n",
       "\t<tr><td>49</td><td>0</td><td>0</td><td>171.23</td><td>34.4</td><td>1</td></tr>\n",
       "\t<tr><td>79</td><td>1</td><td>0</td><td>174.12</td><td>24.0</td><td>1</td></tr>\n",
       "\t<tr><td>81</td><td>0</td><td>0</td><td>186.21</td><td>29.0</td><td>1</td></tr>\n",
       "</tbody>\n",
       "</table>\n"
      ],
      "text/latex": [
       "A tibble: 6 × 6\n",
       "\\begin{tabular}{llllll}\n",
       " age & hypertension & heart\\_disease & avg\\_glucose\\_level & bmi & stroke\\\\\n",
       " <dbl> & <dbl> & <dbl> & <dbl> & <dbl> & <fct>\\\\\n",
       "\\hline\n",
       "\t 67 & 0 & 1 & 228.69 & 36.6 & 1\\\\\n",
       "\t 61 & 0 & 0 & 202.21 &   NA & 1\\\\\n",
       "\t 80 & 0 & 1 & 105.92 & 32.5 & 1\\\\\n",
       "\t 49 & 0 & 0 & 171.23 & 34.4 & 1\\\\\n",
       "\t 79 & 1 & 0 & 174.12 & 24.0 & 1\\\\\n",
       "\t 81 & 0 & 0 & 186.21 & 29.0 & 1\\\\\n",
       "\\end{tabular}\n"
      ],
      "text/markdown": [
       "\n",
       "A tibble: 6 × 6\n",
       "\n",
       "| age &lt;dbl&gt; | hypertension &lt;dbl&gt; | heart_disease &lt;dbl&gt; | avg_glucose_level &lt;dbl&gt; | bmi &lt;dbl&gt; | stroke &lt;fct&gt; |\n",
       "|---|---|---|---|---|---|\n",
       "| 67 | 0 | 1 | 228.69 | 36.6 | 1 |\n",
       "| 61 | 0 | 0 | 202.21 |   NA | 1 |\n",
       "| 80 | 0 | 1 | 105.92 | 32.5 | 1 |\n",
       "| 49 | 0 | 0 | 171.23 | 34.4 | 1 |\n",
       "| 79 | 1 | 0 | 174.12 | 24.0 | 1 |\n",
       "| 81 | 0 | 0 | 186.21 | 29.0 | 1 |\n",
       "\n"
      ],
      "text/plain": [
       "  age hypertension heart_disease avg_glucose_level bmi  stroke\n",
       "1 67  0            1             228.69            36.6 1     \n",
       "2 61  0            0             202.21              NA 1     \n",
       "3 80  0            1             105.92            32.5 1     \n",
       "4 49  0            0             171.23            34.4 1     \n",
       "5 79  1            0             174.12            24.0 1     \n",
       "6 81  0            0             186.21            29.0 1     "
      ]
     },
     "metadata": {},
     "output_type": "display_data"
    }
   ],
   "source": [
    "head(stroke_clean)"
   ]
  },
  {
   "cell_type": "markdown",
   "metadata": {},
   "source": [
    "#### Split data"
   ]
  },
  {
   "cell_type": "code",
   "execution_count": 192,
   "metadata": {},
   "outputs": [],
   "source": [
    "stroke_split <- initial_split(stroke_clean, prop = 0.75, strata = stroke)\n",
    "stroke_train <- training(stroke_split)\n",
    "stroke_test <- testing(stroke_split)"
   ]
  },
  {
   "cell_type": "markdown",
   "metadata": {},
   "source": [
    "### Downsampling"
   ]
  },
  {
   "cell_type": "code",
   "execution_count": 193,
   "metadata": {},
   "outputs": [
    {
     "data": {
      "text/html": [
       "<table>\n",
       "<caption>A tibble: 6 × 6</caption>\n",
       "<thead>\n",
       "\t<tr><th scope=col>age</th><th scope=col>hypertension</th><th scope=col>heart_disease</th><th scope=col>avg_glucose_level</th><th scope=col>bmi</th><th scope=col>stroke</th></tr>\n",
       "\t<tr><th scope=col>&lt;dbl&gt;</th><th scope=col>&lt;dbl&gt;</th><th scope=col>&lt;dbl&gt;</th><th scope=col>&lt;dbl&gt;</th><th scope=col>&lt;dbl&gt;</th><th scope=col>&lt;fct&gt;</th></tr>\n",
       "</thead>\n",
       "<tbody>\n",
       "\t<tr><td> 0.9106651</td><td>-0.3360366</td><td>-0.2413295</td><td>-0.6663583</td><td> 1.2327400</td><td>0</td></tr>\n",
       "\t<tr><td> 1.0428475</td><td>-0.3360366</td><td>-0.2413295</td><td>-0.8342994</td><td>-0.3405529</td><td>0</td></tr>\n",
       "\t<tr><td>-1.5126789</td><td>-0.3360366</td><td>-0.2413295</td><td>-0.6495642</td><td>-1.4156363</td><td>0</td></tr>\n",
       "\t<tr><td> 0.1616315</td><td>-0.3360366</td><td>-0.2413295</td><td>-0.1318196</td><td> 0.3149858</td><td>0</td></tr>\n",
       "\t<tr><td>-1.4686181</td><td>-0.3360366</td><td>-0.2413295</td><td>-0.6486803</td><td>-1.7040733</td><td>0</td></tr>\n",
       "\t<tr><td>-0.5874021</td><td>-0.3360366</td><td>-0.2413295</td><td>-0.3324649</td><td>        NA</td><td>0</td></tr>\n",
       "</tbody>\n",
       "</table>\n"
      ],
      "text/latex": [
       "A tibble: 6 × 6\n",
       "\\begin{tabular}{llllll}\n",
       " age & hypertension & heart\\_disease & avg\\_glucose\\_level & bmi & stroke\\\\\n",
       " <dbl> & <dbl> & <dbl> & <dbl> & <dbl> & <fct>\\\\\n",
       "\\hline\n",
       "\t  0.9106651 & -0.3360366 & -0.2413295 & -0.6663583 &  1.2327400 & 0\\\\\n",
       "\t  1.0428475 & -0.3360366 & -0.2413295 & -0.8342994 & -0.3405529 & 0\\\\\n",
       "\t -1.5126789 & -0.3360366 & -0.2413295 & -0.6495642 & -1.4156363 & 0\\\\\n",
       "\t  0.1616315 & -0.3360366 & -0.2413295 & -0.1318196 &  0.3149858 & 0\\\\\n",
       "\t -1.4686181 & -0.3360366 & -0.2413295 & -0.6486803 & -1.7040733 & 0\\\\\n",
       "\t -0.5874021 & -0.3360366 & -0.2413295 & -0.3324649 &         NA & 0\\\\\n",
       "\\end{tabular}\n"
      ],
      "text/markdown": [
       "\n",
       "A tibble: 6 × 6\n",
       "\n",
       "| age &lt;dbl&gt; | hypertension &lt;dbl&gt; | heart_disease &lt;dbl&gt; | avg_glucose_level &lt;dbl&gt; | bmi &lt;dbl&gt; | stroke &lt;fct&gt; |\n",
       "|---|---|---|---|---|---|\n",
       "|  0.9106651 | -0.3360366 | -0.2413295 | -0.6663583 |  1.2327400 | 0 |\n",
       "|  1.0428475 | -0.3360366 | -0.2413295 | -0.8342994 | -0.3405529 | 0 |\n",
       "| -1.5126789 | -0.3360366 | -0.2413295 | -0.6495642 | -1.4156363 | 0 |\n",
       "|  0.1616315 | -0.3360366 | -0.2413295 | -0.1318196 |  0.3149858 | 0 |\n",
       "| -1.4686181 | -0.3360366 | -0.2413295 | -0.6486803 | -1.7040733 | 0 |\n",
       "| -0.5874021 | -0.3360366 | -0.2413295 | -0.3324649 |         NA | 0 |\n",
       "\n"
      ],
      "text/plain": [
       "  age        hypertension heart_disease avg_glucose_level bmi        stroke\n",
       "1  0.9106651 -0.3360366   -0.2413295    -0.6663583         1.2327400 0     \n",
       "2  1.0428475 -0.3360366   -0.2413295    -0.8342994        -0.3405529 0     \n",
       "3 -1.5126789 -0.3360366   -0.2413295    -0.6495642        -1.4156363 0     \n",
       "4  0.1616315 -0.3360366   -0.2413295    -0.1318196         0.3149858 0     \n",
       "5 -1.4686181 -0.3360366   -0.2413295    -0.6486803        -1.7040733 0     \n",
       "6 -0.5874021 -0.3360366   -0.2413295    -0.3324649                NA 0     "
      ]
     },
     "metadata": {},
     "output_type": "display_data"
    }
   ],
   "source": [
    "ds_recipe <- recipe(stroke ~ ., data = stroke_train) %>%\n",
    "    step_scale(all_predictors()) %>%\n",
    "    step_center(all_predictors()) %>%\n",
    "    step_downsample(stroke, under_ratio = 1, skip = FALSE) %>%\n",
    "    prep()\n",
    "dsampled_stroke <- bake(ds_recipe, stroke_train)\n",
    "\n",
    "head(dsampled_stroke)"
   ]
  },
  {
   "cell_type": "code",
   "execution_count": 194,
   "metadata": {},
   "outputs": [
    {
     "name": "stderr",
     "output_type": "stream",
     "text": [
      "`summarise()` ungrouping output (override with `.groups` argument)\n",
      "\n"
     ]
    },
    {
     "data": {
      "text/html": [
       "<table>\n",
       "<caption>A tibble: 2 × 2</caption>\n",
       "<thead>\n",
       "\t<tr><th scope=col>stroke</th><th scope=col>n</th></tr>\n",
       "\t<tr><th scope=col>&lt;fct&gt;</th><th scope=col>&lt;int&gt;</th></tr>\n",
       "</thead>\n",
       "<tbody>\n",
       "\t<tr><td>0</td><td>188</td></tr>\n",
       "\t<tr><td>1</td><td>188</td></tr>\n",
       "</tbody>\n",
       "</table>\n"
      ],
      "text/latex": [
       "A tibble: 2 × 2\n",
       "\\begin{tabular}{ll}\n",
       " stroke & n\\\\\n",
       " <fct> & <int>\\\\\n",
       "\\hline\n",
       "\t 0 & 188\\\\\n",
       "\t 1 & 188\\\\\n",
       "\\end{tabular}\n"
      ],
      "text/markdown": [
       "\n",
       "A tibble: 2 × 2\n",
       "\n",
       "| stroke &lt;fct&gt; | n &lt;int&gt; |\n",
       "|---|---|\n",
       "| 0 | 188 |\n",
       "| 1 | 188 |\n",
       "\n"
      ],
      "text/plain": [
       "  stroke n  \n",
       "1 0      188\n",
       "2 1      188"
      ]
     },
     "metadata": {},
     "output_type": "display_data"
    }
   ],
   "source": [
    "ratio_stats_dsampled <- dsampled_stroke %>%\n",
    "  group_by(stroke) %>%\n",
    "  summarize(n = n())\n",
    "\n",
    "ratio_stats_dsampled"
   ]
  },
  {
   "cell_type": "markdown",
   "metadata": {},
   "source": [
    "### Forward Selection"
   ]
  },
  {
   "cell_type": "code",
   "execution_count": 195,
   "metadata": {},
   "outputs": [],
   "source": [
    "# DOWNSAMPLE here!!!"
   ]
  },
  {
   "cell_type": "code",
   "execution_count": 196,
   "metadata": {},
   "outputs": [
    {
     "data": {
      "text/html": [
       "<style>\n",
       ".list-inline {list-style: none; margin:0; padding: 0}\n",
       ".list-inline>li {display: inline-block}\n",
       ".list-inline>li:not(:last-child)::after {content: \"\\00b7\"; padding: 0 .5ex}\n",
       "</style>\n",
       "<ol class=list-inline><li>'age'</li><li>'avg_glucose_level'</li><li>'bmi'</li><li>'heart_disease'</li><li>'hypertension'</li></ol>\n"
      ],
      "text/latex": [
       "\\begin{enumerate*}\n",
       "\\item 'age'\n",
       "\\item 'avg\\_glucose\\_level'\n",
       "\\item 'bmi'\n",
       "\\item 'heart\\_disease'\n",
       "\\item 'hypertension'\n",
       "\\end{enumerate*}\n"
      ],
      "text/markdown": [
       "1. 'age'\n",
       "2. 'avg_glucose_level'\n",
       "3. 'bmi'\n",
       "4. 'heart_disease'\n",
       "5. 'hypertension'\n",
       "\n",
       "\n"
      ],
      "text/plain": [
       "[1] \"age\"               \"avg_glucose_level\" \"bmi\"              \n",
       "[4] \"heart_disease\"     \"hypertension\"     "
      ]
     },
     "metadata": {},
     "output_type": "display_data"
    }
   ],
   "source": [
    "stroke_subset <- dsampled_stroke %>%\n",
    "    filter(!is.na(bmi))\n",
    "names <- colnames(dsampled_stroke %>% select(-stroke)) %>% sort()\n",
    "names"
   ]
  },
  {
   "cell_type": "code",
   "execution_count": 197,
   "metadata": {},
   "outputs": [
    {
     "data": {
      "text/html": [
       "'stroke ~ age+avg_glucose_level+bmi+heart_disease+hypertension'"
      ],
      "text/latex": [
       "'stroke \\textasciitilde{} age+avg\\_glucose\\_level+bmi+heart\\_disease+hypertension'"
      ],
      "text/markdown": [
       "'stroke ~ age+avg_glucose_level+bmi+heart_disease+hypertension'"
      ],
      "text/plain": [
       "[1] \"stroke ~ age+avg_glucose_level+bmi+heart_disease+hypertension\""
      ]
     },
     "metadata": {},
     "output_type": "display_data"
    }
   ],
   "source": [
    "example_formula <- paste(\"stroke\", \"~\", paste(names, collapse=\"+\"))\n",
    "example_formula"
   ]
  },
  {
   "cell_type": "code",
   "execution_count": 198,
   "metadata": {},
   "outputs": [
    {
     "data": {
      "text/html": [
       "<table>\n",
       "<caption>A tibble: 0 × 3</caption>\n",
       "<thead>\n",
       "\t<tr><th scope=col>size</th><th scope=col>model_string</th><th scope=col>accuracy</th></tr>\n",
       "\t<tr><th scope=col>&lt;int&gt;</th><th scope=col>&lt;chr&gt;</th><th scope=col>&lt;dbl&gt;</th></tr>\n",
       "</thead>\n",
       "<tbody>\n",
       "</tbody>\n",
       "</table>\n"
      ],
      "text/latex": [
       "A tibble: 0 × 3\n",
       "\\begin{tabular}{lll}\n",
       " size & model\\_string & accuracy\\\\\n",
       " <int> & <chr> & <dbl>\\\\\n",
       "\\hline\n",
       "\\end{tabular}\n"
      ],
      "text/markdown": [
       "\n",
       "A tibble: 0 × 3\n",
       "\n",
       "| size &lt;int&gt; | model_string &lt;chr&gt; | accuracy &lt;dbl&gt; |\n",
       "|---|---|---|\n",
       "\n"
      ],
      "text/plain": [
       "     size model_string accuracy"
      ]
     },
     "metadata": {},
     "output_type": "display_data"
    }
   ],
   "source": [
    "# create an empty tibble to store the results\n",
    "accuracies <- tibble(size = integer(), \n",
    "                     model_string = character(), \n",
    "                     accuracy = numeric())\n",
    "accuracies"
   ]
  },
  {
   "cell_type": "code",
   "execution_count": 199,
   "metadata": {},
   "outputs": [],
   "source": [
    "# create a model specification\n",
    "knn_spec <- nearest_neighbor(weight_func = \"rectangular\", \n",
    "                             neighbors = tune()) %>%\n",
    "     set_engine(\"kknn\") %>%\n",
    "     set_mode(\"classification\")\n",
    "\n",
    "# create a 5-fold cross-validation object\n",
    "stroke_vfold <- vfold_cv(stroke_subset, v = 5, strata = stroke)\n",
    "\n",
    "gridvals <- tibble(neighbors = seq(from = 1, to = 20, by = 2))"
   ]
  },
  {
   "cell_type": "code",
   "execution_count": 200,
   "metadata": {},
   "outputs": [],
   "source": [
    "# store the total number of predictors\n",
    "n_total <- length(names)\n",
    "\n",
    "# stores selected predictors\n",
    "selected <- c()"
   ]
  },
  {
   "cell_type": "code",
   "execution_count": 136,
   "metadata": {},
   "outputs": [
    {
     "name": "stdout",
     "output_type": "stream",
     "text": [
      "[1] \"start\"\n",
      "[1] \"stroke ~ age\"\n",
      "[1] \"stroke ~ avg_glucose_level\"\n",
      "[1] \"stroke ~ bmi\"\n",
      "[1] \"stroke ~ heart_disease\"\n",
      "[1] \"stroke ~ hypertension\"\n",
      "[1] \"unlist\"\n",
      "[1] 0.7507246 0.6463768 0.5449275 0.6231884 0.5449275\n",
      "[1] \"start\"\n",
      "[1] \"stroke ~ age+avg_glucose_level\"\n",
      "[1] \"stroke ~ age+bmi\"\n",
      "[1] \"stroke ~ age+heart_disease\"\n",
      "[1] \"stroke ~ age+hypertension\"\n",
      "[1] \"unlist\"\n",
      "[1] 0.7478261 0.7420290 0.7565217 0.7536232\n",
      "[1] \"start\"\n",
      "[1] \"stroke ~ age+heart_disease+avg_glucose_level\"\n",
      "[1] \"stroke ~ age+heart_disease+bmi\"\n",
      "[1] \"stroke ~ age+heart_disease+hypertension\"\n",
      "[1] \"unlist\"\n",
      "[1] 0.7333333 0.7362319 0.7565217\n",
      "[1] \"start\"\n",
      "[1] \"stroke ~ age+heart_disease+hypertension+avg_glucose_level\"\n",
      "[1] \"stroke ~ age+heart_disease+hypertension+bmi\"\n",
      "[1] \"unlist\"\n",
      "[1] 0.7478261 0.7478261\n",
      "[1] \"start\"\n",
      "[1] \"stroke ~ age+heart_disease+hypertension+avg_glucose_level+bmi\"\n",
      "[1] \"unlist\"\n",
      "[1] 0.7710145\n"
     ]
    },
    {
     "data": {
      "text/html": [
       "<table>\n",
       "<caption>A tibble: 5 × 3</caption>\n",
       "<thead>\n",
       "\t<tr><th scope=col>size</th><th scope=col>model_string</th><th scope=col>accuracy</th></tr>\n",
       "\t<tr><th scope=col>&lt;int&gt;</th><th scope=col>&lt;chr&gt;</th><th scope=col>&lt;dbl&gt;</th></tr>\n",
       "</thead>\n",
       "<tbody>\n",
       "\t<tr><td>1</td><td>stroke ~ age                                                 </td><td>0.7507246</td></tr>\n",
       "\t<tr><td>2</td><td>stroke ~ age+heart_disease                                   </td><td>0.7565217</td></tr>\n",
       "\t<tr><td>3</td><td>stroke ~ age+heart_disease+hypertension                      </td><td>0.7565217</td></tr>\n",
       "\t<tr><td>4</td><td>stroke ~ age+heart_disease+hypertension+avg_glucose_level    </td><td>0.7478261</td></tr>\n",
       "\t<tr><td>5</td><td>stroke ~ age+heart_disease+hypertension+avg_glucose_level+bmi</td><td>0.7710145</td></tr>\n",
       "</tbody>\n",
       "</table>\n"
      ],
      "text/latex": [
       "A tibble: 5 × 3\n",
       "\\begin{tabular}{lll}\n",
       " size & model\\_string & accuracy\\\\\n",
       " <int> & <chr> & <dbl>\\\\\n",
       "\\hline\n",
       "\t 1 & stroke \\textasciitilde{} age                                                  & 0.7507246\\\\\n",
       "\t 2 & stroke \\textasciitilde{} age+heart\\_disease                                    & 0.7565217\\\\\n",
       "\t 3 & stroke \\textasciitilde{} age+heart\\_disease+hypertension                       & 0.7565217\\\\\n",
       "\t 4 & stroke \\textasciitilde{} age+heart\\_disease+hypertension+avg\\_glucose\\_level     & 0.7478261\\\\\n",
       "\t 5 & stroke \\textasciitilde{} age+heart\\_disease+hypertension+avg\\_glucose\\_level+bmi & 0.7710145\\\\\n",
       "\\end{tabular}\n"
      ],
      "text/markdown": [
       "\n",
       "A tibble: 5 × 3\n",
       "\n",
       "| size &lt;int&gt; | model_string &lt;chr&gt; | accuracy &lt;dbl&gt; |\n",
       "|---|---|---|\n",
       "| 1 | stroke ~ age                                                  | 0.7507246 |\n",
       "| 2 | stroke ~ age+heart_disease                                    | 0.7565217 |\n",
       "| 3 | stroke ~ age+heart_disease+hypertension                       | 0.7565217 |\n",
       "| 4 | stroke ~ age+heart_disease+hypertension+avg_glucose_level     | 0.7478261 |\n",
       "| 5 | stroke ~ age+heart_disease+hypertension+avg_glucose_level+bmi | 0.7710145 |\n",
       "\n"
      ],
      "text/plain": [
       "  size model_string                                                  accuracy \n",
       "1 1    stroke ~ age                                                  0.7507246\n",
       "2 2    stroke ~ age+heart_disease                                    0.7565217\n",
       "3 3    stroke ~ age+heart_disease+hypertension                       0.7565217\n",
       "4 4    stroke ~ age+heart_disease+hypertension+avg_glucose_level     0.7478261\n",
       "5 5    stroke ~ age+heart_disease+hypertension+avg_glucose_level+bmi 0.7710145"
      ]
     },
     "metadata": {},
     "output_type": "display_data"
    }
   ],
   "source": [
    "set.seed(31)\n",
    "# for every size from 1 to the total number of predictors\n",
    "for (i in 1:n_total) {\n",
    "    print(\"start\")\n",
    "    # for every predictor still not added yet\n",
    "    accs <- list()\n",
    "    models <- list()\n",
    "    for (j in 1:length(names)) {\n",
    "        # create a model string for this combination of predictors\n",
    "        preds_new <- c(selected, names[[j]])\n",
    "        model_string <- paste(\"stroke\", \"~\", paste(preds_new, collapse=\"+\"))\n",
    "        print(model_string)\n",
    "        \n",
    "        # create a recipe from the model string\n",
    "        stroke_recipe <- recipe(as.formula(model_string), \n",
    "                                data = stroke_subset) %>%\n",
    "                          step_scale(all_predictors()) %>%\n",
    "                          step_center(all_predictors())\n",
    "\n",
    "#         !!! how can i repeat the below step more to make it more accurate?\n",
    "        # tune the KNN classifier with these predictors, \n",
    "        # and collect the accuracy for the best K\n",
    "        acc <- workflow() %>%\n",
    "          add_recipe(stroke_recipe) %>%\n",
    "          add_model(knn_spec) %>%\n",
    "          tune_grid(resamples = stroke_vfold, grid = gridvals) %>%\n",
    "          collect_metrics() %>%\n",
    "          filter(.metric == \"accuracy\") %>%\n",
    "          summarize(mx = max(mean))\n",
    "        acc <- acc$mx %>% unlist()\n",
    "\n",
    "        # add this result to the dataframe\n",
    "        accs[[j]] <- acc\n",
    "        models[[j]] <- model_string\n",
    "    }\n",
    "    print(\"unlist\")\n",
    "    print(unlist(accs))\n",
    "    jstar <- which.max(unlist(accs))\n",
    "    accuracies <- accuracies %>% \n",
    "      add_row(size = i, \n",
    "              model_string = models[[jstar]], \n",
    "              accuracy = accs[[jstar]])\n",
    "    selected <- c(selected, names[[jstar]])\n",
    "    names <- names[-jstar]\n",
    "}\n",
    "accuracies"
   ]
  },
  {
   "cell_type": "code",
   "execution_count": 165,
   "metadata": {},
   "outputs": [
    {
     "data": {
      "image/png": "[encoded data removed]",
      "text/plain": [
       "plot without title"
      ]
     },
     "metadata": {
      "image/png": {
       "height": 420,
       "width": 420
      }
     },
     "output_type": "display_data"
    }
   ],
   "source": [
    "ggplot(accuracies, aes(x=size, y=accuracy)) +\n",
    "geom_line()"
   ]
  },
  {
   "cell_type": "markdown",
   "metadata": {},
   "source": [
    "## K-value Selection ##"
   ]
  },
  {
   "cell_type": "code",
   "execution_count": 213,
   "metadata": {},
   "outputs": [],
   "source": [
    "stroke_recipe <- recipe(stroke ~ avg_glucose_level + age, data = dsampled_stroke) %>%\n",
    "  step_scale(all_predictors()) %>%\n",
    "  step_center(all_predictors())"
   ]
  },
  {
   "cell_type": "code",
   "execution_count": 214,
   "metadata": {},
   "outputs": [],
   "source": [
    "stroke_vfold <- vfold_cv(dsampled_stroke, v = 5, strata = stroke)\n",
    "k_vals <- tibble(neighbors = seq(from = 1, to = 15))"
   ]
  },
  {
   "cell_type": "code",
   "execution_count": 215,
   "metadata": {},
   "outputs": [],
   "source": [
    "knn_spec <- nearest_neighbor(weight_func = \"rectangular\", neighbors = tune()) %>%\n",
    "  set_engine(\"kknn\") %>%\n",
    "  set_mode(\"classification\")"
   ]
  },
  {
   "cell_type": "code",
   "execution_count": 216,
   "metadata": {},
   "outputs": [
    {
     "data": {
      "text/html": [
       "<table>\n",
       "<caption>A tibble: 30 × 7</caption>\n",
       "<thead>\n",
       "\t<tr><th scope=col>neighbors</th><th scope=col>.metric</th><th scope=col>.estimator</th><th scope=col>mean</th><th scope=col>n</th><th scope=col>std_err</th><th scope=col>.config</th></tr>\n",
       "\t<tr><th scope=col>&lt;int&gt;</th><th scope=col>&lt;chr&gt;</th><th scope=col>&lt;chr&gt;</th><th scope=col>&lt;dbl&gt;</th><th scope=col>&lt;int&gt;</th><th scope=col>&lt;dbl&gt;</th><th scope=col>&lt;chr&gt;</th></tr>\n",
       "</thead>\n",
       "<tbody>\n",
       "\t<tr><td> 1</td><td>accuracy</td><td>binary</td><td>0.6754623</td><td>5</td><td>0.01500762</td><td>Model01</td></tr>\n",
       "\t<tr><td> 1</td><td>roc_auc </td><td>binary</td><td>0.6754623</td><td>5</td><td>0.01500762</td><td>Model01</td></tr>\n",
       "\t<tr><td> 2</td><td>accuracy</td><td>binary</td><td>0.6754623</td><td>5</td><td>0.01500762</td><td>Model02</td></tr>\n",
       "\t<tr><td> 2</td><td>roc_auc </td><td>binary</td><td>0.7470012</td><td>5</td><td>0.02618414</td><td>Model02</td></tr>\n",
       "\t<tr><td> 3</td><td>accuracy</td><td>binary</td><td>0.7154339</td><td>5</td><td>0.03250391</td><td>Model03</td></tr>\n",
       "\t<tr><td> 3</td><td>roc_auc </td><td>binary</td><td>0.7749818</td><td>5</td><td>0.02734958</td><td>Model03</td></tr>\n",
       "\t<tr><td> 4</td><td>accuracy</td><td>binary</td><td>0.7154339</td><td>5</td><td>0.03250391</td><td>Model04</td></tr>\n",
       "\t<tr><td> 4</td><td>roc_auc </td><td>binary</td><td>0.7945336</td><td>5</td><td>0.02605824</td><td>Model04</td></tr>\n",
       "\t<tr><td> 5</td><td>accuracy</td><td>binary</td><td>0.7475107</td><td>5</td><td>0.01968696</td><td>Model05</td></tr>\n",
       "\t<tr><td> 5</td><td>roc_auc </td><td>binary</td><td>0.7834978</td><td>5</td><td>0.02733082</td><td>Model05</td></tr>\n",
       "\t<tr><td> 6</td><td>accuracy</td><td>binary</td><td>0.7475107</td><td>5</td><td>0.01968696</td><td>Model06</td></tr>\n",
       "\t<tr><td> 6</td><td>roc_auc </td><td>binary</td><td>0.7947375</td><td>5</td><td>0.02872551</td><td>Model06</td></tr>\n",
       "\t<tr><td> 7</td><td>accuracy</td><td>binary</td><td>0.7502845</td><td>5</td><td>0.03374753</td><td>Model07</td></tr>\n",
       "\t<tr><td> 7</td><td>roc_auc </td><td>binary</td><td>0.7965238</td><td>5</td><td>0.03010936</td><td>Model07</td></tr>\n",
       "\t<tr><td> 8</td><td>accuracy</td><td>binary</td><td>0.7502845</td><td>5</td><td>0.03374753</td><td>Model08</td></tr>\n",
       "\t<tr><td> 8</td><td>roc_auc </td><td>binary</td><td>0.7968531</td><td>5</td><td>0.03088190</td><td>Model08</td></tr>\n",
       "\t<tr><td> 9</td><td>accuracy</td><td>binary</td><td>0.7475107</td><td>5</td><td>0.02995400</td><td>Model09</td></tr>\n",
       "\t<tr><td> 9</td><td>roc_auc </td><td>binary</td><td>0.7957042</td><td>5</td><td>0.02731755</td><td>Model09</td></tr>\n",
       "\t<tr><td>10</td><td>accuracy</td><td>binary</td><td>0.7475107</td><td>5</td><td>0.02995400</td><td>Model10</td></tr>\n",
       "\t<tr><td>10</td><td>roc_auc </td><td>binary</td><td>0.7995377</td><td>5</td><td>0.02482021</td><td>Model10</td></tr>\n",
       "\t<tr><td>11</td><td>accuracy</td><td>binary</td><td>0.7579659</td><td>5</td><td>0.02347881</td><td>Model11</td></tr>\n",
       "\t<tr><td>11</td><td>roc_auc </td><td>binary</td><td>0.7966491</td><td>5</td><td>0.02401480</td><td>Model11</td></tr>\n",
       "\t<tr><td>12</td><td>accuracy</td><td>binary</td><td>0.7579659</td><td>5</td><td>0.02347881</td><td>Model12</td></tr>\n",
       "\t<tr><td>12</td><td>roc_auc </td><td>binary</td><td>0.7997948</td><td>5</td><td>0.02389370</td><td>Model12</td></tr>\n",
       "\t<tr><td>13</td><td>accuracy</td><td>binary</td><td>0.7555477</td><td>5</td><td>0.02450897</td><td>Model13</td></tr>\n",
       "\t<tr><td>13</td><td>roc_auc </td><td>binary</td><td>0.7984819</td><td>5</td><td>0.02256631</td><td>Model13</td></tr>\n",
       "\t<tr><td>14</td><td>accuracy</td><td>binary</td><td>0.7555477</td><td>5</td><td>0.02450897</td><td>Model14</td></tr>\n",
       "\t<tr><td>14</td><td>roc_auc </td><td>binary</td><td>0.8026161</td><td>5</td><td>0.02418455</td><td>Model14</td></tr>\n",
       "\t<tr><td>15</td><td>accuracy</td><td>binary</td><td>0.7556188</td><td>5</td><td>0.02569316</td><td>Model15</td></tr>\n",
       "\t<tr><td>15</td><td>roc_auc </td><td>binary</td><td>0.8013658</td><td>5</td><td>0.02505419</td><td>Model15</td></tr>\n",
       "</tbody>\n",
       "</table>\n"
      ],
      "text/latex": [
       "A tibble: 30 × 7\n",
       "\\begin{tabular}{lllllll}\n",
       " neighbors & .metric & .estimator & mean & n & std\\_err & .config\\\\\n",
       " <int> & <chr> & <chr> & <dbl> & <int> & <dbl> & <chr>\\\\\n",
       "\\hline\n",
       "\t  1 & accuracy & binary & 0.6754623 & 5 & 0.01500762 & Model01\\\\\n",
       "\t  1 & roc\\_auc  & binary & 0.6754623 & 5 & 0.01500762 & Model01\\\\\n",
       "\t  2 & accuracy & binary & 0.6754623 & 5 & 0.01500762 & Model02\\\\\n",
       "\t  2 & roc\\_auc  & binary & 0.7470012 & 5 & 0.02618414 & Model02\\\\\n",
       "\t  3 & accuracy & binary & 0.7154339 & 5 & 0.03250391 & Model03\\\\\n",
       "\t  3 & roc\\_auc  & binary & 0.7749818 & 5 & 0.02734958 & Model03\\\\\n",
       "\t  4 & accuracy & binary & 0.7154339 & 5 & 0.03250391 & Model04\\\\\n",
       "\t  4 & roc\\_auc  & binary & 0.7945336 & 5 & 0.02605824 & Model04\\\\\n",
       "\t  5 & accuracy & binary & 0.7475107 & 5 & 0.01968696 & Model05\\\\\n",
       "\t  5 & roc\\_auc  & binary & 0.7834978 & 5 & 0.02733082 & Model05\\\\\n",
       "\t  6 & accuracy & binary & 0.7475107 & 5 & 0.01968696 & Model06\\\\\n",
       "\t  6 & roc\\_auc  & binary & 0.7947375 & 5 & 0.02872551 & Model06\\\\\n",
       "\t  7 & accuracy & binary & 0.7502845 & 5 & 0.03374753 & Model07\\\\\n",
       "\t  7 & roc\\_auc  & binary & 0.7965238 & 5 & 0.03010936 & Model07\\\\\n",
       "\t  8 & accuracy & binary & 0.7502845 & 5 & 0.03374753 & Model08\\\\\n",
       "\t  8 & roc\\_auc  & binary & 0.7968531 & 5 & 0.03088190 & Model08\\\\\n",
       "\t  9 & accuracy & binary & 0.7475107 & 5 & 0.02995400 & Model09\\\\\n",
       "\t  9 & roc\\_auc  & binary & 0.7957042 & 5 & 0.02731755 & Model09\\\\\n",
       "\t 10 & accuracy & binary & 0.7475107 & 5 & 0.02995400 & Model10\\\\\n",
       "\t 10 & roc\\_auc  & binary & 0.7995377 & 5 & 0.02482021 & Model10\\\\\n",
       "\t 11 & accuracy & binary & 0.7579659 & 5 & 0.02347881 & Model11\\\\\n",
       "\t 11 & roc\\_auc  & binary & 0.7966491 & 5 & 0.02401480 & Model11\\\\\n",
       "\t 12 & accuracy & binary & 0.7579659 & 5 & 0.02347881 & Model12\\\\\n",
       "\t 12 & roc\\_auc  & binary & 0.7997948 & 5 & 0.02389370 & Model12\\\\\n",
       "\t 13 & accuracy & binary & 0.7555477 & 5 & 0.02450897 & Model13\\\\\n",
       "\t 13 & roc\\_auc  & binary & 0.7984819 & 5 & 0.02256631 & Model13\\\\\n",
       "\t 14 & accuracy & binary & 0.7555477 & 5 & 0.02450897 & Model14\\\\\n",
       "\t 14 & roc\\_auc  & binary & 0.8026161 & 5 & 0.02418455 & Model14\\\\\n",
       "\t 15 & accuracy & binary & 0.7556188 & 5 & 0.02569316 & Model15\\\\\n",
       "\t 15 & roc\\_auc  & binary & 0.8013658 & 5 & 0.02505419 & Model15\\\\\n",
       "\\end{tabular}\n"
      ],
      "text/markdown": [
       "\n",
       "A tibble: 30 × 7\n",
       "\n",
       "| neighbors &lt;int&gt; | .metric &lt;chr&gt; | .estimator &lt;chr&gt; | mean &lt;dbl&gt; | n &lt;int&gt; | std_err &lt;dbl&gt; | .config &lt;chr&gt; |\n",
       "|---|---|---|---|---|---|---|\n",
       "|  1 | accuracy | binary | 0.6754623 | 5 | 0.01500762 | Model01 |\n",
       "|  1 | roc_auc  | binary | 0.6754623 | 5 | 0.01500762 | Model01 |\n",
       "|  2 | accuracy | binary | 0.6754623 | 5 | 0.01500762 | Model02 |\n",
       "|  2 | roc_auc  | binary | 0.7470012 | 5 | 0.02618414 | Model02 |\n",
       "|  3 | accuracy | binary | 0.7154339 | 5 | 0.03250391 | Model03 |\n",
       "|  3 | roc_auc  | binary | 0.7749818 | 5 | 0.02734958 | Model03 |\n",
       "|  4 | accuracy | binary | 0.7154339 | 5 | 0.03250391 | Model04 |\n",
       "|  4 | roc_auc  | binary | 0.7945336 | 5 | 0.02605824 | Model04 |\n",
       "|  5 | accuracy | binary | 0.7475107 | 5 | 0.01968696 | Model05 |\n",
       "|  5 | roc_auc  | binary | 0.7834978 | 5 | 0.02733082 | Model05 |\n",
       "|  6 | accuracy | binary | 0.7475107 | 5 | 0.01968696 | Model06 |\n",
       "|  6 | roc_auc  | binary | 0.7947375 | 5 | 0.02872551 | Model06 |\n",
       "|  7 | accuracy | binary | 0.7502845 | 5 | 0.03374753 | Model07 |\n",
       "|  7 | roc_auc  | binary | 0.7965238 | 5 | 0.03010936 | Model07 |\n",
       "|  8 | accuracy | binary | 0.7502845 | 5 | 0.03374753 | Model08 |\n",
       "|  8 | roc_auc  | binary | 0.7968531 | 5 | 0.03088190 | Model08 |\n",
       "|  9 | accuracy | binary | 0.7475107 | 5 | 0.02995400 | Model09 |\n",
       "|  9 | roc_auc  | binary | 0.7957042 | 5 | 0.02731755 | Model09 |\n",
       "| 10 | accuracy | binary | 0.7475107 | 5 | 0.02995400 | Model10 |\n",
       "| 10 | roc_auc  | binary | 0.7995377 | 5 | 0.02482021 | Model10 |\n",
       "| 11 | accuracy | binary | 0.7579659 | 5 | 0.02347881 | Model11 |\n",
       "| 11 | roc_auc  | binary | 0.7966491 | 5 | 0.02401480 | Model11 |\n",
       "| 12 | accuracy | binary | 0.7579659 | 5 | 0.02347881 | Model12 |\n",
       "| 12 | roc_auc  | binary | 0.7997948 | 5 | 0.02389370 | Model12 |\n",
       "| 13 | accuracy | binary | 0.7555477 | 5 | 0.02450897 | Model13 |\n",
       "| 13 | roc_auc  | binary | 0.7984819 | 5 | 0.02256631 | Model13 |\n",
       "| 14 | accuracy | binary | 0.7555477 | 5 | 0.02450897 | Model14 |\n",
       "| 14 | roc_auc  | binary | 0.8026161 | 5 | 0.02418455 | Model14 |\n",
       "| 15 | accuracy | binary | 0.7556188 | 5 | 0.02569316 | Model15 |\n",
       "| 15 | roc_auc  | binary | 0.8013658 | 5 | 0.02505419 | Model15 |\n",
       "\n"
      ],
      "text/plain": [
       "   neighbors .metric  .estimator mean      n std_err    .config\n",
       "1   1        accuracy binary     0.6754623 5 0.01500762 Model01\n",
       "2   1        roc_auc  binary     0.6754623 5 0.01500762 Model01\n",
       "3   2        accuracy binary     0.6754623 5 0.01500762 Model02\n",
       "4   2        roc_auc  binary     0.7470012 5 0.02618414 Model02\n",
       "5   3        accuracy binary     0.7154339 5 0.03250391 Model03\n",
       "6   3        roc_auc  binary     0.7749818 5 0.02734958 Model03\n",
       "7   4        accuracy binary     0.7154339 5 0.03250391 Model04\n",
       "8   4        roc_auc  binary     0.7945336 5 0.02605824 Model04\n",
       "9   5        accuracy binary     0.7475107 5 0.01968696 Model05\n",
       "10  5        roc_auc  binary     0.7834978 5 0.02733082 Model05\n",
       "11  6        accuracy binary     0.7475107 5 0.01968696 Model06\n",
       "12  6        roc_auc  binary     0.7947375 5 0.02872551 Model06\n",
       "13  7        accuracy binary     0.7502845 5 0.03374753 Model07\n",
       "14  7        roc_auc  binary     0.7965238 5 0.03010936 Model07\n",
       "15  8        accuracy binary     0.7502845 5 0.03374753 Model08\n",
       "16  8        roc_auc  binary     0.7968531 5 0.03088190 Model08\n",
       "17  9        accuracy binary     0.7475107 5 0.02995400 Model09\n",
       "18  9        roc_auc  binary     0.7957042 5 0.02731755 Model09\n",
       "19 10        accuracy binary     0.7475107 5 0.02995400 Model10\n",
       "20 10        roc_auc  binary     0.7995377 5 0.02482021 Model10\n",
       "21 11        accuracy binary     0.7579659 5 0.02347881 Model11\n",
       "22 11        roc_auc  binary     0.7966491 5 0.02401480 Model11\n",
       "23 12        accuracy binary     0.7579659 5 0.02347881 Model12\n",
       "24 12        roc_auc  binary     0.7997948 5 0.02389370 Model12\n",
       "25 13        accuracy binary     0.7555477 5 0.02450897 Model13\n",
       "26 13        roc_auc  binary     0.7984819 5 0.02256631 Model13\n",
       "27 14        accuracy binary     0.7555477 5 0.02450897 Model14\n",
       "28 14        roc_auc  binary     0.8026161 5 0.02418455 Model14\n",
       "29 15        accuracy binary     0.7556188 5 0.02569316 Model15\n",
       "30 15        roc_auc  binary     0.8013658 5 0.02505419 Model15"
      ]
     },
     "metadata": {},
     "output_type": "display_data"
    }
   ],
   "source": [
    "knn_results <- workflow() %>%\n",
    "  add_recipe(stroke_recipe) %>%\n",
    "  add_model(knn_spec) %>%\n",
    "  tune_grid(resamples = stroke_vfold, grid = k_vals) %>%\n",
    "  collect_metrics() \n",
    "knn_results"
   ]
  },
  {
   "cell_type": "code",
   "execution_count": 218,
   "metadata": {},
   "outputs": [
    {
     "data": {
      "text/html": [
       "<table>\n",
       "<caption>A tibble: 2 × 7</caption>\n",
       "<thead>\n",
       "\t<tr><th scope=col>neighbors</th><th scope=col>.metric</th><th scope=col>.estimator</th><th scope=col>mean</th><th scope=col>n</th><th scope=col>std_err</th><th scope=col>.config</th></tr>\n",
       "\t<tr><th scope=col>&lt;int&gt;</th><th scope=col>&lt;chr&gt;</th><th scope=col>&lt;chr&gt;</th><th scope=col>&lt;dbl&gt;</th><th scope=col>&lt;int&gt;</th><th scope=col>&lt;dbl&gt;</th><th scope=col>&lt;chr&gt;</th></tr>\n",
       "</thead>\n",
       "<tbody>\n",
       "\t<tr><td>11</td><td>accuracy</td><td>binary</td><td>0.7579659</td><td>5</td><td>0.02347881</td><td>Model11</td></tr>\n",
       "\t<tr><td>12</td><td>accuracy</td><td>binary</td><td>0.7579659</td><td>5</td><td>0.02347881</td><td>Model12</td></tr>\n",
       "</tbody>\n",
       "</table>\n"
      ],
      "text/latex": [
       "A tibble: 2 × 7\n",
       "\\begin{tabular}{lllllll}\n",
       " neighbors & .metric & .estimator & mean & n & std\\_err & .config\\\\\n",
       " <int> & <chr> & <chr> & <dbl> & <int> & <dbl> & <chr>\\\\\n",
       "\\hline\n",
       "\t 11 & accuracy & binary & 0.7579659 & 5 & 0.02347881 & Model11\\\\\n",
       "\t 12 & accuracy & binary & 0.7579659 & 5 & 0.02347881 & Model12\\\\\n",
       "\\end{tabular}\n"
      ],
      "text/markdown": [
       "\n",
       "A tibble: 2 × 7\n",
       "\n",
       "| neighbors &lt;int&gt; | .metric &lt;chr&gt; | .estimator &lt;chr&gt; | mean &lt;dbl&gt; | n &lt;int&gt; | std_err &lt;dbl&gt; | .config &lt;chr&gt; |\n",
       "|---|---|---|---|---|---|---|\n",
       "| 11 | accuracy | binary | 0.7579659 | 5 | 0.02347881 | Model11 |\n",
       "| 12 | accuracy | binary | 0.7579659 | 5 | 0.02347881 | Model12 |\n",
       "\n"
      ],
      "text/plain": [
       "  neighbors .metric  .estimator mean      n std_err    .config\n",
       "1 11        accuracy binary     0.7579659 5 0.02347881 Model11\n",
       "2 12        accuracy binary     0.7579659 5 0.02347881 Model12"
      ]
     },
     "metadata": {},
     "output_type": "display_data"
    },
    {
     "data": {
      "image/png": "[encoded data removed]",
      "text/plain": [
       "plot without title"
      ]
     },
     "metadata": {
      "image/png": {
       "height": 420,
       "width": 420
      }
     },
     "output_type": "display_data"
    }
   ],
   "source": [
    "accuracies <- knn_results %>% # Plot accuracies vs neighbours\n",
    "  filter(.metric == \"accuracy\")\n",
    "\n",
    "\n",
    "accuracies_vs_ks <- accuracies %>%\n",
    "    ggplot(aes(x=neighbors, y=mean)) +\n",
    "    geom_point() +\n",
    "    geom_line() +\n",
    "    ggtitle(\"Number of Neighbors vs Model Accuracy\") +\n",
    "    labs(x=\"Neighbors\", y=\"Accuracy\") +\n",
    "    theme(text = element_text(size=15)) +\n",
    "    scale_x_continuous(breaks=c(1:15))\n",
    "\n",
    "accuracies_vs_ks\n",
    "\n",
    "\n",
    "optimal_neighbours <- accuracies %>%\n",
    "  filter(mean == max(mean))\n",
    "optimal_neighbours"
   ]
  },
  {
   "cell_type": "markdown",
   "metadata": {},
   "source": [
    "## Model Construction"
   ]
  },
  {
   "cell_type": "code",
   "execution_count": 219,
   "metadata": {},
   "outputs": [
    {
     "data": {
      "text/plain": [
       "══ Workflow [trained] ══════════════════════════════════════════════════════════\n",
       "\u001b[3mPreprocessor:\u001b[23m Recipe\n",
       "\u001b[3mModel:\u001b[23m nearest_neighbor()\n",
       "\n",
       "── Preprocessor ────────────────────────────────────────────────────────────────\n",
       "2 Recipe Steps\n",
       "\n",
       "● step_scale()\n",
       "● step_center()\n",
       "\n",
       "── Model ───────────────────────────────────────────────────────────────────────\n",
       "\n",
       "Call:\n",
       "kknn::train.kknn(formula = ..y ~ ., data = data, ks = ~11, kernel = ~\"rectangular\")\n",
       "\n",
       "Type of response variable: nominal\n",
       "Minimal misclassification: 0.2553191\n",
       "Best kernel: rectangular\n",
       "Best k: 11"
      ]
     },
     "metadata": {},
     "output_type": "display_data"
    }
   ],
   "source": [
    "stroke_spec <- nearest_neighbor(weight_func = \"rectangular\", neighbors = 11) %>%\n",
    "  set_engine(\"kknn\") %>%\n",
    "  set_mode(\"classification\")\n",
    "\n",
    "stroke_fit <- workflow() %>%\n",
    "  add_recipe(stroke_recipe) %>%\n",
    "  add_model(stroke_spec) %>%\n",
    "  fit(data = dsampled_stroke)\n",
    "stroke_fit"
   ]
  },
  {
   "cell_type": "markdown",
   "metadata": {},
   "source": [
    "## Test Set Prediction"
   ]
  },
  {
   "cell_type": "code",
   "execution_count": 221,
   "metadata": {},
   "outputs": [
    {
     "data": {
      "text/html": [
       "<table>\n",
       "<caption>A tibble: 1277 × 7</caption>\n",
       "<thead>\n",
       "\t<tr><th scope=col>.pred_class</th><th scope=col>age</th><th scope=col>hypertension</th><th scope=col>heart_disease</th><th scope=col>avg_glucose_level</th><th scope=col>bmi</th><th scope=col>stroke</th></tr>\n",
       "\t<tr><th scope=col>&lt;fct&gt;</th><th scope=col>&lt;dbl&gt;</th><th scope=col>&lt;dbl&gt;</th><th scope=col>&lt;dbl&gt;</th><th scope=col>&lt;dbl&gt;</th><th scope=col>&lt;dbl&gt;</th><th scope=col>&lt;fct&gt;</th></tr>\n",
       "</thead>\n",
       "<tbody>\n",
       "\t<tr><td>1</td><td>80</td><td>0</td><td>1</td><td>105.92</td><td>32.5</td><td>1</td></tr>\n",
       "\t<tr><td>1</td><td>81</td><td>0</td><td>0</td><td>186.21</td><td>29.0</td><td>1</td></tr>\n",
       "\t<tr><td>1</td><td>78</td><td>0</td><td>0</td><td> 58.57</td><td>24.2</td><td>1</td></tr>\n",
       "\t<tr><td>1</td><td>81</td><td>1</td><td>0</td><td> 80.43</td><td>29.7</td><td>1</td></tr>\n",
       "\t<tr><td>1</td><td>78</td><td>0</td><td>1</td><td>219.84</td><td>  NA</td><td>1</td></tr>\n",
       "\t<tr><td>1</td><td>71</td><td>0</td><td>0</td><td>193.94</td><td>22.4</td><td>1</td></tr>\n",
       "\t<tr><td>1</td><td>71</td><td>0</td><td>0</td><td>102.87</td><td>27.2</td><td>1</td></tr>\n",
       "\t<tr><td>1</td><td>58</td><td>0</td><td>0</td><td>189.84</td><td>  NA</td><td>1</td></tr>\n",
       "\t<tr><td>1</td><td>57</td><td>1</td><td>0</td><td>212.08</td><td>44.2</td><td>1</td></tr>\n",
       "\t<tr><td>1</td><td>80</td><td>0</td><td>1</td><td>252.72</td><td>30.5</td><td>1</td></tr>\n",
       "\t<tr><td>1</td><td>72</td><td>1</td><td>0</td><td> 74.63</td><td>23.1</td><td>1</td></tr>\n",
       "\t<tr><td>1</td><td>78</td><td>0</td><td>0</td><td> 78.03</td><td>23.9</td><td>1</td></tr>\n",
       "\t<tr><td>1</td><td>54</td><td>0</td><td>0</td><td> 71.22</td><td>28.5</td><td>1</td></tr>\n",
       "\t<tr><td>1</td><td>63</td><td>0</td><td>0</td><td> 90.90</td><td>  NA</td><td>1</td></tr>\n",
       "\t<tr><td>1</td><td>58</td><td>0</td><td>0</td><td>107.26</td><td>38.6</td><td>1</td></tr>\n",
       "\t<tr><td>1</td><td>77</td><td>1</td><td>0</td><td>124.13</td><td>31.4</td><td>1</td></tr>\n",
       "\t<tr><td>1</td><td>63</td><td>0</td><td>0</td><td>197.54</td><td>  NA</td><td>1</td></tr>\n",
       "\t<tr><td>1</td><td>82</td><td>0</td><td>0</td><td> 59.32</td><td>33.2</td><td>1</td></tr>\n",
       "\t<tr><td>1</td><td>76</td><td>0</td><td>0</td><td>104.47</td><td>20.3</td><td>1</td></tr>\n",
       "\t<tr><td>1</td><td>52</td><td>0</td><td>0</td><td> 96.59</td><td>26.4</td><td>1</td></tr>\n",
       "\t<tr><td>1</td><td>79</td><td>0</td><td>0</td><td>110.85</td><td>24.1</td><td>1</td></tr>\n",
       "\t<tr><td>1</td><td>51</td><td>0</td><td>0</td><td>165.31</td><td>  NA</td><td>1</td></tr>\n",
       "\t<tr><td>1</td><td>54</td><td>0</td><td>0</td><td> 96.97</td><td>29.1</td><td>1</td></tr>\n",
       "\t<tr><td>1</td><td>47</td><td>0</td><td>0</td><td> 86.94</td><td>41.1</td><td>1</td></tr>\n",
       "\t<tr><td>1</td><td>45</td><td>0</td><td>0</td><td> 64.14</td><td>29.4</td><td>1</td></tr>\n",
       "\t<tr><td>1</td><td>64</td><td>0</td><td>1</td><td> 74.10</td><td>28.8</td><td>1</td></tr>\n",
       "\t<tr><td>1</td><td>57</td><td>0</td><td>0</td><td>110.52</td><td>28.5</td><td>1</td></tr>\n",
       "\t<tr><td>1</td><td>38</td><td>0</td><td>0</td><td> 82.28</td><td>24.0</td><td>1</td></tr>\n",
       "\t<tr><td>1</td><td>77</td><td>0</td><td>0</td><td>105.22</td><td>31.0</td><td>1</td></tr>\n",
       "\t<tr><td>1</td><td>80</td><td>0</td><td>0</td><td>259.63</td><td>31.7</td><td>1</td></tr>\n",
       "\t<tr><td>⋮</td><td>⋮</td><td>⋮</td><td>⋮</td><td>⋮</td><td>⋮</td><td>⋮</td></tr>\n",
       "\t<tr><td>1</td><td>81.00</td><td>0</td><td>0</td><td> 86.05</td><td>20.1</td><td>0</td></tr>\n",
       "\t<tr><td>1</td><td>35.00</td><td>0</td><td>0</td><td> 81.90</td><td>24.5</td><td>0</td></tr>\n",
       "\t<tr><td>1</td><td>37.00</td><td>0</td><td>0</td><td>124.54</td><td>31.3</td><td>0</td></tr>\n",
       "\t<tr><td>1</td><td>38.00</td><td>0</td><td>0</td><td>160.76</td><td>30.2</td><td>0</td></tr>\n",
       "\t<tr><td>1</td><td>10.00</td><td>0</td><td>0</td><td>108.08</td><td>15.6</td><td>0</td></tr>\n",
       "\t<tr><td>1</td><td>72.00</td><td>0</td><td>0</td><td>206.49</td><td>26.3</td><td>0</td></tr>\n",
       "\t<tr><td>1</td><td>78.00</td><td>0</td><td>0</td><td>203.36</td><td>28.7</td><td>0</td></tr>\n",
       "\t<tr><td>1</td><td>56.00</td><td>0</td><td>0</td><td>125.87</td><td>24.6</td><td>0</td></tr>\n",
       "\t<tr><td>1</td><td>46.00</td><td>0</td><td>0</td><td> 64.09</td><td>25.3</td><td>0</td></tr>\n",
       "\t<tr><td>1</td><td>41.00</td><td>0</td><td>0</td><td> 70.15</td><td>  NA</td><td>0</td></tr>\n",
       "\t<tr><td>1</td><td>38.00</td><td>0</td><td>0</td><td>112.39</td><td>26.3</td><td>0</td></tr>\n",
       "\t<tr><td>1</td><td>44.00</td><td>0</td><td>0</td><td> 98.30</td><td>25.0</td><td>0</td></tr>\n",
       "\t<tr><td>1</td><td>51.00</td><td>0</td><td>0</td><td> 95.16</td><td>42.7</td><td>0</td></tr>\n",
       "\t<tr><td>1</td><td>40.00</td><td>0</td><td>0</td><td>191.15</td><td>  NA</td><td>0</td></tr>\n",
       "\t<tr><td>1</td><td> 6.00</td><td>0</td><td>0</td><td> 91.05</td><td>22.1</td><td>0</td></tr>\n",
       "\t<tr><td>1</td><td>46.00</td><td>0</td><td>0</td><td> 55.84</td><td>27.8</td><td>0</td></tr>\n",
       "\t<tr><td>1</td><td>78.00</td><td>0</td><td>0</td><td> 60.22</td><td>29.7</td><td>0</td></tr>\n",
       "\t<tr><td>1</td><td>70.00</td><td>0</td><td>0</td><td>193.88</td><td>24.3</td><td>0</td></tr>\n",
       "\t<tr><td>1</td><td>21.00</td><td>0</td><td>0</td><td>138.51</td><td>24.3</td><td>0</td></tr>\n",
       "\t<tr><td>1</td><td>70.00</td><td>0</td><td>0</td><td>102.50</td><td>37.8</td><td>0</td></tr>\n",
       "\t<tr><td>1</td><td>34.00</td><td>0</td><td>0</td><td>174.37</td><td>23.0</td><td>0</td></tr>\n",
       "\t<tr><td>1</td><td> 8.00</td><td>0</td><td>0</td><td> 76.31</td><td>15.5</td><td>0</td></tr>\n",
       "\t<tr><td>1</td><td>44.00</td><td>0</td><td>0</td><td> 72.03</td><td>37.5</td><td>0</td></tr>\n",
       "\t<tr><td>1</td><td>72.00</td><td>0</td><td>0</td><td> 83.89</td><td>33.1</td><td>0</td></tr>\n",
       "\t<tr><td>1</td><td>59.00</td><td>1</td><td>0</td><td> 95.05</td><td>30.9</td><td>0</td></tr>\n",
       "\t<tr><td>1</td><td> 1.08</td><td>0</td><td>0</td><td> 79.15</td><td>17.4</td><td>0</td></tr>\n",
       "\t<tr><td>1</td><td> 9.00</td><td>0</td><td>0</td><td> 71.88</td><td>17.5</td><td>0</td></tr>\n",
       "\t<tr><td>1</td><td>45.00</td><td>0</td><td>0</td><td> 97.95</td><td>24.5</td><td>0</td></tr>\n",
       "\t<tr><td>1</td><td>18.00</td><td>0</td><td>0</td><td> 82.85</td><td>46.9</td><td>0</td></tr>\n",
       "\t<tr><td>1</td><td>44.00</td><td>0</td><td>0</td><td> 85.28</td><td>26.2</td><td>0</td></tr>\n",
       "</tbody>\n",
       "</table>\n"
      ],
      "text/latex": [
       "A tibble: 1277 × 7\n",
       "\\begin{tabular}{lllllll}\n",
       " .pred\\_class & age & hypertension & heart\\_disease & avg\\_glucose\\_level & bmi & stroke\\\\\n",
       " <fct> & <dbl> & <dbl> & <dbl> & <dbl> & <dbl> & <fct>\\\\\n",
       "\\hline\n",
       "\t 1 & 80 & 0 & 1 & 105.92 & 32.5 & 1\\\\\n",
       "\t 1 & 81 & 0 & 0 & 186.21 & 29.0 & 1\\\\\n",
       "\t 1 & 78 & 0 & 0 &  58.57 & 24.2 & 1\\\\\n",
       "\t 1 & 81 & 1 & 0 &  80.43 & 29.7 & 1\\\\\n",
       "\t 1 & 78 & 0 & 1 & 219.84 &   NA & 1\\\\\n",
       "\t 1 & 71 & 0 & 0 & 193.94 & 22.4 & 1\\\\\n",
       "\t 1 & 71 & 0 & 0 & 102.87 & 27.2 & 1\\\\\n",
       "\t 1 & 58 & 0 & 0 & 189.84 &   NA & 1\\\\\n",
       "\t 1 & 57 & 1 & 0 & 212.08 & 44.2 & 1\\\\\n",
       "\t 1 & 80 & 0 & 1 & 252.72 & 30.5 & 1\\\\\n",
       "\t 1 & 72 & 1 & 0 &  74.63 & 23.1 & 1\\\\\n",
       "\t 1 & 78 & 0 & 0 &  78.03 & 23.9 & 1\\\\\n",
       "\t 1 & 54 & 0 & 0 &  71.22 & 28.5 & 1\\\\\n",
       "\t 1 & 63 & 0 & 0 &  90.90 &   NA & 1\\\\\n",
       "\t 1 & 58 & 0 & 0 & 107.26 & 38.6 & 1\\\\\n",
       "\t 1 & 77 & 1 & 0 & 124.13 & 31.4 & 1\\\\\n",
       "\t 1 & 63 & 0 & 0 & 197.54 &   NA & 1\\\\\n",
       "\t 1 & 82 & 0 & 0 &  59.32 & 33.2 & 1\\\\\n",
       "\t 1 & 76 & 0 & 0 & 104.47 & 20.3 & 1\\\\\n",
       "\t 1 & 52 & 0 & 0 &  96.59 & 26.4 & 1\\\\\n",
       "\t 1 & 79 & 0 & 0 & 110.85 & 24.1 & 1\\\\\n",
       "\t 1 & 51 & 0 & 0 & 165.31 &   NA & 1\\\\\n",
       "\t 1 & 54 & 0 & 0 &  96.97 & 29.1 & 1\\\\\n",
       "\t 1 & 47 & 0 & 0 &  86.94 & 41.1 & 1\\\\\n",
       "\t 1 & 45 & 0 & 0 &  64.14 & 29.4 & 1\\\\\n",
       "\t 1 & 64 & 0 & 1 &  74.10 & 28.8 & 1\\\\\n",
       "\t 1 & 57 & 0 & 0 & 110.52 & 28.5 & 1\\\\\n",
       "\t 1 & 38 & 0 & 0 &  82.28 & 24.0 & 1\\\\\n",
       "\t 1 & 77 & 0 & 0 & 105.22 & 31.0 & 1\\\\\n",
       "\t 1 & 80 & 0 & 0 & 259.63 & 31.7 & 1\\\\\n",
       "\t ⋮ & ⋮ & ⋮ & ⋮ & ⋮ & ⋮ & ⋮\\\\\n",
       "\t 1 & 81.00 & 0 & 0 &  86.05 & 20.1 & 0\\\\\n",
       "\t 1 & 35.00 & 0 & 0 &  81.90 & 24.5 & 0\\\\\n",
       "\t 1 & 37.00 & 0 & 0 & 124.54 & 31.3 & 0\\\\\n",
       "\t 1 & 38.00 & 0 & 0 & 160.76 & 30.2 & 0\\\\\n",
       "\t 1 & 10.00 & 0 & 0 & 108.08 & 15.6 & 0\\\\\n",
       "\t 1 & 72.00 & 0 & 0 & 206.49 & 26.3 & 0\\\\\n",
       "\t 1 & 78.00 & 0 & 0 & 203.36 & 28.7 & 0\\\\\n",
       "\t 1 & 56.00 & 0 & 0 & 125.87 & 24.6 & 0\\\\\n",
       "\t 1 & 46.00 & 0 & 0 &  64.09 & 25.3 & 0\\\\\n",
       "\t 1 & 41.00 & 0 & 0 &  70.15 &   NA & 0\\\\\n",
       "\t 1 & 38.00 & 0 & 0 & 112.39 & 26.3 & 0\\\\\n",
       "\t 1 & 44.00 & 0 & 0 &  98.30 & 25.0 & 0\\\\\n",
       "\t 1 & 51.00 & 0 & 0 &  95.16 & 42.7 & 0\\\\\n",
       "\t 1 & 40.00 & 0 & 0 & 191.15 &   NA & 0\\\\\n",
       "\t 1 &  6.00 & 0 & 0 &  91.05 & 22.1 & 0\\\\\n",
       "\t 1 & 46.00 & 0 & 0 &  55.84 & 27.8 & 0\\\\\n",
       "\t 1 & 78.00 & 0 & 0 &  60.22 & 29.7 & 0\\\\\n",
       "\t 1 & 70.00 & 0 & 0 & 193.88 & 24.3 & 0\\\\\n",
       "\t 1 & 21.00 & 0 & 0 & 138.51 & 24.3 & 0\\\\\n",
       "\t 1 & 70.00 & 0 & 0 & 102.50 & 37.8 & 0\\\\\n",
       "\t 1 & 34.00 & 0 & 0 & 174.37 & 23.0 & 0\\\\\n",
       "\t 1 &  8.00 & 0 & 0 &  76.31 & 15.5 & 0\\\\\n",
       "\t 1 & 44.00 & 0 & 0 &  72.03 & 37.5 & 0\\\\\n",
       "\t 1 & 72.00 & 0 & 0 &  83.89 & 33.1 & 0\\\\\n",
       "\t 1 & 59.00 & 1 & 0 &  95.05 & 30.9 & 0\\\\\n",
       "\t 1 &  1.08 & 0 & 0 &  79.15 & 17.4 & 0\\\\\n",
       "\t 1 &  9.00 & 0 & 0 &  71.88 & 17.5 & 0\\\\\n",
       "\t 1 & 45.00 & 0 & 0 &  97.95 & 24.5 & 0\\\\\n",
       "\t 1 & 18.00 & 0 & 0 &  82.85 & 46.9 & 0\\\\\n",
       "\t 1 & 44.00 & 0 & 0 &  85.28 & 26.2 & 0\\\\\n",
       "\\end{tabular}\n"
      ],
      "text/markdown": [
       "\n",
       "A tibble: 1277 × 7\n",
       "\n",
       "| .pred_class &lt;fct&gt; | age &lt;dbl&gt; | hypertension &lt;dbl&gt; | heart_disease &lt;dbl&gt; | avg_glucose_level &lt;dbl&gt; | bmi &lt;dbl&gt; | stroke &lt;fct&gt; |\n",
       "|---|---|---|---|---|---|---|\n",
       "| 1 | 80 | 0 | 1 | 105.92 | 32.5 | 1 |\n",
       "| 1 | 81 | 0 | 0 | 186.21 | 29.0 | 1 |\n",
       "| 1 | 78 | 0 | 0 |  58.57 | 24.2 | 1 |\n",
       "| 1 | 81 | 1 | 0 |  80.43 | 29.7 | 1 |\n",
       "| 1 | 78 | 0 | 1 | 219.84 |   NA | 1 |\n",
       "| 1 | 71 | 0 | 0 | 193.94 | 22.4 | 1 |\n",
       "| 1 | 71 | 0 | 0 | 102.87 | 27.2 | 1 |\n",
       "| 1 | 58 | 0 | 0 | 189.84 |   NA | 1 |\n",
       "| 1 | 57 | 1 | 0 | 212.08 | 44.2 | 1 |\n",
       "| 1 | 80 | 0 | 1 | 252.72 | 30.5 | 1 |\n",
       "| 1 | 72 | 1 | 0 |  74.63 | 23.1 | 1 |\n",
       "| 1 | 78 | 0 | 0 |  78.03 | 23.9 | 1 |\n",
       "| 1 | 54 | 0 | 0 |  71.22 | 28.5 | 1 |\n",
       "| 1 | 63 | 0 | 0 |  90.90 |   NA | 1 |\n",
       "| 1 | 58 | 0 | 0 | 107.26 | 38.6 | 1 |\n",
       "| 1 | 77 | 1 | 0 | 124.13 | 31.4 | 1 |\n",
       "| 1 | 63 | 0 | 0 | 197.54 |   NA | 1 |\n",
       "| 1 | 82 | 0 | 0 |  59.32 | 33.2 | 1 |\n",
       "| 1 | 76 | 0 | 0 | 104.47 | 20.3 | 1 |\n",
       "| 1 | 52 | 0 | 0 |  96.59 | 26.4 | 1 |\n",
       "| 1 | 79 | 0 | 0 | 110.85 | 24.1 | 1 |\n",
       "| 1 | 51 | 0 | 0 | 165.31 |   NA | 1 |\n",
       "| 1 | 54 | 0 | 0 |  96.97 | 29.1 | 1 |\n",
       "| 1 | 47 | 0 | 0 |  86.94 | 41.1 | 1 |\n",
       "| 1 | 45 | 0 | 0 |  64.14 | 29.4 | 1 |\n",
       "| 1 | 64 | 0 | 1 |  74.10 | 28.8 | 1 |\n",
       "| 1 | 57 | 0 | 0 | 110.52 | 28.5 | 1 |\n",
       "| 1 | 38 | 0 | 0 |  82.28 | 24.0 | 1 |\n",
       "| 1 | 77 | 0 | 0 | 105.22 | 31.0 | 1 |\n",
       "| 1 | 80 | 0 | 0 | 259.63 | 31.7 | 1 |\n",
       "| ⋮ | ⋮ | ⋮ | ⋮ | ⋮ | ⋮ | ⋮ |\n",
       "| 1 | 81.00 | 0 | 0 |  86.05 | 20.1 | 0 |\n",
       "| 1 | 35.00 | 0 | 0 |  81.90 | 24.5 | 0 |\n",
       "| 1 | 37.00 | 0 | 0 | 124.54 | 31.3 | 0 |\n",
       "| 1 | 38.00 | 0 | 0 | 160.76 | 30.2 | 0 |\n",
       "| 1 | 10.00 | 0 | 0 | 108.08 | 15.6 | 0 |\n",
       "| 1 | 72.00 | 0 | 0 | 206.49 | 26.3 | 0 |\n",
       "| 1 | 78.00 | 0 | 0 | 203.36 | 28.7 | 0 |\n",
       "| 1 | 56.00 | 0 | 0 | 125.87 | 24.6 | 0 |\n",
       "| 1 | 46.00 | 0 | 0 |  64.09 | 25.3 | 0 |\n",
       "| 1 | 41.00 | 0 | 0 |  70.15 |   NA | 0 |\n",
       "| 1 | 38.00 | 0 | 0 | 112.39 | 26.3 | 0 |\n",
       "| 1 | 44.00 | 0 | 0 |  98.30 | 25.0 | 0 |\n",
       "| 1 | 51.00 | 0 | 0 |  95.16 | 42.7 | 0 |\n",
       "| 1 | 40.00 | 0 | 0 | 191.15 |   NA | 0 |\n",
       "| 1 |  6.00 | 0 | 0 |  91.05 | 22.1 | 0 |\n",
       "| 1 | 46.00 | 0 | 0 |  55.84 | 27.8 | 0 |\n",
       "| 1 | 78.00 | 0 | 0 |  60.22 | 29.7 | 0 |\n",
       "| 1 | 70.00 | 0 | 0 | 193.88 | 24.3 | 0 |\n",
       "| 1 | 21.00 | 0 | 0 | 138.51 | 24.3 | 0 |\n",
       "| 1 | 70.00 | 0 | 0 | 102.50 | 37.8 | 0 |\n",
       "| 1 | 34.00 | 0 | 0 | 174.37 | 23.0 | 0 |\n",
       "| 1 |  8.00 | 0 | 0 |  76.31 | 15.5 | 0 |\n",
       "| 1 | 44.00 | 0 | 0 |  72.03 | 37.5 | 0 |\n",
       "| 1 | 72.00 | 0 | 0 |  83.89 | 33.1 | 0 |\n",
       "| 1 | 59.00 | 1 | 0 |  95.05 | 30.9 | 0 |\n",
       "| 1 |  1.08 | 0 | 0 |  79.15 | 17.4 | 0 |\n",
       "| 1 |  9.00 | 0 | 0 |  71.88 | 17.5 | 0 |\n",
       "| 1 | 45.00 | 0 | 0 |  97.95 | 24.5 | 0 |\n",
       "| 1 | 18.00 | 0 | 0 |  82.85 | 46.9 | 0 |\n",
       "| 1 | 44.00 | 0 | 0 |  85.28 | 26.2 | 0 |\n",
       "\n"
      ],
      "text/plain": [
       "     .pred_class age   hypertension heart_disease avg_glucose_level bmi  stroke\n",
       "1    1           80    0            1             105.92            32.5 1     \n",
       "2    1           81    0            0             186.21            29.0 1     \n",
       "3    1           78    0            0              58.57            24.2 1     \n",
       "4    1           81    1            0              80.43            29.7 1     \n",
       "5    1           78    0            1             219.84              NA 1     \n",
       "6    1           71    0            0             193.94            22.4 1     \n",
       "7    1           71    0            0             102.87            27.2 1     \n",
       "8    1           58    0            0             189.84              NA 1     \n",
       "9    1           57    1            0             212.08            44.2 1     \n",
       "10   1           80    0            1             252.72            30.5 1     \n",
       "11   1           72    1            0              74.63            23.1 1     \n",
       "12   1           78    0            0              78.03            23.9 1     \n",
       "13   1           54    0            0              71.22            28.5 1     \n",
       "14   1           63    0            0              90.90              NA 1     \n",
       "15   1           58    0            0             107.26            38.6 1     \n",
       "16   1           77    1            0             124.13            31.4 1     \n",
       "17   1           63    0            0             197.54              NA 1     \n",
       "18   1           82    0            0              59.32            33.2 1     \n",
       "19   1           76    0            0             104.47            20.3 1     \n",
       "20   1           52    0            0              96.59            26.4 1     \n",
       "21   1           79    0            0             110.85            24.1 1     \n",
       "22   1           51    0            0             165.31              NA 1     \n",
       "23   1           54    0            0              96.97            29.1 1     \n",
       "24   1           47    0            0              86.94            41.1 1     \n",
       "25   1           45    0            0              64.14            29.4 1     \n",
       "26   1           64    0            1              74.10            28.8 1     \n",
       "27   1           57    0            0             110.52            28.5 1     \n",
       "28   1           38    0            0              82.28            24.0 1     \n",
       "29   1           77    0            0             105.22            31.0 1     \n",
       "30   1           80    0            0             259.63            31.7 1     \n",
       "⋮    ⋮           ⋮     ⋮            ⋮             ⋮                 ⋮    ⋮     \n",
       "1248 1           81.00 0            0              86.05            20.1 0     \n",
       "1249 1           35.00 0            0              81.90            24.5 0     \n",
       "1250 1           37.00 0            0             124.54            31.3 0     \n",
       "1251 1           38.00 0            0             160.76            30.2 0     \n",
       "1252 1           10.00 0            0             108.08            15.6 0     \n",
       "1253 1           72.00 0            0             206.49            26.3 0     \n",
       "1254 1           78.00 0            0             203.36            28.7 0     \n",
       "1255 1           56.00 0            0             125.87            24.6 0     \n",
       "1256 1           46.00 0            0              64.09            25.3 0     \n",
       "1257 1           41.00 0            0              70.15              NA 0     \n",
       "1258 1           38.00 0            0             112.39            26.3 0     \n",
       "1259 1           44.00 0            0              98.30            25.0 0     \n",
       "1260 1           51.00 0            0              95.16            42.7 0     \n",
       "1261 1           40.00 0            0             191.15              NA 0     \n",
       "1262 1            6.00 0            0              91.05            22.1 0     \n",
       "1263 1           46.00 0            0              55.84            27.8 0     \n",
       "1264 1           78.00 0            0              60.22            29.7 0     \n",
       "1265 1           70.00 0            0             193.88            24.3 0     \n",
       "1266 1           21.00 0            0             138.51            24.3 0     \n",
       "1267 1           70.00 0            0             102.50            37.8 0     \n",
       "1268 1           34.00 0            0             174.37            23.0 0     \n",
       "1269 1            8.00 0            0              76.31            15.5 0     \n",
       "1270 1           44.00 0            0              72.03            37.5 0     \n",
       "1271 1           72.00 0            0              83.89            33.1 0     \n",
       "1272 1           59.00 1            0              95.05            30.9 0     \n",
       "1273 1            1.08 0            0              79.15            17.4 0     \n",
       "1274 1            9.00 0            0              71.88            17.5 0     \n",
       "1275 1           45.00 0            0              97.95            24.5 0     \n",
       "1276 1           18.00 0            0              82.85            46.9 0     \n",
       "1277 1           44.00 0            0              85.28            26.2 0     "
      ]
     },
     "metadata": {},
     "output_type": "display_data"
    },
    {
     "data": {
      "text/html": [
       "<table>\n",
       "<caption>A tibble: 1 × 3</caption>\n",
       "<thead>\n",
       "\t<tr><th scope=col>.metric</th><th scope=col>.estimator</th><th scope=col>.estimate</th></tr>\n",
       "\t<tr><th scope=col>&lt;chr&gt;</th><th scope=col>&lt;chr&gt;</th><th scope=col>&lt;dbl&gt;</th></tr>\n",
       "</thead>\n",
       "<tbody>\n",
       "\t<tr><td>accuracy</td><td>binary</td><td>0.04776821</td></tr>\n",
       "</tbody>\n",
       "</table>\n"
      ],
      "text/latex": [
       "A tibble: 1 × 3\n",
       "\\begin{tabular}{lll}\n",
       " .metric & .estimator & .estimate\\\\\n",
       " <chr> & <chr> & <dbl>\\\\\n",
       "\\hline\n",
       "\t accuracy & binary & 0.04776821\\\\\n",
       "\\end{tabular}\n"
      ],
      "text/markdown": [
       "\n",
       "A tibble: 1 × 3\n",
       "\n",
       "| .metric &lt;chr&gt; | .estimator &lt;chr&gt; | .estimate &lt;dbl&gt; |\n",
       "|---|---|---|\n",
       "| accuracy | binary | 0.04776821 |\n",
       "\n"
      ],
      "text/plain": [
       "  .metric  .estimator .estimate \n",
       "1 accuracy binary     0.04776821"
      ]
     },
     "metadata": {},
     "output_type": "display_data"
    },
    {
     "data": {
      "text/plain": [
       "          Truth\n",
       "Prediction    0    1\n",
       "         0    0    0\n",
       "         1 1216   61"
      ]
     },
     "metadata": {},
     "output_type": "display_data"
    }
   ],
   "source": [
    "set.seed(31)\n",
    "\n",
    "\n",
    "\n",
    "\n",
    "stroke_test_predictions <- predict(stroke_fit, stroke_test) %>%\n",
    "  bind_cols(stroke_test)\n",
    "\n",
    "stroke_test_predictions\n",
    "\n",
    "stroke_test_accuracies <- stroke_test_predictions %>%\n",
    "  metrics(truth = stroke, estimate = .pred_class) %>%\n",
    "  filter(.metric == \"accuracy\")\n",
    "\n",
    "stroke_test_accuracies\n",
    "\n",
    "\n",
    "stroke_confusion_mat <- stroke_test_predictions %>%\n",
    "             conf_mat(truth = stroke, estimate = .pred_class)\n",
    "\n",
    "stroke_confusion_mat"
   ]
  },
  {
   "cell_type": "markdown",
   "metadata": {},
   "source": [
    "# for every size from 1 to the total number of predictors\n",
    "for (i in 1:n_total) {\n",
    "    # for every predictor still not added yet\n",
    "    accs <- list()\n",
    "    models <- list()\n",
    "    for (j in 1:length(names)) {\n",
    "        # create a model string for this combination of predictors\n",
    "        preds_new <- c(selected, names[[j]])\n",
    "        model_string <- paste(\"stroke\", \"~\", paste(preds_new, collapse=\"+\"))\n",
    "        \n",
    "        # create a recipe from the model string\n",
    "        stroke_recipe <- recipe(as.formula(model_string), \n",
    "                                data = stroke_subset) %>%\n",
    "                          step_scale(all_predictors()) %>%\n",
    "                          step_center(all_predictors())\n",
    "\n",
    "        # tune the KNN classifier with these predictors, \n",
    "        # and collect the accuracy for the best K\n",
    "        acc <- workflow() %>%\n",
    "          add_recipe(stroke_recipe) %>%\n",
    "          add_model(knn_spec) %>%\n",
    "          tune_grid(resamples = stroke_vfold, grid = 10) %>%\n",
    "          collect_metrics() %>%\n",
    "          filter(.metric == \"accuracy\") %>%\n",
    "          summarize(mx = max(mean))\n",
    "        acc <- acc$mx %>% unlist()\n",
    "\n",
    "        # add this result to the dataframe\n",
    "        accs[[j]] <- acc\n",
    "        models[[j]] <- model_string\n",
    "    }\n",
    "    jstar <- which.max(unlist(accs))\n",
    "    accuracies <- accuracies %>% \n",
    "      add_row(size = i, \n",
    "              model_string = models[[jstar]], \n",
    "              accuracy = accs[[jstar]])\n",
    "    selected <- c(selected, names[[jstar]])\n",
    "    names <- names[-jstar]\n",
    "}\n",
    "accuracies"
   ]
  }
 ],
 "metadata": {
  "kernelspec": {
   "display_name": "R",
   "language": "R",
   "name": "ir"
  },
  "language_info": {
   "codemirror_mode": "r",
   "file_extension": ".r",
   "mimetype": "text/x-r-source",
   "name": "R",
   "pygments_lexer": "r",
   "version": "4.0.0"
  }
 },
 "nbformat": 4,
 "nbformat_minor": 4
}
